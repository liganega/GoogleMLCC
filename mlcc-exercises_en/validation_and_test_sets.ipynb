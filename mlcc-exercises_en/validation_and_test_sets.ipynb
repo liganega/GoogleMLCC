{
 "cells": [
  {
   "cell_type": "code",
   "execution_count": 1,
   "metadata": {
    "cellView": "form",
    "colab": {},
    "colab_type": "code",
    "id": "hMqWDc_m6rUC"
   },
   "outputs": [],
   "source": [
    "#@title Copyright 2020 Google LLC. Double-click here for license information.\n",
    "# Licensed under the Apache License, Version 2.0 (the \"License\");\n",
    "# you may not use this file except in compliance with the License.\n",
    "# You may obtain a copy of the License at\n",
    "#\n",
    "# https://www.apache.org/licenses/LICENSE-2.0\n",
    "#\n",
    "# Unless required by applicable law or agreed to in writing, software\n",
    "# distributed under the License is distributed on an \"AS IS\" BASIS,\n",
    "# WITHOUT WARRANTIES OR CONDITIONS OF ANY KIND, either express or implied.\n",
    "# See the License for the specific language governing permissions and\n",
    "# limitations under the License."
   ]
  },
  {
   "cell_type": "markdown",
   "metadata": {
    "colab_type": "text",
    "id": "4f3CKqFUqL2-"
   },
   "source": [
    "# Validation Sets and Test Sets\n",
    "\n",
    "The previous Colab exercises evaluated the trained model against the training set, which does not provide a strong signal about the quality of your model. In this Colab, you'll experiment with validation sets and test sets.\n",
    "\n",
    "\n",
    "\n",
    "\n"
   ]
  },
  {
   "cell_type": "markdown",
   "metadata": {
    "colab_type": "text",
    "id": "3spZH_kNkWWX"
   },
   "source": [
    "## Learning objectives\n",
    "\n",
    "After doing this Colab, you'll know how to do the following:\n",
    "\n",
    "  * Split a [training set](https://developers.google.com/machine-learning/glossary/#training_set) into a smaller training set and a [validation set](https://developers.google.com/machine-learning/glossary/#validation_set).\n",
    "  * Analyze deltas between training set and validation set results.\n",
    "  * Test the trained model with a [test set](https://developers.google.com/machine-learning/glossary/#test_set) to determine whether your trained model is [overfitting](https://developers.google.com/machine-learning/glossary/#overfitting).\n",
    "  * Detect and fix a common training problem."
   ]
  },
  {
   "cell_type": "markdown",
   "metadata": {
    "colab_type": "text",
    "id": "gV82DJO3kWpk"
   },
   "source": [
    "## The dataset\n",
    "\n",
    "As in the previous exercise, this exercise uses the [California Housing dataset](https://developers.google.com/machine-learning/crash-course/california-housing-data-description) to predict the `median_house_value` at the city block level.  Like many \"famous\" datasets, the California Housing Dataset actually consists of two separate datasets, each living in separate .csv files:\n",
    "\n",
    "* The training set is in `california_housing_train.csv`.\n",
    "* The test set is in `california_housing_test.csv`.\n",
    "\n",
    "You'll create the validation set by dividing the downloaded training set into two parts:\n",
    "\n",
    "* a smaller training set  \n",
    "* a validation set"
   ]
  },
  {
   "cell_type": "markdown",
   "metadata": {
    "colab_type": "text",
    "id": "u84mXopntPFZ"
   },
   "source": [
    "## Use the right version of TensorFlow\n",
    "\n",
    "The following hidden code cell ensures that the Colab will run on TensorFlow 2.X."
   ]
  },
  {
   "cell_type": "code",
   "execution_count": 2,
   "metadata": {
    "cellView": "form",
    "colab": {},
    "colab_type": "code",
    "id": "FBhNIdUatOU6"
   },
   "outputs": [],
   "source": [
    "#@title Run on TensorFlow 2.x\n",
    "#%tensorflow_version 2.x"
   ]
  },
  {
   "cell_type": "markdown",
   "metadata": {
    "colab_type": "text",
    "id": "S8gm6BpqRRuh"
   },
   "source": [
    "## Import relevant modules\n",
    "\n",
    "As before, this first code cell imports the necessary modules and sets a few display options."
   ]
  },
  {
   "cell_type": "code",
   "execution_count": 3,
   "metadata": {
    "cellView": "form",
    "colab": {},
    "colab_type": "code",
    "id": "9D8GgUovHbG0"
   },
   "outputs": [],
   "source": [
    "#@title Import modules\n",
    "import numpy as np\n",
    "import pandas as pd\n",
    "import tensorflow as tf\n",
    "from matplotlib import pyplot as plt\n",
    "\n",
    "pd.options.display.max_rows = 10\n",
    "pd.options.display.float_format = \"{:.1f}\".format"
   ]
  },
  {
   "cell_type": "markdown",
   "metadata": {
    "colab_type": "text",
    "id": "xjvrrClQeAJu"
   },
   "source": [
    "## Load the datasets from the internet\n",
    "\n",
    "The following code cell loads the separate .csv files and creates the following two pandas DataFrames:\n",
    "\n",
    "* `train_df`, which contains the training set.\n",
    "* `test_df`, which contains the test set.\n",
    "\n"
   ]
  },
  {
   "cell_type": "code",
   "execution_count": 4,
   "metadata": {
    "colab": {},
    "colab_type": "code",
    "id": "zUnTc_wfd_o3"
   },
   "outputs": [],
   "source": [
    "train_df = pd.read_csv(\"https://download.mlcc.google.com/mledu-datasets/california_housing_train.csv\")\n",
    "test_df = pd.read_csv(\"https://download.mlcc.google.com/mledu-datasets/california_housing_test.csv\")"
   ]
  },
  {
   "cell_type": "markdown",
   "metadata": {
    "colab_type": "text",
    "id": "P_KBdj2M_yjM"
   },
   "source": [
    "## Scale the label values\n",
    "\n",
    "The following code cell scales the `median_house_value`. \n",
    "See the previous Colab exercise for details."
   ]
  },
  {
   "cell_type": "code",
   "execution_count": 5,
   "metadata": {
    "colab": {},
    "colab_type": "code",
    "id": "3hc7QQhaAFXD"
   },
   "outputs": [],
   "source": [
    "scale_factor = 1000.0\n",
    "\n",
    "# Scale the training set's label.\n",
    "train_df[\"median_house_value\"] /= scale_factor \n",
    "\n",
    "# Scale the test set's label\n",
    "test_df[\"median_house_value\"] /= scale_factor"
   ]
  },
  {
   "cell_type": "markdown",
   "metadata": {
    "colab_type": "text",
    "id": "FhessIIV8VPc"
   },
   "source": [
    "## Load the functions that build and train a model\n",
    "\n",
    "The following code cell defines two functions:\n",
    "\n",
    "  * `build_model`, which defines the model's topography.\n",
    "  * `train_model`, which will ultimately train the model, outputting not only the loss value for the training set but also the loss value for the validation set. \n",
    "\n",
    "Since you don't need to understand model building code right now, we've hidden this code cell. As always, you must run hidden code cells."
   ]
  },
  {
   "cell_type": "code",
   "execution_count": 6,
   "metadata": {
    "cellView": "form",
    "colab": {},
    "colab_type": "code",
    "id": "bvonhK857msj"
   },
   "outputs": [
    {
     "name": "stdout",
     "output_type": "stream",
     "text": [
      "Defined the build_model and train_model functions.\n"
     ]
    }
   ],
   "source": [
    "#@title Define the functions that build and train a model\n",
    "def build_model(my_learning_rate):\n",
    "  \"\"\"Create and compile a simple linear regression model.\"\"\"\n",
    "  # Most simple tf.keras models are sequential.\n",
    "  model = tf.keras.models.Sequential()\n",
    "\n",
    "  # Add one linear layer to the model to yield a simple linear regressor.\n",
    "  model.add(tf.keras.layers.Dense(units=1, input_shape=(1,)))\n",
    "\n",
    "  # Compile the model topography into code that TensorFlow can efficiently\n",
    "  # execute. Configure training to minimize the model's mean squared error. \n",
    "  model.compile(optimizer=tf.keras.optimizers.RMSprop(lr=my_learning_rate),\n",
    "                loss=\"mean_squared_error\",\n",
    "                metrics=[tf.keras.metrics.RootMeanSquaredError()])\n",
    "\n",
    "  return model               \n",
    "\n",
    "\n",
    "def train_model(model, df, feature, label, my_epochs, \n",
    "                my_batch_size=None, my_validation_split=0.1):\n",
    "  \"\"\"Feed a dataset into the model in order to train it.\"\"\"\n",
    "\n",
    "  history = model.fit(x=df[feature],\n",
    "                      y=df[label],\n",
    "                      batch_size=my_batch_size,\n",
    "                      epochs=my_epochs,\n",
    "                      validation_split=my_validation_split)\n",
    "\n",
    "  # Gather the model's trained weight and bias.\n",
    "  trained_weight = model.get_weights()[0]\n",
    "  trained_bias = model.get_weights()[1]\n",
    "\n",
    "  # The list of epochs is stored separately from the \n",
    "  # rest of history.\n",
    "  epochs = history.epoch\n",
    "  \n",
    "  # Isolate the root mean squared error for each epoch.\n",
    "  hist = pd.DataFrame(history.history)\n",
    "  rmse = hist[\"root_mean_squared_error\"]\n",
    "\n",
    "  return epochs, rmse, history.history   \n",
    "\n",
    "print(\"Defined the build_model and train_model functions.\")"
   ]
  },
  {
   "cell_type": "markdown",
   "metadata": {
    "colab_type": "text",
    "id": "8gRu4Ri0D8tH"
   },
   "source": [
    "## Define plotting functions\n",
    "\n",
    "The `plot_the_loss_curve` function plots loss vs. epochs for both the training set and the validation set."
   ]
  },
  {
   "cell_type": "code",
   "execution_count": 7,
   "metadata": {
    "cellView": "form",
    "colab": {},
    "colab_type": "code",
    "id": "QA7hsqPZDvVM"
   },
   "outputs": [
    {
     "name": "stdout",
     "output_type": "stream",
     "text": [
      "Defined the plot_the_loss_curve function.\n"
     ]
    }
   ],
   "source": [
    "#@title Define the plotting function\n",
    "\n",
    "def plot_the_loss_curve(epochs, mae_training, mae_validation):\n",
    "  \"\"\"Plot a curve of loss vs. epoch.\"\"\"\n",
    "\n",
    "  plt.figure()\n",
    "  plt.xlabel(\"Epoch\")\n",
    "  plt.ylabel(\"Root Mean Squared Error\")\n",
    "\n",
    "  plt.plot(epochs[1:], mae_training[1:], label=\"Training Loss\")\n",
    "  plt.plot(epochs[1:], mae_validation[1:], label=\"Validation Loss\")\n",
    "  plt.legend()\n",
    "  \n",
    "  # We're not going to plot the first epoch, since the loss on the first epoch\n",
    "  # is often substantially greater than the loss for other epochs.\n",
    "  merged_mae_lists = mae_training[1:] + mae_validation[1:]\n",
    "  highest_loss = max(merged_mae_lists)\n",
    "  lowest_loss = min(merged_mae_lists)\n",
    "  delta = highest_loss - lowest_loss\n",
    "  print(delta)\n",
    "\n",
    "  top_of_y_axis = highest_loss + (delta * 0.05)\n",
    "  bottom_of_y_axis = lowest_loss - (delta * 0.05)\n",
    "   \n",
    "  plt.ylim([bottom_of_y_axis, top_of_y_axis])\n",
    "  plt.show()  \n",
    "\n",
    "print(\"Defined the plot_the_loss_curve function.\")"
   ]
  },
  {
   "cell_type": "markdown",
   "metadata": {
    "colab_type": "text",
    "id": "jipBqEQXlsN8"
   },
   "source": [
    "## Task 1: Experiment with the validation split\n",
    "\n",
    "In the following code cell, you'll see a variable named `validation_split`, which we've initialized at 0.2.  The `validation_split` variable specifies the proportion of the original training set that will serve as the validation set. The original training set contains 17,000 examples. Therefore, a `validation_split` of 0.2 means that:\n",
    "\n",
    "* 17,000 * 0.2 ~= 3,400 examples will become the validation set.\n",
    "* 17,000 * 0.8 ~= 13,600 examples will become the new training set.\n",
    "\n",
    "The following code builds a model, trains it on the training set, and evaluates the built model on both:\n",
    "\n",
    "* The training set.\n",
    "* And the validation set.\n",
    "\n",
    "If the data in the training set is similar to the data in the validation set, then the two loss curves and the final loss values should be almost identical. However, the loss curves and final loss values are **not** almost identical. Hmm, that's odd.  \n",
    "\n",
    "Experiment with two or three different values of `validation_split`.  Do different values of `validation_split` fix the problem? \n"
   ]
  },
  {
   "cell_type": "code",
   "execution_count": 8,
   "metadata": {
    "colab": {},
    "colab_type": "code",
    "id": "knP23Taoa00a"
   },
   "outputs": [
    {
     "name": "stdout",
     "output_type": "stream",
     "text": [
      "Train on 13600 samples, validate on 3400 samples\n",
      "Epoch 1/30\n",
      "13600/13600 [==============================] - 0s 31us/sample - loss: 39914.3839 - root_mean_squared_error: 199.7859 - val_loss: 48365.4917 - val_root_mean_squared_error: 219.9216\n",
      "Epoch 2/30\n",
      "13600/13600 [==============================] - 0s 14us/sample - loss: 22946.8809 - root_mean_squared_error: 151.4823 - val_loss: 28249.1539 - val_root_mean_squared_error: 168.0749\n",
      "Epoch 3/30\n",
      "13600/13600 [==============================] - 0s 13us/sample - loss: 12105.1559 - root_mean_squared_error: 110.0234 - val_loss: 15244.3664 - val_root_mean_squared_error: 123.4681\n",
      "Epoch 4/30\n",
      "13600/13600 [==============================] - 0s 16us/sample - loss: 7242.7067 - root_mean_squared_error: 85.1041 - val_loss: 9538.0076 - val_root_mean_squared_error: 97.6627\n",
      "Epoch 5/30\n",
      "13600/13600 [==============================] - 0s 14us/sample - loss: 6513.4184 - root_mean_squared_error: 80.7058 - val_loss: 9276.4231 - val_root_mean_squared_error: 96.3142\n",
      "Epoch 6/30\n",
      "13600/13600 [==============================] - 0s 13us/sample - loss: 6513.0896 - root_mean_squared_error: 80.7037 - val_loss: 9123.5967 - val_root_mean_squared_error: 95.5175\n",
      "Epoch 7/30\n",
      "13600/13600 [==============================] - 0s 14us/sample - loss: 6514.3036 - root_mean_squared_error: 80.7112 - val_loss: 9263.4130 - val_root_mean_squared_error: 96.2466\n",
      "Epoch 8/30\n",
      "13600/13600 [==============================] - 0s 14us/sample - loss: 6512.3991 - root_mean_squared_error: 80.6994 - val_loss: 9450.5548 - val_root_mean_squared_error: 97.2140\n",
      "Epoch 9/30\n",
      "13600/13600 [==============================] - 0s 15us/sample - loss: 6514.6560 - root_mean_squared_error: 80.7134 - val_loss: 9351.2312 - val_root_mean_squared_error: 96.7018\n",
      "Epoch 10/30\n",
      "13600/13600 [==============================] - 0s 15us/sample - loss: 6513.8361 - root_mean_squared_error: 80.7083 - val_loss: 9226.8133 - val_root_mean_squared_error: 96.0563\n",
      "Epoch 11/30\n",
      "13600/13600 [==============================] - ETA: 0s - loss: 6492.7133 - root_mean_squared_error: 80.577 - 0s 15us/sample - loss: 6513.7114 - root_mean_squared_error: 80.7076 - val_loss: 9368.3261 - val_root_mean_squared_error: 96.7901\n",
      "Epoch 12/30\n",
      "13600/13600 [==============================] - 0s 15us/sample - loss: 6513.1167 - root_mean_squared_error: 80.7039 - val_loss: 9135.4886 - val_root_mean_squared_error: 95.5798\n",
      "Epoch 13/30\n",
      "13600/13600 [==============================] - 0s 15us/sample - loss: 6514.4030 - root_mean_squared_error: 80.7119 - val_loss: 9297.2871 - val_root_mean_squared_error: 96.4224\n",
      "Epoch 14/30\n",
      "13600/13600 [==============================] - 0s 15us/sample - loss: 6512.6690 - root_mean_squared_error: 80.7011 - val_loss: 9347.4228 - val_root_mean_squared_error: 96.6821\n",
      "Epoch 15/30\n",
      "13600/13600 [==============================] - 0s 15us/sample - loss: 6513.9854 - root_mean_squared_error: 80.7093 - val_loss: 9258.1883 - val_root_mean_squared_error: 96.2195\n",
      "Epoch 16/30\n",
      "13600/13600 [==============================] - 0s 14us/sample - loss: 6513.1135 - root_mean_squared_error: 80.7039 - val_loss: 9291.4074 - val_root_mean_squared_error: 96.3919\n",
      "Epoch 17/30\n",
      "13600/13600 [==============================] - 0s 15us/sample - loss: 6514.1211 - root_mean_squared_error: 80.7101 - val_loss: 9336.1743 - val_root_mean_squared_error: 96.6239\n",
      "Epoch 18/30\n",
      "13600/13600 [==============================] - 0s 14us/sample - loss: 6513.4949 - root_mean_squared_error: 80.7062 - val_loss: 9300.6529 - val_root_mean_squared_error: 96.4399\n",
      "Epoch 19/30\n",
      "13600/13600 [==============================] - 0s 14us/sample - loss: 6514.3008 - root_mean_squared_error: 80.7112 - val_loss: 9245.0976 - val_root_mean_squared_error: 96.1514\n",
      "Epoch 20/30\n",
      "13600/13600 [==============================] - 0s 14us/sample - loss: 6513.3388 - root_mean_squared_error: 80.7053 - val_loss: 9163.1442 - val_root_mean_squared_error: 95.7243\n",
      "Epoch 21/30\n",
      "13600/13600 [==============================] - 0s 15us/sample - loss: 6513.6699 - root_mean_squared_error: 80.7073 - val_loss: 9235.5786 - val_root_mean_squared_error: 96.1019\n",
      "Epoch 22/30\n",
      "13600/13600 [==============================] - 0s 14us/sample - loss: 6513.3160 - root_mean_squared_error: 80.7051 - val_loss: 9188.2663 - val_root_mean_squared_error: 95.8554\n",
      "Epoch 23/30\n",
      "13600/13600 [==============================] - 0s 14us/sample - loss: 6512.7401 - root_mean_squared_error: 80.7016 - val_loss: 9166.5561 - val_root_mean_squared_error: 95.7421\n",
      "Epoch 24/30\n",
      "13600/13600 [==============================] - 0s 15us/sample - loss: 6514.3245 - root_mean_squared_error: 80.7114 - val_loss: 9284.7774 - val_root_mean_squared_error: 96.3576\n",
      "Epoch 25/30\n",
      "13600/13600 [==============================] - 0s 14us/sample - loss: 6513.8113 - root_mean_squared_error: 80.7082 - val_loss: 9343.4250 - val_root_mean_squared_error: 96.6614\n",
      "Epoch 26/30\n",
      "13600/13600 [==============================] - 0s 15us/sample - loss: 6513.2883 - root_mean_squared_error: 80.7049 - val_loss: 9171.3994 - val_root_mean_squared_error: 95.7674\n",
      "Epoch 27/30\n",
      "13600/13600 [==============================] - 0s 15us/sample - loss: 6514.1530 - root_mean_squared_error: 80.7103 - val_loss: 9348.1224 - val_root_mean_squared_error: 96.6857\n",
      "Epoch 28/30\n",
      "13600/13600 [==============================] - 0s 15us/sample - loss: 6513.0464 - root_mean_squared_error: 80.7035 - val_loss: 9331.9814 - val_root_mean_squared_error: 96.6022\n",
      "Epoch 29/30\n",
      "13600/13600 [==============================] - 0s 14us/sample - loss: 6513.5676 - root_mean_squared_error: 80.7067 - val_loss: 9335.5575 - val_root_mean_squared_error: 96.6207\n",
      "Epoch 30/30\n",
      "13600/13600 [==============================] - 0s 15us/sample - loss: 6514.3822 - root_mean_squared_error: 80.7117 - val_loss: 9230.3487 - val_root_mean_squared_error: 96.0747\n",
      "87.37542\n"
     ]
    },
    {
     "data": {
      "image/png": "[encoded data removed]",
      "text/plain": [
       "<Figure size 432x288 with 1 Axes>"
      ]
     },
     "metadata": {
      "needs_background": "light"
     },
     "output_type": "display_data"
    }
   ],
   "source": [
    "# The following variables are the hyperparameters.\n",
    "learning_rate = 0.08\n",
    "epochs = 30\n",
    "batch_size = 100\n",
    "\n",
    "# Split the original training set into a reduced training set and a\n",
    "# validation set. \n",
    "validation_split=0.2\n",
    "\n",
    "# Identify the feature and the label.\n",
    "my_feature=\"median_income\"  # the median income on a specific city block.\n",
    "my_label=\"median_house_value\" # the median value of a house on a specific city block.\n",
    "# That is, you're going to create a model that predicts house value based \n",
    "# solely on the neighborhood's median income.  \n",
    "\n",
    "# Discard any pre-existing version of the model.\n",
    "my_model = None\n",
    "\n",
    "# Invoke the functions to build and train the model.\n",
    "my_model = build_model(learning_rate)\n",
    "epochs, rmse, history = train_model(my_model, train_df, my_feature, \n",
    "                                    my_label, epochs, batch_size, \n",
    "                                    validation_split)\n",
    "\n",
    "plot_the_loss_curve(epochs, history[\"root_mean_squared_error\"], \n",
    "                    history[\"val_root_mean_squared_error\"])"
   ]
  },
  {
   "cell_type": "markdown",
   "metadata": {
    "colab_type": "text",
    "id": "TKa11JK4Pm3f"
   },
   "source": [
    "## Task 2: Determine **why** the loss curves differ\n",
    "\n",
    "No matter how you split the training set and the validation set, the loss curves differ significantly. Evidently, the data in the training set isn't similar enough to the data in the validation set. Counterintuitive? Yes, but this problem is actually pretty common in machine learning. \n",
    "\n",
    "Your task is to determine **why** the loss curves aren't highly similar. As with most issues in machine learning, the problem is rooted in the data itself. To solve this mystery of why the training set and validation set aren't almost identical, write a line or two of [pandas code](https://colab.research.google.com/drive/1gUeYFsYmoyqpQJWq7krrZZNUFvBPwrJf) in the following code cell.  Here are a couple of hints:\n",
    "\n",
    "  * The previous code cell split the original training set into:\n",
    "    * a reduced training set (the original training set - the validation set)\n",
    "    * the validation set \n",
    "  * By default, the pandas [`head`](https://pandas.pydata.org/pandas-docs/stable/reference/api/pandas.DataFrame.head.html) method outputs the *first* 5 rows of the DataFrame. To see more of the training set, specify the `n` argument to `head` and assign a large positive integer to `n`."
   ]
  },
  {
   "cell_type": "code",
   "execution_count": 9,
   "metadata": {
    "colab": {},
    "colab_type": "code",
    "id": "VJQcAZkwJt_p"
   },
   "outputs": [],
   "source": [
    "# Write some code in this code cell."
   ]
  },
  {
   "cell_type": "code",
   "execution_count": 10,
   "metadata": {
    "cellView": "form",
    "colab": {},
    "colab_type": "code",
    "id": "EnNvkFwwK8WY"
   },
   "outputs": [
    {
     "data": {
      "text/html": [
       "<div>\n",
       "<style scoped>\n",
       "    .dataframe tbody tr th:only-of-type {\n",
       "        vertical-align: middle;\n",
       "    }\n",
       "\n",
       "    .dataframe tbody tr th {\n",
       "        vertical-align: top;\n",
       "    }\n",
       "\n",
       "    .dataframe thead th {\n",
       "        text-align: right;\n",
       "    }\n",
       "</style>\n",
       "<table border=\"1\" class=\"dataframe\">\n",
       "  <thead>\n",
       "    <tr style=\"text-align: right;\">\n",
       "      <th></th>\n",
       "      <th>longitude</th>\n",
       "      <th>latitude</th>\n",
       "      <th>housing_median_age</th>\n",
       "      <th>total_rooms</th>\n",
       "      <th>total_bedrooms</th>\n",
       "      <th>population</th>\n",
       "      <th>households</th>\n",
       "      <th>median_income</th>\n",
       "      <th>median_house_value</th>\n",
       "    </tr>\n",
       "  </thead>\n",
       "  <tbody>\n",
       "    <tr>\n",
       "      <th>0</th>\n",
       "      <td>-114.3</td>\n",
       "      <td>34.2</td>\n",
       "      <td>15.0</td>\n",
       "      <td>5612.0</td>\n",
       "      <td>1283.0</td>\n",
       "      <td>1015.0</td>\n",
       "      <td>472.0</td>\n",
       "      <td>1.5</td>\n",
       "      <td>66.9</td>\n",
       "    </tr>\n",
       "    <tr>\n",
       "      <th>1</th>\n",
       "      <td>-114.5</td>\n",
       "      <td>34.4</td>\n",
       "      <td>19.0</td>\n",
       "      <td>7650.0</td>\n",
       "      <td>1901.0</td>\n",
       "      <td>1129.0</td>\n",
       "      <td>463.0</td>\n",
       "      <td>1.8</td>\n",
       "      <td>80.1</td>\n",
       "    </tr>\n",
       "    <tr>\n",
       "      <th>2</th>\n",
       "      <td>-114.6</td>\n",
       "      <td>33.7</td>\n",
       "      <td>17.0</td>\n",
       "      <td>720.0</td>\n",
       "      <td>174.0</td>\n",
       "      <td>333.0</td>\n",
       "      <td>117.0</td>\n",
       "      <td>1.7</td>\n",
       "      <td>85.7</td>\n",
       "    </tr>\n",
       "    <tr>\n",
       "      <th>3</th>\n",
       "      <td>-114.6</td>\n",
       "      <td>33.6</td>\n",
       "      <td>14.0</td>\n",
       "      <td>1501.0</td>\n",
       "      <td>337.0</td>\n",
       "      <td>515.0</td>\n",
       "      <td>226.0</td>\n",
       "      <td>3.2</td>\n",
       "      <td>73.4</td>\n",
       "    </tr>\n",
       "    <tr>\n",
       "      <th>4</th>\n",
       "      <td>-114.6</td>\n",
       "      <td>33.6</td>\n",
       "      <td>20.0</td>\n",
       "      <td>1454.0</td>\n",
       "      <td>326.0</td>\n",
       "      <td>624.0</td>\n",
       "      <td>262.0</td>\n",
       "      <td>1.9</td>\n",
       "      <td>65.5</td>\n",
       "    </tr>\n",
       "    <tr>\n",
       "      <th>...</th>\n",
       "      <td>...</td>\n",
       "      <td>...</td>\n",
       "      <td>...</td>\n",
       "      <td>...</td>\n",
       "      <td>...</td>\n",
       "      <td>...</td>\n",
       "      <td>...</td>\n",
       "      <td>...</td>\n",
       "      <td>...</td>\n",
       "    </tr>\n",
       "    <tr>\n",
       "      <th>995</th>\n",
       "      <td>-117.1</td>\n",
       "      <td>32.5</td>\n",
       "      <td>8.0</td>\n",
       "      <td>6533.0</td>\n",
       "      <td>1217.0</td>\n",
       "      <td>4797.0</td>\n",
       "      <td>1177.0</td>\n",
       "      <td>4.0</td>\n",
       "      <td>144.4</td>\n",
       "    </tr>\n",
       "    <tr>\n",
       "      <th>996</th>\n",
       "      <td>-117.1</td>\n",
       "      <td>34.6</td>\n",
       "      <td>6.0</td>\n",
       "      <td>5110.0</td>\n",
       "      <td>1044.0</td>\n",
       "      <td>1938.0</td>\n",
       "      <td>724.0</td>\n",
       "      <td>3.2</td>\n",
       "      <td>112.8</td>\n",
       "    </tr>\n",
       "    <tr>\n",
       "      <th>997</th>\n",
       "      <td>-117.1</td>\n",
       "      <td>34.2</td>\n",
       "      <td>22.0</td>\n",
       "      <td>4397.0</td>\n",
       "      <td>931.0</td>\n",
       "      <td>1145.0</td>\n",
       "      <td>445.0</td>\n",
       "      <td>4.5</td>\n",
       "      <td>108.4</td>\n",
       "    </tr>\n",
       "    <tr>\n",
       "      <th>998</th>\n",
       "      <td>-117.1</td>\n",
       "      <td>34.0</td>\n",
       "      <td>24.0</td>\n",
       "      <td>4144.0</td>\n",
       "      <td>826.0</td>\n",
       "      <td>2127.0</td>\n",
       "      <td>772.0</td>\n",
       "      <td>2.5</td>\n",
       "      <td>96.0</td>\n",
       "    </tr>\n",
       "    <tr>\n",
       "      <th>999</th>\n",
       "      <td>-117.1</td>\n",
       "      <td>33.6</td>\n",
       "      <td>6.0</td>\n",
       "      <td>1868.0</td>\n",
       "      <td>289.0</td>\n",
       "      <td>750.0</td>\n",
       "      <td>247.0</td>\n",
       "      <td>4.4</td>\n",
       "      <td>307.6</td>\n",
       "    </tr>\n",
       "  </tbody>\n",
       "</table>\n",
       "<p>1000 rows × 9 columns</p>\n",
       "</div>"
      ],
      "text/plain": [
       "     longitude  latitude  housing_median_age  total_rooms  total_bedrooms  \\\n",
       "0       -114.3      34.2                15.0       5612.0          1283.0   \n",
       "1       -114.5      34.4                19.0       7650.0          1901.0   \n",
       "2       -114.6      33.7                17.0        720.0           174.0   \n",
       "3       -114.6      33.6                14.0       1501.0           337.0   \n",
       "4       -114.6      33.6                20.0       1454.0           326.0   \n",
       "..         ...       ...                 ...          ...             ...   \n",
       "995     -117.1      32.5                 8.0       6533.0          1217.0   \n",
       "996     -117.1      34.6                 6.0       5110.0          1044.0   \n",
       "997     -117.1      34.2                22.0       4397.0           931.0   \n",
       "998     -117.1      34.0                24.0       4144.0           826.0   \n",
       "999     -117.1      33.6                 6.0       1868.0           289.0   \n",
       "\n",
       "     population  households  median_income  median_house_value  \n",
       "0        1015.0       472.0            1.5                66.9  \n",
       "1        1129.0       463.0            1.8                80.1  \n",
       "2         333.0       117.0            1.7                85.7  \n",
       "3         515.0       226.0            3.2                73.4  \n",
       "4         624.0       262.0            1.9                65.5  \n",
       "..          ...         ...            ...                 ...  \n",
       "995      4797.0      1177.0            4.0               144.4  \n",
       "996      1938.0       724.0            3.2               112.8  \n",
       "997      1145.0       445.0            4.5               108.4  \n",
       "998      2127.0       772.0            2.5                96.0  \n",
       "999       750.0       247.0            4.4               307.6  \n",
       "\n",
       "[1000 rows x 9 columns]"
      ]
     },
     "execution_count": 10,
     "metadata": {},
     "output_type": "execute_result"
    }
   ],
   "source": [
    "#@title Double-click for a possible solution to Task 2.\n",
    "\n",
    "# Examine examples 0 through 4 and examples 25 through 29\n",
    "# of the training set\n",
    "train_df.head(n=1000)\n",
    "\n",
    "# The original training set is sorted by longitude. \n",
    "# Apparently, longitude influences the relationship of\n",
    "# total_rooms to median_house_value."
   ]
  },
  {
   "cell_type": "markdown",
   "metadata": {
    "colab_type": "text",
    "id": "rw4xI1ZEckI8"
   },
   "source": [
    "## Task 3. Fix the problem\n",
    "\n",
    "To fix the problem, shuffle the examples in the training set before splitting the examples into a training set and validation set. To do so, take the following steps:\n",
    "\n",
    "1. Shuffle the data in the training set by adding the following line anywhere before you call `train_model` (in the code cell associated with Task 1):\n",
    "\n",
    "```\n",
    "  shuffled_train_df = train_df.reindex(np.random.permutation(train_df.index))\n",
    "```                                    \n",
    "\n",
    "2. Pass `shuffled_train_df` (instead of `train_df`) as the second argument to `train_model` (in the code call associated with Task 1) so that the call becomes as follows:\n",
    "\n",
    "```\n",
    "  epochs, rmse, history = train_model(my_model, shuffled_train_df, my_feature, \n",
    "                                      my_label, epochs, batch_size, \n",
    "                                      validation_split)\n",
    "```"
   ]
  },
  {
   "cell_type": "code",
   "execution_count": 11,
   "metadata": {
    "cellView": "form",
    "colab": {},
    "colab_type": "code",
    "id": "ncODhpv0h-LG"
   },
   "outputs": [
    {
     "name": "stdout",
     "output_type": "stream",
     "text": [
      "Train on 13600 samples, validate on 3400 samples\n",
      "Epoch 1/70\n",
      "13600/13600 [==============================] - 0s 29us/sample - loss: 43826.6680 - root_mean_squared_error: 209.3482 - val_loss: 34603.1600 - val_root_mean_squared_error: 186.0192\n",
      "Epoch 2/70\n",
      "13600/13600 [==============================] - 0s 15us/sample - loss: 25709.7556 - root_mean_squared_error: 160.3426 - val_loss: 19295.9153 - val_root_mean_squared_error: 138.9097\n",
      "Epoch 3/70\n",
      "13600/13600 [==============================] - 0s 14us/sample - loss: 13806.8993 - root_mean_squared_error: 117.5028 - val_loss: 10277.1619 - val_root_mean_squared_error: 101.3763\n",
      "Epoch 4/70\n",
      "13600/13600 [==============================] - 0s 15us/sample - loss: 8025.3756 - root_mean_squared_error: 89.5844 - val_loss: 7200.2709 - val_root_mean_squared_error: 84.8544\n",
      "Epoch 5/70\n",
      "13600/13600 [==============================] - 0s 15us/sample - loss: 6993.1598 - root_mean_squared_error: 83.6251 - val_loss: 7110.9722 - val_root_mean_squared_error: 84.3266\n",
      "Epoch 6/70\n",
      "13600/13600 [==============================] - 0s 15us/sample - loss: 6990.7043 - root_mean_squared_error: 83.6104 - val_loss: 7108.4442 - val_root_mean_squared_error: 84.3116\n",
      "Epoch 7/70\n",
      "13600/13600 [==============================] - 0s 18us/sample - loss: 6988.1956 - root_mean_squared_error: 83.5954 - val_loss: 7107.7701 - val_root_mean_squared_error: 84.3076\n",
      "Epoch 8/70\n",
      "13600/13600 [==============================] - 0s 16us/sample - loss: 6991.7414 - root_mean_squared_error: 83.6166 - val_loss: 7107.9654 - val_root_mean_squared_error: 84.3088\n",
      "Epoch 9/70\n",
      "13600/13600 [==============================] - 0s 16us/sample - loss: 6991.5106 - root_mean_squared_error: 83.6153 - val_loss: 7111.7717 - val_root_mean_squared_error: 84.3313\n",
      "Epoch 10/70\n",
      "13600/13600 [==============================] - 0s 16us/sample - loss: 6990.7880 - root_mean_squared_error: 83.6109 - val_loss: 7114.3192 - val_root_mean_squared_error: 84.3464\n",
      "Epoch 11/70\n",
      "13600/13600 [==============================] - 0s 14us/sample - loss: 6990.5755 - root_mean_squared_error: 83.6097 - val_loss: 7110.4456 - val_root_mean_squared_error: 84.3235\n",
      "Epoch 12/70\n",
      "13600/13600 [==============================] - 0s 15us/sample - loss: 6991.1328 - root_mean_squared_error: 83.6130 - val_loss: 7110.7530 - val_root_mean_squared_error: 84.3253\n",
      "Epoch 13/70\n",
      "13600/13600 [==============================] - 0s 15us/sample - loss: 6990.2056 - root_mean_squared_error: 83.6074 - val_loss: 7116.8904 - val_root_mean_squared_error: 84.3617\n",
      "Epoch 14/70\n",
      "13600/13600 [==============================] - 0s 15us/sample - loss: 6989.4012 - root_mean_squared_error: 83.6026 - val_loss: 7108.4388 - val_root_mean_squared_error: 84.3116\n",
      "Epoch 15/70\n",
      "13600/13600 [==============================] - 0s 15us/sample - loss: 6990.0429 - root_mean_squared_error: 83.6065 - val_loss: 7117.7299 - val_root_mean_squared_error: 84.3666\n",
      "Epoch 16/70\n",
      "13600/13600 [==============================] - 0s 15us/sample - loss: 6990.1012 - root_mean_squared_error: 83.6068 - val_loss: 7126.2865 - val_root_mean_squared_error: 84.4173\n",
      "Epoch 17/70\n",
      "13600/13600 [==============================] - 0s 13us/sample - loss: 6990.1716 - root_mean_squared_error: 83.6072 - val_loss: 7107.4582 - val_root_mean_squared_error: 84.3057\n",
      "Epoch 18/70\n",
      "13600/13600 [==============================] - 0s 14us/sample - loss: 6991.0553 - root_mean_squared_error: 83.6125 - val_loss: 7113.5245 - val_root_mean_squared_error: 84.3417\n",
      "Epoch 19/70\n",
      "13600/13600 [==============================] - 0s 13us/sample - loss: 6989.0738 - root_mean_squared_error: 83.6007 - val_loss: 7107.6953 - val_root_mean_squared_error: 84.3071\n",
      "Epoch 20/70\n",
      "13600/13600 [==============================] - 0s 15us/sample - loss: 6989.8996 - root_mean_squared_error: 83.6056 - val_loss: 7113.0665 - val_root_mean_squared_error: 84.3390\n",
      "Epoch 21/70\n",
      "13600/13600 [==============================] - 0s 15us/sample - loss: 6988.1259 - root_mean_squared_error: 83.5950 - val_loss: 7107.8307 - val_root_mean_squared_error: 84.3080\n",
      "Epoch 22/70\n",
      "13600/13600 [==============================] - 0s 15us/sample - loss: 6989.1450 - root_mean_squared_error: 83.6011 - val_loss: 7116.3013 - val_root_mean_squared_error: 84.3582\n",
      "Epoch 23/70\n",
      "13600/13600 [==============================] - 0s 15us/sample - loss: 6990.5673 - root_mean_squared_error: 83.6096 - val_loss: 7111.6751 - val_root_mean_squared_error: 84.3307\n",
      "Epoch 24/70\n",
      "13600/13600 [==============================] - 0s 16us/sample - loss: 6991.0319 - root_mean_squared_error: 83.6124 - val_loss: 7110.9004 - val_root_mean_squared_error: 84.3262\n",
      "Epoch 25/70\n",
      "13600/13600 [==============================] - 0s 14us/sample - loss: 6989.6365 - root_mean_squared_error: 83.6040 - val_loss: 7116.0933 - val_root_mean_squared_error: 84.3569\n",
      "Epoch 26/70\n",
      "13600/13600 [==============================] - 0s 14us/sample - loss: 6990.6669 - root_mean_squared_error: 83.6102 - val_loss: 7117.4972 - val_root_mean_squared_error: 84.3653\n",
      "Epoch 27/70\n",
      "13600/13600 [==============================] - 0s 15us/sample - loss: 6991.1395 - root_mean_squared_error: 83.6130 - val_loss: 7115.4953 - val_root_mean_squared_error: 84.3534\n",
      "Epoch 28/70\n",
      "13600/13600 [==============================] - 0s 13us/sample - loss: 6991.0027 - root_mean_squared_error: 83.6122 - val_loss: 7110.0534 - val_root_mean_squared_error: 84.3211\n",
      "Epoch 29/70\n",
      "13600/13600 [==============================] - 0s 15us/sample - loss: 6991.1712 - root_mean_squared_error: 83.6132 - val_loss: 7108.6754 - val_root_mean_squared_error: 84.3130\n",
      "Epoch 30/70\n",
      "13600/13600 [==============================] - 0s 14us/sample - loss: 6990.5218 - root_mean_squared_error: 83.6093 - val_loss: 7110.7812 - val_root_mean_squared_error: 84.3255\n",
      "Epoch 31/70\n",
      "13600/13600 [==============================] - 0s 14us/sample - loss: 6990.0567 - root_mean_squared_error: 83.6066 - val_loss: 7109.2186 - val_root_mean_squared_error: 84.3162\n",
      "Epoch 32/70\n",
      "13600/13600 [==============================] - 0s 16us/sample - loss: 6990.3024 - root_mean_squared_error: 83.6080 - val_loss: 7109.1037 - val_root_mean_squared_error: 84.3155\n",
      "Epoch 33/70\n",
      "13600/13600 [==============================] - 0s 15us/sample - loss: 6989.0638 - root_mean_squared_error: 83.6006 - val_loss: 7107.4527 - val_root_mean_squared_error: 84.3057\n",
      "Epoch 34/70\n",
      "13600/13600 [==============================] - 0s 14us/sample - loss: 6990.2040 - root_mean_squared_error: 83.6074 - val_loss: 7110.1738 - val_root_mean_squared_error: 84.3218\n",
      "Epoch 35/70\n",
      "13600/13600 [==============================] - 0s 17us/sample - loss: 6990.7288 - root_mean_squared_error: 83.6106 - val_loss: 7108.9627 - val_root_mean_squared_error: 84.3147\n",
      "Epoch 36/70\n",
      "13600/13600 [==============================] - 0s 14us/sample - loss: 6990.1869 - root_mean_squared_error: 83.6073 - val_loss: 7108.2257 - val_root_mean_squared_error: 84.3103\n",
      "Epoch 37/70\n",
      "13600/13600 [==============================] - 0s 15us/sample - loss: 6990.4827 - root_mean_squared_error: 83.6091 - val_loss: 7117.4546 - val_root_mean_squared_error: 84.3650\n",
      "Epoch 38/70\n",
      "13600/13600 [==============================] - 0s 15us/sample - loss: 6991.5219 - root_mean_squared_error: 83.6153 - val_loss: 7110.0417 - val_root_mean_squared_error: 84.3211\n",
      "Epoch 39/70\n",
      "13600/13600 [==============================] - 0s 15us/sample - loss: 6991.4968 - root_mean_squared_error: 83.6152 - val_loss: 7108.9381 - val_root_mean_squared_error: 84.3145\n",
      "Epoch 40/70\n",
      "13600/13600 [==============================] - 0s 16us/sample - loss: 6989.4212 - root_mean_squared_error: 83.6027 - val_loss: 7119.4983 - val_root_mean_squared_error: 84.3771\n",
      "Epoch 41/70\n",
      "13600/13600 [==============================] - 0s 16us/sample - loss: 6990.1089 - root_mean_squared_error: 83.6069 - val_loss: 7117.1039 - val_root_mean_squared_error: 84.3629\n",
      "Epoch 42/70\n",
      "13600/13600 [==============================] - 0s 15us/sample - loss: 6990.5266 - root_mean_squared_error: 83.6094 - val_loss: 7112.4147 - val_root_mean_squared_error: 84.3351\n",
      "Epoch 43/70\n",
      "13600/13600 [==============================] - 0s 16us/sample - loss: 6990.6274 - root_mean_squared_error: 83.6100 - val_loss: 7113.3835 - val_root_mean_squared_error: 84.3409\n",
      "Epoch 44/70\n"
     ]
    },
    {
     "name": "stdout",
     "output_type": "stream",
     "text": [
      "13600/13600 [==============================] - 0s 15us/sample - loss: 6990.7846 - root_mean_squared_error: 83.6109 - val_loss: 7110.5764 - val_root_mean_squared_error: 84.3242\n",
      "Epoch 45/70\n",
      "13600/13600 [==============================] - 0s 16us/sample - loss: 6990.6334 - root_mean_squared_error: 83.6100 - val_loss: 7111.9184 - val_root_mean_squared_error: 84.3322\n",
      "Epoch 46/70\n",
      "13600/13600 [==============================] - 0s 17us/sample - loss: 6991.3349 - root_mean_squared_error: 83.6142 - val_loss: 7109.0389 - val_root_mean_squared_error: 84.3151\n",
      "Epoch 47/70\n",
      "13600/13600 [==============================] - 0s 16us/sample - loss: 6990.5491 - root_mean_squared_error: 83.6095 - val_loss: 7113.8269 - val_root_mean_squared_error: 84.3435\n",
      "Epoch 48/70\n",
      "13600/13600 [==============================] - 0s 17us/sample - loss: 6990.3658 - root_mean_squared_error: 83.6084 - val_loss: 7108.6336 - val_root_mean_squared_error: 84.3127\n",
      "Epoch 49/70\n",
      "13600/13600 [==============================] - 0s 17us/sample - loss: 6991.2458 - root_mean_squared_error: 83.6137 - val_loss: 7111.3778 - val_root_mean_squared_error: 84.3290\n",
      "Epoch 50/70\n",
      "13600/13600 [==============================] - 0s 17us/sample - loss: 6988.2881 - root_mean_squared_error: 83.5960 - val_loss: 7109.6303 - val_root_mean_squared_error: 84.3186\n",
      "Epoch 51/70\n",
      "13600/13600 [==============================] - 0s 17us/sample - loss: 6990.1688 - root_mean_squared_error: 83.6072 - val_loss: 7108.5732 - val_root_mean_squared_error: 84.3123\n",
      "Epoch 52/70\n",
      "13600/13600 [==============================] - 0s 17us/sample - loss: 6990.8771 - root_mean_squared_error: 83.6115 - val_loss: 7108.7100 - val_root_mean_squared_error: 84.3132\n",
      "Epoch 53/70\n",
      "13600/13600 [==============================] - 0s 16us/sample - loss: 6989.7180 - root_mean_squared_error: 83.6045 - val_loss: 7107.4504 - val_root_mean_squared_error: 84.3057\n",
      "Epoch 54/70\n",
      "13600/13600 [==============================] - 0s 17us/sample - loss: 6991.4497 - root_mean_squared_error: 83.6149 - val_loss: 7113.2033 - val_root_mean_squared_error: 84.3398\n",
      "Epoch 55/70\n",
      "13600/13600 [==============================] - 0s 16us/sample - loss: 6990.0369 - root_mean_squared_error: 83.6064 - val_loss: 7120.6053 - val_root_mean_squared_error: 84.3837\n",
      "Epoch 56/70\n",
      "13600/13600 [==============================] - 0s 16us/sample - loss: 6990.2472 - root_mean_squared_error: 83.6077 - val_loss: 7107.4360 - val_root_mean_squared_error: 84.3056\n",
      "Epoch 57/70\n",
      "13600/13600 [==============================] - 0s 16us/sample - loss: 6990.0773 - root_mean_squared_error: 83.6067 - val_loss: 7123.3879 - val_root_mean_squared_error: 84.4002\n",
      "Epoch 58/70\n",
      "13600/13600 [==============================] - 0s 17us/sample - loss: 6991.1250 - root_mean_squared_error: 83.6130 - val_loss: 7110.6327 - val_root_mean_squared_error: 84.3246\n",
      "Epoch 59/70\n",
      "13600/13600 [==============================] - 0s 16us/sample - loss: 6990.8089 - root_mean_squared_error: 83.6111 - val_loss: 7115.1020 - val_root_mean_squared_error: 84.3511\n",
      "Epoch 60/70\n",
      "13600/13600 [==============================] - 0s 16us/sample - loss: 6990.1829 - root_mean_squared_error: 83.6073 - val_loss: 7117.4392 - val_root_mean_squared_error: 84.3649\n",
      "Epoch 61/70\n",
      "13600/13600 [==============================] - 0s 17us/sample - loss: 6990.0838 - root_mean_squared_error: 83.6067 - val_loss: 7109.5966 - val_root_mean_squared_error: 84.3184\n",
      "Epoch 62/70\n",
      "13600/13600 [==============================] - 0s 17us/sample - loss: 6990.0989 - root_mean_squared_error: 83.6068 - val_loss: 7119.0085 - val_root_mean_squared_error: 84.3742\n",
      "Epoch 63/70\n",
      "13600/13600 [==============================] - 0s 16us/sample - loss: 6989.6163 - root_mean_squared_error: 83.6039 - val_loss: 7127.6424 - val_root_mean_squared_error: 84.4254\n",
      "Epoch 64/70\n",
      "13600/13600 [==============================] - 0s 16us/sample - loss: 6990.1141 - root_mean_squared_error: 83.6069 - val_loss: 7113.5823 - val_root_mean_squared_error: 84.3421\n",
      "Epoch 65/70\n",
      "13600/13600 [==============================] - 0s 16us/sample - loss: 6989.2751 - root_mean_squared_error: 83.6019 - val_loss: 7118.6303 - val_root_mean_squared_error: 84.3720\n",
      "Epoch 66/70\n",
      "13600/13600 [==============================] - 0s 18us/sample - loss: 6990.2553 - root_mean_squared_error: 83.6077 - val_loss: 7116.5195 - val_root_mean_squared_error: 84.3595\n",
      "Epoch 67/70\n",
      "13600/13600 [==============================] - 0s 16us/sample - loss: 6989.7595 - root_mean_squared_error: 83.6048 - val_loss: 7107.8868 - val_root_mean_squared_error: 84.3083\n",
      "Epoch 68/70\n",
      "13600/13600 [==============================] - 0s 16us/sample - loss: 6990.7193 - root_mean_squared_error: 83.6105 - val_loss: 7116.0944 - val_root_mean_squared_error: 84.3569\n",
      "Epoch 69/70\n",
      "13600/13600 [==============================] - 0s 17us/sample - loss: 6987.5251 - root_mean_squared_error: 83.5914 - val_loss: 7108.2619 - val_root_mean_squared_error: 84.3105\n",
      "Epoch 70/70\n",
      "13600/13600 [==============================] - 0s 15us/sample - loss: 6991.0281 - root_mean_squared_error: 83.6124 - val_loss: 7111.7827 - val_root_mean_squared_error: 84.3314\n",
      "76.75123\n"
     ]
    },
    {
     "data": {
      "image/png": "[encoded data removed]",
      "text/plain": [
       "<Figure size 432x288 with 1 Axes>"
      ]
     },
     "metadata": {
      "needs_background": "light"
     },
     "output_type": "display_data"
    }
   ],
   "source": [
    "#@title Double-click to view the complete implementation.\n",
    "\n",
    "# The following variables are the hyperparameters.\n",
    "learning_rate = 0.08\n",
    "epochs = 70\n",
    "batch_size = 100\n",
    "\n",
    "# Split the original training set into a reduced training set and a\n",
    "# validation set. \n",
    "validation_split=0.2\n",
    "\n",
    "# Identify the feature and the label.\n",
    "my_feature=\"median_income\"  # the median income on a specific city block.\n",
    "my_label=\"median_house_value\" # the median value of a house on a specific city block.\n",
    "# That is, you're going to create a model that predicts house value based \n",
    "# solely on the neighborhood's median income.  \n",
    "\n",
    "# Discard any pre-existing version of the model.\n",
    "my_model = None\n",
    "\n",
    "# Shuffle the examples.\n",
    "shuffled_train_df = train_df.reindex(np.random.permutation(train_df.index)) \n",
    "\n",
    "# Invoke the functions to build and train the model. Train on the shuffled\n",
    "# training set.\n",
    "my_model = build_model(learning_rate)\n",
    "epochs, rmse, history = train_model(my_model, shuffled_train_df, my_feature, \n",
    "                                    my_label, epochs, batch_size, \n",
    "                                    validation_split)\n",
    "\n",
    "plot_the_loss_curve(epochs, history[\"root_mean_squared_error\"], \n",
    "                    history[\"val_root_mean_squared_error\"])"
   ]
  },
  {
   "cell_type": "markdown",
   "metadata": {
    "colab_type": "text",
    "id": "tKN239_miW8C"
   },
   "source": [
    "Experiment with `validation_split` to answer the following questions:\n",
    "\n",
    "* With the training set shuffled, is the final loss for the training set closer to the final loss for the validation set?  \n",
    "* At what range of values of `validation_split` do the final loss values for the training set and validation set diverge meaningfully?  Why?"
   ]
  },
  {
   "cell_type": "code",
   "execution_count": 12,
   "metadata": {
    "cellView": "form",
    "colab": {},
    "colab_type": "code",
    "id": "-UAJ3Q86iz31"
   },
   "outputs": [],
   "source": [
    "#@title Double-click for the answers to the questions\n",
    "\n",
    "# Yes, after shuffling the original training set, \n",
    "# the final loss for the training set and the \n",
    "# validation set become much closer.\n",
    "\n",
    "# If validation_split < 0.15,\n",
    "# the final loss values for the training set and\n",
    "# validation set diverge meaningfully.  Apparently,\n",
    "# the validation set no longer contains enough examples. "
   ]
  },
  {
   "cell_type": "markdown",
   "metadata": {
    "colab_type": "text",
    "id": "1PP-O8TOZOeo"
   },
   "source": [
    "## Task 4: Use the Test Dataset to Evaluate Your Model's Performance\n",
    "\n",
    "The test set usually acts as the ultimate judge of a model's quality. The test set can serve as an impartial judge because its examples haven't been used in training the model. Run the following code cell to evaluate the model with the test set:"
   ]
  },
  {
   "cell_type": "code",
   "execution_count": 13,
   "metadata": {
    "colab": {},
    "colab_type": "code",
    "id": "nd_Sw2cygOip"
   },
   "outputs": [
    {
     "name": "stdout",
     "output_type": "stream",
     "text": [
      "3000/3000 [==============================] - 0s 11us/sample - loss: 7011.5096 - root_mean_squared_error: 83.7348\n"
     ]
    }
   ],
   "source": [
    "x_test = test_df[my_feature]\n",
    "y_test = test_df[my_label]\n",
    "\n",
    "results = my_model.evaluate(x_test, y_test, batch_size=batch_size)"
   ]
  },
  {
   "cell_type": "markdown",
   "metadata": {
    "colab_type": "text",
    "id": "qoyQKvsjmV_A"
   },
   "source": [
    "Compare the root mean squared error of the model when evaluated on each of the three datasets:\n",
    "\n",
    "* training set: look for `root_mean_squared_error` in the final training epoch.\n",
    "* validation set: look for `val_root_mean_squared_error` in the final training epoch.\n",
    "* test set: run the preceding code cell and examine the `root_mean_squred_error`.\n",
    "\n",
    "Ideally, the root mean squared error of all three sets should be similar. Are they?"
   ]
  },
  {
   "cell_type": "code",
   "execution_count": 14,
   "metadata": {
    "cellView": "form",
    "colab": {},
    "colab_type": "code",
    "id": "FxXtp-aVdIgJ"
   },
   "outputs": [],
   "source": [
    "#@title Double-click for an answer\n",
    "\n",
    "# In our experiments, yes, the rmse values \n",
    "# were similar enough. "
   ]
  }
 ],
 "metadata": {
  "colab": {
   "collapsed_sections": [],
   "name": "Validation and Test Sets.ipynb",
   "private_outputs": true,
   "provenance": []
  },
  "kernelspec": {
   "display_name": "Python 3",
   "language": "python",
   "name": "python3"
  },
  "language_info": {
   "codemirror_mode": {
    "name": "ipython",
    "version": 3
   },
   "file_extension": ".py",
   "mimetype": "text/x-python",
   "name": "python",
   "nbconvert_exporter": "python",
   "pygments_lexer": "ipython3",
   "version": "3.6.8"
  }
 },
 "nbformat": 4,
 "nbformat_minor": 1
}
