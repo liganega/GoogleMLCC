{
 "cells": [
  {
   "cell_type": "code",
   "execution_count": 1,
   "metadata": {
    "cellView": "form",
    "colab": {},
    "colab_type": "code",
    "id": "wDlWLbfkJtvu"
   },
   "outputs": [],
   "source": [
    "#@title Copyright 2020 Google LLC. Double-click here for license information.\n",
    "# Licensed under the Apache License, Version 2.0 (the \"License\");\n",
    "# you may not use this file except in compliance with the License.\n",
    "# You may obtain a copy of the License at\n",
    "#\n",
    "# https://www.apache.org/licenses/LICENSE-2.0\n",
    "#\n",
    "# Unless required by applicable law or agreed to in writing, software\n",
    "# distributed under the License is distributed on an \"AS IS\" BASIS,\n",
    "# WITHOUT WARRANTIES OR CONDITIONS OF ANY KIND, either express or implied.\n",
    "# See the License for the specific language governing permissions and\n",
    "# limitations under the License.\n",
    "\n",
    "# Yann LeCun and Corinna Cortes hold the copyright of MNIST dataset,\n",
    "# which is a derivative work from original NIST datasets. \n",
    "# MNIST dataset is made available under the terms of the \n",
    "# Creative Commons Attribution-Share Alike 3.0 license."
   ]
  },
  {
   "cell_type": "markdown",
   "metadata": {
    "colab_type": "text",
    "id": "TL5y5fY9Jy_x"
   },
   "source": [
    "# Multi-Class Classification\n",
    "\n",
    "This Colab explore multi-class classification problems through the classic MNIST dataset."
   ]
  },
  {
   "cell_type": "markdown",
   "metadata": {
    "colab_type": "text",
    "id": "XuKlphuImFSN"
   },
   "source": [
    "## Learning Objectives:\n",
    "\n",
    "After doing this Colab, you'll know how to do the following:\n",
    "\n",
    "  * Understand the classic MNIST problem.\n",
    "  * Create a deep neural network that performs multi-class classification.\n",
    "  * Tune the deep neural network.\n",
    "\n",
    "This exercise introduces image classification with machine learning."
   ]
  },
  {
   "cell_type": "markdown",
   "metadata": {
    "colab_type": "text",
    "id": "cxj8yVh4mFl5"
   },
   "source": [
    "## The Dataset\n",
    "  \n",
    "This MNIST dataset contains a lot of examples:\n",
    "\n",
    "* The MNIST training set contains 60,000 examples.\n",
    "* The MNIST test set contains 10,000 examples.\n",
    "\n",
    "Each example contains a pixel map showing how a person wrote a digit. For example, the following images shows how a person wrote the digit `1` and how that digit might be represented in a 14x14 pixel map (after the input data is normalized). \n",
    "\n",
    "![Two images. The first image shows a somewhat fuzzy digit one. The second image shows a 14x14 floating-point array in which most of the cells contain 0 but a few cells contain values between 0.0 and 1.0. The pattern of nonzero values corresponds to the image of the fuzzy digit in the first image.](https://www.tensorflow.org/images/MNIST-Matrix.png)\n",
    "\n",
    "Each example in the MNIST dataset consists of:\n",
    "\n",
    "* A label specified by a [rater](https://developers.google.com/machine-learning/glossary/#rater).  Each label must be an integer from 0 to 9.  For example, in the preceding image, the rater would almost certainly assign the label `1` to the example.\n",
    "* A 28x28 pixel map, where each pixel is an integer between 0 and 255. The pixel values are on a gray scale in which 0 represents white, 255 represents black, and values between 0 and 255 represent various shades of gray.  \n",
    "\n",
    "This is a multi-class classification problem with 10 output classes, one for each digit."
   ]
  },
  {
   "cell_type": "markdown",
   "metadata": {
    "colab_type": "text",
    "id": "tX_umRMMsa3z"
   },
   "source": [
    "## Use the right version of TensorFlow\n",
    "\n",
    "The following hidden code cell ensures that the Colab will run on TensorFlow 2.X."
   ]
  },
  {
   "cell_type": "code",
   "execution_count": 2,
   "metadata": {
    "cellView": "form",
    "colab": {},
    "colab_type": "code",
    "id": "lM75uNH-sTv2"
   },
   "outputs": [],
   "source": [
    "#@title Run on TensorFlow 2.x\n",
    "#%tensorflow_version 2.x\n",
    "from __future__ import absolute_import, division, print_function, unicode_literals"
   ]
  },
  {
   "cell_type": "markdown",
   "metadata": {
    "colab_type": "text",
    "id": "xchnxAsaKKqO"
   },
   "source": [
    "## Import relevant modules\n",
    "\n",
    "The following hidden code cell imports the necessary code to run the code in the rest of this Colaboratory."
   ]
  },
  {
   "cell_type": "code",
   "execution_count": 3,
   "metadata": {
    "cellView": "form",
    "colab": {},
    "colab_type": "code",
    "id": "9n9_cTveKmse"
   },
   "outputs": [],
   "source": [
    "#@title Import relevant modules\n",
    "import numpy as np\n",
    "import pandas as pd\n",
    "import tensorflow as tf\n",
    "from tensorflow.keras import layers\n",
    "from matplotlib import pyplot as plt\n",
    "\n",
    "# The following lines adjust the granularity of reporting. \n",
    "pd.options.display.max_rows = 10\n",
    "pd.options.display.float_format = \"{:.1f}\".format\n",
    "\n",
    "# The following line improves formatting when ouputting NumPy arrays.\n",
    "np.set_printoptions(linewidth = 200)"
   ]
  },
  {
   "cell_type": "markdown",
   "metadata": {
    "colab_type": "text",
    "id": "X_TaJhU4KcuY"
   },
   "source": [
    "## Load the dataset\n",
    "\n",
    "`tf.keras` provides a set of convenience functions for loading well-known datasets. Each of these convenience functions does the following:\n",
    "\n",
    "* Loads both the training set and the test set.\n",
    "* Separates each set into features and labels.\n",
    "\n",
    "The relevant convenience function for MNIST is called `mnist.load_data()`:"
   ]
  },
  {
   "cell_type": "code",
   "execution_count": 4,
   "metadata": {
    "colab": {},
    "colab_type": "code",
    "id": "JZlvdpyYKx7V"
   },
   "outputs": [],
   "source": [
    "(x_train, y_train),(x_test, y_test) = tf.keras.datasets.mnist.load_data()\n"
   ]
  },
  {
   "cell_type": "markdown",
   "metadata": {
    "colab_type": "text",
    "id": "SfQkr3hxJGXU"
   },
   "source": [
    "Notice that `mnist.load_data()` returned four separate values:\n",
    "\n",
    "* `x_train` contains the training set's features.\n",
    "* `y_train` contains the training set's labels.\n",
    "* `x_test` contains the test set's features.\n",
    "* `y_test` contains the test set's labels.\n",
    "\n",
    "**Note:** The MNIST .csv training set is already shuffled."
   ]
  },
  {
   "cell_type": "markdown",
   "metadata": {
    "colab_type": "text",
    "id": "71vsSUM7pdmu"
   },
   "source": [
    "## View the dataset\n",
    "\n",
    "The .csv file for the California Housing Dataset contains column names (for example, `latitude`, `longitude`, `population`). By contrast, the .csv file for MNIST does not contain column names. Instead of column names, you use ordinal numbers to access different subsets of the MNIST dataset. In fact, it is probably best to think of `x_train` and `x_test` as three-dimensional NumPy arrays:  \n",
    "\n"
   ]
  },
  {
   "cell_type": "code",
   "execution_count": 5,
   "metadata": {
    "colab": {},
    "colab_type": "code",
    "id": "IoOhpjkeCL8Q"
   },
   "outputs": [
    {
     "data": {
      "text/plain": [
       "array([[  0,   0,   0,   0,   0,   0,   0,   0,   0,   0,   0,   0,   0,   0,   0,   0,   0,   0,   0,   0,   0,   0,   0,   0,   0,   0,   0,   0],\n",
       "       [  0,   0,   0,   0,   0,   0,   0,   0,   0,   0,   0,   0,   0,   0,   0,   0,   0,   0,   0,   0,   0,   0,   0,   0,   0,   0,   0,   0],\n",
       "       [  0,   0,   0,   0,   0,   0,   0,   0,   0,   0,   0,   0,   0,   0,   0,   0,   0,   0,   0,   0,   0,   0,   0,   0,   0,   0,   0,   0],\n",
       "       [  0,   0,   0,   0,   0,   0,   0,   0,   0,   0,   0,   0,   0,   0,   0,   0,   0,   0,   0,   0,   0,   0,   0,   0,   0,   0,   0,   0],\n",
       "       [  0,   0,   0,   0,   0,   0,   0,   0,   0,   0,   0,   0,   0,   0,   0,   0,   0,   0,   0,   0,   0,   0,   0,   0,   0,   0,   0,   0],\n",
       "       [  0,   0,   0,   0,   0,   0,   0,   0,   0,   0,   0,   0,   0,   0,   0,   0,   0,   0,   0,   0,   0,   0,   0,   0,   0,   0,   0,   0],\n",
       "       [  0,   0,   0,   0,   0,   0,   0,   0, 127, 100, 156, 239, 224, 177, 213, 159,  70,  13,   0,   0,   0,   0,   0,   0,   0,   0,   0,   0],\n",
       "       [  0,   0,   0,   0,   0,   0,   0, 110, 250, 254, 254, 254, 254, 254, 254, 254, 254, 184,  10,   0,   0,   0,   0,   0,   0,   0,   0,   0],\n",
       "       [  0,   0,   0,   0,   0,   0,   0, 216, 254, 254, 254, 254, 254, 254, 254, 254, 254, 251,  54,   0,   0,   0,   0,   0,   0,   0,   0,   0],\n",
       "       [  0,   0,   0,   0,   0,   0,   0,   3, 131, 197,  68, 137, 101,  83,  41,  70, 221, 254, 108,   0,   0,   0,   0,   0,   0,   0,   0,   0],\n",
       "       [  0,   0,   0,   0,   0,   0,   0,   0,   0,   0,   0,   0,   0,   0,   0,   0,  58, 254, 216,  11,   0,   0,   0,   0,   0,   0,   0,   0],\n",
       "       [  0,   0,   0,   0,   0,   0,   0,   0,   0,   0,   0,   0,   0,   0,   0,   0, 110, 254, 254,  24,   0,   0,   0,   0,   0,   0,   0,   0],\n",
       "       [  0,   0,   0,   0,   0,   0,   0,   0,   0,   0,   0,   0,   0,   0,   4,  83, 247, 254, 192,  10,   0,   0,   0,   0,   0,   0,   0,   0],\n",
       "       [  0,   0,   0,   0,   0,   0,   0,   0,   0,   0,   0,   0,   0,  37, 124, 254, 254, 250,  47,   0,   0,   0,   0,   0,   0,   0,   0,   0],\n",
       "       [  0,   0,   0,   0,   0,   0,   0,   0,   0,   0,   0, 113, 178, 250, 254, 254, 254, 252, 178, 128,  50,   0,   0,   0,   0,   0,   0,   0],\n",
       "       [  0,   0,   0,   0,   0,   0,   0,   0,   0,   0,  69, 252, 254, 254, 254, 254, 254, 254, 254, 254, 153,   0,   0,   0,   0,   0,   0,   0],\n",
       "       [  0,   0,   0,   0,   0,   0,   0,   0,   0,   0, 141, 252, 254, 241, 241, 254, 247, 252, 254, 254, 153,   0,   0,   0,   0,   0,   0,   0],\n",
       "       [  0,   0,   0,   0,   0,   0,   0,   0,   0,   0,   0,  68,  82,   5,   5,  82,  37,  65, 167, 254, 190,   0,   0,   0,   0,   0,   0,   0],\n",
       "       [  0,   0,   0,   0,   0,   0,   0,   0,   0,   0,   0,   0,   0,   0,   0,   0,   0,   0, 162, 254, 153,   0,   0,   0,   0,   0,   0,   0],\n",
       "       [  0,   0,   0,   0,   0,   0,   0,   0,   0,   0,   0,   0,   0,   0,   0,   0,   0,   1, 172, 253,  75,   0,   0,   0,   0,   0,   0,   0],\n",
       "       [  0,   0,   0,   0,   0,   0,   0,   0,   0,   0,   0,   0,   0,   0,   0,   0,   0, 102, 254, 152,   0,   0,   0,   0,   0,   0,   0,   0],\n",
       "       [  0,   0,   0,   0,   0,   0,   0,   0,   0,   0,   0,   0,   0,   0,   0,   0,  38, 230, 216,  20,   0,   0,   0,   0,   0,   0,   0,   0],\n",
       "       [  0,   0,   0,   0,   0,   0,   0,   0,   0,   0,   0,   0,   0,   0,   1,  71, 222, 254, 142,   0,   0,   0,   0,   0,   0,   0,   0,   0],\n",
       "       [  0,   0,   0,   0,   0,   0,   0,   0,   0,   0,   0,   0,   0,   0,  66, 254, 254, 157,   0,   0,   0,   0,   0,   0,   0,   0,   0,   0],\n",
       "       [  0,   0,   0,   0,   0,   0,   0,   0,   4,  34,  34,  78, 161, 226, 249, 254, 154,   6,   0,   0,   0,   0,   0,   0,   0,   0,   0,   0],\n",
       "       [  0,   0,   0,   0,   0,   0,   0,  96, 184, 254, 254, 254, 254, 254, 249,  93,   5,   0,   0,   0,   0,   0,   0,   0,   0,   0,   0,   0],\n",
       "       [  0,   0,   0,   0,   0,   0,   0,   0,   0,   0,   0,   0,   0,   0,   0,   0,   0,   0,   0,   0,   0,   0,   0,   0,   0,   0,   0,   0],\n",
       "       [  0,   0,   0,   0,   0,   0,   0,   0,   0,   0,   0,   0,   0,   0,   0,   0,   0,   0,   0,   0,   0,   0,   0,   0,   0,   0,   0,   0]], dtype=uint8)"
      ]
     },
     "execution_count": 5,
     "metadata": {},
     "output_type": "execute_result"
    }
   ],
   "source": [
    "# Output example #2917 of the training set.\n",
    "x_train[2917]"
   ]
  },
  {
   "cell_type": "markdown",
   "metadata": {
    "colab_type": "text",
    "id": "LNJrJKUwvZMR"
   },
   "source": [
    "Alternatively, you can call `matplotlib.pyplot.imshow` to interpret the preceding numeric array as an image. "
   ]
  },
  {
   "cell_type": "code",
   "execution_count": 6,
   "metadata": {
    "colab": {},
    "colab_type": "code",
    "id": "siRC8a1hJvmq"
   },
   "outputs": [
    {
     "data": {
      "text/plain": [
       "<matplotlib.image.AxesImage at 0x7f1149ed0320>"
      ]
     },
     "execution_count": 6,
     "metadata": {},
     "output_type": "execute_result"
    },
    {
     "data": {
      "image/png": "[encoded data removed]",
      "text/plain": [
       "<Figure size 432x288 with 1 Axes>"
      ]
     },
     "metadata": {
      "needs_background": "light"
     },
     "output_type": "display_data"
    }
   ],
   "source": [
    "# Use false colors to visualize the array.\n",
    "plt.imshow(x_train[2917])"
   ]
  },
  {
   "cell_type": "code",
   "execution_count": 7,
   "metadata": {
    "colab": {},
    "colab_type": "code",
    "id": "V-he9IcihDxb"
   },
   "outputs": [
    {
     "data": {
      "text/plain": [
       "array([  0,   0,   0,   0,   0,   0,   0,   0,   0,   0,   0,   0,   0,   0,   0,   0,  58, 254, 216,  11,   0,   0,   0,   0,   0,   0,   0,   0], dtype=uint8)"
      ]
     },
     "execution_count": 7,
     "metadata": {},
     "output_type": "execute_result"
    }
   ],
   "source": [
    "# Output row #10 of example #2917.\n",
    "x_train[2917][10]"
   ]
  },
  {
   "cell_type": "code",
   "execution_count": 8,
   "metadata": {
    "colab": {},
    "colab_type": "code",
    "id": "DUEWipalhQ8J"
   },
   "outputs": [
    {
     "data": {
      "text/plain": [
       "58"
      ]
     },
     "execution_count": 8,
     "metadata": {},
     "output_type": "execute_result"
    }
   ],
   "source": [
    "# Output pixel #16 of row #10 of example #2900.\n",
    "x_train[2917][10][16]"
   ]
  },
  {
   "cell_type": "markdown",
   "metadata": {
    "colab_type": "text",
    "id": "8ldP-5z1B2vL"
   },
   "source": [
    "## Task 1: Normalize feature values\n",
    "\n",
    "Complete the following code cell to map each feature value from its current representation (an integer between 0 and 255) to a floating-point value between 0 and 1.0. Store the floating-point values in `x_train_normalized` and `x_test_normalized`."
   ]
  },
  {
   "cell_type": "code",
   "execution_count": 9,
   "metadata": {
    "colab": {},
    "colab_type": "code",
    "id": "4YQljE-wizDw"
   },
   "outputs": [
    {
     "ename": "SyntaxError",
     "evalue": "invalid syntax (<ipython-input-9-9c42141bd493>, line 1)",
     "output_type": "error",
     "traceback": [
      "\u001b[0;36m  File \u001b[0;32m\"<ipython-input-9-9c42141bd493>\"\u001b[0;36m, line \u001b[0;32m1\u001b[0m\n\u001b[0;31m    x_train_normalized = ?\u001b[0m\n\u001b[0m                         ^\u001b[0m\n\u001b[0;31mSyntaxError\u001b[0m\u001b[0;31m:\u001b[0m invalid syntax\n"
     ]
    }
   ],
   "source": [
    "x_train_normalized = ?\n",
    "x_test_normalized = ? \n",
    "print(x_train_normalized[2900][10]) # Output a normalized row"
   ]
  },
  {
   "cell_type": "code",
   "execution_count": 10,
   "metadata": {
    "cellView": "form",
    "colab": {},
    "colab_type": "code",
    "id": "g8HC-TDgB1D1"
   },
   "outputs": [
    {
     "name": "stdout",
     "output_type": "stream",
     "text": [
      "[0.         0.         0.         0.         0.         0.         0.         0.55294118 0.88627451 0.22352941 0.         0.         0.         0.         0.         0.         0.         0.\n",
      " 0.         0.         0.         0.         0.         0.         0.         0.         0.         0.        ]\n"
     ]
    }
   ],
   "source": [
    "#@title Double-click to see a solution to Task 1. \n",
    "\n",
    "x_train_normalized = x_train / 255.0\n",
    "x_test_normalized = x_test / 255.0\n",
    "print(x_train_normalized[2900][12]) # Output a normalized row"
   ]
  },
  {
   "cell_type": "markdown",
   "metadata": {
    "colab_type": "text",
    "id": "ZBWRF6CStuNA"
   },
   "source": [
    "## Define a plotting function\n",
    "\n",
    "The following function plots an accuracy curve:"
   ]
  },
  {
   "cell_type": "code",
   "execution_count": 11,
   "metadata": {
    "cellView": "form",
    "colab": {},
    "colab_type": "code",
    "id": "QF0BFRXTOeR3"
   },
   "outputs": [
    {
     "name": "stdout",
     "output_type": "stream",
     "text": [
      "Loaded the plot_curve function.\n"
     ]
    }
   ],
   "source": [
    "#@title Define the plotting function\n",
    "def plot_curve(epochs, hist, list_of_metrics):\n",
    "  \"\"\"Plot a curve of one or more classification metrics vs. epoch.\"\"\"  \n",
    "  # list_of_metrics should be one of the names shown in:\n",
    "  # https://www.tensorflow.org/tutorials/structured_data/imbalanced_data#define_the_model_and_metrics  \n",
    "\n",
    "  plt.figure()\n",
    "  plt.xlabel(\"Epoch\")\n",
    "  plt.ylabel(\"Value\")\n",
    "\n",
    "  for m in list_of_metrics:\n",
    "    x = hist[m]\n",
    "    plt.plot(epochs[1:], x[1:], label=m)\n",
    "\n",
    "  plt.legend()\n",
    "\n",
    "print(\"Loaded the plot_curve function.\")"
   ]
  },
  {
   "cell_type": "markdown",
   "metadata": {
    "colab_type": "text",
    "id": "3014ezH3C7jT"
   },
   "source": [
    "## Create a deep neural net model\n",
    "\n",
    "The `create_model` function defines the topography of the deep neural net, specifying the following:\n",
    "\n",
    "* The number of [layers](https://developers.google.com/machine-learning/glossary/#layer) in the deep neural net.\n",
    "* The number of [nodes](https://developers.google.com/machine-learning/glossary/#node) in each layer.\n",
    "* Any [regularization](https://developers.google.com/machine-learning/glossary/#regularization) layers.\n",
    "\n",
    "The `create_model` function also defines the [activation function](https://developers.google.com/machine-learning/glossary/#activation_function) of each layer.  The activation function of the output layer is [softmax](https://developers.google.com/machine-learning/glossary/#softmax), which will yield 10 different outputs for each example. Each of the 10 outputs provides the probability that the input example is a certain digit.\n",
    "\n",
    "**Note:** Unlike several of the recent Colabs, this exercise does not define feature columns or a feature layer.  Instead, the model will train on the NumPy array."
   ]
  },
  {
   "cell_type": "code",
   "execution_count": 12,
   "metadata": {
    "cellView": "both",
    "colab": {},
    "colab_type": "code",
    "id": "pedD5GhlDC-y"
   },
   "outputs": [],
   "source": [
    "def create_model(my_learning_rate):\n",
    "  \"\"\"Create and compile a deep neural net.\"\"\"\n",
    "  \n",
    "  # All models in this course are sequential.\n",
    "  model = tf.keras.models.Sequential()\n",
    "\n",
    "  # The features are stored in a two-dimensional 28X28 array. \n",
    "  # Flatten that two-dimensional array into a a one-dimensional \n",
    "  # 784-element array.\n",
    "  model.add(tf.keras.layers.Flatten(input_shape=(28, 28)))\n",
    "\n",
    "  # Define the first hidden layer.   \n",
    "  model.add(tf.keras.layers.Dense(units=32, activation='relu'))\n",
    "  \n",
    "  # Define a dropout regularization layer. \n",
    "  model.add(tf.keras.layers.Dropout(rate=0.2))\n",
    "\n",
    "  # Define the output layer. The units parameter is set to 10 because\n",
    "  # the model must choose among 10 possible output values (representing\n",
    "  # the digits from 0 to 9, inclusive).\n",
    "  #\n",
    "  # Don't change this layer.\n",
    "  model.add(tf.keras.layers.Dense(units=10, activation='softmax'))     \n",
    "                           \n",
    "  # Construct the layers into a model that TensorFlow can execute.  \n",
    "  # Notice that the loss function for multi-class classification\n",
    "  # is different than the loss function for binary classification.  \n",
    "  model.compile(optimizer=tf.keras.optimizers.Adam(lr=my_learning_rate),\n",
    "                loss=\"sparse_categorical_crossentropy\",\n",
    "                metrics=['accuracy'])\n",
    "  \n",
    "  return model    \n",
    "\n",
    "\n",
    "def train_model(model, train_features, train_label, epochs,\n",
    "                batch_size=None, validation_split=0.1):\n",
    "  \"\"\"Train the model by feeding it data.\"\"\"\n",
    "\n",
    "  history = model.fit(x=train_features, y=train_label, batch_size=batch_size,\n",
    "                      epochs=epochs, shuffle=True, \n",
    "                      validation_split=validation_split)\n",
    " \n",
    "  # To track the progression of training, gather a snapshot\n",
    "  # of the model's metrics at each epoch. \n",
    "  epochs = history.epoch\n",
    "  hist = pd.DataFrame(history.history)\n",
    "\n",
    "  return epochs, hist    "
   ]
  },
  {
   "cell_type": "markdown",
   "metadata": {
    "colab_type": "text",
    "id": "D-IXYVfvM4gD"
   },
   "source": [
    "## Invoke the previous functions\n",
    "\n",
    "Run the following code cell to invoke the preceding functions and actually train the model on the training set. \n",
    "\n",
    "**Note:** Due to several factors (for example, more examples and a more complex neural network) training MNIST might take longer than training the California Housing Dataset. Be patient."
   ]
  },
  {
   "cell_type": "code",
   "execution_count": 13,
   "metadata": {
    "cellView": "both",
    "colab": {},
    "colab_type": "code",
    "id": "nj3v5EKQFY8s"
   },
   "outputs": [
    {
     "name": "stdout",
     "output_type": "stream",
     "text": [
      "Train on 48000 samples, validate on 12000 samples\n",
      "Epoch 1/50\n",
      "48000/48000 [==============================] - 1s 13us/sample - loss: 1.7260 - accuracy: 0.4474 - val_loss: 1.0099 - val_accuracy: 0.7631\n",
      "Epoch 2/50\n",
      "48000/48000 [==============================] - 0s 5us/sample - loss: 0.9120 - accuracy: 0.7340 - val_loss: 0.5526 - val_accuracy: 0.8579\n",
      "Epoch 3/50\n",
      "48000/48000 [==============================] - 0s 4us/sample - loss: 0.6361 - accuracy: 0.8100 - val_loss: 0.4189 - val_accuracy: 0.8882\n",
      "Epoch 4/50\n",
      "48000/48000 [==============================] - 0s 5us/sample - loss: 0.5247 - accuracy: 0.8423 - val_loss: 0.3603 - val_accuracy: 0.9007\n",
      "Epoch 5/50\n",
      "48000/48000 [==============================] - 0s 4us/sample - loss: 0.4667 - accuracy: 0.8605 - val_loss: 0.3253 - val_accuracy: 0.9098\n",
      "Epoch 6/50\n",
      "48000/48000 [==============================] - 0s 4us/sample - loss: 0.4317 - accuracy: 0.8716 - val_loss: 0.3039 - val_accuracy: 0.9162\n",
      "Epoch 7/50\n",
      "48000/48000 [==============================] - 0s 4us/sample - loss: 0.4009 - accuracy: 0.8822 - val_loss: 0.2850 - val_accuracy: 0.9208\n",
      "Epoch 8/50\n",
      "48000/48000 [==============================] - 0s 5us/sample - loss: 0.3805 - accuracy: 0.8885 - val_loss: 0.2709 - val_accuracy: 0.9252\n",
      "Epoch 9/50\n",
      "48000/48000 [==============================] - 0s 4us/sample - loss: 0.3627 - accuracy: 0.8930 - val_loss: 0.2583 - val_accuracy: 0.9283\n",
      "Epoch 10/50\n",
      "48000/48000 [==============================] - 0s 4us/sample - loss: 0.3461 - accuracy: 0.8988 - val_loss: 0.2474 - val_accuracy: 0.9306\n",
      "Epoch 11/50\n",
      "48000/48000 [==============================] - 0s 4us/sample - loss: 0.3311 - accuracy: 0.9020 - val_loss: 0.2386 - val_accuracy: 0.9323\n",
      "Epoch 12/50\n",
      "48000/48000 [==============================] - 0s 4us/sample - loss: 0.3212 - accuracy: 0.9047 - val_loss: 0.2309 - val_accuracy: 0.9343\n",
      "Epoch 13/50\n",
      "48000/48000 [==============================] - 0s 4us/sample - loss: 0.3139 - accuracy: 0.9090 - val_loss: 0.2237 - val_accuracy: 0.9357\n",
      "Epoch 14/50\n",
      "48000/48000 [==============================] - 0s 5us/sample - loss: 0.2982 - accuracy: 0.9120 - val_loss: 0.2154 - val_accuracy: 0.9379\n",
      "Epoch 15/50\n",
      "48000/48000 [==============================] - 0s 4us/sample - loss: 0.2917 - accuracy: 0.9134 - val_loss: 0.2103 - val_accuracy: 0.9389\n",
      "Epoch 16/50\n",
      "48000/48000 [==============================] - 0s 4us/sample - loss: 0.2831 - accuracy: 0.9168 - val_loss: 0.2053 - val_accuracy: 0.9410\n",
      "Epoch 17/50\n",
      "48000/48000 [==============================] - 0s 4us/sample - loss: 0.2784 - accuracy: 0.9175 - val_loss: 0.2012 - val_accuracy: 0.9423\n",
      "Epoch 18/50\n",
      "48000/48000 [==============================] - 0s 4us/sample - loss: 0.2710 - accuracy: 0.9193 - val_loss: 0.1962 - val_accuracy: 0.9435\n",
      "Epoch 19/50\n",
      "48000/48000 [==============================] - 0s 4us/sample - loss: 0.2661 - accuracy: 0.9216 - val_loss: 0.1936 - val_accuracy: 0.9440\n",
      "Epoch 20/50\n",
      "48000/48000 [==============================] - 0s 4us/sample - loss: 0.2605 - accuracy: 0.9222 - val_loss: 0.1887 - val_accuracy: 0.9452\n",
      "Epoch 21/50\n",
      "48000/48000 [==============================] - 0s 4us/sample - loss: 0.2548 - accuracy: 0.9235 - val_loss: 0.1850 - val_accuracy: 0.9460\n",
      "Epoch 22/50\n",
      "48000/48000 [==============================] - 0s 4us/sample - loss: 0.2488 - accuracy: 0.9259 - val_loss: 0.1816 - val_accuracy: 0.9481\n",
      "Epoch 23/50\n",
      "48000/48000 [==============================] - 0s 4us/sample - loss: 0.2440 - accuracy: 0.9268 - val_loss: 0.1794 - val_accuracy: 0.9473\n",
      "Epoch 24/50\n",
      "48000/48000 [==============================] - 0s 4us/sample - loss: 0.2406 - accuracy: 0.9278 - val_loss: 0.1763 - val_accuracy: 0.9482\n",
      "Epoch 25/50\n",
      "48000/48000 [==============================] - 0s 4us/sample - loss: 0.2372 - accuracy: 0.9295 - val_loss: 0.1734 - val_accuracy: 0.9488\n",
      "Epoch 26/50\n",
      "48000/48000 [==============================] - 0s 4us/sample - loss: 0.2366 - accuracy: 0.9292 - val_loss: 0.1713 - val_accuracy: 0.9497\n",
      "Epoch 27/50\n",
      "48000/48000 [==============================] - 0s 4us/sample - loss: 0.2319 - accuracy: 0.9303 - val_loss: 0.1682 - val_accuracy: 0.9516\n",
      "Epoch 28/50\n",
      "48000/48000 [==============================] - 0s 4us/sample - loss: 0.2293 - accuracy: 0.9299 - val_loss: 0.1666 - val_accuracy: 0.9513\n",
      "Epoch 29/50\n",
      "48000/48000 [==============================] - 0s 4us/sample - loss: 0.2215 - accuracy: 0.9343 - val_loss: 0.1638 - val_accuracy: 0.9522\n",
      "Epoch 30/50\n",
      "48000/48000 [==============================] - 0s 4us/sample - loss: 0.2203 - accuracy: 0.9333 - val_loss: 0.1624 - val_accuracy: 0.9526\n",
      "Epoch 31/50\n",
      "48000/48000 [==============================] - 0s 4us/sample - loss: 0.2188 - accuracy: 0.9345 - val_loss: 0.1610 - val_accuracy: 0.9532\n",
      "Epoch 32/50\n",
      "48000/48000 [==============================] - 0s 4us/sample - loss: 0.2163 - accuracy: 0.9344 - val_loss: 0.1593 - val_accuracy: 0.9538\n",
      "Epoch 33/50\n",
      "48000/48000 [==============================] - 0s 5us/sample - loss: 0.2135 - accuracy: 0.9364 - val_loss: 0.1579 - val_accuracy: 0.9536\n",
      "Epoch 34/50\n",
      "48000/48000 [==============================] - 0s 4us/sample - loss: 0.2077 - accuracy: 0.9377 - val_loss: 0.1572 - val_accuracy: 0.9529\n",
      "Epoch 35/50\n",
      "48000/48000 [==============================] - 0s 4us/sample - loss: 0.2104 - accuracy: 0.9363 - val_loss: 0.1549 - val_accuracy: 0.9548\n",
      "Epoch 36/50\n",
      "48000/48000 [==============================] - 0s 5us/sample - loss: 0.2052 - accuracy: 0.9383 - val_loss: 0.1536 - val_accuracy: 0.9547\n",
      "Epoch 37/50\n",
      "48000/48000 [==============================] - 0s 4us/sample - loss: 0.2043 - accuracy: 0.9389 - val_loss: 0.1525 - val_accuracy: 0.9547\n",
      "Epoch 38/50\n",
      "48000/48000 [==============================] - 0s 4us/sample - loss: 0.2017 - accuracy: 0.9406 - val_loss: 0.1505 - val_accuracy: 0.9552\n",
      "Epoch 39/50\n",
      "48000/48000 [==============================] - 0s 4us/sample - loss: 0.1992 - accuracy: 0.9390 - val_loss: 0.1490 - val_accuracy: 0.9567\n",
      "Epoch 40/50\n",
      "48000/48000 [==============================] - 0s 4us/sample - loss: 0.1984 - accuracy: 0.9405 - val_loss: 0.1478 - val_accuracy: 0.9563\n",
      "Epoch 41/50\n",
      "48000/48000 [==============================] - 0s 4us/sample - loss: 0.1946 - accuracy: 0.9401 - val_loss: 0.1459 - val_accuracy: 0.9573\n",
      "Epoch 42/50\n",
      "48000/48000 [==============================] - 0s 4us/sample - loss: 0.1946 - accuracy: 0.9408 - val_loss: 0.1451 - val_accuracy: 0.9576\n",
      "Epoch 43/50\n",
      "48000/48000 [==============================] - 0s 4us/sample - loss: 0.1913 - accuracy: 0.9427 - val_loss: 0.1433 - val_accuracy: 0.9572\n",
      "Epoch 44/50\n",
      "48000/48000 [==============================] - 0s 4us/sample - loss: 0.1897 - accuracy: 0.9427 - val_loss: 0.1446 - val_accuracy: 0.9572\n",
      "Epoch 45/50\n",
      "48000/48000 [==============================] - 0s 4us/sample - loss: 0.1899 - accuracy: 0.9415 - val_loss: 0.1427 - val_accuracy: 0.9586\n",
      "Epoch 46/50\n",
      "48000/48000 [==============================] - 0s 4us/sample - loss: 0.1860 - accuracy: 0.9431 - val_loss: 0.1427 - val_accuracy: 0.9574\n",
      "Epoch 47/50\n",
      "48000/48000 [==============================] - 0s 4us/sample - loss: 0.1848 - accuracy: 0.9444 - val_loss: 0.1410 - val_accuracy: 0.9592\n",
      "Epoch 48/50\n",
      "48000/48000 [==============================] - 0s 4us/sample - loss: 0.1833 - accuracy: 0.9443 - val_loss: 0.1409 - val_accuracy: 0.9584\n",
      "Epoch 49/50\n",
      "48000/48000 [==============================] - 0s 4us/sample - loss: 0.1838 - accuracy: 0.9431 - val_loss: 0.1396 - val_accuracy: 0.9585\n",
      "Epoch 50/50\n",
      "48000/48000 [==============================] - 0s 4us/sample - loss: 0.1791 - accuracy: 0.9441 - val_loss: 0.1397 - val_accuracy: 0.9594\n",
      "\n",
      " Evaluate the new model against the test set:\n",
      "10000/10000 [==============================] - 0s 9us/sample - loss: 0.1382 - accuracy: 0.9597\n"
     ]
    },
    {
     "data": {
      "text/plain": [
       "[0.13817038387060165, 0.9597]"
      ]
     },
     "execution_count": 13,
     "metadata": {},
     "output_type": "execute_result"
    },
    {
     "data": {
      "image/png": "[encoded data removed]",
      "text/plain": [
       "<Figure size 432x288 with 1 Axes>"
      ]
     },
     "metadata": {
      "needs_background": "light"
     },
     "output_type": "display_data"
    }
   ],
   "source": [
    "# The following variables are the hyperparameters.\n",
    "learning_rate = 0.003\n",
    "epochs = 50\n",
    "batch_size = 4000\n",
    "validation_split = 0.2\n",
    "\n",
    "# Establish the model's topography.\n",
    "my_model = create_model(learning_rate)\n",
    "\n",
    "# Train the model on the normalized training set.\n",
    "epochs, hist = train_model(my_model, x_train_normalized, y_train, \n",
    "                           epochs, batch_size, validation_split)\n",
    "\n",
    "# Plot a graph of the metric vs. epochs.\n",
    "list_of_metrics_to_plot = ['accuracy']\n",
    "plot_curve(epochs, hist, list_of_metrics_to_plot)\n",
    "\n",
    "# Evaluate against the test set.\n",
    "print(\"\\n Evaluate the new model against the test set:\")\n",
    "my_model.evaluate(x=x_test_normalized, y=y_test, batch_size=batch_size)"
   ]
  },
  {
   "cell_type": "markdown",
   "metadata": {
    "colab_type": "text",
    "id": "Y5IKmk7D49_n"
   },
   "source": [
    "## Task 2: Optimize the model\n",
    "\n",
    "Experiment with the following:\n",
    "\n",
    "* number of hidden layers \n",
    "* number of nodes in each layer\n",
    "* dropout regularization rate\n",
    "\n",
    "What trends did you discover?  Can you reach at least 98% accuracy against the test set? \n",
    "\n",
    "\n"
   ]
  },
  {
   "cell_type": "code",
   "execution_count": 14,
   "metadata": {
    "cellView": "form",
    "colab": {},
    "colab_type": "code",
    "id": "wYG5qXpP5a9n"
   },
   "outputs": [],
   "source": [
    "#@title Double-click to view some possible answers.\n",
    "\n",
    "# It would take much too long to experiment \n",
    "# fully with topography and dropout regularization \n",
    "# rate. In the real world, you would\n",
    "# also experiment with learning rate, batch size, \n",
    "# and number of epochs.  Since you only have a \n",
    "# few minutes, searching for trends can be helpful.\n",
    "# Here is what we discovered:\n",
    "#   * Adding more nodes (at least until 256 nodes) \n",
    "#     to the first hidden layer improved accuracy.\n",
    "#   * Adding a second hidden layer generally \n",
    "#     improved accuracy.\n",
    "#   * When the model contains a lot of nodes, \n",
    "#     the model overfits unless the dropout rate \n",
    "#     is at least 0.5. \n",
    "\n",
    "# We reached 98% test accuracy with the \n",
    "# following configuration:\n",
    "#   * One hidden layer of 256 nodes; no second \n",
    "#      hidden layer.\n",
    "#   * dropout regularization rate of 0.4\n",
    "\n",
    "# We reached 98.2% test accuracy with the \n",
    "# following configuration:\n",
    "#   * First hidden layer of 256 nodes; \n",
    "#     second hidden layer of 128 nodes.\n",
    "#   * dropout regularization rate of 0.2\n"
   ]
  }
 ],
 "metadata": {
  "colab": {
   "collapsed_sections": [],
   "name": "Multi-class classification with MNIST.ipynb",
   "private_outputs": true,
   "provenance": []
  },
  "kernelspec": {
   "display_name": "Python 3",
   "language": "python",
   "name": "python3"
  },
  "language_info": {
   "codemirror_mode": {
    "name": "ipython",
    "version": 3
   },
   "file_extension": ".py",
   "mimetype": "text/x-python",
   "name": "python",
   "nbconvert_exporter": "python",
   "pygments_lexer": "ipython3",
   "version": "3.6.8"
  }
 },
 "nbformat": 4,
 "nbformat_minor": 1
}
