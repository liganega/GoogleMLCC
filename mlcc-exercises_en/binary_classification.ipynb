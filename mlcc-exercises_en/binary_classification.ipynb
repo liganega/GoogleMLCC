{
 "cells": [
  {
   "cell_type": "code",
   "execution_count": 1,
   "metadata": {
    "cellView": "form",
    "colab": {},
    "colab_type": "code",
    "id": "wDlWLbfkJtvu"
   },
   "outputs": [],
   "source": [
    "#@title Copyright 2020 Google LLC. Double-click here for license information.\n",
    "# Licensed under the Apache License, Version 2.0 (the \"License\");\n",
    "# you may not use this file except in compliance with the License.\n",
    "# You may obtain a copy of the License at\n",
    "#\n",
    "# https://www.apache.org/licenses/LICENSE-2.0\n",
    "#\n",
    "# Unless required by applicable law or agreed to in writing, software\n",
    "# distributed under the License is distributed on an \"AS IS\" BASIS,\n",
    "# WITHOUT WARRANTIES OR CONDITIONS OF ANY KIND, either express or implied.\n",
    "# See the License for the specific language governing permissions and\n",
    "# limitations under the License."
   ]
  },
  {
   "cell_type": "markdown",
   "metadata": {
    "colab_type": "text",
    "id": "TL5y5fY9Jy_x"
   },
   "source": [
    "# Binary Classification\n",
    "\n",
    "So far, you've only created regression models. That is, you created models that produced floating-point predictions, such as, \"houses in this neighborhood costs N thousand dollars.\" In this Colab, you'll create and evaluate a binary [classification model](https://developers.google.com/machine-learning/glossary/#classification_model).  That is, you'll create a model that answers a binary question. In this exercise, the binary question will be, \"Are houses in this neighborhood above a certain price?\"\n",
    "\n",
    "\n",
    "\n"
   ]
  },
  {
   "cell_type": "markdown",
   "metadata": {
    "colab_type": "text",
    "id": "yuw8rRl9lNuL"
   },
   "source": [
    "## Learning Objectives:\n",
    "\n",
    "After doing this Colab, you'll know how to:\n",
    "\n",
    "  * Convert a regression question into a classification question.\n",
    "  * Modify the classification threshold and determine how that modification influences the model.\n",
    "  * Experiment with different classification metrics to determine your model's effectiveness."
   ]
  },
  {
   "cell_type": "markdown",
   "metadata": {
    "colab_type": "text",
    "id": "44OdC-OglN9D"
   },
   "source": [
    "## The Dataset\n",
    "  \n",
    "Like several of the previous Colabs, this Colab uses the [California Housing Dataset](https://developers.google.com/machine-learning/crash-course/california-housing-data-description)."
   ]
  },
  {
   "cell_type": "markdown",
   "metadata": {
    "colab_type": "text",
    "id": "xchnxAsaKKqO"
   },
   "source": [
    "## Use the right version of TensorFlow\n",
    "\n"
   ]
  },
  {
   "cell_type": "markdown",
   "metadata": {
    "colab_type": "text",
    "id": "BDWhxaj2OMSv"
   },
   "source": [
    "The following hidden code cell ensures that the Colab will run on TensorFlow 2.X."
   ]
  },
  {
   "cell_type": "code",
   "execution_count": 2,
   "metadata": {
    "cellView": "form",
    "colab": {},
    "colab_type": "code",
    "id": "qBpGi_GD14-p"
   },
   "outputs": [],
   "source": [
    "#@title Run on TensorFlow 2.x\n",
    "#%tensorflow_version 2.x"
   ]
  },
  {
   "cell_type": "markdown",
   "metadata": {
    "colab_type": "text",
    "id": "5iuw6-JOGf7I"
   },
   "source": [
    "## Call the import statements\n",
    "\n",
    "The following code imports the necessary modules."
   ]
  },
  {
   "cell_type": "code",
   "execution_count": 3,
   "metadata": {
    "cellView": "form",
    "colab": {},
    "colab_type": "code",
    "id": "9n9_cTveKmse"
   },
   "outputs": [
    {
     "name": "stdout",
     "output_type": "stream",
     "text": [
      "Ran the import statements.\n"
     ]
    }
   ],
   "source": [
    "#@title Load the imports\n",
    "\n",
    "# from __future__ import absolute_import, division, print_function, unicode_literals\n",
    "\n",
    "import numpy as np\n",
    "import pandas as pd\n",
    "import tensorflow as tf\n",
    "from tensorflow import feature_column\n",
    "from tensorflow.keras import layers\n",
    "from matplotlib import pyplot as plt\n",
    "\n",
    "# The following lines adjust the granularity of reporting.\n",
    "pd.options.display.max_rows = 10\n",
    "pd.options.display.float_format = \"{:.1f}\".format\n",
    "# tf.keras.backend.set_floatx('float32')\n",
    "\n",
    "print(\"Ran the import statements.\")"
   ]
  },
  {
   "cell_type": "markdown",
   "metadata": {
    "colab_type": "text",
    "id": "X_TaJhU4KcuY"
   },
   "source": [
    "## Load the datasets from the internet\n",
    "\n",
    "The following code cell loads the separate .csv files and creates the following two pandas DataFrames:\n",
    "\n",
    "* `train_df`, which contains the training set\n",
    "* `test_df`, which contains the test set"
   ]
  },
  {
   "cell_type": "code",
   "execution_count": 4,
   "metadata": {
    "colab": {},
    "colab_type": "code",
    "id": "JZlvdpyYKx7V"
   },
   "outputs": [],
   "source": [
    "train_df = pd.read_csv(\"https://download.mlcc.google.com/mledu-datasets/california_housing_train.csv\")\n",
    "test_df = pd.read_csv(\"https://download.mlcc.google.com/mledu-datasets/california_housing_test.csv\")\n",
    "train_df = train_df.reindex(np.random.permutation(train_df.index)) # shuffle the training set"
   ]
  },
  {
   "cell_type": "markdown",
   "metadata": {
    "colab_type": "text",
    "id": "q_vuAQq0Cvrp"
   },
   "source": [
    "Unlike some of the previous Colabs, the preceding code cell did not scale the label (`median_house_value`).  The following section (\"Normalize values\") provides an alternative approach."
   ]
  },
  {
   "cell_type": "markdown",
   "metadata": {
    "colab_type": "text",
    "id": "_G6y-XcEmk6r"
   },
   "source": [
    "## Normalize values\n",
    "\n",
    "When creating a model with multiple features, the values of each feature should cover roughly the same range.  For example, if one feature's range spans 500 to 100,000 and another feature's range spans 2 to 12, then the model will be difficult or impossible to train. Therefore, you should \n",
    "[normalize](https://developers.google.com/machine-learning/glossary/#normalization) features in a multi-feature model. \n",
    "\n",
    "The following code cell normalizes datasets by converting each raw value (including the label) to its Z-score. A **Z-score** is the number of standard deviations from the mean for a particular raw value. For example, consider a feature having the following characteristics:\n",
    "\n",
    "  * The mean is 60.\n",
    "  * The standard deviation is 10.\n",
    "\n",
    "The raw value 75 would have a Z-score of +1.5:\n",
    "\n",
    "```\n",
    "  Z-score = (75 - 60) / 10 = +1.5\n",
    "```\n",
    "\n",
    "The raw value 38 would have a Z-score of -2.2:\n",
    "\n",
    "```\n",
    "  Z-score = (38 - 60) / 10 = -2.2\n",
    "```"
   ]
  },
  {
   "cell_type": "code",
   "execution_count": 5,
   "metadata": {
    "colab": {},
    "colab_type": "code",
    "id": "n7nuAHoZIgVI"
   },
   "outputs": [
    {
     "data": {
      "text/html": [
       "<div>\n",
       "<style scoped>\n",
       "    .dataframe tbody tr th:only-of-type {\n",
       "        vertical-align: middle;\n",
       "    }\n",
       "\n",
       "    .dataframe tbody tr th {\n",
       "        vertical-align: top;\n",
       "    }\n",
       "\n",
       "    .dataframe thead th {\n",
       "        text-align: right;\n",
       "    }\n",
       "</style>\n",
       "<table border=\"1\" class=\"dataframe\">\n",
       "  <thead>\n",
       "    <tr style=\"text-align: right;\">\n",
       "      <th></th>\n",
       "      <th>longitude</th>\n",
       "      <th>latitude</th>\n",
       "      <th>housing_median_age</th>\n",
       "      <th>total_rooms</th>\n",
       "      <th>total_bedrooms</th>\n",
       "      <th>population</th>\n",
       "      <th>households</th>\n",
       "      <th>median_income</th>\n",
       "      <th>median_house_value</th>\n",
       "    </tr>\n",
       "  </thead>\n",
       "  <tbody>\n",
       "    <tr>\n",
       "      <th>16731</th>\n",
       "      <td>-1.7</td>\n",
       "      <td>1.3</td>\n",
       "      <td>-0.7</td>\n",
       "      <td>0.3</td>\n",
       "      <td>0.2</td>\n",
       "      <td>0.2</td>\n",
       "      <td>0.2</td>\n",
       "      <td>0.6</td>\n",
       "      <td>0.6</td>\n",
       "    </tr>\n",
       "    <tr>\n",
       "      <th>14252</th>\n",
       "      <td>-1.3</td>\n",
       "      <td>0.7</td>\n",
       "      <td>0.5</td>\n",
       "      <td>-0.5</td>\n",
       "      <td>-0.6</td>\n",
       "      <td>-0.6</td>\n",
       "      <td>-0.6</td>\n",
       "      <td>0.3</td>\n",
       "      <td>-0.0</td>\n",
       "    </tr>\n",
       "    <tr>\n",
       "      <th>3474</th>\n",
       "      <td>0.8</td>\n",
       "      <td>-0.7</td>\n",
       "      <td>-0.3</td>\n",
       "      <td>0.2</td>\n",
       "      <td>0.8</td>\n",
       "      <td>1.3</td>\n",
       "      <td>0.7</td>\n",
       "      <td>-0.6</td>\n",
       "      <td>-0.8</td>\n",
       "    </tr>\n",
       "    <tr>\n",
       "      <th>15312</th>\n",
       "      <td>-1.4</td>\n",
       "      <td>1.0</td>\n",
       "      <td>-0.7</td>\n",
       "      <td>-0.7</td>\n",
       "      <td>-0.4</td>\n",
       "      <td>-0.7</td>\n",
       "      <td>-0.5</td>\n",
       "      <td>-0.4</td>\n",
       "      <td>-0.9</td>\n",
       "    </tr>\n",
       "    <tr>\n",
       "      <th>8577</th>\n",
       "      <td>0.5</td>\n",
       "      <td>-0.5</td>\n",
       "      <td>-1.9</td>\n",
       "      <td>5.8</td>\n",
       "      <td>4.7</td>\n",
       "      <td>5.1</td>\n",
       "      <td>4.7</td>\n",
       "      <td>1.2</td>\n",
       "      <td>0.2</td>\n",
       "    </tr>\n",
       "  </tbody>\n",
       "</table>\n",
       "</div>"
      ],
      "text/plain": [
       "       longitude  latitude  housing_median_age  total_rooms  total_bedrooms  \\\n",
       "16731       -1.7       1.3                -0.7          0.3             0.2   \n",
       "14252       -1.3       0.7                 0.5         -0.5            -0.6   \n",
       "3474         0.8      -0.7                -0.3          0.2             0.8   \n",
       "15312       -1.4       1.0                -0.7         -0.7            -0.4   \n",
       "8577         0.5      -0.5                -1.9          5.8             4.7   \n",
       "\n",
       "       population  households  median_income  median_house_value  \n",
       "16731         0.2         0.2            0.6                 0.6  \n",
       "14252        -0.6        -0.6            0.3                -0.0  \n",
       "3474          1.3         0.7           -0.6                -0.8  \n",
       "15312        -0.7        -0.5           -0.4                -0.9  \n",
       "8577          5.1         4.7            1.2                 0.2  "
      ]
     },
     "execution_count": 5,
     "metadata": {},
     "output_type": "execute_result"
    }
   ],
   "source": [
    "# Calculate the Z-scores of each column in the training set and\n",
    "# write those Z-scores into a new pandas DataFrame named train_df_norm.\n",
    "train_df_mean = train_df.mean()\n",
    "train_df_std = train_df.std()\n",
    "train_df_norm = (train_df - train_df_mean)/train_df_std\n",
    "\n",
    "# Examine some of the values of the normalized training set. Notice that most \n",
    "# Z-scores fall between -2 and +2.\n",
    "train_df_norm.head()"
   ]
  },
  {
   "cell_type": "code",
   "execution_count": 6,
   "metadata": {
    "colab": {},
    "colab_type": "code",
    "id": "QoW-59jVFF2I"
   },
   "outputs": [],
   "source": [
    "# Calculate the Z-scores of each column in the test set and\n",
    "# write those Z-scores into a new pandas DataFrame named test_df_norm.\n",
    "test_df_mean = test_df.mean()\n",
    "test_df_std  = test_df.std()\n",
    "test_df_norm = (test_df - test_df_mean)/test_df_std"
   ]
  },
  {
   "cell_type": "markdown",
   "metadata": {
    "colab_type": "text",
    "id": "-swmXtWnZGis"
   },
   "source": [
    "## Task 1: Create a binary label\n",
    "\n",
    "In classification problems, the label for every example must be either 0 or 1. Unfortunately, the natural label in the California Housing Dataset, `median_house_value`, contains floating-point values like 80,100 or 85,700 rather than 0s and 1s, while the normalized version of `median_house_values` contains floating-point values primarily between -3 and +3.\n",
    "\n",
    "Your task is to create a new column named `median_house_value_is_high` in both the training set and the test set . If the `median_house_value` is higher than a certain arbitrary value (defined by `threshold`), then set `median_house_value_is_high` to 1. Otherwise, set `median_house_value_is_high` to 0. \n",
    "\n",
    "**Hint:** The cells in the `median_house_value_is_high` column must each hold `1` and `0`, not `True` and `False`. To convert `True` and `False` to  `1` and `0`, call the pandas DataFrame function `astype(float)`. "
   ]
  },
  {
   "cell_type": "code",
   "execution_count": 7,
   "metadata": {
    "colab": {},
    "colab_type": "code",
    "id": "d4kWfWA8bhKW"
   },
   "outputs": [
    {
     "ename": "SyntaxError",
     "evalue": "invalid syntax (<ipython-input-7-afeaff77b855>, line 2)",
     "output_type": "error",
     "traceback": [
      "\u001b[0;36m  File \u001b[0;32m\"<ipython-input-7-afeaff77b855>\"\u001b[0;36m, line \u001b[0;32m2\u001b[0m\n\u001b[0;31m    train_df_norm[\"median_house_value_is_high\"] = ? Your code here\u001b[0m\n\u001b[0m                                                  ^\u001b[0m\n\u001b[0;31mSyntaxError\u001b[0m\u001b[0;31m:\u001b[0m invalid syntax\n"
     ]
    }
   ],
   "source": [
    "threshold = 265000 # This is the 75th percentile for median house values.\n",
    "train_df_norm[\"median_house_value_is_high\"] = ? Your code here\n",
    "test_df_norm[\"median_house_value_is_high\"] = ? Your code here\n",
    "\n",
    "# Print out a few example cells from the beginning and \n",
    "# middle of the training set, just to make sure that\n",
    "# your code created only 0s and 1s in the newly created\n",
    "# median_house_value_is_high column\n",
    "train_df_norm[\"median_house_value_is_high\"].head(8000)"
   ]
  },
  {
   "cell_type": "code",
   "execution_count": 8,
   "metadata": {
    "cellView": "form",
    "colab": {},
    "colab_type": "code",
    "id": "b8b2fNmHO-iU"
   },
   "outputs": [
    {
     "data": {
      "text/plain": [
       "16731   1.0\n",
       "14252   0.0\n",
       "3474    0.0\n",
       "15312   0.0\n",
       "8577    0.0\n",
       "         ..\n",
       "13746   1.0\n",
       "11833   0.0\n",
       "769     0.0\n",
       "11686   0.0\n",
       "10550   1.0\n",
       "Name: median_house_value_is_high, Length: 8000, dtype: float64"
      ]
     },
     "execution_count": 8,
     "metadata": {},
     "output_type": "execute_result"
    }
   ],
   "source": [
    "#@title Double-click for possible solutions.\n",
    "\n",
    "# We arbitrarily set the threshold to 265,000, which is \n",
    "# the 75th percentile for median house values.  Every neighborhood\n",
    "# with a median house price above 265,000 will be labeled 1, \n",
    "# and all other neighborhoods will be labeled 0.\n",
    "threshold = 265000\n",
    "train_df_norm[\"median_house_value_is_high\"] = (train_df[\"median_house_value\"] > threshold).astype(float)\n",
    "test_df_norm[\"median_house_value_is_high\"] = (test_df[\"median_house_value\"] > threshold).astype(float) \n",
    "train_df_norm[\"median_house_value_is_high\"].head(8000)\n",
    "\n",
    "\n",
    "# Alternatively, instead of picking the threshold\n",
    "# based on raw house values, you can work with Z-scores.\n",
    "# For example, the following possible solution uses a Z-score\n",
    "# of +1.0 as the threshold, meaning that no more\n",
    "# than 16% of the values in median_house_value_is_high\n",
    "# will be labeled 1.\n",
    "\n",
    "# threshold_in_Z = 1.0 \n",
    "# train_df_norm[\"median_house_value_is_high\"] = (train_df_norm[\"median_house_value\"] > threshold_in_Z).astype(float)\n",
    "# test_df_norm[\"median_house_value_is_high\"] = (test_df_norm[\"median_house_value\"] > threshold_in_Z).astype(float) \n"
   ]
  },
  {
   "cell_type": "markdown",
   "metadata": {
    "colab_type": "text",
    "id": "8kir8UTUXSV8"
   },
   "source": [
    "## Represent features in feature columns\n",
    "\n",
    "This code cell specifies the features that you'll ultimately train the model on and how each of those features will be represented. The transformations (collected in `feature_layer`) don't actually get applied until you pass a DataFrame to it, which will happen when we train the model. "
   ]
  },
  {
   "cell_type": "code",
   "execution_count": 9,
   "metadata": {
    "colab": {},
    "colab_type": "code",
    "id": "3tmmZIDw4JEC"
   },
   "outputs": [
    {
     "data": {
      "text/plain": [
       "<tf.Tensor: id=26, shape=(17000, 2), dtype=float32, numpy=\n",
       "array([[ 0.61516017,  0.34878626],\n",
       "       [ 0.28374082, -0.50582165],\n",
       "       [-0.64024   ,  0.19832389],\n",
       "       ...,\n",
       "       [-0.91128695, -0.6305953 ],\n",
       "       [-0.81768876,  0.43640307],\n",
       "       [ 0.5850788 , -0.03287438]], dtype=float32)>"
      ]
     },
     "execution_count": 9,
     "metadata": {},
     "output_type": "execute_result"
    }
   ],
   "source": [
    "# Create an empty list that will eventually hold all created feature columns.\n",
    "feature_columns = []\n",
    "\n",
    "# Create a numerical feature column to represent median_income.\n",
    "median_income = tf.feature_column.numeric_column(\"median_income\")\n",
    "feature_columns.append(median_income)\n",
    "\n",
    "# Create a numerical feature column to represent total_rooms.\n",
    "tr = tf.feature_column.numeric_column(\"total_rooms\")\n",
    "feature_columns.append(tr)\n",
    "\n",
    "# Convert the list of feature columns into a layer that will later be fed into\n",
    "# the model. \n",
    "feature_layer = layers.DenseFeatures(feature_columns)\n",
    "\n",
    "# Print the first 3 and last 3 rows of the feature_layer's output when applied\n",
    "# to train_df_norm:\n",
    "feature_layer(dict(train_df_norm))"
   ]
  },
  {
   "cell_type": "markdown",
   "metadata": {
    "colab_type": "text",
    "id": "3014ezH3C7jT"
   },
   "source": [
    "## Define functions that build and train a model\n",
    "\n",
    "The following code cell defines two functions:\n",
    "\n",
    "  * `create_model(my_learning_rate, feature_layer, my_metrics)`, which defines the model's\n",
    "    topography.\n",
    "  * `train_model(model, dataset, epochs, label_name, batch_size, shuffle)`, uses input features and labels to train the model.\n",
    "\n",
    "Prior exercises used [ReLU](https://developers.google.com/machine-learning/glossary#ReLU) as the [activation function](https://developers.google.com/machine-learning/glossary#activation_function). By contrast, this exercise uses [sigmoid](https://developers.google.com/machine-learning/glossary#sigmoid_function) as the activation function. "
   ]
  },
  {
   "cell_type": "code",
   "execution_count": 10,
   "metadata": {
    "cellView": "form",
    "colab": {},
    "colab_type": "code",
    "id": "pedD5GhlDC-y"
   },
   "outputs": [
    {
     "name": "stdout",
     "output_type": "stream",
     "text": [
      "Defined the create_model and train_model functions.\n"
     ]
    }
   ],
   "source": [
    "#@title Define the functions that create and train a model.\n",
    "def create_model(my_learning_rate, feature_layer, my_metrics):\n",
    "  \"\"\"Create and compile a simple classification model.\"\"\"\n",
    "  # Most simple tf.keras models are sequential.\n",
    "  model = tf.keras.models.Sequential()\n",
    "\n",
    "  # Add the feature layer (the list of features and how they are represented)\n",
    "  # to the model.\n",
    "  model.add(feature_layer)\n",
    "\n",
    "  # Funnel the regression value through a sigmoid function.\n",
    "  model.add(tf.keras.layers.Dense(units=1, input_shape=(1,),\n",
    "                                  activation=tf.sigmoid),)\n",
    "\n",
    "  # Call the compile method to construct the layers into a model that\n",
    "  # TensorFlow can execute.  Notice that we're using a different loss\n",
    "  # function for classification than for regression.    \n",
    "  model.compile(optimizer=tf.keras.optimizers.RMSprop(lr=my_learning_rate),                                                   \n",
    "                loss=tf.keras.losses.BinaryCrossentropy(),\n",
    "                metrics=my_metrics)\n",
    "\n",
    "  return model        \n",
    "\n",
    "\n",
    "def train_model(model, dataset, epochs, label_name,\n",
    "                batch_size=None, shuffle=True):\n",
    "  \"\"\"Feed a dataset into the model in order to train it.\"\"\"\n",
    "\n",
    "  # The x parameter of tf.keras.Model.fit can be a list of arrays, where\n",
    "  # each array contains the data for one feature.  Here, we're passing\n",
    "  # every column in the dataset. Note that the feature_layer will filter\n",
    "  # away most of those columns, leaving only the desired columns and their\n",
    "  # representations as features.\n",
    "  features = {name:np.array(value) for name, value in dataset.items()}\n",
    "  label = np.array(features.pop(label_name)) \n",
    "  history = model.fit(x=features, y=label, batch_size=batch_size,\n",
    "                      epochs=epochs, shuffle=shuffle)\n",
    "  \n",
    "  # The list of epochs is stored separately from the rest of history.\n",
    "  epochs = history.epoch\n",
    "\n",
    "  # Isolate the classification metric for each epoch.\n",
    "  hist = pd.DataFrame(history.history)\n",
    "\n",
    "  return epochs, hist  \n",
    "\n",
    "print(\"Defined the create_model and train_model functions.\")   "
   ]
  },
  {
   "cell_type": "markdown",
   "metadata": {
    "colab_type": "text",
    "id": "Ak_TMAzGOIFq"
   },
   "source": [
    "## Define a plotting function\n",
    "\n",
    "The following [matplotlib](https://developers.google.com/machine-learning/glossary/#matplotlib) function plots one or more curves, showing how various classification metrics change with each epoch."
   ]
  },
  {
   "cell_type": "code",
   "execution_count": 11,
   "metadata": {
    "cellView": "form",
    "colab": {},
    "colab_type": "code",
    "id": "QF0BFRXTOeR3"
   },
   "outputs": [
    {
     "name": "stdout",
     "output_type": "stream",
     "text": [
      "Defined the plot_curve function.\n"
     ]
    }
   ],
   "source": [
    "#@title Define the plotting function.\n",
    "def plot_curve(epochs, hist, list_of_metrics):\n",
    "  \"\"\"Plot a curve of one or more classification metrics vs. epoch.\"\"\"  \n",
    "  # list_of_metrics should be one of the names shown in:\n",
    "  # https://www.tensorflow.org/tutorials/structured_data/imbalanced_data#define_the_model_and_metrics  \n",
    "\n",
    "  plt.figure()\n",
    "  plt.xlabel(\"Epoch\")\n",
    "  plt.ylabel(\"Value\")\n",
    "\n",
    "  for m in list_of_metrics:\n",
    "    x = hist[m]\n",
    "    plt.plot(epochs[1:], x[1:], label=m)\n",
    "\n",
    "  plt.legend()\n",
    "\n",
    "print(\"Defined the plot_curve function.\")"
   ]
  },
  {
   "cell_type": "markdown",
   "metadata": {
    "colab_type": "text",
    "id": "D-IXYVfvM4gD"
   },
   "source": [
    "## Invoke the creating, training, and plotting functions\n",
    "\n",
    "The following code cell calls specify the hyperparameters, and then invokes the \n",
    "functions to create and train the model, and then to plot the results."
   ]
  },
  {
   "cell_type": "code",
   "execution_count": 12,
   "metadata": {
    "cellView": "both",
    "colab": {},
    "colab_type": "code",
    "id": "nj3v5EKQFY8s"
   },
   "outputs": [
    {
     "name": "stdout",
     "output_type": "stream",
     "text": [
      "Train on 17000 samples\n",
      "Epoch 1/20\n",
      "17000/17000 [==============================] - 1s 44us/sample - loss: 0.7319 - accuracy: 0.2242\n",
      "Epoch 2/20\n",
      "17000/17000 [==============================] - 0s 17us/sample - loss: 0.6461 - accuracy: 0.2482\n",
      "Epoch 3/20\n",
      "17000/17000 [==============================] - 0s 17us/sample - loss: 0.5800 - accuracy: 0.3598\n",
      "Epoch 4/20\n",
      "17000/17000 [==============================] - 0s 17us/sample - loss: 0.5286 - accuracy: 0.6761\n",
      "Epoch 5/20\n",
      "17000/17000 [==============================] - 0s 17us/sample - loss: 0.4893 - accuracy: 0.7652\n",
      "Epoch 6/20\n",
      "17000/17000 [==============================] - 0s 17us/sample - loss: 0.4600 - accuracy: 0.7946\n",
      "Epoch 7/20\n",
      "17000/17000 [==============================] - 0s 19us/sample - loss: 0.4388 - accuracy: 0.8059\n",
      "Epoch 8/20\n",
      "17000/17000 [==============================] - 0s 17us/sample - loss: 0.4241 - accuracy: 0.8112\n",
      "Epoch 9/20\n",
      "17000/17000 [==============================] - 0s 17us/sample - loss: 0.4134 - accuracy: 0.8128\n",
      "Epoch 10/20\n",
      "17000/17000 [==============================] - 0s 17us/sample - loss: 0.4067 - accuracy: 0.8109\n",
      "Epoch 11/20\n",
      "17000/17000 [==============================] - 0s 16us/sample - loss: 0.4022 - accuracy: 0.8107\n",
      "Epoch 12/20\n",
      "17000/17000 [==============================] - 0s 20us/sample - loss: 0.3996 - accuracy: 0.8089\n",
      "Epoch 13/20\n",
      "17000/17000 [==============================] - 0s 19us/sample - loss: 0.3982 - accuracy: 0.8092\n",
      "Epoch 14/20\n",
      "17000/17000 [==============================] - 0s 19us/sample - loss: 0.3974 - accuracy: 0.8092\n",
      "Epoch 15/20\n",
      "17000/17000 [==============================] - 0s 17us/sample - loss: 0.3970 - accuracy: 0.8093\n",
      "Epoch 16/20\n",
      "17000/17000 [==============================] - 0s 16us/sample - loss: 0.3968 - accuracy: 0.8090\n",
      "Epoch 17/20\n",
      "17000/17000 [==============================] - 0s 18us/sample - loss: 0.3967 - accuracy: 0.8088\n",
      "Epoch 18/20\n",
      "17000/17000 [==============================] - 0s 17us/sample - loss: 0.3967 - accuracy: 0.8099\n",
      "Epoch 19/20\n",
      "17000/17000 [==============================] - 0s 17us/sample - loss: 0.3966 - accuracy: 0.8093\n",
      "Epoch 20/20\n",
      "17000/17000 [==============================] - 0s 17us/sample - loss: 0.3966 - accuracy: 0.8094\n"
     ]
    },
    {
     "data": {
      "image/png": "[encoded data removed]",
      "text/plain": [
       "<Figure size 432x288 with 1 Axes>"
      ]
     },
     "metadata": {
      "needs_background": "light"
     },
     "output_type": "display_data"
    }
   ],
   "source": [
    "# The following variables are the hyperparameters.\n",
    "learning_rate = 0.001\n",
    "epochs = 20\n",
    "batch_size = 100\n",
    "label_name = \"median_house_value_is_high\"\n",
    "classification_threshold = 0.35\n",
    "\n",
    "# Establish the metrics the model will measure.\n",
    "METRICS = [\n",
    "           tf.keras.metrics.BinaryAccuracy(name='accuracy', \n",
    "                                           threshold=classification_threshold),\n",
    "          ]\n",
    "\n",
    "# Establish the model's topography.\n",
    "my_model = create_model(learning_rate, feature_layer, METRICS)\n",
    "\n",
    "# Train the model on the training set.\n",
    "epochs, hist = train_model(my_model, train_df_norm, epochs, \n",
    "                           label_name, batch_size)\n",
    "\n",
    "# Plot a graph of the metric(s) vs. epochs.\n",
    "list_of_metrics_to_plot = ['accuracy'] \n",
    "\n",
    "plot_curve(epochs, hist, list_of_metrics_to_plot)"
   ]
  },
  {
   "cell_type": "markdown",
   "metadata": {
    "colab_type": "text",
    "id": "FF64TpqkbOpn"
   },
   "source": [
    "Accuracy should gradually improve during training (until it can \n",
    "improve no more)."
   ]
  },
  {
   "cell_type": "markdown",
   "metadata": {
    "colab_type": "text",
    "id": "1xNqWWos_zyk"
   },
   "source": [
    "## Evaluate the model against the test set\n",
    "\n",
    "At the end of model training, you ended up with a certain accuracy against the *training set*. Invoke the following code cell to determine your model's accuracy against the *test set*."
   ]
  },
  {
   "cell_type": "code",
   "execution_count": 13,
   "metadata": {
    "colab": {},
    "colab_type": "code",
    "id": "eJorkMlDmtHf"
   },
   "outputs": [
    {
     "name": "stdout",
     "output_type": "stream",
     "text": [
      "\r",
      "3000/1 [================================================================================================================================================================================================================================================================================================================================================================================================================================================================================================================================================================================================================================================================================================================================================================================================================================================================================================================================================================================================================================================================================================================================================================================================================================================================================================================================================================================================================================================================================================================================================================================================================================================================================================================================================================================================================================================================================================================================================================================================================================================================================================================================================================================================================================================================================================================================================================================================================================================================================================================================================================================================================================================================================================================================================================================================================================================================================================================================================================================================================================================================================================================================================================================================================================================================================================================================================================================================================================================================================================================================================================================================================================================================================================================================================================================================================================================================================================================================================================================================================================================================================================================================================================================================================================================================================================================================================================================================================================================================================================================================================================================================================================================================================================================================================================================================================================================================================================================================================================================================================================================================================================================================================================================================================================================================================================================================================================================================================================================================================================================================================================================================================================================================================================================================================================================================================================================================================================================================================================================================================================================================================================================================================================================================================================================================================================================================================================================================================================================================================================================================================================================================================================================================================================================================================================================================================================================================================================================================================================================================================================================================================================================================================================================================================================================================================================================================================================================================================================================================================================================================================================================================================================================================================================================================================================================================================================================================================================================================================================================================================================================================================================================================================================================================================================================================================================================================================================================================================================================================================================================================================================================================================================================================================================================================================================================================================================================================================================================================================================================================================================================================================================================================================================================================================================================================================================================================================================================================================================================================================================================================================================================================================================================================================================================================================================================================================================================================================================================================================================================================================================================================================================================================================================================================================================================================================================================================================================================================================================================================================================================================================================================================================================================================================================================================================================================================================================================================================================================================================================================================================================================================================================================================================================================================================================================================================================================================================================================================================================================================================================================================================================================================================================================================================================================================================================================================================================================================================================================================================================================================================================================================================================================================================================================================================================================================================================================================================================================================================================================================================================================================================================================================================================================================================================================================================================================================================================================================================================================================================================================================================================================================================================================================================================================================================================================================================================================================================================================================================================================================================================================================================================================================================================================================================================================================================================================================================================================================================================================================================================================================================================================================================================================================================================================================================================================================================================================================================================================================================================================================================================================================================================================================================================================================================================================================================================================================================================================================================================================================================================================================================================================================================================================================================================================================================================================================================================================================================================================================================================================================================================================================================================================================================================================================================================================================================================================================================================================================================================================================================================================================================================================================================================================================================================================================================================================================================================================================================================================================================================================================================================================================================================================================================================================================================================================================================================================================================================================================================================================================================================================================================================================================================================================================================================================================================================================================================================================================================================================================================================================================================================================================================================================================================================================================================================================================================================================================================================================================================================================================================================================================================================================================================================================================================================================================================================================================================================================================================================================================================================================================================================================================================================================================================================================================================================================================================================================================================================================================================================================================================================================================================================================================================================================================================================================================================================================================================================================================================================================================================================================================================================================================================================================================================================================================================================================================================================================================================================================================================================================================================================================================================================================================================================================================================================================================================================================================================================================================================================================================================================================================================================================================================================================================================================================================================================================================================================================================================================================================================================================================================================================================================================================================================================================================================================================================================================================================================================================================================================================================================================================================================================================================================================================================================================================================================================================================================================================================================================================================================================================================================================================================================================================================================================================================================================================================================================================================================================================================================================================================================================================================================================================================================================================================================================================================================================================================================================================================================================================================================================================================================================================================================================================================================================================================================================================================================================================================================================================================================================================================================================================================================================================================================================================================================================================================================================================================================================================================================================================================================================================================================================================================================================================================================================================================================================================================================================================================================================================================================================================================================================================================================================================================================================================================================================================================================================================================================================================================================================================================================================================================================================================================================================================================================================================================================================================================================================================================================================================================================================================================================================================================================================================================================================================================================================================================================================================================================================================================================================================================================================================================================================================================================================================================================================================================================================================================================================================================================================================================================================================================================================================================================================================================================================================================================================================================================================================================================================================================================================================================================================================================================================================================================================================================================================================================================================================================================================================================================================================================================================================================================================================================================================================================================================================================================================================================================================================================================================================================================================================================================================================================================================================================================================================================================================================================================================================================================================================================================================================================================================================================================================================================================================================================================================================================================================================================================================================================================================================================================================================================================================================================================================================================================================================================================================================================================================================================================================================================================================================================================================================================================================================================================================================================================================================================================================================================================================================================================================================================================================================================================================================================================================================================================================================================================================================================================================================================================================================================================================================================================================================================================================================================================================================================================================================================================================================================================================================================================================================================================================================================================================================================================================================================================================================================================================================================================================================================================================================================================================================================================================================================================================================================================================================================================================================================================================================================================================================================================================================================================================================================================================================================================================================================================================================================================================================================================================================================================================================================================================================================================================================================================================================================================================================================================================================================================================================================================================================================================================================================================================================================================================================================================================================================================================================================================================================================================================================================================================================================================================================================================================================================================================================================================================================================================================================================================================================================================================================================================================================================================================================================================================================================================================================================================================================================================================================================================================================================================================================================================================================================================================================================================================================================================================================================================================================================================================================================================================================================================================================================================================================================================================================================================================================================================================================================================================================================================================================================================================================================================================================================================================================================================================================================================================================================================================================================================================================================================================================================================================================================================================================================================================================================================================================================================================================================================================================================================================================================================================================================================================================================================================================================================================================================================================================================================================================================================================================================================================================================================================================================================================================================================================================================================================================================================================================================================================================================================================================================================================================================================================================================================================================================================================================================================================================================================================================================================================================================================================================================================================================================================================================================================================================================================================================================================================================================================================================================================================================================================================================================================================================================================================================================================================================================================================================================================================================================================================================================================================================================================================================================================================================================================================================================================================================================================================================================================================================================================================================================================================================================================================================================================================================================================================================================================================================================================================================================================================================================================================================================================================================================================================================================================================================================================================================================================================================================================================================================================================================================================================================================================================================================================================================================================================================================================================================================================================================================================================================================================================================================================================================================================================================================================================================================================================================================================================================================================================================================================================================================================================================================================================================================================================================================================================================================================================================================================================================================================================================================================================================================================================================================================================================================================================================================================================================================================================================================================================================================================================================================================================================================================================================================================================================================================================================================================================================================================================================================================================================================================================================================================================================================================================================================================================================================================================================================================================================================================================================================================================================================================================================================================================================================================================================================================================================================================================================================================================================================================================================================================================================================================================================================================================================================================================================================================================================================================================================================================================================================================================================================================================================================================================================================================================================================================================================================================================================================================================================================================================================================================================================================================================================================================================================================================================================================================================================================================================================================================================================================================================================================================================================================================================================================================================================================================================================================================================================================================================================================================================================================================================================================================================================================================================================================================================================================================================================================================================================================================================================================================================================================================================================================================================================================================================================================================================================================================================================================================================================================================================================================================================================================================================================================================================================================================================================================================================================================================================================================================================================================================================================================================================================================================================================================================================================================================================================================================================================================================================================================================================================================================================================================================================================================================================================================================================================================================================================================================================================================================================================================================================================================================================================================================================================================================================================================================================================================================================================================================================================================================================================================================================================================================================================================================================================================================================================================================================================================================================================================================================================================================================================================================================================================================================================================================================================================================================================================================================================================================================================================================================================================================================================================================================================================================================================================================================================================================================================================================================================================================================================================================================================================================================================================================================================================================================================================================================================================================================================================================================================================================================================================================================================================================================================================================================================================================================================================================================================================================================================================================================================================================================================================================================================================================================================================================================================================================================================================================================================================================================================================================================================================================================================================================================================================================================================================================================================================================================================================================================================================================================================================================================================================================================================================================================================================================================================================================================================================================================================================================================================================================================================================================================================================================================================================================================================================================================================================================================================================================================================================================================================================================================================================================================================================================================================================================================================================================================================================================================================================================================================================================================================================================================================================================================================================================================================================================================================================================================================================================================================================================================================================================================================================================================================================================================================================================================================================================================================================================================================================================================================================================================================================================================================================================================================================================================================================================================================================================================================================================================================================================================================================================================================================================================================================================================================================================================================================================================================================================================================================================================================================================================================================================================================================================================================================================================================================================================================================================================================================================================================================================================================================================================================================================================================================================================================================================================================================================================================================================================================================================================================================================================================================================================================================================================================================================================================================================================================================================================================================================================================================================================================================================================================================================================================================================================================================================================================================================================================================================================================================================================================================================================================================================================================================================================================================================================================================================================================================================================================================================================================================================================================================================================================================================================================================================================================================================================================================================================================================================================================================================================================================================================================================================================================================================================================================================================================================================================================================================================================================================================================================================================================================================================================================================================================================================================================================================================================================================================================================================================================================================================================================================================================================================================================================================================================================================================================================================================================================================================================================================================================================================================================================================================================================================================================================================================================================================================================================================================================================================================================================================================================================================================================================================================================================================================================================================================================================================================================================================================================================================================================================================================================================================================================================================================================================================================================================================================================================================================================================================================================================================================================================================================================================================================================================================================================================================================================================================================================================================================================================================================================================================================================================================================================================================================================================================================================================================================================================================================================================================================================================================================================================================================================================================================================================================================================================================================================================================================================================================================================================================================================================================================================================================================================================================================================================================================================================================================================================================================================================================================================================================================================================================================================================================================================================================================================================================================================================================================================================================================================================================================================================================================================================================================================================================================================================================================================================================================================================================================================================================================================================================================================================================================================================================================================================================================================================================================================================================================================================================================================================================================================================================================================================================================================================================================================================================================================================================================================================================================================================================================================================================================================================================================================================================================================================================================================================================================================================================================================================================================================================================================================================================================================================================================================================================================================================================================================================================================================================================================================================================================================================================================================================================================================================================================================================================================================================================================================================================================================================================================================================================================================================================================================================================================================================================================================================================================================================================================================================================================================================================================================================================================================================================================================================================================================================================================================================================================================================================================================================================================================================================================================================================================================================================================================================================================================================================================================================================================================================================================================================================================================================================================================================================================================================================================================================================================================================================================================================================================================================================================================================================================================================================================================================================================================================================================================================================================================================================================================================================================================================================================================================================================================================================================================================================================================================================================================================================================================================================================================================================================================================================================================================================================================================================================================================================================================================================================================================================================================================================================================================================================================================================================================================================================================================================================================================================================================================================================================================================================================================================================================================================================================================================================================================================================================================================================================================================================================================================================================================================================================================================================================================================================================================================================================================================================================================================================================================================================================================================================================================================================================================================================================================================================================================================================================================================================================================================================================================================================================================================================================================================================================================================================================================================================================================================================================================================================================================================================================================================================================================================================================================================================================================================================================================================================================================================================================================================================================================================================================================================================================================================================================================================================================================================================================================================================================================================================================================================================================================================================================================================================================================================================================================================================================================================================================================================================================================================================================================================================================================================================================================================================================================================================================================================================================================================================================================================================================================================================================================================================================================================================================================================================================================================================================================================================================================================================================================================================================================================================================================================================================================================================================================================================================================================================================================================================================================================================================================================================================================================================================================================================================================================================================================================================================================================================================================================================================================================================================================================================================================================================================================================================================================================================================================================================================================================================================================================================================================================================================================================================================================================================================================================================================================================================================================================================================================================================================================================================================================================================================================================================================================================================================================================================================================================================================================================================================================================================================================================================================================================================================================================================================================================================================================================================================================================================================================================================================================================================================================================================================================================================================================================================================================================================================================================================================================================================================================================================================================================================================================================================================================================================================================================================================================================================================================================================================================================================================================================================================================================================================================================================================================================================================================================================================================================================================================================================================================================================================================================================================================================================================================================================================================================================================================================================================================================================================================================================================================================================================================================================================================================================================================================================================================================================================================================================================================================================================================================================================================================================================================================================================================================================================================================================================================================================================================================================================================================================================================================================================================================================================================================================================================================================================================================================================================================================================================================================================================================================================================================================================================================================================================================================================================================================================================================================================================================================================================================================================================================================================================================================================================================================================================================================================================================================================================================================================================================================================================================================================================================================================================================================================================================================================================================================================================================================================================================================================================================================================================================================================================================================================================================================================================================================================================================================================================================================================================================================================================================================================================================================================================================================================================================================================================================================================================================================================================================================================================================================================================================================================================================================================================================================================================================================================================================================================================================================================================================================================================================================================================================================================================================================================================================================================================================================================================================================================================================================================================================================================================================================================================================================================================================================================================================================================================================================================================================================================================================================================================================================================================================================================================================================================================================================================================================================================================================================================================================================================================================================================================================================================================================================================================================================================================================================================================================================================================================================================================================================================================================================================================================================================================================================================================================================================================================================================================================================================================================================================================================================================================================================================================================================================================================================================================================================================================================================================================================================================================================================================================================================================================================================================================================================================================================================================================================================================================================================================================================================================================================================================================================================================================================================================================================================================================================================================================================================================================================================================================================================================================================================================================================================================================================================================================================================================================================================================================================================================================================================================================================================================================================================================================================================================================================================================================================================================================================================================================================================================================================================================================================================================================================================================================================================================================================================================================================================================================================================================================================================================================================================================================================================================================================================================================================================================================================================================================================================================================================================================================================================================================================================================================================================================================================================================================================================================================================================================================================================================================================================================================================================================================================================================================================================================================================================================================================================================================================================================================================================================================================================================================================================================================================================================================================================================================================================================================================================================================================================================================================================================================================================================================================================================================================================================================================================================================================================================================================================================================================================================================================================================================================================================================================================================================================================================================================================================================================================================================================================================================================================================================================================================================================================================================================================================================================================================================================================================================================================================================================================================================================================================================================] - 0s 36us/sample - loss: 0.3982 - accuracy: 0.8010\n"
     ]
    },
    {
     "data": {
      "text/plain": [
       "[0.40683507223924004, 0.801]"
      ]
     },
     "execution_count": 13,
     "metadata": {},
     "output_type": "execute_result"
    }
   ],
   "source": [
    "features = {name:np.array(value) for name, value in test_df_norm.items()}\n",
    "label = np.array(features.pop(label_name))\n",
    "\n",
    "my_model.evaluate(x = features, y = label, batch_size=batch_size)"
   ]
  },
  {
   "cell_type": "markdown",
   "metadata": {
    "colab_type": "text",
    "id": "q7cHkFXalXV5"
   },
   "source": [
    "## Task 2: How accurate is your model really?\n",
    "\n",
    "Is your model valuable?"
   ]
  },
  {
   "cell_type": "code",
   "execution_count": 14,
   "metadata": {
    "cellView": "form",
    "colab": {},
    "colab_type": "code",
    "id": "rUvCrQkulwjV"
   },
   "outputs": [],
   "source": [
    "#@title Double-click for a possible answer to Task 2.\n",
    "\n",
    "# A perfect model would make 100% accurate predictions.\n",
    "# Our model makes 80% accurate predictions. 80% sounds\n",
    "# good, but note that a model that always guesses \n",
    "# \"median_house_value_is_high is False\" would be 75% \n",
    "# accurate. "
   ]
  },
  {
   "cell_type": "markdown",
   "metadata": {
    "colab_type": "text",
    "id": "C8crSCCVf6gm"
   },
   "source": [
    "## Task 3: Add precision and recall as metrics\n",
    "\n",
    "Relying solely on accuracy, particularly for a class-imbalanced data set (like ours), can be a poor way to judge a classification model.  Modify the code in the following code cell to enable the model to measure not only accuracy but also precision and recall. We have\n",
    "added accuracy and precision; your task is to add recall. See the [TensorFlow Reference](https://www.tensorflow.org/api_docs/python/tf/keras/metrics/Recall) for details.\n",
    "\n"
   ]
  },
  {
   "cell_type": "code",
   "execution_count": 15,
   "metadata": {
    "colab": {},
    "colab_type": "code",
    "id": "r-k1MD2XArmO"
   },
   "outputs": [
    {
     "ename": "SyntaxError",
     "evalue": "invalid syntax (<ipython-input-15-7567f4ea383a>, line 16)",
     "output_type": "error",
     "traceback": [
      "\u001b[0;36m  File \u001b[0;32m\"<ipython-input-15-7567f4ea383a>\"\u001b[0;36m, line \u001b[0;32m16\u001b[0m\n\u001b[0;31m    ?  # write code here\u001b[0m\n\u001b[0m    ^\u001b[0m\n\u001b[0;31mSyntaxError\u001b[0m\u001b[0;31m:\u001b[0m invalid syntax\n"
     ]
    }
   ],
   "source": [
    "# The following variables are the hyperparameters.\n",
    "learning_rate = 0.001\n",
    "epochs = 20\n",
    "batch_size = 100\n",
    "classification_threshold = 0.35\n",
    "label_name = \"median_house_value_is_high\"\n",
    "\n",
    "# Modify the following definition of METRICS to generate\n",
    "# not only accuracy and precision, but also recall:\n",
    "METRICS = [\n",
    "      tf.keras.metrics.BinaryAccuracy(name='accuracy', \n",
    "                                      threshold=classification_threshold),\n",
    "      tf.keras.metrics.Precision(thresholds=classification_threshold,\n",
    "                                 name='precision' \n",
    "                                 ),\n",
    "      ?  # write code here\n",
    "]\n",
    "\n",
    "# Establish the model's topography.\n",
    "my_model = create_model(learning_rate, feature_layer, METRICS)\n",
    "\n",
    "# Train the model on the training set.\n",
    "epochs, hist = train_model(my_model, train_df_norm, epochs, \n",
    "                           label_name, batch_size)\n",
    "\n",
    "# Plot metrics vs. epochs\n",
    "list_of_metrics_to_plot = ['accuracy', 'precision', 'recall'] \n",
    "plot_curve(epochs, hist, list_of_metrics_to_plot)"
   ]
  },
  {
   "cell_type": "code",
   "execution_count": 16,
   "metadata": {
    "cellView": "form",
    "colab": {},
    "colab_type": "code",
    "id": "Ax87gOyDBhAu"
   },
   "outputs": [
    {
     "name": "stdout",
     "output_type": "stream",
     "text": [
      "Train on 17000 samples\n",
      "Epoch 1/20\n",
      "17000/17000 [==============================] - 1s 50us/sample - loss: 0.8323 - accuracy: 0.3105 - precision: 0.2314 - recall: 0.7584\n",
      "Epoch 2/20\n",
      "17000/17000 [==============================] - 0s 18us/sample - loss: 0.7209 - accuracy: 0.3422 - precision: 0.2431 - recall: 0.7725\n",
      "Epoch 3/20\n",
      "17000/17000 [==============================] - 0s 18us/sample - loss: 0.6283 - accuracy: 0.4099 - precision: 0.2654 - recall: 0.7707\n",
      "Epoch 4/20\n",
      "17000/17000 [==============================] - 0s 18us/sample - loss: 0.5549 - accuracy: 0.5660 - precision: 0.3339 - recall: 0.7412\n",
      "Epoch 5/20\n",
      "17000/17000 [==============================] - 0s 18us/sample - loss: 0.4988 - accuracy: 0.7060 - precision: 0.4431 - recall: 0.6887\n",
      "Epoch 6/20\n",
      "17000/17000 [==============================] - 0s 19us/sample - loss: 0.4583 - accuracy: 0.7664 - precision: 0.5266 - recall: 0.6409\n",
      "Epoch 7/20\n",
      "17000/17000 [==============================] - 0s 20us/sample - loss: 0.4314 - accuracy: 0.7949 - precision: 0.5834 - recall: 0.6270\n",
      "Epoch 8/20\n",
      "17000/17000 [==============================] - 0s 20us/sample - loss: 0.4147 - accuracy: 0.8049 - precision: 0.6074 - recall: 0.6200\n",
      "Epoch 9/20\n",
      "17000/17000 [==============================] - 0s 21us/sample - loss: 0.4056 - accuracy: 0.8086 - precision: 0.6164 - recall: 0.6197\n",
      "Epoch 10/20\n",
      "17000/17000 [==============================] - 0s 19us/sample - loss: 0.4011 - accuracy: 0.8078 - precision: 0.6150 - recall: 0.6164\n",
      "Epoch 11/20\n",
      "17000/17000 [==============================] - 0s 18us/sample - loss: 0.3989 - accuracy: 0.8079 - precision: 0.6155 - recall: 0.6160\n",
      "Epoch 12/20\n",
      "17000/17000 [==============================] - 0s 19us/sample - loss: 0.3978 - accuracy: 0.8074 - precision: 0.6142 - recall: 0.6162\n",
      "Epoch 13/20\n",
      "17000/17000 [==============================] - 0s 19us/sample - loss: 0.3972 - accuracy: 0.8083 - precision: 0.6162 - recall: 0.6167\n",
      "Epoch 14/20\n",
      "17000/17000 [==============================] - 0s 19us/sample - loss: 0.3969 - accuracy: 0.8081 - precision: 0.6158 - recall: 0.6162\n",
      "Epoch 15/20\n",
      "17000/17000 [==============================] - 0s 19us/sample - loss: 0.3968 - accuracy: 0.8085 - precision: 0.6173 - recall: 0.6148\n",
      "Epoch 16/20\n",
      "17000/17000 [==============================] - 0s 19us/sample - loss: 0.3967 - accuracy: 0.8081 - precision: 0.6160 - recall: 0.6157\n",
      "Epoch 17/20\n",
      "17000/17000 [==============================] - 0s 18us/sample - loss: 0.3966 - accuracy: 0.8094 - precision: 0.6192 - recall: 0.6153\n",
      "Epoch 18/20\n",
      "17000/17000 [==============================] - 0s 19us/sample - loss: 0.3966 - accuracy: 0.8091 - precision: 0.6187 - recall: 0.6150\n",
      "Epoch 19/20\n",
      "17000/17000 [==============================] - 0s 19us/sample - loss: 0.3966 - accuracy: 0.8094 - precision: 0.6196 - recall: 0.6136\n",
      "Epoch 20/20\n",
      "17000/17000 [==============================] - 0s 18us/sample - loss: 0.3966 - accuracy: 0.8092 - precision: 0.6191 - recall: 0.6146\n"
     ]
    },
    {
     "data": {
      "image/png": "[encoded data removed]",
      "text/plain": [
       "<Figure size 432x288 with 1 Axes>"
      ]
     },
     "metadata": {
      "needs_background": "light"
     },
     "output_type": "display_data"
    }
   ],
   "source": [
    "#@title Double-click to view the solution for Task 3.\n",
    "\n",
    "# The following variables are the hyperparameters.\n",
    "learning_rate = 0.001\n",
    "epochs = 20\n",
    "batch_size = 100\n",
    "classification_threshold = 0.35\n",
    "label_name = \"median_house_value_is_high\"\n",
    "\n",
    "# Here is the updated definition of METRICS:\n",
    "METRICS = [\n",
    "      tf.keras.metrics.BinaryAccuracy(name='accuracy', \n",
    "                                      threshold=classification_threshold),\n",
    "      tf.keras.metrics.Precision(thresholds=classification_threshold,\n",
    "                                 name='precision' \n",
    "                                 ),\n",
    "      tf.keras.metrics.Recall(thresholds=classification_threshold,\n",
    "                              name=\"recall\"),\n",
    "]\n",
    "\n",
    "# Establish the model's topography.\n",
    "my_model = create_model(learning_rate, feature_layer, METRICS)\n",
    "\n",
    "# Train the model on the training set.\n",
    "epochs, hist = train_model(my_model, train_df_norm, epochs, \n",
    "                           label_name, batch_size)\n",
    "\n",
    "# Plot metrics vs. epochs\n",
    "list_of_metrics_to_plot = ['accuracy', \"precision\", \"recall\"] \n",
    "plot_curve(epochs, hist, list_of_metrics_to_plot)\n",
    "\n",
    "\n",
    "# The new graphs suggest that precision and recall are \n",
    "# somewhat in conflict. That is, improvements to one of\n",
    "# those metrics may hurt the other metric."
   ]
  },
  {
   "cell_type": "markdown",
   "metadata": {
    "colab_type": "text",
    "id": "cAsB85iKSXLe"
   },
   "source": [
    "## Task 4: Experiment with the classification threshold (if time permits)\n",
    "\n",
    "Experiment with different values for `classification_threshold` in the code cell within \"Invoke the creating, training, and plotting functions.\"  What value of `classification_threshold` produces the highest accuracy?"
   ]
  },
  {
   "cell_type": "code",
   "execution_count": 17,
   "metadata": {
    "cellView": "form",
    "colab": {},
    "colab_type": "code",
    "id": "FLPDYI7Sphnj"
   },
   "outputs": [
    {
     "name": "stdout",
     "output_type": "stream",
     "text": [
      "Train on 17000 samples\n",
      "Epoch 1/20\n",
      "17000/17000 [==============================] - 1s 52us/sample - loss: 0.9419 - accuracy: 0.3547 - precision: 0.0920 - recall: 0.1785\n",
      "Epoch 2/20\n",
      "17000/17000 [==============================] - 0s 19us/sample - loss: 0.8440 - accuracy: 0.4718 - precision: 0.0826 - recall: 0.1102\n",
      "Epoch 3/20\n",
      "17000/17000 [==============================] - 0s 18us/sample - loss: 0.7574 - accuracy: 0.6455 - precision: 0.1023 - recall: 0.0539\n",
      "Epoch 4/20\n",
      "17000/17000 [==============================] - 0s 18us/sample - loss: 0.6841 - accuracy: 0.7214 - precision: 0.1616 - recall: 0.0275\n",
      "Epoch 5/20\n",
      "17000/17000 [==============================] - 0s 18us/sample - loss: 0.6221 - accuracy: 0.7372 - precision: 0.2150 - recall: 0.0195\n",
      "Epoch 6/20\n",
      "17000/17000 [==============================] - 0s 18us/sample - loss: 0.5719 - accuracy: 0.7451 - precision: 0.3100 - recall: 0.0167\n",
      "Epoch 7/20\n",
      "17000/17000 [==============================] - 0s 18us/sample - loss: 0.5308 - accuracy: 0.7494 - precision: 0.4663 - recall: 0.0212\n",
      "Epoch 8/20\n",
      "17000/17000 [==============================] - 0s 20us/sample - loss: 0.4985 - accuracy: 0.7602 - precision: 0.7647 - recall: 0.0582\n",
      "Epoch 9/20\n",
      "17000/17000 [==============================] - 0s 18us/sample - loss: 0.4721 - accuracy: 0.7754 - precision: 0.8808 - recall: 0.1166\n",
      "Epoch 10/20\n",
      "17000/17000 [==============================] - 0s 20us/sample - loss: 0.4511 - accuracy: 0.7935 - precision: 0.9192 - recall: 0.19030s - loss: 0.4505 - accuracy: 0.7922 - precision: 0.9367 - recall: 0\n",
      "Epoch 11/20\n",
      "17000/17000 [==============================] - 0s 19us/sample - loss: 0.4346 - accuracy: 0.8084 - precision: 0.9216 - recall: 0.2548\n",
      "Epoch 12/20\n",
      "17000/17000 [==============================] - 0s 22us/sample - loss: 0.4219 - accuracy: 0.8221 - precision: 0.9042 - recall: 0.3221\n",
      "Epoch 13/20\n",
      "17000/17000 [==============================] - 0s 21us/sample - loss: 0.4126 - accuracy: 0.8309 - precision: 0.8837 - recall: 0.3720\n",
      "Epoch 14/20\n",
      "17000/17000 [==============================] - 0s 21us/sample - loss: 0.4061 - accuracy: 0.8328 - precision: 0.8449 - recall: 0.4052\n",
      "Epoch 15/20\n",
      "17000/17000 [==============================] - 0s 19us/sample - loss: 0.4019 - accuracy: 0.8350 - precision: 0.8262 - recall: 0.4300\n",
      "Epoch 16/20\n",
      "17000/17000 [==============================] - 0s 19us/sample - loss: 0.3993 - accuracy: 0.8358 - precision: 0.8138 - recall: 0.4445\n",
      "Epoch 17/20\n",
      "17000/17000 [==============================] - 0s 20us/sample - loss: 0.3980 - accuracy: 0.8356 - precision: 0.7998 - recall: 0.4563\n",
      "Epoch 18/20\n",
      "17000/17000 [==============================] - 0s 19us/sample - loss: 0.3973 - accuracy: 0.8366 - precision: 0.7989 - recall: 0.4622\n",
      "Epoch 19/20\n",
      "17000/17000 [==============================] - 0s 19us/sample - loss: 0.3970 - accuracy: 0.8370 - precision: 0.7947 - recall: 0.4686\n",
      "Epoch 20/20\n",
      "17000/17000 [==============================] - 0s 19us/sample - loss: 0.3968 - accuracy: 0.8366 - precision: 0.7914 - recall: 0.4700\n"
     ]
    },
    {
     "data": {
      "image/png": "[encoded data removed]",
      "text/plain": [
       "<Figure size 432x288 with 1 Axes>"
      ]
     },
     "metadata": {
      "needs_background": "light"
     },
     "output_type": "display_data"
    }
   ],
   "source": [
    "#@title Double-click to view the solution for Task 4.\n",
    "\n",
    "# The following variables are the hyperparameters.\n",
    "learning_rate = 0.001\n",
    "epochs = 20\n",
    "batch_size = 100\n",
    "classification_threshold = 0.52\n",
    "label_name = \"median_house_value_is_high\"\n",
    "\n",
    "# Here is the updated definition of METRICS:\n",
    "METRICS = [\n",
    "      tf.keras.metrics.BinaryAccuracy(name='accuracy', \n",
    "                                      threshold=classification_threshold),\n",
    "      tf.keras.metrics.Precision(thresholds=classification_threshold,\n",
    "                                 name='precision' \n",
    "                                 ),\n",
    "      tf.keras.metrics.Recall(thresholds=classification_threshold,\n",
    "                              name=\"recall\"),\n",
    "]\n",
    "\n",
    "# Establish the model's topography.\n",
    "my_model = create_model(learning_rate, feature_layer, METRICS)\n",
    "\n",
    "# Train the model on the training set.\n",
    "epochs, hist = train_model(my_model, train_df_norm, epochs, \n",
    "                           label_name, batch_size)\n",
    "\n",
    "# Plot metrics vs. epochs\n",
    "list_of_metrics_to_plot = ['accuracy', \"precision\", \"recall\"] \n",
    "plot_curve(epochs, hist, list_of_metrics_to_plot)\n",
    "\n",
    "# A `classification_threshold` of slightly over 0.5\n",
    "# appears to produce the highest accuracy (about 83%).\n",
    "# Raising the `classification_threshold` to 0.9 drops \n",
    "# accuracy by about 5%.  Lowering the \n",
    "# `classification_threshold` to 0.3 drops accuracy by \n",
    "# about 3%. "
   ]
  },
  {
   "cell_type": "markdown",
   "metadata": {
    "colab_type": "text",
    "id": "XBGRS0Ndduus"
   },
   "source": [
    "## Task 5: Summarize model performance (if time permits)\n",
    "\n",
    "If time permits, add one more metric that attempts to summarize the model's overall performance. "
   ]
  },
  {
   "cell_type": "code",
   "execution_count": 18,
   "metadata": {
    "cellView": "form",
    "colab": {},
    "colab_type": "code",
    "id": "vwNE6syoFvWe"
   },
   "outputs": [
    {
     "name": "stdout",
     "output_type": "stream",
     "text": [
      "Train on 17000 samples\n",
      "Epoch 1/20\n",
      "17000/17000 [==============================] - 1s 50us/sample - loss: 0.8785 - auc: 0.1910\n",
      "Epoch 2/20\n",
      "17000/17000 [==============================] - 0s 21us/sample - loss: 0.7659 - auc: 0.1875\n",
      "Epoch 3/20\n",
      "17000/17000 [==============================] - 0s 20us/sample - loss: 0.6735 - auc: 0.1833\n",
      "Epoch 4/20\n",
      "17000/17000 [==============================] - 0s 20us/sample - loss: 0.6017 - auc: 0.3491\n",
      "Epoch 5/20\n",
      "17000/17000 [==============================] - 0s 20us/sample - loss: 0.5480 - auc: 0.7700\n",
      "Epoch 6/20\n",
      "17000/17000 [==============================] - 0s 20us/sample - loss: 0.5072 - auc: 0.8147\n",
      "Epoch 7/20\n",
      "17000/17000 [==============================] - 0s 22us/sample - loss: 0.4767 - auc: 0.8253\n",
      "Epoch 8/20\n",
      "17000/17000 [==============================] - 0s 21us/sample - loss: 0.4538 - auc: 0.8304\n",
      "Epoch 9/20\n",
      "17000/17000 [==============================] - 0s 20us/sample - loss: 0.4363 - auc: 0.8332\n",
      "Epoch 10/20\n",
      "17000/17000 [==============================] - 0s 21us/sample - loss: 0.4232 - auc: 0.8347\n",
      "Epoch 11/20\n",
      "17000/17000 [==============================] - 0s 22us/sample - loss: 0.4136 - auc: 0.8354\n",
      "Epoch 12/20\n",
      "17000/17000 [==============================] - 0s 21us/sample - loss: 0.4068 - auc: 0.8362\n",
      "Epoch 13/20\n",
      "17000/17000 [==============================] - 0s 20us/sample - loss: 0.4024 - auc: 0.8364\n",
      "Epoch 14/20\n",
      "17000/17000 [==============================] - 0s 20us/sample - loss: 0.3996 - auc: 0.8365\n",
      "Epoch 15/20\n",
      "17000/17000 [==============================] - 0s 20us/sample - loss: 0.3982 - auc: 0.8367\n",
      "Epoch 16/20\n",
      "17000/17000 [==============================] - 0s 22us/sample - loss: 0.3974 - auc: 0.8368\n",
      "Epoch 17/20\n",
      "17000/17000 [==============================] - 0s 22us/sample - loss: 0.3970 - auc: 0.8369\n",
      "Epoch 18/20\n",
      "17000/17000 [==============================] - 0s 22us/sample - loss: 0.3968 - auc: 0.8368\n",
      "Epoch 19/20\n",
      "17000/17000 [==============================] - 0s 21us/sample - loss: 0.3967 - auc: 0.8368\n",
      "Epoch 20/20\n",
      "17000/17000 [==============================] - 0s 22us/sample - loss: 0.3967 - auc: 0.8368\n"
     ]
    },
    {
     "data": {
      "image/png": "[encoded data removed]",
      "text/plain": [
       "<Figure size 432x288 with 1 Axes>"
      ]
     },
     "metadata": {
      "needs_background": "light"
     },
     "output_type": "display_data"
    }
   ],
   "source": [
    "#@title Double-click to view the solution for Task 5.\n",
    "\n",
    "# The following variables are the hyperparameters.\n",
    "learning_rate = 0.001\n",
    "epochs = 20\n",
    "batch_size = 100\n",
    "label_name = \"median_house_value_is_high\"\n",
    "\n",
    "# AUC is a reasonable \"summary\" metric for \n",
    "# classification models.\n",
    "# Here is the updated definition of METRICS to \n",
    "# measure AUC:\n",
    "METRICS = [\n",
    "      tf.keras.metrics.AUC(num_thresholds=100, name='auc'),\n",
    "]\n",
    "\n",
    "# Establish the model's topography.\n",
    "my_model = create_model(learning_rate, feature_layer, METRICS)\n",
    "\n",
    "# Train the model on the training set.\n",
    "epochs, hist = train_model(my_model, train_df_norm, epochs, \n",
    "                           label_name, batch_size)\n",
    "\n",
    "# Plot metrics vs. epochs\n",
    "list_of_metrics_to_plot = ['auc'] \n",
    "plot_curve(epochs, hist, list_of_metrics_to_plot)"
   ]
  }
 ],
 "metadata": {
  "colab": {
   "collapsed_sections": [],
   "name": "Binary Classification.ipynb",
   "private_outputs": true,
   "provenance": []
  },
  "kernelspec": {
   "display_name": "Python 3",
   "language": "python",
   "name": "python3"
  },
  "language_info": {
   "codemirror_mode": {
    "name": "ipython",
    "version": 3
   },
   "file_extension": ".py",
   "mimetype": "text/x-python",
   "name": "python",
   "nbconvert_exporter": "python",
   "pygments_lexer": "ipython3",
   "version": "3.6.8"
  }
 },
 "nbformat": 4,
 "nbformat_minor": 1
}
