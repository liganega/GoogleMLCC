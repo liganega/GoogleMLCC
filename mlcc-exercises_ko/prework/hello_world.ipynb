{
  "nbformat_minor": 0,
  "nbformat": 4,
  "cells": [
    {
      "source": [
        "#### Copyright 2017 Google LLC."
      ],
      "cell_type": "markdown",
      "metadata": {
        "colab_type": "text",
        "id": "copyright-notice"
      }
    },
    {
      "execution_count": 0,
      "cell_type": "code",
      "metadata": {
        "colab_type": "code",
        "id": "copyright-notice2",
        "colab": {
          "autoexec": {
            "wait_interval": 0,
            "startup": false
          }
        },
        "cellView": "both"
      },
      "source": [
        "# Licensed under the Apache License, Version 2.0 (the \"License\");\n",
        "# you may not use this file except in compliance with the License.\n",
        "# You may obtain a copy of the License at\n",
        "#\n",
        "# https://www.apache.org/licenses/LICENSE-2.0\n",
        "#\n",
        "# Unless required by applicable law or agreed to in writing, software\n",
        "# distributed under the License is distributed on an \"AS IS\" BASIS,\n",
        "# WITHOUT WARRANTIES OR CONDITIONS OF ANY KIND, either express or implied.\n",
        "# See the License for the specific language governing permissions and\n",
        "# limitations under the License."
      ],
      "outputs": []
    },
    {
      "source": [
        " # \uc0ac\uc804 \uc791\uc5c5: Hello World"
      ],
      "cell_type": "markdown",
      "metadata": {
        "colab_type": "text",
        "id": "cH-YtyZs7Gcg"
      }
    },
    {
      "source": [
        " **\ud559\uc2b5 \ubaa9\ud45c:** \ube0c\ub77c\uc6b0\uc800\uc5d0\uc11c \ud150\uc11c\ud50c\ub85c\uc6b0 \ud504\ub85c\uadf8\ub7a8\uc744 \uc2e4\ud589\ud569\ub2c8\ub2e4."
      ],
      "cell_type": "markdown",
      "metadata": {
        "colab_type": "text",
        "id": "r0QBC2kTixPn"
      }
    },
    {
      "source": [
        " \ub2e4\uc74c\uc740 'Hello World' \ud150\uc11c\ud50c\ub85c\uc6b0 \ud504\ub85c\uadf8\ub7a8\uc785\ub2c8\ub2e4."
      ],
      "cell_type": "markdown",
      "metadata": {
        "colab_type": "text",
        "id": "33fL46pgixPo"
      }
    },
    {
      "source": [
        "from __future__ import print_function\n\n",
        "import tensorflow as tf\n",
        "\n",
        "c = tf.constant('Hello, world!')\n",
        "\n",
        "with tf.Session() as sess:\n",
        "\n",
        "    print(sess.run(c))"
      ],
      "cell_type": "code",
      "metadata": {
        "colab_type": "code",
        "id": "bRuPN7qo7ICp",
        "colab": {
          "autoexec": {
            "wait_interval": 0,
            "startup": false
          }
        },
        "cellView": "both"
      },
      "outputs": [],
      "execution_count": 0
    },
    {
      "source": [
        " ## \uc774 \ud504\ub85c\uadf8\ub7a8\uc744 \uc2e4\ud589\ud558\ub824\uba74 \ub2e4\uc74c\uc744 \uc2e4\ud589\ud558\uc138\uc694.\n",
        "\n",
        "  1. \ucf54\ub4dc \ube14\ub85d\uc758 \uc544\ubb34 \uacf3\uc774\ub098 \ud074\ub9ad\ud569\ub2c8\ub2e4. \uc608: `import` \ub2e8\uc5b4.\n",
        "\n",
        "  2. \ucf54\ub4dc \ube14\ub85d \uc67c\ucabd \uc0c1\ub2e8\uc5d0\uc11c \uc624\ub978\ucabd\uc744 \ubcf4\uace0 \uc788\ub294 \uc0bc\uac01\ud615 \uc544\uc774\ucf58\uc744 \ud074\ub9ad\ud558\uac70\ub098 \u2318/Ctrl-Enter\ub97c \ub204\ub985\ub2c8\ub2e4.\n",
        "\n",
        "     \uba87 \ucd08 \ud6c4 \ud504\ub85c\uadf8\ub7a8\uc774 \uc2e4\ud589\ub429\ub2c8\ub2e4. \ubb38\uc81c \uc5c6\uc774 \uc9c4\ud589\ub418\uba74 \ucf54\ub4dc \ube14\ub85d \ubc14\ub85c \uc544\ub798\uc5d0 `Hello, world!`\ub77c\ub294 \ubb38\uad6c\uac00 \ub098\ud0c0\ub0a9\ub2c8\ub2e4\\n",
        "\n",
        "\uc774 \ud504\ub85c\uadf8\ub7a8\uc740 \uc804\uccb4\uac00 \ud558\ub098\uc758 \ucf54\ub4dc \ube14\ub85d\uc73c\ub85c \uc774\ub8e8\uc5b4\uc838 \uc788\uc2b5\ub2c8\ub2e4. \ud558\uc9c0\ub9cc \ub300\ub2e4\uc218\uc758 \uc2e4\uc2b5\uc740 \uc5ec\ub7ec \ucf54\ub4dc \ube14\ub85d\uc73c\ub85c \uc774\ub8e8\uc5b4\uc838 \uc788\uae30 \ub54c\ubb38\uc5d0 **\uc704\uc5d0\uc11c \uc544\ub798\uc758 \uc21c\uc11c\ub85c \uac1c\ubcc4\uc801\uc73c\ub85c \ucf54\ub4dc \ube14\ub85d\uc744 \uc2e4\ud589**\ud574\uc57c \ud569\ub2c8\ub2e4. \n",
        "\n",
        "\uc21c\uc11c\uc5d0 \ub9de\uc9c0 \uc54a\uac8c \ucf54\ub4dc \ube14\ub85d\uc744 \uc2e4\ud589\ud558\uba74 \ubcf4\ud1b5 \uc624\ub958\uac00 \ubc1c\uc0dd\ud569\ub2c8\ub2e4."
      ],
      "cell_type": "markdown",
      "metadata": {
        "colab_type": "text",
        "id": "Bl1nAshab6m5"
      }
    },
    {
      "source": [
        " ## \uc720\uc6a9\ud55c \ub2e8\ucd95\ud0a4\n",
        "\n",
        "* **\u2318/Ctrl+m,b:**\ub294 \ud604\uc7ac \uc120\ud0dd\ub41c \uc140 \uc544\ub798\uc5d0 \ube48 \ucf54\ub4dc \uc140\uc744 \ub9cc\ub4ed\ub2c8\ub2e4.\n",
        "* **\u2318/Ctrl+m,i:**\ub294 \uc2e4\ud589 \uc911\uc778 \uc140\uc744 \uc911\ub2e8\uc2dc\ud0b5\ub2c8\ub2e4.\n",
        "* **\u2318/Ctrl+m,h:**\ub294 \ubaa8\ub4e0 \ub2e8\ucd95\ud0a4 \ubaa9\ub85d\uc744 \ud45c\uc2dc\ud569\ub2c8\ub2e4.\n",
        "* \ud150\uc11c\ud50c\ub85c\uc6b0 API \uba54\uc11c\ub4dc\uc5d0 \uad00\ud55c \ubb38\uc11c\ub97c \ubcf4\ub824\uba74 \uc5ec\ub294 \uad04\ud638 \ubc14\ub85c \uc624\ub978\ucabd\uc5d0 \ucee4\uc11c\ub97c \ub450\uace0 **Tab**\uc744 \ub204\ub974\uc138\uc694.\n",
        "\n",
        "![\ud150\uc11c\ud50c\ub85c\uc6b0 tf.constant \uba54\uc11c\ub4dc\uc5d0 \ub300\ud55c \ubb38\uc11c\uac00 \ud45c\uc2dc\ub429\ub2c8\ub2e4.](https://download.mlcc.google.com/mledu-images/tf_constant_pop_up_doc.png)"
      ],
      "cell_type": "markdown",
      "metadata": {
        "colab_type": "text",
        "id": "UpzZ0Gv-uKf_"
      }
    }
  ],
  "metadata": {
    "colab": {
      "default_view": {},
      "version": "0.3.2",
      "collapsed_sections": [
        "copyright-notice"
      ],
      "name": "hello_world.ipynb",
      "views": {}
    }
  }
}
