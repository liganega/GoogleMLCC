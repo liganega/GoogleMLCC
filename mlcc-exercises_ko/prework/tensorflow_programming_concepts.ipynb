{
  "nbformat_minor": 0,
  "nbformat": 4,
  "cells": [
    {
      "source": [
        "#### Copyright 2017 Google LLC."
      ],
      "cell_type": "markdown",
      "metadata": {
        "colab_type": "text",
        "id": "copyright-notice"
      }
    },
    {
      "execution_count": 0,
      "cell_type": "code",
      "source": [
        "# Licensed under the Apache License, Version 2.0 (the \"License\");\n",
        "# you may not use this file except in compliance with the License.\n",
        "# You may obtain a copy of the License at\n",
        "#\n",
        "# https://www.apache.org/licenses/LICENSE-2.0\n",
        "#\n",
        "# Unless required by applicable law or agreed to in writing, software\n",
        "# distributed under the License is distributed on an \"AS IS\" BASIS,\n",
        "# WITHOUT WARRANTIES OR CONDITIONS OF ANY KIND, either express or implied.\n",
        "# See the License for the specific language governing permissions and\n",
        "# limitations under the License."
      ],
      "outputs": [],
      "metadata": {
        "colab_type": "code",
        "id": "copyright-notice2",
        "colab": {
          "autoexec": {
            "wait_interval": 0,
            "startup": false
          }
        },
        "cellView": "both"
      }
    },
    {
      "source": [
        " # \ud150\uc11c\ud50c\ub85c\uc6b0 \ud504\ub85c\uadf8\ub798\ubc0d \uac1c\ub150"
      ],
      "cell_type": "markdown",
      "metadata": {
        "colab_type": "text",
        "id": "rFpcvnCJ4Xkf"
      }
    },
    {
      "source": [
        " **\ud559\uc2b5 \ubaa9\ud45c:**\n",
        "  * \ub2e4\uc74c \uac1c\ub150\uc5d0 \uc911\uc810\uc744 \ub450\uace0 \ud150\uc11c\ud50c\ub85c\uc6b0 \ud504\ub85c\uadf8\ub798\ubc0d \ubaa8\ub378\uc758 \uae30\ubcf8 \uc0ac\ud56d\uc744 \ubc30\uc6c1\ub2c8\ub2e4. \n",
        "    * \ud150\uc11c\n",
        "    * \uc5f0\uc0b0\n",
        "    * \uadf8\ub798\ud504\n",
        "    * \uc138\uc158\n",
        "  * \uae30\ubcf8 \uadf8\ub798\ud504\ub97c \ub9cc\ub4dc\ub294 \uac04\ub2e8\ud55c \ud150\uc11c\ud50c\ub85c\uc6b0 \ud504\ub85c\uadf8\ub7a8 \ub9cc\ub4e4\uae30 \ubc0f \uadf8\ub798\ud504\ub97c \uc2e4\ud589\ud558\ub294 \uc138\uc158"
      ],
      "cell_type": "markdown",
      "metadata": {
        "colab_type": "text",
        "id": "9IkBOsrNzahz"
      }
    },
    {
      "source": [
        " **\ucc38\uace0:** \uc774 \uac00\uc774\ub4dc\ub97c \uc790\uc138\ud788 \uc77d\uc5b4\uc8fc\uc138\uc694. \ud150\uc11c\ud50c\ub85c\uc6b0 \ud504\ub85c\uadf8\ub798\ubc0d \ubaa8\ub378\uc740 \uc544\ub9c8 \uc9c0\uae08\uae4c\uc9c0 \uc54c\uace0 \uc788\ub358 \ub2e4\ub978 \ubaa8\ub378\uacfc \ub2ec\ub77c\uc11c \uc608\uc0c1\ub9cc\ud07c \uc9c1\uad00\uc801\uc73c\ub85c \uc774\ud574\ud558\uae30 \uc5b4\ub824\uc6b8 \uc218 \uc788\uc2b5\ub2c8\ub2e4."
      ],
      "cell_type": "markdown",
      "metadata": {
        "colab_type": "text",
        "id": "YMG9mHPdzahz"
      }
    },
    {
      "source": [
        " ## \uac1c\ub150 \uac1c\uc694\n",
        "\ud150\uc11c\ud50c\ub85c\uc6b0\ub294 \uc784\uc758\uc758 \ucc28\uc6d0\uc744 \uac16\ub294 \ubc30\uc5f4\ub4e4\uc744 \ub73b\ud558\ub294 **\ud150\uc11c**\uc5d0\uc11c \uadf8 \uc774\ub984\uc774 \uc720\ub798\ub418\uc5c8\uc2b5\ub2c8\ub2e4.\n",
        "\ud150\uc11c\ud50c\ub85c\uc6b0\ub97c \uc0ac\uc6a9\ud558\uba74 \ucc28\uc6d0 \uc218\uac00 \uc544\uc8fc \ub192\uc740 \ud150\uc11c\ub97c \uc870\uc791\ud560 \uc218 \uc788\uc2b5\ub2c8\ub2e4. \ud558\uc9c0\ub9cc \ub300\ubd80\ubd84\uc740 \ub2e4\uc74c\uacfc \uac19\uc740 \uc800\ucc28\uc6d0 \ud150\uc11c \uc911 \ud558\ub098 \uc774\uc0c1\uc744 \uc0ac\uc6a9\ud558\uc5ec \uc791\uc5c5\ud558\uac8c \ub429\ub2c8\ub2e4.:\n",
        "  ***\uc2a4\uce7c\ub77c**\ub294 0-d \ubc30\uc5f4(0\ubc88\uc9f8 \ud150\uc11c)\uc785\ub2c8\ub2e4.  \uc608: `\\'Howdy\\'` \ub610\ub294 `5`\n",
        "  ***\ubca1\ud130**\ub294 1-d \ubc30\uc5f4(1\ubc88\uc9f8 \ud150\uc11c)\uc785\ub2c8\ub2e4.  \uc608: `[2, 3, 5, 7, 11]` \ub610\ub294 `[5]`\n",
        "  ***\ud589\ub82c**\uc740 2-d \ubc30\uc5f4(2\ubc88\uc9f8 \ud150\uc11c)\uc785\ub2c8\ub2e4.  \uc608: `[[3.1, 8.2, 5.9][4.3, -2.7, 6.5]]`\n\n",
        "\ud150\uc11c\ud50c\ub85c\uc6b0 **\uc5f0\uc0b0**\uc740 \ud150\uc11c\ub97c \ub9cc\ub4e4\uace0 \uc5c6\uc560\uace0 \uc870\uc791\ud569\ub2c8\ub2e4. \uc77c\ubc18\uc801\uc778 \ud150\uc11c\ud50c\ub85c\uc6b0 \ud504\ub85c\uadf8\ub7a8\uc5d0\uc11c \ub300\ubd80\ubd84\uc758 \ucf54\ub4dc \ud589\uc740 \uc5f0\uc0b0\uc785\ub2c8\ub2e4.\n\n",
        "\ud150\uc11c\ud50c\ub85c\uc6b0 **\uadf8\ub798\ud504**(\ub610\ub294 **\uc0b0\ucd9c \uadf8\ub798\ud504**\ub098 **\ub370\uc774\ud130\ud50c\ub85c \uadf8\ub798\ud504**)\ub294 \uadf8\ub798\ud504 \ub370\uc774\ud130 \uad6c\uc870\uc785\ub2c8\ub2e4. \ub9ce\uc740 \ud150\uc11c\ud50c\ub85c\uc6b0 \ud504\ub85c\uadf8\ub7a8\uc740 \ud558\ub098\uc758 \uadf8\ub798\ud504\ub85c \uad6c\uc131\ub418\uc5b4 \uc788\uc9c0\ub9cc, \ud150\uc11c\ud50c\ub85c\uc6b0 \ud504\ub85c\uadf8\ub7a8\uc740 \uc5ec\ub7ec \uadf8\ub798\ud504\ub97c \ub9cc\ub4e4 \uc218\ub3c4 \uc788\uc2b5\ub2c8\ub2e4. \uadf8\ub798\ud504\uc758 \ub178\ub4dc\ub294 \uc5f0\uc0b0\uc774\uace0; \uadf8\ub798\ud504\uc758 \uc5e3\uc9c0\ub294 \ud150\uc11c\uc785\ub2c8\ub2e4. \ud150\uc11c\ub294 \uadf8\ub798\ud504\ub97c \ub530\ub77c \ud750\ub974\uace0, \uac01 \ub178\ub4dc\uc5d0\uc11c \uc5f0\uc0b0\uc5d0 \uc758\ud574 \uc870\uc791\ub429\ub2c8\ub2e4. \ud55c \uc5f0\uc0b0\uc758 \ucd9c\ub825 \ud150\uc11c\ub294 \ubcf4\ud1b5 \ub2e4\uc74c \uc5f0\uc0b0\uc758 \uc785\ub825 \ud150\uc11c\uac00 \ub429\ub2c8\ub2e4. \ud150\uc11c\ud50c\ub85c\uc6b0\ub294 **\ub808\uc774\uc9c0 \uc2e4\ud589 \ubaa8\ub378**\uc744 \uad6c\ud604\ud558\ub294\ub370, \uc774\ub294 \uc5f0\uacb0\ub41c \ub178\ub4dc\uc758 \ud544\uc694\uc5d0 \ub530\ub77c \ud544\uc694\ud560 \ub54c\ub9cc \ub178\ub4dc\uac00 \uacc4\uc0b0\ub41c\ub2e4\ub294 \uc758\ubbf8\uc785\ub2c8\ub2e4.\n\n",
        "\ud150\uc11c\ub294 \uadf8\ub798\ud504\uc5d0\uc11c **\uc0c1\uc218** \ub610\ub294 **\ubcc0\uc218**\ub85c \uc800\uc7a5\ub420 \uc218 \uc788\uc2b5\ub2c8\ub2e4. \uc608\uc0c1\ud560 \uc218 \uc788\ub4ef\uc774 \uc0c1\uc218\ub294 \uac12\uc774 \ubcc0\ud558\uc9c0 \uc54a\ub294 \ud150\uc11c\ub97c \uac00\uc9c0\uace0, \ubcc0\uc218\ub294 \uac12\uc774 \ubcc0\ud560 \uc218 \uc788\ub294 \ud150\uc11c\ub97c \uac00\uc9d1\ub2c8\ub2e4. \ud558\uc9c0\ub9cc \ud55c \uac00\uc9c0 \uc608\uc0c1\ud558\uc9c0 \ubabb\ud55c \uc810\uc740, \uc0c1\uc218\uc640 \ubcc0\uc218\uac00 \uadf8\ub798\ud504\uc5d0\uc11c \ub610 \ub2e4\ub978 \uc5f0\uc0b0\uc774\ub77c\ub294 \uac83\uc785\ub2c8\ub2e4. \uc0c1\uc218\ub294 \ud56d\uc0c1 \uac19\uc740 \ud150\uc11c \uac12\uc744 \ubc18\ud658\ud558\ub294 \uc5f0\uc0b0\uc774\uace0, \ubcc0\uc218\ub294 \ud560\ub2f9\ub41c \ud150\uc11c\ub97c \ubc18\ud658\ud569\ub2c8\ub2e4.\n\n",
        "\uc0c1\uc218\ub97c \uc815\uc758\ud558\ub824\uba74 `tf.constant` \uc5f0\uc0b0\uc790\ub97c \uc0ac\uc6a9\ud558\uc5ec \uadf8 \uac12\uc744 \uc804\ub2ec\ud569\ub2c8\ub2e4. \uc608\ub97c \ub4e4\uba74 \ub2e4\uc74c\uacfc \uac19\uc2b5\ub2c8\ub2e4.\n\n",
        "```\n",
        "  x = tf.constant([5.2])\n",
        "```\n\n",
        "\uc720\uc0ac\ud558\uac8c \ub2e4\uc74c\uacfc \uac19\uc740 \ubcc0\uc218\ub97c \ub9cc\ub4e4 \uc218 \uc788\uc2b5\ub2c8\ub2e4.\n\n",
        "```\n",
        "  y = tf.Variable([5])\n",
        "```\n\n",
        "\ub610\ub294 \ubcc0\uc218\ub97c \uba3c\uc800 \ub9cc\ub4e0 \ub2e4\uc74c, \ub2e4\uc74c\uacfc \uac19\uc740 \uac12\uc744 \ud560\ub2f9\ud560 \uc218 \uc788\uc2b5\ub2c8\ub2e4. \ucc38\uace0\ub85c \ud56d\uc0c1 \uae30\ubcf8 \uac12\uc744 \uc9c0\uc815\ud574\uc57c \ud569\ub2c8\ub2e4.\n\n",
        "```\n",
        "  y = tf.Variable([0])\n",
        "  y = y.assign([5])\n",
        "```\n\n",
        "\uc77c\ubd80 \uc0c1\uc218 \ub610\ub294 \ubcc0\uc218\ub97c \uc815\uc758\ud558\uba74 \uc774\ub97c `tf.add`\uc640 \uac19\uc740 \uc5f0\uc0b0\uacfc \ubcd1\ud569\ud560 \uc218 \uc788\uc2b5\ub2c8\ub2e4. `tf.add` \uc5f0\uc0b0\uc744 \ud3c9\uac00\ud560 \ub54c `tf.constant` \ub610\ub294 `tf.Variable` \uc5f0\uc0b0\uc744 \ud638\ucd9c\ud558\uc5ec \uac12\uc744 \uc5bb\uc740 \ub2e4\uc74c \uadf8 \uac12\uc758 \ud569\uc73c\ub85c \uc0c8 \ud150\uc11c\ub97c \ubc18\ud658\ud569\ub2c8\ub2e4.\n\n",
        "\uadf8\ub798\ud504\ub294 \ubc18\ub4dc\uc2dc \ud150\uc11c\ud50c\ub85c\uc6b0 **\uc138\uc158** \ub0b4\uc5d0\uc11c \uc2e4\ud589\ub418\uc5b4\uc57c \ud569\ub2c8\ub2e4. \uc138\uc158\uc740 \ub2e4\uc74c\uc744 \uc2e4\ud589\ud558\ub294 \uadf8\ub798\ud504\uc758 \uc0c1\ud0dc\ub97c \uac00\uc9d1\ub2c8\ub2e4.\n\n",
        "```\n",
        "with tf.Session() as sess:\n",
        "  initialization = tf.global_variables_initializer()\n",
        "  print(y.eval())\n",
        "```\n\n",
        "`tf.Variable`\uc744 \uc0ac\uc6a9\ud560 \ub54c \uc704\uc5d0\uc11c\uc640 \uac19\uc774 \uc138\uc158 \uc2dc\uc791 \uc2dc `tf.global_variables_initializer`\ub97c \ud638\ucd9c\ud558\uc5ec \uba85\uc2dc\uc801\uc73c\ub85c \ucd08\uae30\ud654\ud574\uc57c \ud569\ub2c8\ub2e4.\n\n",
        "**\ucc38\uace0:** \uc138\uc158\uc740 \uc5ec\ub7ec \uc2dc\uc2a4\ud15c\uc5d0 \uadf8\ub798\ud504 \uc2e4\ud589\uc744 \ubd84\uc0b0\ud560 \uc218 \uc788\uc2b5\ub2c8\ub2e4(\ud504\ub85c\uadf8\ub7a8\uc774 \ubd84\uc0b0 \uacc4\uc0b0 \ud504\ub808\uc784\uc6cc\ud06c\uc5d0\uc11c \uc2e4\ud589\ub41c\ub2e4\uace0 \uac00\uc815). \uc790\uc138\ud55c \uc815\ubcf4\ub294 [\ubd84\uc0b0 \ud150\uc11c\ud50c\ub85c\uc6b0](https://www.tensorflow.org/deploy/distributed)\ub97c \ucc38\uc870\ud558\uc138\uc694.\n\n",
        "### \uc694\uc57d\n\n",
        "\ud150\uc11c\ud50c\ub85c\uc6b0 \ud504\ub85c\uadf8\ub798\ubc0d\uc740 \uae30\ubcf8\uc801\uc73c\ub85c \ub450 \ub2e8\uacc4 \uacfc\uc815\uc785\ub2c8\ub2e4.\n\n",
        "1. \uc0c1\uc218, \ubcc0\uc218, \uc5f0\uc0b0\uc744 \uadf8\ub798\ud504\ub85c \uacb0\ud569\ud569\ub2c8\ub2e4.\n",
        "2. \uc774 \uc0c1\uc218, \ubcc0\uc218, \uc5f0\uc0b0\uc744 \uc138\uc158 \ub0b4\uc5d0\uc11c \ud3c9\uac00\ud569\ub2c8\ub2e4.\n",
        ""
      ],
      "cell_type": "markdown",
      "metadata": {
        "colab_type": "text",
        "id": "NzKsjX-ufyVY"
      }
    },
    {
      "source": [
        " ## \uac04\ub2e8\ud55c \ud150\uc11c\ud50c\ub85c\uc6b0 \ud504\ub85c\uadf8\ub7a8 \ub9cc\ub4e4\uae30\n",
        "\n",
        "\ub450 \uac1c\uc758 \uc0c1\uc218\ub97c \ub354\ud558\ub294 \uac04\ub2e8\ud55c \ud150\uc11c\ud50c\ub85c\uc6b0 \ud504\ub85c\uadf8\ub7a8 \ucf54\ub529 \ubc29\ubc95\uc744 \uc54c\uc544\ubcf4\uaca0\uc2b5\ub2c8\ub2e4. "
      ],
      "cell_type": "markdown",
      "metadata": {
        "colab_type": "text",
        "id": "VL0yWNNdgBpG"
      }
    },
    {
      "source": [
        " ### Import \uba85\ub839\ubb38 \uc81c\uacf5\n",
        "\n",
        "\uac70\uc758 \ubaa8\ub4e0 Python \ud504\ub85c\uadf8\ub7a8\uc5d0\uc11c\uc640 \ub9c8\ucc2c\uac00\uc9c0\ub85c \uba3c\uc800 \uba87 \uac00\uc9c0 `import` \uba85\ub839\ubb38\uc744 \uc9c0\uc815\ud558\ub294 \uac83\uc73c\ub85c \uc2dc\uc791\ud569\ub2c8\ub2e4.\n",
        "\ud150\uc11c\ud50c\ub85c\uc6b0 \ud504\ub85c\uadf8\ub7a8\uc744 \uc2e4\ud589\ud558\ub294 \ub370 \ud544\uc694\ud55c `import` \uba85\ub839\ubb38 \uc9d1\ud569\uc740 \ubb3c\ub860 \ud504\ub85c\uadf8\ub7a8\uc5d0\uc11c \uc561\uc138\uc2a4\ud558\ub294 \uae30\ub2a5\uc5d0 \ub530\ub77c \ub2ec\ub77c\uc9d1\ub2c8\ub2e4. \ucd5c\uc18c\ud55c \ubaa8\ub4e0 \ud150\uc11c\ud50c\ub85c\uc6b0 \ud504\ub85c\uadf8\ub7a8\uc5d0\uc11c `import tensorflow` \uba85\ub839\ubb38\uc744 \uc81c\uacf5\ud574\uc57c \ud569\ub2c8\ub2e4."
      ],
      "cell_type": "markdown",
      "metadata": {
        "colab_type": "text",
        "id": "mN4R0gmMzah3"
      }
    },
    {
      "source": [
        "import tensorflow as tf"
      ],
      "cell_type": "code",
      "metadata": {
        "colab_type": "code",
        "id": "SDbi6heigEGA",
        "colab": {
          "autoexec": {
            "wait_interval": 0,
            "startup": false
          }
        }
      },
      "outputs": [],
      "execution_count": 0
    },
    {
      "source": [
        " **\uc78a\uc9c0 \ub9d0\uace0 \uc774\uc804 \ucf54\ub4dc \ube14\ub85d(`\uc911\uc694` \ubb38)\uc744 \uc2e4\ud589\ud558\uc138\uc694.**\n",
        "\n",
        "\ub2e4\ub978 \uc77c\ubc18\uc801\uc778 import \uba85\ub839\ubb38\uc740 \ub2e4\uc74c\uacfc \uac19\uc2b5\ub2c8\ub2e4.\n\n\n",
        "```\n",
        "import matplotlib.pyplot as plt # \ub370\uc774\ud130\uc138\ud2b8 \uc2dc\uac01\ud654\n",
        "import numpy as np              # \uc800\uc218\uc900 \uc22b\uc790 Python \ub77c\uc774\ube0c\ub7ec\ub9ac\n",
        "import pandas as pd             # \uace0\uc218\uc900 \uc22b\uc790 Python \ub77c\uc774\ube0c\ub7ec\ub9ac\n",
        "```"
      ],
      "cell_type": "markdown",
      "metadata": {
        "colab_type": "text",
        "id": "6RRT4YIA4fQd"
      }
    },
    {
      "source": [
        " \ud150\uc11c\ud50c\ub85c\uc6b0\ub294 **\uae30\ubcf8 \uadf8\ub798\ud504**\ub97c \uc81c\uacf5\ud569\ub2c8\ub2e4. \ud558\uc9c0\ub9cc \uba85\uc2dc\uc801\uc73c\ub85c \ub098\ub9cc\uc758 `\uadf8\ub798\ud504`\ub97c \ub9cc\ub4e4\uc5b4 \ucd94\uc801 \uc0c1\ud0dc\ub97c \ucd09\uc9c4\ud558\ub294 \uac83\uc774 \uc88b\uc2b5\ub2c8\ub2e4. \uc608\ub97c \ub4e4\uba74 \uac01 \uc140\uc5d0\uc11c \ub2e4\ub978 `\uadf8\ub798\ud504`\ub85c \uc791\uc5c5\ud558\uace0 \uc2f6\uc744 \uc218 \uc788\uae30 \ub54c\ubb38\uc785\ub2c8\ub2e4."
      ],
      "cell_type": "markdown",
      "metadata": {
        "colab_type": "text",
        "id": "1aNpvufRgbTD"
      }
    },
    {
      "source": [
        "from __future__ import print_function\n\n",
        "import tensorflow as tf\n",
        "\n",
        "# Create a graph.\n",
        "g = tf.Graph()\n",
        "\n",
        "# Establish the graph as the \"default\" graph.\n",
        "with g.as_default():\n",
        "  # Assemble a graph consisting of the following three operations:\n",
        "  #   * Two tf.constant operations to create the operands.\n",
        "  #   * One tf.add operation to add the two operands.\n",
        "  x = tf.constant(8, name=\"x_const\")\n",
        "  y = tf.constant(5, name=\"y_const\")\n",
        "  sum = tf.add(x, y, name=\"x_y_sum\")\n",
        "\n",
        "\n",
        "  # Now create a session.\n",
        "  # The session will run the default graph.\n",
        "  with tf.Session() as sess:\n",
        "    print(sum.eval())"
      ],
      "cell_type": "code",
      "metadata": {
        "colab_type": "code",
        "id": "Md8ze8e9geMi",
        "colab": {
          "autoexec": {
            "wait_interval": 0,
            "startup": false
          }
        }
      },
      "outputs": [],
      "execution_count": 0
    },
    {
      "source": [
        " ## \uc2e4\uc2b5: \uc138 \ubc88\uc9f8 \ud53c\uc5f0\uc0b0\uc790 \ub3c4\uc785\n",
        "\n",
        "\uc704\uc758 \ucf54\ub4dc \ubaa9\ub85d\uc744 \uc218\uc815\ud558\uc5ec \ub450 \uac1c \ub300\uc2e0 \uc138 \uac1c\uc758 \uc815\uc218\ub97c \ucd94\uac00\ud569\ub2c8\ub2e4.\n",
        "\n",
        "  1. \uc138 \ubc88\uc9f8 \uc2a4\uce7c\ub77c \uc815\uc218 \uc0c1\uc218 `z`\ub97c \uc815\uc758\ud558\uace0 \uac12 `4`\ub97c \ud560\ub2f9\ud569\ub2c8\ub2e4.\n",
        "  2. `\ud569\uacc4`\uc5d0 `z`\ub97c \ub354\ud574\uc11c \uc0c8 \ud569\uacc4\ub97c \ub3c4\ucd9c\ud569\ub2c8\ub2e4.\n",
        "  \n",
        "  **\ucc38\uace0:** \ud568\uc218 \uc2dc\uadf8\ub2c8\ucc98\uc5d0 \uad00\ud574 \uc790\uc138\ud788 \uc54c\uc544\ubcf4\ub824\uba74 [tf.add()]\uc5d0 \uad00\ud55c API \ubb38\uc11c(https://www.tensorflow.org/api_docs/python/tf/add)\ub97c \ucc38\uc870\ud558\uc138\uc694.\n",
        "  \n",
        "  3. \uc218\uc815\ub41c \ucf54\ub4dc \ube14\ub85d\uc744 \ub2e4\uc2dc \uc2e4\ud589\ud569\ub2c8\ub2e4. \ud504\ub85c\uadf8\ub7a8\uc5d0\uc11c \uc62c\ubc14\ub978 \ud569\uacc4\ub97c \uc0dd\uc131\ud588\ub098\uc694?"
      ],
      "cell_type": "markdown",
      "metadata": {
        "colab_type": "text",
        "id": "7mSz5GVqggZy"
      }
    },
    {
      "source": [
        " ### \ud574\uacb0 \ubc29\ubc95\n",
        "\n",
        "\ud574\uacb0 \ubc29\ubc95\uc744 \ubcf4\ub824\uba74 \uc544\ub798\ub97c \ud074\ub9ad\ud558\uc138\uc694."
      ],
      "cell_type": "markdown",
      "metadata": {
        "colab_type": "text",
        "id": "Zep4W80H9awM"
      }
    },
    {
      "source": [
        "# Create a graph.\n",
        "g = tf.Graph()\n",
        "\n",
        "# Establish our graph as the \"default\" graph.\n",
        "with g.as_default():\n",
        "  # Assemble a graph consisting of three operations. \n",
        "  # (Creating a tensor is an operation.)\n",
        "  x = tf.constant(8, name=\"x_const\")\n",
        "  y = tf.constant(5, name=\"y_const\")\n",
        "  sum = tf.add(x, y, name=\"x_y_sum\")\n",
        "  \n",
        "  # Task 1: Define a third scalar integer constant z.\n",
        "  z = tf.constant(4, name=\"z_const\")\n",
        "  # Task 2: Add z to `sum` to yield a new sum.\n",
        "  new_sum = tf.add(sum, z, name=\"x_y_z_sum\")\n",
        "\n",
        "  # Now create a session.\n",
        "  # The session will run the default graph.\n",
        "  with tf.Session() as sess:\n",
        "    # Task 3: Ensure the program yields the correct grand total.\n",
        "    print(new_sum.eval())"
      ],
      "cell_type": "code",
      "metadata": {
        "colab_type": "code",
        "id": "4OTZPqhS9kzu",
        "colab": {
          "autoexec": {
            "wait_interval": 0,
            "startup": false
          }
        }
      },
      "outputs": [],
      "execution_count": 0
    },
    {
      "source": [
        " ## \ucd94\uac00 \uc815\ubcf4\n",
        "\n",
        "\uae30\ubcf8 \ud150\uc11c\ud50c\ub85c\uc6b0 \uadf8\ub798\ud504\uc5d0 \uad00\ud574 \uc790\uc138\ud788 \uc54c\uc544\ubcf4\ub824\uba74 \ub2e4\uc74c \uac00\uc774\ub4dc\ub85c \uc2e4\ud5d8\ud574 \ubcf4\uc138\uc694.\n",
        "\n",
        "  * [\ub9cc\ub378\ube0c\ub85c \uc9d1\ud569](https://www.tensorflow.org/tutorials/non-ml/mandelbrot)"
      ],
      "cell_type": "markdown",
      "metadata": {
        "colab_type": "text",
        "id": "BrlnLTesgywL"
      }
    }
  ],
  "metadata": {
    "colab": {
      "default_view": {},
      "version": "0.3.2",
      "collapsed_sections": [
        "Zep4W80H9awM",
        "copyright-notice"
      ],
      "name": "tensorflow_programming_concepts.ipynb",
      "views": {}
    }
  }
}
