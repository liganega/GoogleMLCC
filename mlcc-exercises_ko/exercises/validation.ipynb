{
  "nbformat": 4,
  "nbformat_minor": 0,
  "metadata": {
    "colab": {
      "name": "validation.ipynb",
      "version": "0.3.2",
      "views": {},
      "default_view": {},
      "provenance": [],
      "collapsed_sections": [
        "4Xp9NhOCYSuz",
        "pECTKgw5ZvFK",
        "dER2_43pWj1T",
        "I-La4N9ObC1x",
        "yTghc_5HkJDW",
        "copyright-notice"
      ]
    }
  },
  "cells": [
    {
      "source": [
        "#### Copyright 2017 Google LLC."
      ],
      "metadata": {
        "id": "copyright-notice",
        "colab_type": "text"
      },
      "cell_type": "markdown"
    },
    {
      "execution_count": 0,
      "outputs": [],
      "source": [
        "# Licensed under the Apache License, Version 2.0 (the \"License\");\n",
        "# you may not use this file except in compliance with the License.\n",
        "# You may obtain a copy of the License at\n",
        "#\n",
        "# https://www.apache.org/licenses/LICENSE-2.0\n",
        "#\n",
        "# Unless required by applicable law or agreed to in writing, software\n",
        "# distributed under the License is distributed on an \"AS IS\" BASIS,\n",
        "# WITHOUT WARRANTIES OR CONDITIONS OF ANY KIND, either express or implied.\n",
        "# See the License for the specific language governing permissions and\n",
        "# limitations under the License."
      ],
      "metadata": {
        "cellView": "both",
        "colab": {
          "autoexec": {
            "wait_interval": 0,
            "startup": false
          }
        },
        "id": "copyright-notice2",
        "colab_type": "code"
      },
      "cell_type": "code"
    },
    {
      "cell_type": "markdown",
      "metadata": {
        "id": "zbIgBK-oXHO7",
        "colab_type": "text"
      },
      "source": [
        " # \uac80\uc99d"
      ]
    },
    {
      "cell_type": "markdown",
      "metadata": {
        "id": "WNX0VyBpHpCX",
        "colab_type": "text"
      },
      "source": [
        " **\ud559\uc2b5 \ubaa9\ud45c:**\n",
        "  * \ub2e8\uc77c \ud2b9\uc131\uc774 \uc544\ub2cc \uc5ec\ub7ec \ud2b9\uc131\uc744 \uc0ac\uc6a9\ud558\uc5ec \ubaa8\ub378\uc758 \ud6a8\uacfc\ub97c \ub354\uc6b1 \ub192\uc778\ub2e4\n",
        "  * \ubaa8\ub378 \uc785\ub825 \ub370\uc774\ud130\uc758 \ubb38\uc81c\ub97c \ub514\ubc84\uae45\ud55c\ub2e4\n",
        "  * \ud14c\uc2a4\ud2b8 \ub370\uc774\ud130 \uc138\ud2b8\ub97c \uc0ac\uc6a9\ud558\uc5ec \ubaa8\ub378\uc774 \uac80\uc99d \ub370\uc774\ud130\uc5d0 \uacfc\uc801\ud569\ub418\uc5c8\ub294\uc9c0 \ud655\uc778\ud55c\ub2e4"
      ]
    },
    {
      "cell_type": "markdown",
      "metadata": {
        "id": "za0m1T8CHpCY",
        "colab_type": "text"
      },
      "source": [
        " \uc774\uc804 \uc2e4\uc2b5\uacfc \ub3d9\uc77c\ud558\uac8c 1990\ub144 \uc778\uad6c\uc870\uc0ac \uc790\ub8cc\uc5d0\uc11c \ucd94\ucd9c\ud55c \uce98\ub9ac\ud3ec\ub2c8\uc544 \uc8fc\ud0dd \ub370\uc774\ud130 \uc138\ud2b8\ub97c \uc0ac\uc6a9\ud558\uc5ec \uc9c0\uc5ed\ubcc4 `median_house_value`\ub97c \uc608\uce21\ud574 \ubcf4\uaca0\uc2b5\ub2c8\ub2e4."
      ]
    },
    {
      "cell_type": "markdown",
      "metadata": {
        "id": "r2zgMfWDWF12",
        "colab_type": "text"
      },
      "source": [
        " ## \uc124\uc815"
      ]
    },
    {
      "cell_type": "markdown",
      "metadata": {
        "id": "8jErhkLzWI1B",
        "colab_type": "text"
      },
      "source": [
        " \uc6b0\uc120 \ub370\uc774\ud130\ub97c \ub85c\ub4dc\ud558\uace0 \uc900\ube44\ud569\ub2c8\ub2e4. \uc774\ubc88\uc5d0\ub294 \uc5ec\ub7ec \ud2b9\uc131\uc744 \ub2e4\ub8f0 \uac83\uc774\ubbc0\ub85c \ud2b9\uc131\uc744 \uc804\ucc98\ub9ac\ud558\ub294 \ub85c\uc9c1\uc744 \ubaa8\ub4c8\ud654\ud558\uaca0\uc2b5\ub2c8\ub2e4."
      ]
    },
    {
      "metadata": {
        "id": "PwS5Bhm6HpCZ",
        "colab_type": "code",
        "colab": {
          "autoexec": {
            "startup": false,
            "wait_interval": 0
          }
        }
      },
      "source": [
        "from __future__ import print_function\n",
        "\n",
        "import math\n",
        "\n",
        "from IPython import display\n",
        "from matplotlib import cm\n",
        "from matplotlib import gridspec\n",
        "from matplotlib import pyplot as plt\n",
        "import numpy as np\n",
        "import pandas as pd\n",
        "from sklearn import metrics\n",
        "import tensorflow as tf\n",
        "from tensorflow.python.data import Dataset\n",
        "\n",
        "tf.logging.set_verbosity(tf.logging.ERROR)\n",
        "pd.options.display.max_rows = 10\n",
        "pd.options.display.float_format = '{:.1f}'.format\n",
        "\n",
        "california_housing_dataframe = pd.read_csv(\"https://download.mlcc.google.com/mledu-datasets/california_housing_train.csv\", sep=\",\")\n",
        "\n",
        "# california_housing_dataframe = california_housing_dataframe.reindex(\n",
        "#     np.random.permutation(california_housing_dataframe.index))"
      ],
      "cell_type": "code",
      "execution_count": 0,
      "outputs": []
    },
    {
      "metadata": {
        "id": "J2ZyTzX0HpCc",
        "colab_type": "code",
        "colab": {
          "autoexec": {
            "startup": false,
            "wait_interval": 0
          }
        }
      },
      "source": [
        "def preprocess_features(california_housing_dataframe):\n",
        "  \"\"\"Prepares input features from California housing data set.\n",
        "\n",
        "  Args:\n",
        "    california_housing_dataframe: A Pandas DataFrame expected to contain data\n",
        "      from the California housing data set.\n",
        "  Returns:\n",
        "    A DataFrame that contains the features to be used for the model, including\n",
        "    synthetic features.\n",
        "  \"\"\"\n",
        "  selected_features = california_housing_dataframe[\n",
        "    [\"latitude\",\n",
        "     \"longitude\",\n",
        "     \"housing_median_age\",\n",
        "     \"total_rooms\",\n",
        "     \"total_bedrooms\",\n",
        "     \"population\",\n",
        "     \"households\",\n",
        "     \"median_income\"]]\n",
        "  processed_features = selected_features.copy()\n",
        "  # Create a synthetic feature.\n",
        "  processed_features[\"rooms_per_person\"] = (\n",
        "    california_housing_dataframe[\"total_rooms\"] /\n",
        "    california_housing_dataframe[\"population\"])\n",
        "  return processed_features\n",
        "\n",
        "def preprocess_targets(california_housing_dataframe):\n",
        "  \"\"\"Prepares target features (i.e., labels) from California housing data set.\n",
        "\n",
        "  Args:\n",
        "    california_housing_dataframe: A Pandas DataFrame expected to contain data\n",
        "      from the California housing data set.\n",
        "  Returns:\n",
        "    A DataFrame that contains the target feature.\n",
        "  \"\"\"\n",
        "  output_targets = pd.DataFrame()\n",
        "  # Scale the target to be in units of thousands of dollars.\n",
        "  output_targets[\"median_house_value\"] = (\n",
        "    california_housing_dataframe[\"median_house_value\"] / 1000.0)\n",
        "  return output_targets"
      ],
      "cell_type": "code",
      "execution_count": 0,
      "outputs": []
    },
    {
      "cell_type": "markdown",
      "metadata": {
        "id": "sZSIaDiaHpCf",
        "colab_type": "text"
      },
      "source": [
        " **\ud559\uc2b5 \uc138\ud2b8**\ub85c\ub294 \ucd1d 17,000\uac1c \uc608 \uc911\uc5d0\uc11c \ucc98\uc74c 12,000\uac1c\ub97c \uc120\ud0dd\ud569\ub2c8\ub2e4."
      ]
    },
    {
      "metadata": {
        "id": "P9wejvw7HpCf",
        "colab_type": "code",
        "colab": {
          "autoexec": {
            "startup": false,
            "wait_interval": 0
          }
        }
      },
      "source": [
        "training_examples = preprocess_features(california_housing_dataframe.head(12000))\n",
        "training_examples.describe()"
      ],
      "cell_type": "code",
      "execution_count": 0,
      "outputs": []
    },
    {
      "metadata": {
        "id": "JlkgPR-SHpCh",
        "colab_type": "code",
        "colab": {
          "autoexec": {
            "startup": false,
            "wait_interval": 0
          }
        }
      },
      "source": [
        "training_targets = preprocess_targets(california_housing_dataframe.head(12000))\n",
        "training_targets.describe()"
      ],
      "cell_type": "code",
      "execution_count": 0,
      "outputs": []
    },
    {
      "cell_type": "markdown",
      "metadata": {
        "id": "5l1aA2xOHpCj",
        "colab_type": "text"
      },
      "source": [
        " **\uac80\uc99d \uc138\ud2b8**\ub85c\ub294 \ucd1d 17,000\uac1c \uc608 \uc911\uc5d0\uc11c \ub9c8\uc9c0\ub9c9 5,000\uac1c\ub97c \uc120\ud0dd\ud569\ub2c8\ub2e4."
      ]
    },
    {
      "metadata": {
        "id": "fLYXLWAiHpCk",
        "colab_type": "code",
        "colab": {
          "autoexec": {
            "startup": false,
            "wait_interval": 0
          }
        }
      },
      "source": [
        "validation_examples = preprocess_features(california_housing_dataframe.tail(5000))\n",
        "validation_examples.describe()"
      ],
      "cell_type": "code",
      "execution_count": 0,
      "outputs": []
    },
    {
      "metadata": {
        "id": "oVPcIT3BHpCm",
        "colab_type": "code",
        "colab": {
          "autoexec": {
            "startup": false,
            "wait_interval": 0
          }
        }
      },
      "source": [
        "validation_targets = preprocess_targets(california_housing_dataframe.tail(5000))\n",
        "validation_targets.describe()"
      ],
      "cell_type": "code",
      "execution_count": 0,
      "outputs": []
    },
    {
      "cell_type": "markdown",
      "metadata": {
        "id": "z3TZV1pgfZ1n",
        "colab_type": "text"
      },
      "source": [
        " ## \uc791\uc5c5 1: \ub370\uc774\ud130 \uc870\uc0ac\n",
        "\uc774\uc81c \uc704 \ub370\uc774\ud130\ub97c \uc0b4\ud3b4\ubcf4\uaca0\uc2b5\ub2c8\ub2e4. \uc0ac\uc6a9 \uac00\ub2a5\ud55c \uc785\ub825 \ud2b9\uc131\uc740 `9`\uac1c\uc785\ub2c8\ub2e4.\n",
        "\n",
        "\uac12 \ud14c\uc774\ube14\uc744 \uac04\ub2e8\ud788 \ud6d1\uc5b4\ubcf4\uc138\uc694. \uc774\uc0c1\ud55c \uc810\uc774 \uc5c6\ub098\uc694? \ubb38\uc81c\uc810\uc774 \uba87 \uac00\uc9c0 \ubc1c\uacac\ub418\ub294\uc9c0 \uc138\uc5b4\ubcf4\uc138\uc694. \ud1b5\uacc4\ud559\uc5d0 \ub300\ud574 \ubb38\uc678\ud55c\uc774\ub77c\ub3c4 \uad1c\ucc2e\uc2b5\ub2c8\ub2e4. \uc0c1\uc2dd \uc120\uc5d0\uc11c \uc0b4\ud3b4\ubd10\ub3c4 \ucda9\ubd84\ud569\ub2c8\ub2e4.\n",
        "\n",
        "\ub370\uc774\ud130\ub97c \uc9c1\uc811 \uc0b4\ud3b4\ubcf4\uc558\uc73c\uba74 \ud574\uacb0 \ubc29\ubc95\uc744 \ud655\uc778\ud558\uc5ec \uc5ec\ub7ec \uac00\uc9c0 \ub370\uc774\ud130 \uac80\uc99d \ubc29\ubc95\uc744 \uc54c\uc544\ubcf4\uc138\uc694."
      ]
    },
    {
      "cell_type": "markdown",
      "metadata": {
        "id": "4Xp9NhOCYSuz",
        "colab_type": "text"
      },
      "source": [
        " ### \ud574\uacb0 \ubc29\ubc95\n",
        "\n",
        "\ud574\uacb0 \ubc29\ubc95\uc744 \ubcf4\ub824\uba74 \uc544\ub798\ub97c \ud074\ub9ad\ud558\uc138\uc694."
      ]
    },
    {
      "cell_type": "markdown",
      "metadata": {
        "id": "gqeRmK57YWpy",
        "colab_type": "text"
      },
      "source": [
        " \ub2e4\uc74c\uacfc \uac19\uc740 \ucd5c\uc18c \uae30\uc900\uc744 \uac00\uc9c0\uace0 \ub370\uc774\ud130\ub97c \ud655\uc778\ud560 \uc218 \uc788\uc2b5\ub2c8\ub2e4.\n",
        "\n",
        "* `median_house_value` \ub4f1\uc758 \uac12\uc740 \ud569\ub9ac\uc801\uc778 \ubc94\uc704 \ub0b4\uc5d0 \ub4e4\uc5b4\uac00\ub294\uc9c0\ub97c \ud655\uc778\ud560 \uc218 \uc788\uc2b5\ub2c8\ub2e4. \ud604\uc7ac\uac00 \uc544\ub2cc 1990\ub144 \uc790\ub8cc\uc784\uc5d0 \uc8fc\uc758\ud558\uc138\uc694.\n",
        "\n",
        "* `latitude`, `longitude` \ub4f1\uc758 \uac12\uc740 \uac04\ub2e8\ud55c Google \uac80\uc0c9\uc744 \ud1b5\ud574 \uae30\ub300\uac12\uacfc \ubd80\ud569\ud558\ub294\uc9c0 \uac04\ub2e8\ud788 \uc810\uac80\ud560 \uc218 \uc788\uc2b5\ub2c8\ub2e4.\n",
        "\n",
        "\uba74\ubc00\ud788 \uc0b4\ud3b4\ubcf4\uba74 \uba87 \uac00\uc9c0 \uc774\uc0c1\ud55c \uc810\uc774 \ub208\uc5d0 \ub755\ub2c8\ub2e4.\n",
        "\n",
        "* `median_income`\uc758 \ucc99\ub3c4\ub294 \uc57d 3~15 \ubc94\uc704\uc778\ub370, \uadf8 \uc758\ubbf8\uac00 \ubd88\ubd84\uba85\ud569\ub2c8\ub2e4. \uc77c\uc885\uc758 \ub85c\uadf8 \ucc99\ub3c4\ub85c \ubcf4\uc774\uc9c0\ub9cc \ubcc4\ub3c4\ub85c \uc124\uba85\ub41c \uacf3\uc774 \uc5c6\uc73c\uba70, \ub192\uc740 \uac12\uc740 \ub192\uc740 \uc18c\ub4dd\uc5d0 \ud574\ub2f9\ud55c\ub2e4\ub294 \uac83\ub9cc \uc720\ucd94\ud560 \uc218 \uc788\uc2b5\ub2c8\ub2e4.\n",
        "\n",
        "* `median_house_value`\uc758 \ucd5c\ub300\uac12\uc740 500,001\uc785\ub2c8\ub2e4. \uc774 \uac12\uc740 \uc778\uc704\uc801\uc778 \ud55c\ub3c4\ub85c \ubcf4\uc785\ub2c8\ub2e4.\n",
        "\n",
        "* `rooms_per_person` \ud2b9\uc131\uc758 \ucc99\ub3c4\ub294 \uc77c\ubc18\uc801\uc73c\ub85c \uc0c1\uc2dd\uc5d0 \ubd80\ud569\ud558\uba70, 75\ubc88\uc9f8 \ubc31\ubd84\uc704\uc218 \uac12\uc774 \uc57d 2\uc785\ub2c8\ub2e4. \uadf8\ub7f0\ub370 18\uc774\ub098 55 \uac19\uc740 \ub9e4\uc6b0 \ud070 \uac12\uc774 \ubcf4\uc774\uba70, \uc774\ub294 \ub370\uc774\ud130 \uc190\uc0c1\uc758 \uc99d\uac70\uc77c \uc218 \uc788\uc2b5\ub2c8\ub2e4.\n",
        "\n",
        "\uc9c0\uae08\uc740 \uc774 \ud2b9\uc131\uc744 \uadf8\ub300\ub85c \uc0ac\uc6a9\ud558\uaca0\uc2b5\ub2c8\ub2e4. \uc774\ub7ec\ud55c \uc608\ub97c \ud1b5\ud574 \ucd9c\ucc98\uac00 \ubd88\ubd84\uba85\ud55c \ub370\uc774\ud130\ub97c \uac80\uc99d\ud558\ub294 \ubc29\ubc95\uc5d0 \ub300\ud574 \uac10\uc744 \uc775\ud788\uc2dc\uae30 \ubc14\ub78d\ub2c8\ub2e4."
      ]
    },
    {
      "cell_type": "markdown",
      "metadata": {
        "id": "fXliy7FYZZRm",
        "colab_type": "text"
      },
      "source": [
        " ## \uc791\uc5c5 2: \uc704\ub3c4/\uacbd\ub3c4\uc640 \uc8fc\ud0dd \uac00\uaca9 \uc911\uc559\uac12\uc744 \ube44\uad50\ud558\uc5ec \ub3c4\uc2dd\ud654"
      ]
    },
    {
      "cell_type": "markdown",
      "metadata": {
        "id": "aJIWKBdfsDjg",
        "colab_type": "text"
      },
      "source": [
        " **`latitude`**\uc640 **`longitude`**\ub77c\ub294 \ub450 \uac00\uc9c0 \ud2b9\uc131\uc744 \uc911\uc810\uc801\uc73c\ub85c \uc0b4\ud3b4\ubcf4\uaca0\uc2b5\ub2c8\ub2e4. \uc774\ub4e4\uc740 \ud2b9\uc815 \uad6c\uc5ed\uc758 \uc9c0\ub9ac \uc88c\ud45c\ub97c \ub098\ud0c0\ub0c5\ub2c8\ub2e4.\n",
        "\n",
        "\uc774\ub7ec\ud55c \ud2b9\uc131\uc740 \uc2dc\uac01\ud654\ud558\uae30\uac00 \uc88b\uc2b5\ub2c8\ub2e4. `latitude`\uc640 `longitude`\ub97c \ub3c4\uc2dd\ud654\ud558\uace0 `median_house_value`\ub97c \uc0c9\uc0c1\uc73c\ub85c \ud45c\ud604\ud574 \ubcf4\uaca0\uc2b5\ub2c8\ub2e4."
      ]
    },
    {
      "metadata": {
        "id": "5_LD23bJ06TW",
        "colab_type": "code",
        "colab": {
          "autoexec": {
            "startup": false,
            "wait_interval": 0
          },
          "test": {
            "output": "ignore",
            "timeout": 600
          }
        },
        "cellView": "both"
      },
      "source": [
        "plt.figure(figsize=(13, 8))\n",
        "\n",
        "ax = plt.subplot(1, 2, 1)\n",
        "ax.set_title(\"Validation Data\")\n",
        "\n",
        "ax.set_autoscaley_on(False)\n",
        "ax.set_ylim([32, 43])\n",
        "ax.set_autoscalex_on(False)\n",
        "ax.set_xlim([-126, -112])\n",
        "plt.scatter(validation_examples[\"longitude\"],\n",
        "            validation_examples[\"latitude\"],\n",
        "            cmap=\"coolwarm\",\n",
        "            c=validation_targets[\"median_house_value\"] / validation_targets[\"median_house_value\"].max())\n",
        "\n",
        "ax = plt.subplot(1,2,2)\n",
        "ax.set_title(\"Training Data\")\n",
        "\n",
        "ax.set_autoscaley_on(False)\n",
        "ax.set_ylim([32, 43])\n",
        "ax.set_autoscalex_on(False)\n",
        "ax.set_xlim([-126, -112])\n",
        "plt.scatter(training_examples[\"longitude\"],\n",
        "            training_examples[\"latitude\"],\n",
        "            cmap=\"coolwarm\",\n",
        "            c=training_targets[\"median_house_value\"] / training_targets[\"median_house_value\"].max())\n",
        "_ = plt.plot()"
      ],
      "cell_type": "code",
      "execution_count": 0,
      "outputs": []
    },
    {
      "cell_type": "markdown",
      "metadata": {
        "id": "32_DbjnfXJlC",
        "colab_type": "text"
      },
      "source": [
        " \uc815\uc0c1\uc801\uc73c\ub85c \uae30\ub300\ub418\ub294 \uacb0\uacfc\ub294 \uce98\ub9ac\ud3ec\ub2c8\uc544\uc8fc \uc9c0\ub3c4\uac00 \uadf8\ub824\uc9c0\uba74\uc11c \uc0cc\ud504\ub780\uc2dc\uc2a4\ucf54, \ub85c\uc2a4\uc564\uc824\ub808\uc2a4 \uac19\uc774 \uc8fc\ud0dd \uac00\uaca9\uc774 \ub192\uc740 \uc9c0\uc5ed\uc774 \ube68\uac04\uc0c9\uc73c\ub85c \ud45c\uc2dc\ub418\ub294 \uac83\uc785\ub2c8\ub2e4.\n",
        "\n",
        "[\uc2e4\uc81c \uc9c0\ub3c4](https://www.google.com/maps/place/California/@37.1870174,-123.7642688,6z/data=!3m1!4b1!4m2!3m1!1s0x808fb9fe5f285e3d:0x8b5109a227086f55)\uc640 \ube44\uad50\ud574 \ubcf4\uba74 \ud559\uc2b5 \uc138\ud2b8\ub294 \uc5b4\ub290 \uc815\ub3c4 \uae30\ub300\uc5d0 \ubd80\ud569\ud558\uc9c0\ub9cc \uac80\uc99d \uc138\ud2b8\ub294 \uadf8\ub807\uc9c0 \ubabb\ud569\ub2c8\ub2e4.\n",
        "\n",
        "**\uc791\uc5c5 1\ub85c \ub3cc\uc544\uac00\uc11c \ub370\uc774\ud130\ub97c \ub2e4\uc2dc \uc0b4\ud3b4\ubcf4\uc138\uc694.**\n",
        "\n",
        "\ud559\uc2b5 \ub370\uc774\ud130\uc640 \uac80\uc99d \ub370\uc774\ud130 \uc0ac\uc774\uc5d0\uc11c \ud2b9\uc131 \ub610\ub294 \ud0c0\uac9f\uc758 \ubd84\ud3ec\uc5d0 \ub610 \ub2e4\ub978 \ucc28\uc774\uc810\uc774 \ubcf4\uc774\ub098\uc694?"
      ]
    },
    {
      "cell_type": "markdown",
      "metadata": {
        "id": "pECTKgw5ZvFK",
        "colab_type": "text"
      },
      "source": [
        " ### \ud574\uacb0 \ubc29\ubc95\n",
        "\n",
        "\ud574\uacb0 \ubc29\ubc95\uc744 \ubcf4\ub824\uba74 \uc544\ub798\ub97c \ud074\ub9ad\ud558\uc138\uc694."
      ]
    },
    {
      "cell_type": "markdown",
      "metadata": {
        "id": "49NC4_KIZxk_",
        "colab_type": "text"
      },
      "source": [
        " \uc704\uc758 \uc694\uc57d \ud1b5\uacc4 \ud14c\uc774\ube14\uc744 \uc0b4\ud3b4\ubcf4\uba74, \uc720\uc6a9\ud55c \ub370\uc774\ud130 \uac80\uc99d \ubc29\ubc95\uc774 \uc788\uae30\ub294 \ud55c\uc9c0 \uc758\ubb38\uc2a4\ub7ec\uc6b8 \uc218 \uc788\uc2b5\ub2c8\ub2e4. \ud2b9\uc815 \uc9c0\uc5ed\uc758 total_rooms\uc5d0 \ub300\ud55c 75<sup></sup>\ubc88\uc9f8 \ubc31\ubd84\uc704\uc218 \uac12\uc5d0 \uc815\ub2f5\uc774 \uc788\uc744\uae4c\uc694?\n",
        "\n",
        "\uc5ec\uae30\uc5d0\uc11c \uc54c\uc544\uc57c \ud560 \uc810\uc740, \ud2b9\uc131 \ub610\ub294 \uc5f4\uc758 \uc885\ub958\uc5d0 \uad00\uacc4\uc5c6\uc774 \ud559\uc2b5 \uc138\ud2b8\uc640 \uac80\uc99d \uc138\ud2b8\uc5d0\uc11c \uac12\uc758 \ubd84\ud3ec\uac00 \ub300\ub7b5\uc801\uc73c\ub85c \uac19\uc544\uc57c \ud55c\ub2e4\ub294 \uc810\uc785\ub2c8\ub2e4.\n",
        "\n",
        "\uac12\uc758 \ubd84\ud3ec\uac00 \ub2e4\ub974\ub2e4\uba74 \uc2ec\uac01\ud55c \ubb38\uc81c\uc774\uba70, \ud559\uc2b5 \uc138\ud2b8\uc640 \uac80\uc99d \uc138\ud2b8\ub97c \ub9cc\ub4dc\ub294 \ubc29\ubc95\uc774 \uc798\ubabb\ub418\uc5c8\uc744 \uac00\ub2a5\uc131\uc774 \ub192\ub2e4\ub294 \uc758\ubbf8\uc785\ub2c8\ub2e4."
      ]
    },
    {
      "cell_type": "markdown",
      "metadata": {
        "id": "025Ky0Dq9ig0",
        "colab_type": "text"
      },
      "source": [
        " ## \uc791\uc5c5 3:  \ub370\uc774\ud130 \uac00\uc838\uc624\uae30 \ubc0f \uc804\ucc98\ub9ac \ucf54\ub4dc\ub85c \ub3cc\uc544\uac00\uc11c \ubc84\uadf8\uac00 \uc788\ub294\uc9c0 \ud655\uc778\n",
        "\ubc84\uadf8\uac00 \ubc1c\uacac\ub418\uba74 \ubc14\ub85c \uc218\uc815\ud558\uc138\uc694. 1~2\ubd84\ub9cc \ud22c\uc790\ud558\uc5ec \uac04\ub2e8\ud788 \uc0b4\ud3b4\ubcf4\uc2dc\uae30 \ubc14\ub78d\ub2c8\ub2e4. \ubc84\uadf8\ub97c \ucc3e\uc9c0 \ubabb\ud55c \uacbd\uc6b0 \ud574\uacb0 \ubc29\ubc95\uc744 \ucc38\uc870\ud558\uc138\uc694."
      ]
    },
    {
      "cell_type": "markdown",
      "metadata": {
        "id": "JFsd2eWHAMdy",
        "colab_type": "text"
      },
      "source": [
        " \ubb38\uc81c\uc810\uc744 \ucc3e\uc544\uc11c \uc218\uc815\ud588\uc73c\uba74 \uc704\uc758 `latitude` / `longitude` \ub3c4\uc2dd\ud654 \uc140\uc744 \ub2e4\uc2dc \uc2e4\ud589\ud558\uc5ec \ud0c0\ub2f9\uc131 \uac80\uc0ac \uacb0\uacfc\uac00 \uc88b\uc544\uc84c\ub294\uc9c0 \ud655\uc778\ud569\ub2c8\ub2e4.\n",
        "\n",
        "\uc5ec\uae30\uc5d0\uc11c \uc911\uc694\ud55c \uad50\ud6c8\uc744 \uc5bb\uc744 \uc218 \uc788\uc2b5\ub2c8\ub2e4.\n",
        "\n",
        "**ML\uc758 \ub514\ubc84\uae45\uc740 \ucf54\ub4dc \ub514\ubc84\uae45\uc774 \uc544\ub2cc *\ub370\uc774\ud130 \ub514\ubc84\uae45*\uc778 \uacbd\uc6b0\uac00 \ub9ce\uc2b5\ub2c8\ub2e4.**\n",
        "\n",
        "\ub370\uc774\ud130\uac00 \uc798\ubabb\ub418\uc5c8\ub2e4\uba74 \uac00\uc7a5 \ubc1c\uc804\ud55c \ucd5c\uc2e0 ML \ucf54\ub4dc\ub77c\ub3c4 \ubb38\uc81c\ub97c \uc77c\uc73c\ud0ac \uc218\ubc16\uc5d0 \uc5c6\uc2b5\ub2c8\ub2e4."
      ]
    },
    {
      "cell_type": "markdown",
      "metadata": {
        "id": "dER2_43pWj1T",
        "colab_type": "text"
      },
      "source": [
        " ### \ud574\uacb0 \ubc29\ubc95\n",
        "\n",
        "\ud574\uacb0 \ubc29\ubc95\uc744 \ubcf4\ub824\uba74 \uc544\ub798\ub97c \ud074\ub9ad\ud558\uc138\uc694."
      ]
    },
    {
      "cell_type": "markdown",
      "metadata": {
        "id": "BnEVbYJvW2wu",
        "colab_type": "text"
      },
      "source": [
        " \ub370\uc774\ud130\ub97c \uc77d\uc744 \ub54c \ubb34\uc791\uc704\ub85c \uc11e\ub294 \ubd80\ubd84\uc744 \uc0b4\ud3b4\ubd05\ub2c8\ub2e4.\n",
        "\n",
        "\ud559\uc2b5 \uc138\ud2b8\uc640 \uac80\uc99d \uc138\ud2b8\ub97c \ub9cc\ub4e4 \ub54c \ub370\uc774\ud130\ub97c \ubb34\uc791\uc704\ub85c \uc801\uc808\ud788 \uc11e\uc9c0 \uc54a\uc73c\uba74, \ub370\uc774\ud130\uac00 \uc77c\uc815\ud55c \uaddc\uce59\uc73c\ub85c \uc815\ub82c\ub41c \uacbd\uc6b0 \ubb38\uc81c\uac00 \uc0dd\uae38 \uc218 \uc788\uc2b5\ub2c8\ub2e4. \ubc14\ub85c \uc774 \ubb38\uc81c\uac00 \ubc1c\uc0dd\ud55c \uac83\uc73c\ub85c \uc0dd\uac01\ub429\ub2c8\ub2e4."
      ]
    },
    {
      "cell_type": "markdown",
      "metadata": {
        "id": "xCdqLpQyAos2",
        "colab_type": "text"
      },
      "source": [
        " ## \uc791\uc5c5 4: \ubaa8\ub378 \ud559\uc2b5 \ubc0f \ud3c9\uac00\n",
        "\n",
        "**5\ubd84 \uc815\ub3c4 \uc2dc\uac04\uc744 \ub0b4\uc5b4 \ucd08\ub9e4\uac1c\ubcc0\uc218\ub97c \ub2e4\uc591\ud558\uac8c \uc124\uc815\ud574 \ubd05\ub2c8\ub2e4.  \uac80\uc99d \uc131\ub2a5\uc744 \ucd5c\ub300\ud55c \ub192\uc5ec\ubcf4\uc138\uc694.**\n",
        "\n",
        "\ub2e4\uc74c\uc73c\ub85c, \ub370\uc774\ud130 \uc138\ud2b8\uc758 \ubaa8\ub4e0 \ud2b9\uc131\uc744 \uc0ac\uc6a9\ud558\uc5ec \uc120\ud615 \ud68c\uadc0 \ubaa8\ub378\uc744 \ud559\uc2b5\uc2dc\ud0a4\uace0 \uc131\ub2a5\uc744 \ud655\uc778\ud569\ub2c8\ub2e4.\n",
        "\n",
        "\uc55e\uc5d0\uc11c \ud150\uc11c\ud50c\ub85c\uc6b0 \ubaa8\ub378\uc5d0 \ub370\uc774\ud130\ub97c \ub85c\ub4dc\ud560 \ub54c \uc0ac\uc6a9\ud55c \uac83\uacfc \ub3d9\uc77c\ud55c \uc785\ub825 \ud568\uc218\ub97c \uc815\uc758\ud558\uaca0\uc2b5\ub2c8\ub2e4.\n"
      ]
    },
    {
      "metadata": {
        "id": "rzcIPGxxgG0t",
        "colab_type": "code",
        "colab": {
          "autoexec": {
            "startup": false,
            "wait_interval": 0
          }
        }
      },
      "source": [
        "def my_input_fn(features, targets, batch_size=1, shuffle=True, num_epochs=None):\n",
        "    \"\"\"Trains a linear regression model of multiple features.\n",
        "  \n",
        "    Args:\n",
        "      features: pandas DataFrame of features\n",
        "      targets: pandas DataFrame of targets\n",
        "      batch_size: Size of batches to be passed to the model\n",
        "      shuffle: True or False. Whether to shuffle the data.\n",
        "      num_epochs: Number of epochs for which data should be repeated. None = repeat indefinitely\n",
        "    Returns:\n",
        "      Tuple of (features, labels) for next data batch\n",
        "    \"\"\"\n",
        "    \n",
        "    # Convert pandas data into a dict of np arrays.\n",
        "    features = {key:np.array(value) for key,value in dict(features).items()}                                           \n",
        " \n",
        "    # Construct a dataset, and configure batching/repeating.\n",
        "    ds = Dataset.from_tensor_slices((features,targets)) # warning: 2GB limit\n",
        "    ds = ds.batch(batch_size).repeat(num_epochs)\n",
        "    \n",
        "    # Shuffle the data, if specified.\n",
        "    if shuffle:\n",
        "      ds = ds.shuffle(10000)\n",
        "    \n",
        "    # Return the next batch of data.\n",
        "    features, labels = ds.make_one_shot_iterator().get_next()\n",
        "    return features, labels"
      ],
      "cell_type": "code",
      "execution_count": 0,
      "outputs": []
    },
    {
      "cell_type": "markdown",
      "metadata": {
        "id": "CvrKoBmNgRCO",
        "colab_type": "text"
      },
      "source": [
        " \uc774\uc81c \uc5ec\ub7ec \uc785\ub825 \ud2b9\uc131\uc744 \ub2e4\ub904\uc57c \ud558\ubbc0\ub85c \ud2b9\uc131 \uc5f4\uc744 \uad6c\uc131\ud558\ub294 \ucf54\ub4dc\ub97c \ubaa8\ub4c8\ud654\ud558\uc5ec \ubcc4\ub3c4\uc758 \ud568\uc218\ub85c \ub9cc\ub4e4\uaca0\uc2b5\ub2c8\ub2e4. \uc9c0\uae08\uc740 \ubaa8\ub4e0 \ud2b9\uc131\uc774 \uc22b\uc790\uc774\ubbc0\ub85c \ucf54\ub4dc\uac00 \ube44\uad50\uc801 \ub2e8\uc21c\ud558\uc9c0\ub9cc, \uc774\ud6c4 \uc2e4\uc2b5\uc5d0\uc11c \ub2e4\ub978 \uc720\ud615\uc758 \ud2b9\uc131\uc744 \uc0ac\uc6a9\ud558\uba74\uc11c \uc774 \ucf54\ub4dc\ub97c \ud655\uc7a5\ud574 \ub098\uac08 \uac83\uc785\ub2c8\ub2e4.)"
      ]
    },
    {
      "metadata": {
        "id": "wEW5_XYtgZ-H",
        "colab_type": "code",
        "colab": {
          "autoexec": {
            "startup": false,
            "wait_interval": 0
          }
        }
      },
      "source": [
        "def construct_feature_columns(input_features):\n",
        "  \"\"\"Construct the TensorFlow Feature Columns.\n",
        "\n",
        "  Args:\n",
        "    input_features: The names of the numerical input features to use.\n",
        "  Returns:\n",
        "    A set of feature columns\n",
        "  \"\"\" \n",
        "  return set([tf.feature_column.numeric_column(my_feature)\n",
        "              for my_feature in input_features])"
      ],
      "cell_type": "code",
      "execution_count": 0,
      "outputs": []
    },
    {
      "cell_type": "markdown",
      "metadata": {
        "id": "D0o2wnnzf8BD",
        "colab_type": "text"
      },
      "source": [
        " \ub2e4\uc74c\uc73c\ub85c, \uc544\ub798\uc758 `train_model()` \ucf54\ub4dc\ub97c \uc644\uc131\ud558\uc5ec \uc785\ub825 \ud568\uc218\ub97c \uc124\uc815\ud558\uace0 \uc608\uce21\uc744 \uacc4\uc0b0\ud569\ub2c8\ub2e4.\n",
        "\n",
        "**\ucc38\uace0:** \uc774\uc804 \uc2e4\uc2b5\uc758 \ucf54\ub4dc\ub97c \ucc38\uc870\ud574\ub3c4 \ubb34\ubc29\ud558\uc9c0\ub9cc \uc801\uc808\ud55c \ub370\uc774\ud130 \uc138\ud2b8\uc5d0 \ub300\ud574 `predict()`\ub97c \ud638\ucd9c\ud574\uc57c \ud569\ub2c8\ub2e4.\n",
        "\n",
        "\ud559\uc2b5 \ub370\uc774\ud130\uc640 \uac80\uc99d \ub370\uc774\ud130\uc758 \uc190\uc2e4\uc744 \ube44\uad50\ud569\ub2c8\ub2e4. \uc6d0\uc2dc \ud2b9\uc131\uc774 \ud558\ub098\uc77c \ub54c\ub294 \uac00\uc7a5 \uc591\ud638\ud55c \ud3c9\uade0 \uc81c\uacf1\uadfc \uc624\ucc28(RMSE)\uac00 \uc57d 180\uc774\uc5c8\uc2b5\ub2c8\ub2e4.\n",
        "\n",
        "\uc774\uc81c \uc5ec\ub7ec \ud2b9\uc131\uc744 \uc0ac\uc6a9\ud558\uba74 \uc5bc\ub9c8\ub098 \uac1c\uc120\ub418\ub294\uc9c0 \ud655\uc778\ud574 \ubcf4\uc138\uc694.\n",
        "\n",
        "\uc55e\uc5d0\uc11c \uc0b4\ud3b4\ubcf8 \uba87 \uac00\uc9c0 \ubc29\ubc95\uc73c\ub85c \ub370\uc774\ud130\ub97c \uc810\uac80\ud558\uc138\uc694.  \uc608\ub97c \ub4e4\uba74 \ub2e4\uc74c\uacfc \uac19\uc2b5\ub2c8\ub2e4.\n",
        "\n",
        "   * \uc608\uce21 \uac12\uacfc \uc2e4\uc81c \ud0c0\uac9f \uac12\uc758 \ubd84\ud3ec \ube44\uad50\n",
        "\n",
        "   * \uc608\uce21 \uac12\uacfc \ud0c0\uac9f \uac12\uc73c\ub85c \uc0b0\ud3ec\ub3c4 \uc791\uc131\n",
        "\n",
        "   * `latitude` \ubc0f `longitude`\ub97c \uc0ac\uc6a9\ud558\uc5ec \uac80\uc99d \ub370\uc774\ud130\ub85c \ub450 \uac1c\uc758 \uc0b0\ud3ec\ub3c4 \uc791\uc131\n",
        "      * \uc0c9\uc0c1\uc744 \uc2e4\uc81c \ud0c0\uac9f `median_house_value`\uc5d0 \ub9e4\ud551\ud558\ub294 \ub3c4\uc2dd \uc791\uc131\n",
        "      * \uc0c9\uc0c1\uc744 \uc608\uce21\ub41c `median_house_value`\uc5d0 \ub9e4\ud551\ud558\ub294 \ub3c4\uc2dd\uc744 \uc791\uc131\ud558\uc5ec \ub098\ub780\ud788 \ube44\uad50"
      ]
    },
    {
      "metadata": {
        "id": "UXt0_4ZTEf4V",
        "colab_type": "code",
        "colab": {
          "autoexec": {
            "startup": false,
            "wait_interval": 0
          },
          "test": {
            "output": "ignore",
            "timeout": 600
          }
        },
        "cellView": "both"
      },
      "source": [
        "def train_model(\n",
        "    learning_rate,\n",
        "    steps,\n",
        "    batch_size,\n",
        "    training_examples,\n",
        "    training_targets,\n",
        "    validation_examples,\n",
        "    validation_targets):\n",
        "  \"\"\"Trains a linear regression model of multiple features.\n",
        "  \n",
        "  In addition to training, this function also prints training progress information,\n",
        "  as well as a plot of the training and validation loss over time.\n",
        "  \n",
        "  Args:\n",
        "    learning_rate: A `float`, the learning rate.\n",
        "    steps: A non-zero `int`, the total number of training steps. A training step\n",
        "      consists of a forward and backward pass using a single batch.\n",
        "    batch_size: A non-zero `int`, the batch size.\n",
        "    training_examples: A `DataFrame` containing one or more columns from\n",
        "      `california_housing_dataframe` to use as input features for training.\n",
        "    training_targets: A `DataFrame` containing exactly one column from\n",
        "      `california_housing_dataframe` to use as target for training.\n",
        "    validation_examples: A `DataFrame` containing one or more columns from\n",
        "      `california_housing_dataframe` to use as input features for validation.\n",
        "    validation_targets: A `DataFrame` containing exactly one column from\n",
        "      `california_housing_dataframe` to use as target for validation.\n",
        "      \n",
        "  Returns:\n",
        "    A `LinearRegressor` object trained on the training data.\n",
        "  \"\"\"\n",
        "\n",
        "  periods = 10\n",
        "  steps_per_period = steps / periods\n",
        "  \n",
        "  # Create a linear regressor object.\n",
        "  my_optimizer = tf.train.GradientDescentOptimizer(learning_rate=learning_rate)\n",
        "  my_optimizer = tf.contrib.estimator.clip_gradients_by_norm(my_optimizer, 5.0)\n",
        "  linear_regressor = tf.estimator.LinearRegressor(\n",
        "      feature_columns=construct_feature_columns(training_examples),\n",
        "      optimizer=my_optimizer\n",
        "  )\n",
        "  \n",
        "  # 1. Create input functions.\n",
        "  training_input_fn = # YOUR CODE HERE\n",
        "  predict_training_input_fn = # YOUR CODE HERE\n",
        "  predict_validation_input_fn = # YOUR CODE HERE\n",
        "  \n",
        "  # Train the model, but do so inside a loop so that we can periodically assess\n",
        "  # loss metrics.\n",
        "  print(\"Training model...\")\n",
        "  print(\"RMSE (on training data):\")\n",
        "  training_rmse = []\n",
        "  validation_rmse = []\n",
        "  for period in range (0, periods):\n",
        "    # Train the model, starting from the prior state.\n",
        "    linear_regressor.train(\n",
        "        input_fn=training_input_fn,\n",
        "        steps=steps_per_period,\n",
        "    )\n",
        "    # 2. Take a break and compute predictions.\n",
        "    training_predictions = # YOUR CODE HERE\n",
        "    validation_predictions = # YOUR CODE HERE\n",
        "    \n",
        "    # Compute training and validation loss.\n",
        "    training_root_mean_squared_error = math.sqrt(\n",
        "        metrics.mean_squared_error(training_predictions, training_targets))\n",
        "    validation_root_mean_squared_error = math.sqrt(\n",
        "        metrics.mean_squared_error(validation_predictions, validation_targets))\n",
        "    # Occasionally print the current loss.\n",
        "    print(\"  period %02d : %0.2f\" % (period, training_root_mean_squared_error))\n",
        "    # Add the loss metrics from this period to our list.\n",
        "    training_rmse.append(training_root_mean_squared_error)\n",
        "    validation_rmse.append(validation_root_mean_squared_error)\n",
        "  print(\"Model training finished.\")\n",
        "\n",
        "  # Output a graph of loss metrics over periods.\n",
        "  plt.ylabel(\"RMSE\")\n",
        "  plt.xlabel(\"Periods\")\n",
        "  plt.title(\"Root Mean Squared Error vs. Periods\")\n",
        "  plt.tight_layout()\n",
        "  plt.plot(training_rmse, label=\"training\")\n",
        "  plt.plot(validation_rmse, label=\"validation\")\n",
        "  plt.legend()\n",
        "\n",
        "  return linear_regressor"
      ],
      "cell_type": "code",
      "execution_count": 0,
      "outputs": []
    },
    {
      "metadata": {
        "id": "zFFRmvUGh8wd",
        "colab_type": "code",
        "colab": {
          "autoexec": {
            "startup": false,
            "wait_interval": 0
          }
        }
      },
      "source": [
        "linear_regressor = train_model(\n",
        "    # TWEAK THESE VALUES TO SEE HOW MUCH YOU CAN IMPROVE THE RMSE\n",
        "    learning_rate=0.00001,\n",
        "    steps=100,\n",
        "    batch_size=1,\n",
        "    training_examples=training_examples,\n",
        "    training_targets=training_targets,\n",
        "    validation_examples=validation_examples,\n",
        "    validation_targets=validation_targets)"
      ],
      "cell_type": "code",
      "execution_count": 0,
      "outputs": []
    },
    {
      "cell_type": "markdown",
      "metadata": {
        "id": "I-La4N9ObC1x",
        "colab_type": "text"
      },
      "source": [
        " ### \ud574\uacb0 \ubc29\ubc95\n",
        "\n",
        "\ud574\uacb0 \ubc29\ubc95\uc744 \ubcf4\ub824\uba74 \uc544\ub798\ub97c \ud074\ub9ad\ud558\uc138\uc694."
      ]
    },
    {
      "metadata": {
        "id": "Xyz6n1YHbGef",
        "colab_type": "code",
        "colab": {
          "autoexec": {
            "startup": false,
            "wait_interval": 0
          }
        }
      },
      "source": [
        "def train_model(\n",
        "    learning_rate,\n",
        "    steps,\n",
        "    batch_size,\n",
        "    training_examples,\n",
        "    training_targets,\n",
        "    validation_examples,\n",
        "    validation_targets):\n",
        "  \"\"\"Trains a linear regression model of multiple features.\n",
        "  \n",
        "  In addition to training, this function also prints training progress information,\n",
        "  as well as a plot of the training and validation loss over time.\n",
        "  \n",
        "  Args:\n",
        "    learning_rate: A `float`, the learning rate.\n",
        "    steps: A non-zero `int`, the total number of training steps. A training step\n",
        "      consists of a forward and backward pass using a single batch.\n",
        "    batch_size: A non-zero `int`, the batch size.\n",
        "    training_examples: A `DataFrame` containing one or more columns from\n",
        "      `california_housing_dataframe` to use as input features for training.\n",
        "    training_targets: A `DataFrame` containing exactly one column from\n",
        "      `california_housing_dataframe` to use as target for training.\n",
        "    validation_examples: A `DataFrame` containing one or more columns from\n",
        "      `california_housing_dataframe` to use as input features for validation.\n",
        "    validation_targets: A `DataFrame` containing exactly one column from\n",
        "      `california_housing_dataframe` to use as target for validation.\n",
        "      \n",
        "  Returns:\n",
        "    A `LinearRegressor` object trained on the training data.\n",
        "  \"\"\"\n",
        "\n",
        "  periods = 10\n",
        "  steps_per_period = steps / periods\n",
        "  \n",
        "  # Create a linear regressor object.\n",
        "  my_optimizer = tf.train.GradientDescentOptimizer(learning_rate=learning_rate)\n",
        "  my_optimizer = tf.contrib.estimator.clip_gradients_by_norm(my_optimizer, 5.0)\n",
        "  linear_regressor = tf.estimator.LinearRegressor(\n",
        "      feature_columns=construct_feature_columns(training_examples),\n",
        "      optimizer=my_optimizer\n",
        "  )\n",
        "  \n",
        "  # Create input functions.\n",
        "  training_input_fn = lambda: my_input_fn(\n",
        "      training_examples, \n",
        "      training_targets[\"median_house_value\"], \n",
        "      batch_size=batch_size)\n",
        "  predict_training_input_fn = lambda: my_input_fn(\n",
        "      training_examples, \n",
        "      training_targets[\"median_house_value\"], \n",
        "      num_epochs=1, \n",
        "      shuffle=False)\n",
        "  predict_validation_input_fn = lambda: my_input_fn(\n",
        "      validation_examples, validation_targets[\"median_house_value\"], \n",
        "      num_epochs=1, \n",
        "      shuffle=False)\n",
        "\n",
        "  # Train the model, but do so inside a loop so that we can periodically assess\n",
        "  # loss metrics.\n",
        "  print(\"Training model...\")\n",
        "  print(\"RMSE (on training data):\")\n",
        "  training_rmse = []\n",
        "  validation_rmse = []\n",
        "  for period in range (0, periods):\n",
        "    # Train the model, starting from the prior state.\n",
        "    linear_regressor.train(\n",
        "        input_fn=training_input_fn,\n",
        "        steps=steps_per_period,\n",
        "    )\n",
        "    # Take a break and compute predictions.\n",
        "    training_predictions = linear_regressor.predict(input_fn=predict_training_input_fn)\n",
        "    training_predictions = np.array([item['predictions'][0] for item in training_predictions])\n",
        "    \n",
        "    validation_predictions = linear_regressor.predict(input_fn=predict_validation_input_fn)\n",
        "    validation_predictions = np.array([item['predictions'][0] for item in validation_predictions])\n",
        "    \n",
        "    \n",
        "    # Compute training and validation loss.\n",
        "    training_root_mean_squared_error = math.sqrt(\n",
        "        metrics.mean_squared_error(training_predictions, training_targets))\n",
        "    validation_root_mean_squared_error = math.sqrt(\n",
        "        metrics.mean_squared_error(validation_predictions, validation_targets))\n",
        "    # Occasionally print the current loss.\n",
        "    print(\"  period %02d : %0.2f\" % (period, training_root_mean_squared_error))\n",
        "    # Add the loss metrics from this period to our list.\n",
        "    training_rmse.append(training_root_mean_squared_error)\n",
        "    validation_rmse.append(validation_root_mean_squared_error)\n",
        "  print(\"Model training finished.\")\n",
        "\n",
        "  # Output a graph of loss metrics over periods.\n",
        "  plt.ylabel(\"RMSE\")\n",
        "  plt.xlabel(\"Periods\")\n",
        "  plt.title(\"Root Mean Squared Error vs. Periods\")\n",
        "  plt.tight_layout()\n",
        "  plt.plot(training_rmse, label=\"training\")\n",
        "  plt.plot(validation_rmse, label=\"validation\")\n",
        "  plt.legend()\n",
        "\n",
        "  return linear_regressor"
      ],
      "cell_type": "code",
      "execution_count": 0,
      "outputs": []
    },
    {
      "metadata": {
        "id": "i1imhjFzbWwt",
        "colab_type": "code",
        "colab": {
          "autoexec": {
            "startup": false,
            "wait_interval": 0
          }
        }
      },
      "source": [
        "linear_regressor = train_model(\n",
        "    learning_rate=0.00003,\n",
        "    steps=500,\n",
        "    batch_size=5,\n",
        "    training_examples=training_examples,\n",
        "    training_targets=training_targets,\n",
        "    validation_examples=validation_examples,\n",
        "    validation_targets=validation_targets)"
      ],
      "cell_type": "code",
      "execution_count": 0,
      "outputs": []
    },
    {
      "cell_type": "markdown",
      "metadata": {
        "id": "65sin-E5NmHN",
        "colab_type": "text"
      },
      "source": [
        " ## \uc791\uc5c5 5: \ud14c\uc2a4\ud2b8 \ub370\uc774\ud130\ub85c \ud3c9\uac00\n",
        "\n",
        "**\uc544\ub798 \uc140\uc5d0\uc11c \ud14c\uc2a4\ud2b8 \ub370\uc774\ud130 \uc138\ud2b8\ub97c \ub85c\ub4dc\ud558\uace0 \uc774\ub97c \uae30\uc900\uc73c\ub85c \ubaa8\ub378\uc744 \ud3c9\uac00\ud569\ub2c8\ub2e4.**\n",
        "\n",
        "\uac80\uc99d \ub370\uc774\ud130\uc5d0 \ub300\ud574 \ub9ce\uc740 \ubc18\ubcf5\uc744 \uc218\ud589\ud588\uc2b5\ub2c8\ub2e4.  \uc774\uc81c \ud574\ub2f9 \ud45c\ubcf8\uc758 \ud2b9\uc774\uc131\uc5d0 \ub300\ud55c \uacfc\uc801\ud569\uc774 \ubc1c\uc0dd\ud558\uc9c0 \uc54a\uc558\ub294\uc9c0 \ud655\uc778\ud574\uc57c \ud569\ub2c8\ub2e4.\n",
        "\n",
        "\ud14c\uc2a4\ud2b8 \uc138\ud2b8\ub294 [\uc5ec\uae30](https://download.mlcc.google.com/mledu-datasets/california_housing_test.csv)\uc5d0 \uc788\uc2b5\ub2c8\ub2e4.\n",
        "\n",
        "\uac80\uc99d \uc131\ub2a5\uacfc \ube44\uad50\ud558\uc5ec \ud14c\uc2a4\ud2b8 \uc131\ub2a5\uc774 \uc5b4\ub5a0\ud55c\uac00\uc694?  \uc774 \uacb0\uacfc\uac00 \ubaa8\ub378\uc758 \uc77c\ubc18\ud654 \uc131\ub2a5\uc5d0 \ub300\ud574 \ubb34\uc5c7\uc744 \uc2dc\uc0ac\ud558\ub098\uc694?"
      ]
    },
    {
      "metadata": {
        "id": "icEJIl5Vp51r",
        "colab_type": "code",
        "colab": {
          "autoexec": {
            "startup": false,
            "wait_interval": 0
          },
          "test": {
            "output": "ignore",
            "timeout": 600
          }
        },
        "cellView": "both"
      },
      "source": [
        "california_housing_test_data = pd.read_csv(\"https://download.mlcc.google.com/mledu-datasets/california_housing_test.csv\", sep=\",\")\n",
        "#\n",
        "# YOUR CODE HERE\n",
        "#"
      ],
      "cell_type": "code",
      "execution_count": 0,
      "outputs": []
    },
    {
      "cell_type": "markdown",
      "metadata": {
        "id": "yTghc_5HkJDW",
        "colab_type": "text"
      },
      "source": [
        " ### \ud574\uacb0 \ubc29\ubc95\n",
        "\n",
        "\ud574\uacb0 \ubc29\ubc95\uc744 \ubcf4\ub824\uba74 \uc544\ub798\ub97c \ud074\ub9ad\ud558\uc138\uc694."
      ]
    },
    {
      "metadata": {
        "id": "_xSYTarykO8U",
        "colab_type": "code",
        "colab": {
          "autoexec": {
            "startup": false,
            "wait_interval": 0
          }
        }
      },
      "source": [
        "california_housing_test_data = pd.read_csv(\"https://download.mlcc.google.com/mledu-datasets/california_housing_test.csv\", sep=\",\")\n",
        "\n",
        "test_examples = preprocess_features(california_housing_test_data)\n",
        "test_targets = preprocess_targets(california_housing_test_data)\n",
        "\n",
        "predict_test_input_fn = lambda: my_input_fn(\n",
        "      test_examples, \n",
        "      test_targets[\"median_house_value\"], \n",
        "      num_epochs=1, \n",
        "      shuffle=False)\n",
        "\n",
        "test_predictions = linear_regressor.predict(input_fn=predict_test_input_fn)\n",
        "test_predictions = np.array([item['predictions'][0] for item in test_predictions])\n",
        "\n",
        "root_mean_squared_error = math.sqrt(\n",
        "    metrics.mean_squared_error(test_predictions, test_targets))\n",
        "\n",
        "print(\"Final RMSE (on test data): %0.2f\" % root_mean_squared_error)"
      ],
      "cell_type": "code",
      "execution_count": 0,
      "outputs": []
    }
  ]
}
