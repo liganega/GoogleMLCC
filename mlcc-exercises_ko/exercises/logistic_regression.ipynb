{
  "nbformat": 4,
  "nbformat_minor": 0,
  "metadata": {
    "colab": {
      "name": "logistic_regression.ipynb",
      "version": "0.3.2",
      "views": {},
      "default_view": {},
      "provenance": [],
      "collapsed_sections": [
        "dPpJUV862FYI",
        "i2e3TlyL57Qs",
        "wCugvl0JdWYL",
        "copyright-notice"
      ]
    }
  },
  "cells": [
    {
      "cell_type": "markdown",
      "metadata": {
        "colab_type": "text",
        "id": "copyright-notice"
      },
      "source": [
        "#### Copyright 2017 Google LLC."
      ]
    },
    {
      "cell_type": "code",
      "metadata": {
        "colab": {
          "autoexec": {
            "wait_interval": 0,
            "startup": false
          }
        },
        "colab_type": "code",
        "id": "copyright-notice2",
        "cellView": "both"
      },
      "outputs": [],
      "execution_count": 0,
      "source": [
        "# Licensed under the Apache License, Version 2.0 (the \"License\");\n",
        "# you may not use this file except in compliance with the License.\n",
        "# You may obtain a copy of the License at\n",
        "#\n",
        "# https://www.apache.org/licenses/LICENSE-2.0\n",
        "#\n",
        "# Unless required by applicable law or agreed to in writing, software\n",
        "# distributed under the License is distributed on an \"AS IS\" BASIS,\n",
        "# WITHOUT WARRANTIES OR CONDITIONS OF ANY KIND, either express or implied.\n",
        "# See the License for the specific language governing permissions and\n",
        "# limitations under the License."
      ]
    },
    {
      "metadata": {
        "id": "g4T-_IsVbweU",
        "colab_type": "text"
      },
      "cell_type": "markdown",
      "source": [
        " # \ub85c\uc9c0\uc2a4\ud2f1 \ud68c\uadc0"
      ]
    },
    {
      "metadata": {
        "id": "LEAHZv4rIYHX",
        "colab_type": "text"
      },
      "cell_type": "markdown",
      "source": [
        " **\ud559\uc2b5 \ubaa9\ud45c:**\n",
        "  * \uc774\uc804 \uc2e4\uc2b5\uc758 \uc8fc\ud0dd \uac00\uaca9 \uc911\uac04\uac12 \uc608\uce21 \ubaa8\ub378\uc744 \uc774\uc9c4 \ubd84\ub958 \ubaa8\ub378\ub85c \uc7ac\ud3b8\ud55c\ub2e4\n",
        "  * \uc774\uc9c4 \ubd84\ub958 \ubb38\uc81c\uc5d0\uc11c \ub85c\uc9c0\uc2a4\ud2f1 \ud68c\uadc0\uc640 \uc120\ud615 \ud68c\uadc0\uc758 \ud6a8\uacfc\ub97c \ube44\uad50\ud55c\ub2e4"
      ]
    },
    {
      "metadata": {
        "id": "CnkCZqdIIYHY",
        "colab_type": "text"
      },
      "cell_type": "markdown",
      "source": [
        " \uc774\uc804 \uc2e4\uc2b5\uacfc \ub3d9\uc77c\ud558\uac8c \uce98\ub9ac\ud3ec\ub2c8\uc544 \uc8fc\ud0dd \ub370\uc774\ud130 \uc138\ud2b8\ub97c \uc0ac\uc6a9\ud558\ub418, \uc774\ubc88\uc5d0\ub294 \ud2b9\uc815 \uc9c0\uc5ed\uc758 \uac70\uc8fc \ube44\uc6a9\uc774 \ub192\uc740\uc9c0 \uc5ec\ubd80\ub97c \uc608\uce21\ud558\ub294 \uc774\uc9c4 \ubd84\ub958 \ubb38\uc81c\ub85c \ubc14\uafd4 \ubcf4\uaca0\uc2b5\ub2c8\ub2e4. \ub610\ud55c \uae30\ubcf8 \ud2b9\uc131\uc73c\ub85c \uc77c\ub2e8 \ub418\ub3cc\ub9ac\uaca0\uc2b5\ub2c8\ub2e4."
      ]
    },
    {
      "metadata": {
        "id": "9pltCyy2K3dd",
        "colab_type": "text"
      },
      "cell_type": "markdown",
      "source": [
        " ## \uc774\uc9c4 \ubd84\ub958 \ubb38\uc81c\ub85c \uc804\ud658\n",
        "\n",
        "\ub370\uc774\ud130 \uc138\ud2b8\uc758 \ud0c0\uac9f\uc740 \uc22b\uc790(\uc5f0\uc18d \uac12) \ud2b9\uc131\uc778 `median_house_value`\uc785\ub2c8\ub2e4. \uc774 \uc5f0\uc18d \uac12\uc5d0 \uc784\uacc4\uac12\uc744 \uc801\uc6a9\ud558\uc5ec \ubd80\uc6b8 \ub77c\ubca8\uc744 \ub9cc\ub4e4 \uc218 \uc788\uc2b5\ub2c8\ub2e4.\n",
        "\n",
        "\ud2b9\uc815 \uc9c0\uc5ed\uc744 \ub098\ud0c0\ub0b4\ub294 \ud2b9\uc131\uc774 \uc8fc\uc5b4\uc9c8 \ub54c \uac70\uc8fc \ube44\uc6a9\uc774 \ub192\uc740 \uc9c0\uc5ed\uc778\uc9c0\ub97c \uc608\uce21\ud558\ub824\uace0 \ud569\ub2c8\ub2e4. \ub370\uc774\ud130 \ud559\uc2b5 \ubc0f \ud3c9\uac00\ub97c \uc704\ud55c \ud0c0\uac9f\uc744 \uc900\ube44\ud558\uae30 \uc704\ud574, \ubd84\ub958 \uc784\uacc4\uac12\uc744 \uc8fc\ud0dd \uac00\uaca9 \uc911\uc559\uac12\uc5d0 \ub300\ud55c 75\ubc88\uc9f8 \ubc31\ubd84\uc704\uc218(\uc57d 265,000)\ub85c \uc815\uc758\ud558\uaca0\uc2b5\ub2c8\ub2e4. \uc8fc\ud0dd \uac00\uaca9\uc774 \uc784\uacc4\uac12\ubcf4\ub2e4 \ub192\uc73c\uba74 \ub77c\ubca8\uc774 `1`\ub85c, \uadf8\ub807\uc9c0 \uc54a\uc73c\uba74 \ub77c\ubca8\uc774 `0`\uc73c\ub85c \uc9c0\uc815\ub429\ub2c8\ub2e4."
      ]
    },
    {
      "metadata": {
        "id": "67IJwZX1Vvjt",
        "colab_type": "text"
      },
      "cell_type": "markdown",
      "source": [
        " ## \uc124\uc815\n",
        "\n",
        "\uc544\ub798 \uc140\uc744 \uc2e4\ud589\ud558\uc5ec \ub370\uc774\ud130\ub97c \ub85c\ub4dc\ud558\uace0 \uc785\ub825 \ud2b9\uc131 \ubc0f \ud0c0\uac9f\uc744 \uc900\ube44\ud569\ub2c8\ub2e4."
      ]
    },
    {
      "metadata": {
        "id": "fOlbcJ4EIYHd",
        "colab_type": "code",
        "colab": {
          "autoexec": {
            "startup": false,
            "wait_interval": 0
          }
        }
      },
      "source": [
        "from __future__ import print_function\n",
        "\n",
        "import math\n",
        "\n",
        "from IPython import display\n",
        "from matplotlib import cm\n",
        "from matplotlib import gridspec\n",
        "from matplotlib import pyplot as plt\n",
        "import numpy as np\n",
        "import pandas as pd\n",
        "from sklearn import metrics\n",
        "import tensorflow as tf\n",
        "from tensorflow.python.data import Dataset\n",
        "\n",
        "tf.logging.set_verbosity(tf.logging.ERROR)\n",
        "pd.options.display.max_rows = 10\n",
        "pd.options.display.float_format = '{:.1f}'.format\n",
        "\n",
        "california_housing_dataframe = pd.read_csv(\"https://download.mlcc.google.com/mledu-datasets/california_housing_train.csv\", sep=\",\")\n",
        "\n",
        "california_housing_dataframe = california_housing_dataframe.reindex(\n",
        "    np.random.permutation(california_housing_dataframe.index))"
      ],
      "cell_type": "code",
      "execution_count": 0,
      "outputs": []
    },
    {
      "metadata": {
        "id": "lTB73MNeIYHf",
        "colab_type": "text"
      },
      "cell_type": "markdown",
      "source": [
        " \uc544\ub798 \ucf54\ub4dc\uac00 \uc774\uc804 \uc2e4\uc2b5\uc5d0 \ube44\ud574 \ub2e4\ub978 \uc810\uc744 \ud655\uc778\ud558\uc138\uc694. `median_house_value`\ub97c \ud0c0\uac9f\uc73c\ub85c \uc0ac\uc6a9\ud558\ub294 \ub300\uc2e0 `median_house_value_is_high`\ub77c\ub294 \uc774\uc9c4 \ud0c0\uac9f\uc744 \uc0c8\ub85c \ub9cc\ub4e4\uace0 \uc788\uc2b5\ub2c8\ub2e4."
      ]
    },
    {
      "metadata": {
        "id": "kPSqspaqIYHg",
        "colab_type": "code",
        "colab": {
          "autoexec": {
            "startup": false,
            "wait_interval": 0
          }
        }
      },
      "source": [
        "def preprocess_features(california_housing_dataframe):\n",
        "  \"\"\"Prepares input features from California housing data set.\n",
        "\n",
        "  Args:\n",
        "    california_housing_dataframe: A Pandas DataFrame expected to contain data\n",
        "      from the California housing data set.\n",
        "  Returns:\n",
        "    A DataFrame that contains the features to be used for the model, including\n",
        "    synthetic features.\n",
        "  \"\"\"\n",
        "  selected_features = california_housing_dataframe[\n",
        "    [\"latitude\",\n",
        "     \"longitude\",\n",
        "     \"housing_median_age\",\n",
        "     \"total_rooms\",\n",
        "     \"total_bedrooms\",\n",
        "     \"population\",\n",
        "     \"households\",\n",
        "     \"median_income\"]]\n",
        "  processed_features = selected_features.copy()\n",
        "  # Create a synthetic feature.\n",
        "  processed_features[\"rooms_per_person\"] = (\n",
        "    california_housing_dataframe[\"total_rooms\"] /\n",
        "    california_housing_dataframe[\"population\"])\n",
        "  return processed_features\n",
        "\n",
        "def preprocess_targets(california_housing_dataframe):\n",
        "  \"\"\"Prepares target features (i.e., labels) from California housing data set.\n",
        "\n",
        "  Args:\n",
        "    california_housing_dataframe: A Pandas DataFrame expected to contain data\n",
        "      from the California housing data set.\n",
        "  Returns:\n",
        "    A DataFrame that contains the target feature.\n",
        "  \"\"\"\n",
        "  output_targets = pd.DataFrame()\n",
        "  # Create a boolean categorical feature representing whether the\n",
        "  # median_house_value is above a set threshold.\n",
        "  output_targets[\"median_house_value_is_high\"] = (\n",
        "    california_housing_dataframe[\"median_house_value\"] > 265000).astype(float)\n",
        "  return output_targets"
      ],
      "cell_type": "code",
      "execution_count": 0,
      "outputs": []
    },
    {
      "metadata": {
        "id": "FwOYWmXqWA6D",
        "colab_type": "code",
        "colab": {
          "autoexec": {
            "startup": false,
            "wait_interval": 0
          }
        }
      },
      "source": [
        "# Choose the first 12000 (out of 17000) examples for training.\n",
        "training_examples = preprocess_features(california_housing_dataframe.head(12000))\n",
        "training_targets = preprocess_targets(california_housing_dataframe.head(12000))\n",
        "\n",
        "# Choose the last 5000 (out of 17000) examples for validation.\n",
        "validation_examples = preprocess_features(california_housing_dataframe.tail(5000))\n",
        "validation_targets = preprocess_targets(california_housing_dataframe.tail(5000))\n",
        "\n",
        "# Double-check that we've done the right thing.\n",
        "print(\"Training examples summary:\")\n",
        "display.display(training_examples.describe())\n",
        "print(\"Validation examples summary:\")\n",
        "display.display(validation_examples.describe())\n",
        "\n",
        "print(\"Training targets summary:\")\n",
        "display.display(training_targets.describe())\n",
        "print(\"Validation targets summary:\")\n",
        "display.display(validation_targets.describe())"
      ],
      "cell_type": "code",
      "execution_count": 0,
      "outputs": []
    },
    {
      "metadata": {
        "id": "uon1LB3A31VN",
        "colab_type": "text"
      },
      "cell_type": "markdown",
      "source": [
        " ## \uc120\ud615 \ud68c\uadc0\uc758 \uc131\ub2a5 \uce21\uc815\n",
        "\ub85c\uc9c0\uc2a4\ud2f1 \ud68c\uadc0\uac00 \ud6a8\uacfc\uc801\uc778 \uc774\uc720\ub97c \ud655\uc778\ud558\uae30 \uc704\ud574, \uc6b0\uc120 \uc120\ud615 \ud68c\uadc0\ub97c \uc0ac\uc6a9\ud558\ub294 \ub2e8\uc21c \ubaa8\ub378\uc744 \ud559\uc2b5\uc2dc\ucf1c \ubcf4\uaca0\uc2b5\ub2c8\ub2e4. \uc774 \ubaa8\ub378\uc5d0\uc11c\ub294 `{0, 1}` \uc9d1\ud569\uc5d0 \uc18d\ud558\ub294 \uac12\uc744 \uac16\ub294 \ub77c\ubca8\uc744 \uc0ac\uc6a9\ud558\uba70 `0` \ub610\ub294 `1`\uc5d0 \ucd5c\ub300\ud55c \uac00\uae4c\uc6b4 \uc5f0\uc18d \uac12\uc744 \uc608\uce21\ud558\ub824\uace0 \uc2dc\ub3c4\ud569\ub2c8\ub2e4. \ub610\ud55c \ucd9c\ub825\uc744 \ud655\ub960\ub85c \ud574\uc11d\ud558\ub824\uace0 \ud558\ubbc0\ub85c `(0, 1)` \ubc94\uc704 \ub0b4\uc5d0\uc11c \ucd9c\ub825\ub418\ub294 \uac83\uc774 \uc774\uc0c1\uc801\uc785\ub2c8\ub2e4. \uadf8\ub7f0 \ub2e4\uc74c \uc784\uacc4\uac12 `0.5`\ub97c \uc801\uc6a9\ud558\uc5ec \ub77c\ubca8\uc744 \uacb0\uc815\ud569\ub2c8\ub2e4.\n",
        "\n",
        "\uc544\ub798 \uc140\uc744 \uc2e4\ud589\ud558\uc5ec [LinearRegressor](https://www.tensorflow.org/api_docs/python/tf/estimator/LinearRegressor)\ub85c \uc120\ud615 \ud68c\uadc0 \ubaa8\ub378\uc744 \ud559\uc2b5\uc2dc\ud0b5\ub2c8\ub2e4."
      ]
    },
    {
      "metadata": {
        "id": "smmUYRDtWOV_",
        "colab_type": "code",
        "colab": {
          "autoexec": {
            "startup": false,
            "wait_interval": 0
          }
        }
      },
      "source": [
        "def construct_feature_columns(input_features):\n",
        "  \"\"\"Construct the TensorFlow Feature Columns.\n",
        "\n",
        "  Args:\n",
        "    input_features: The names of the numerical input features to use.\n",
        "  Returns:\n",
        "    A set of feature columns\n",
        "  \"\"\"\n",
        "  return set([tf.feature_column.numeric_column(my_feature)\n",
        "              for my_feature in input_features])"
      ],
      "cell_type": "code",
      "execution_count": 0,
      "outputs": []
    },
    {
      "metadata": {
        "id": "B5OwSrr1yIKD",
        "colab_type": "code",
        "colab": {
          "autoexec": {
            "startup": false,
            "wait_interval": 0
          }
        }
      },
      "source": [
        "def my_input_fn(features, targets, batch_size=1, shuffle=True, num_epochs=None):\n",
        "    \"\"\"Trains a linear regression model.\n",
        "  \n",
        "    Args:\n",
        "      features: pandas DataFrame of features\n",
        "      targets: pandas DataFrame of targets\n",
        "      batch_size: Size of batches to be passed to the model\n",
        "      shuffle: True or False. Whether to shuffle the data.\n",
        "      num_epochs: Number of epochs for which data should be repeated. None = repeat indefinitely\n",
        "    Returns:\n",
        "      Tuple of (features, labels) for next data batch\n",
        "    \"\"\"\n",
        "    \n",
        "    # Convert pandas data into a dict of np arrays.\n",
        "    features = {key:np.array(value) for key,value in dict(features).items()}                                            \n",
        " \n",
        "    # Construct a dataset, and configure batching/repeating.\n",
        "    ds = Dataset.from_tensor_slices((features,targets)) # warning: 2GB limit\n",
        "    ds = ds.batch(batch_size).repeat(num_epochs)\n",
        "    \n",
        "    # Shuffle the data, if specified.\n",
        "    if shuffle:\n",
        "      ds = ds.shuffle(10000)\n",
        "    \n",
        "    # Return the next batch of data.\n",
        "    features, labels = ds.make_one_shot_iterator().get_next()\n",
        "    return features, labels"
      ],
      "cell_type": "code",
      "execution_count": 0,
      "outputs": []
    },
    {
      "metadata": {
        "id": "SE2-hq8PIYHz",
        "colab_type": "code",
        "colab": {
          "autoexec": {
            "startup": false,
            "wait_interval": 0
          }
        }
      },
      "source": [
        "def train_linear_regressor_model(\n",
        "    learning_rate,\n",
        "    steps,\n",
        "    batch_size,\n",
        "    training_examples,\n",
        "    training_targets,\n",
        "    validation_examples,\n",
        "    validation_targets):\n",
        "  \"\"\"Trains a linear regression model.\n",
        "  \n",
        "  In addition to training, this function also prints training progress information,\n",
        "  as well as a plot of the training and validation loss over time.\n",
        "  \n",
        "  Args:\n",
        "    learning_rate: A `float`, the learning rate.\n",
        "    steps: A non-zero `int`, the total number of training steps. A training step\n",
        "      consists of a forward and backward pass using a single batch.\n",
        "    batch_size: A non-zero `int`, the batch size.\n",
        "    training_examples: A `DataFrame` containing one or more columns from\n",
        "      `california_housing_dataframe` to use as input features for training.\n",
        "    training_targets: A `DataFrame` containing exactly one column from\n",
        "      `california_housing_dataframe` to use as target for training.\n",
        "    validation_examples: A `DataFrame` containing one or more columns from\n",
        "      `california_housing_dataframe` to use as input features for validation.\n",
        "    validation_targets: A `DataFrame` containing exactly one column from\n",
        "      `california_housing_dataframe` to use as target for validation.\n",
        "      \n",
        "  Returns:\n",
        "    A `LinearRegressor` object trained on the training data.\n",
        "  \"\"\"\n",
        "\n",
        "  periods = 10\n",
        "  steps_per_period = steps / periods\n",
        "\n",
        "  # Create a linear regressor object.\n",
        "  my_optimizer = tf.train.GradientDescentOptimizer(learning_rate=learning_rate)\n",
        "  my_optimizer = tf.contrib.estimator.clip_gradients_by_norm(my_optimizer, 5.0)\n",
        "  linear_regressor = tf.estimator.LinearRegressor(\n",
        "      feature_columns=construct_feature_columns(training_examples),\n",
        "      optimizer=my_optimizer\n",
        "  )\n",
        "    \n",
        "  # Create input functions.  \n",
        "  training_input_fn = lambda: my_input_fn(training_examples, \n",
        "                                          training_targets[\"median_house_value_is_high\"], \n",
        "                                          batch_size=batch_size)\n",
        "  predict_training_input_fn = lambda: my_input_fn(training_examples, \n",
        "                                                  training_targets[\"median_house_value_is_high\"], \n",
        "                                                  num_epochs=1, \n",
        "                                                  shuffle=False)\n",
        "  predict_validation_input_fn = lambda: my_input_fn(validation_examples, \n",
        "                                                    validation_targets[\"median_house_value_is_high\"], \n",
        "                                                    num_epochs=1, \n",
        "                                                    shuffle=False)\n",
        "\n",
        "  # Train the model, but do so inside a loop so that we can periodically assess\n",
        "  # loss metrics.\n",
        "  print(\"Training model...\")\n",
        "  print(\"RMSE (on training data):\")\n",
        "  training_rmse = []\n",
        "  validation_rmse = []\n",
        "  for period in range (0, periods):\n",
        "    # Train the model, starting from the prior state.\n",
        "    linear_regressor.train(\n",
        "        input_fn=training_input_fn,\n",
        "        steps=steps_per_period\n",
        "    )\n",
        "    \n",
        "    # Take a break and compute predictions.\n",
        "    training_predictions = linear_regressor.predict(input_fn=predict_training_input_fn)\n",
        "    training_predictions = np.array([item['predictions'][0] for item in training_predictions])\n",
        "    \n",
        "    validation_predictions = linear_regressor.predict(input_fn=predict_validation_input_fn)\n",
        "    validation_predictions = np.array([item['predictions'][0] for item in validation_predictions])\n",
        "    \n",
        "    # Compute training and validation loss.\n",
        "    training_root_mean_squared_error = math.sqrt(\n",
        "        metrics.mean_squared_error(training_predictions, training_targets))\n",
        "    validation_root_mean_squared_error = math.sqrt(\n",
        "        metrics.mean_squared_error(validation_predictions, validation_targets))\n",
        "    # Occasionally print the current loss.\n",
        "    print(\"  period %02d : %0.2f\" % (period, training_root_mean_squared_error))\n",
        "    # Add the loss metrics from this period to our list.\n",
        "    training_rmse.append(training_root_mean_squared_error)\n",
        "    validation_rmse.append(validation_root_mean_squared_error)\n",
        "  print(\"Model training finished.\")\n",
        "  \n",
        "  # Output a graph of loss metrics over periods.\n",
        "  plt.ylabel(\"RMSE\")\n",
        "  plt.xlabel(\"Periods\")\n",
        "  plt.title(\"Root Mean Squared Error vs. Periods\")\n",
        "  plt.tight_layout()\n",
        "  plt.plot(training_rmse, label=\"training\")\n",
        "  plt.plot(validation_rmse, label=\"validation\")\n",
        "  plt.legend()\n",
        "\n",
        "  return linear_regressor"
      ],
      "cell_type": "code",
      "execution_count": 0,
      "outputs": []
    },
    {
      "metadata": {
        "id": "TDBD8xeeIYH2",
        "colab_type": "code",
        "colab": {
          "autoexec": {
            "startup": false,
            "wait_interval": 0
          }
        }
      },
      "source": [
        "linear_regressor = train_linear_regressor_model(\n",
        "    learning_rate=0.000001,\n",
        "    steps=200,\n",
        "    batch_size=20,\n",
        "    training_examples=training_examples,\n",
        "    training_targets=training_targets,\n",
        "    validation_examples=validation_examples,\n",
        "    validation_targets=validation_targets)"
      ],
      "cell_type": "code",
      "execution_count": 0,
      "outputs": []
    },
    {
      "metadata": {
        "id": "JjBZ_q7aD9gh",
        "colab_type": "text"
      },
      "cell_type": "markdown",
      "source": [
        " ## \uc791\uc5c5 1: \uc608\uce21\uc758 LogLoss \uacc4\uc0b0 \uac00\ub2a5\uc131 \ud655\uc778\n",
        "\n",
        "**\uc608\uce21\uc744 \uc870\uc0ac\ud558\uc5ec LogLoss\ub97c \uacc4\uc0b0\ud558\ub294 \ub370 \uc0ac\uc6a9\ub420 \uc218 \uc788\ub294\uc9c0 \ud655\uc778\ud569\ub2c8\ub2e4.**\n",
        "\n",
        "`LinearRegressor`\ub294 L2 \uc190\uc2e4\uc744 \uc0ac\uc6a9\ud558\ubbc0\ub85c \ucd9c\ub825\uc774 \ud655\ub960\ub85c \ud574\uc11d\ub418\ub294 \uacbd\uc6b0 \uc624\ubd84\ub958\uc5d0 \ud6a8\uacfc\uc801\uc73c\ub85c \ud398\ub110\ud2f0\ub97c \ubd80\uc5ec\ud558\uc9c0 \ubabb\ud569\ub2c8\ub2e4. \uc608\ub97c \ub4e4\uc5b4 \uc74c\uc131 \uc608\uac00 \uc591\uc131\uc73c\ub85c \ubd84\ub958\ub418\ub294 \ud655\ub960\uc774 0.9\uc778 \uacbd\uc6b0\uc640 0.9999\uc778 \uacbd\uc6b0\uc5d0\ub294 \ucee4\ub2e4\ub780 \ucc28\uc774\uac00 \uc788\uc5b4\uc57c \ud558\uc9c0\ub9cc L2 \uc190\uc2e4\uc740 \ub450 \uacbd\uc6b0\ub97c \ubd84\uba85\ud558\uac8c \uad6c\ubd84\ud558\uc9c0 \uc54a\uc2b5\ub2c8\ub2e4.\n",
        "\n",
        "\ubc18\uba74, `LogLoss`\ub294 \uc774\ub7ec\ud55c \"\uc2e0\ub8b0 \uc624\ucc28\"\uc5d0 \ud6e8\uc52c \ud070 \ud398\ub110\ud2f0\ub97c \ubd80\uc5ec\ud569\ub2c8\ub2e4.  `LogLoss`\ub294 \ub2e4\uc74c\uacfc \uac19\uc774 \uc815\uc758\ub429\ub2c8\ub2e4.\n",
        "\n",
        "$$Log Loss = \\sum_{(x,y)\\in D} -y \\cdot log(y_{pred}) - (1 - y) \\cdot log(1 - y_{pred})$$\n",
        "\n",
        "\n",
        "\ud558\uc9c0\ub9cc \uc6b0\uc120 \uc608\uce21 \uac12\uc744 \uac00\uc838\uc624\ub294 \uac83\uc774 \uba3c\uc800\uc785\ub2c8\ub2e4. `LinearRegressor.predict`\ub97c \uc0ac\uc6a9\ud558\uc5ec \uac12\uc744 \uac00\uc838\uc62c \uc218 \uc788\uc2b5\ub2c8\ub2e4.\n",
        "\n",
        "\uc608\uce21\uacfc \ud0c0\uac9f\uc774 \uc8fc\uc5b4\uc9c0\uba74 `LogLoss`\ub97c \uacc4\uc0b0\ud560 \uc218 \uc788\ub294\uc9c0 \ud655\uc778\ud574 \ubcf4\uc138\uc694."
      ]
    },
    {
      "metadata": {
        "id": "dPpJUV862FYI",
        "colab_type": "text"
      },
      "cell_type": "markdown",
      "source": [
        " ### \ud574\uacb0 \ubc29\ubc95\n",
        "\n",
        "\ud574\uacb0 \ubc29\ubc95\uc744 \ubcf4\ub824\uba74 \uc544\ub798\ub97c \ud074\ub9ad\ud558\uc138\uc694."
      ]
    },
    {
      "metadata": {
        "id": "kXFQ5uig2RoP",
        "colab_type": "code",
        "colab": {
          "autoexec": {
            "startup": false,
            "wait_interval": 0
          }
        }
      },
      "source": [
        "predict_validation_input_fn = lambda: my_input_fn(validation_examples, \n",
        "                                                  validation_targets[\"median_house_value_is_high\"], \n",
        "                                                  num_epochs=1, \n",
        "                                                  shuffle=False)\n",
        "\n",
        "validation_predictions = linear_regressor.predict(input_fn=predict_validation_input_fn)\n",
        "validation_predictions = np.array([item['predictions'][0] for item in validation_predictions])\n",
        "\n",
        "_ = plt.hist(validation_predictions)"
      ],
      "cell_type": "code",
      "execution_count": 0,
      "outputs": []
    },
    {
      "metadata": {
        "id": "rYpy336F9wBg",
        "colab_type": "text"
      },
      "cell_type": "markdown",
      "source": [
        " ## \uc791\uc5c5 2: \ub85c\uc9c0\uc2a4\ud2f1 \ud68c\uadc0 \ubaa8\ub378\uc744 \ud559\uc2b5\uc2dc\ud0a4\uace0 \uac80\uc99d\uc138\ud2b8\ub85c LogLoss \uacc4\uc0b0\n",
        "\n",
        "\ub85c\uc9c0\uc2a4\ud2f1 \ud68c\uadc0\ub97c \uc0ac\uc6a9\ud558\ub824\uba74 `LinearRegressor` \ub300\uc2e0 [LinearClassifier](https://www.tensorflow.org/api_docs/python/tf/estimator/LinearClassifier)\ub97c \uc0ac\uc6a9\ud569\ub2c8\ub2e4. \uc544\ub798 \ucf54\ub4dc\ub97c \uc644\uc131\ud558\uc138\uc694.\n",
        "\n",
        "**NOTE**: `LinearClassifier` \ubaa8\ub378\uc5d0\uc11c `train()` \ubc0f `predict()`\ub97c \uc2e4\ud589\ud560 \ub54c\ub294 \ubc18\ud658\ub41c dict\uc758 `\"probabilities\"` \ud0a4\ub97c \ud1b5\ud574 \uc608\uce21\ub41c \uc2e4\uc218\uac12 \ud655\ub960\uc5d0 \uc561\uc138\uc2a4\ud560 \uc218 \uc788\uc2b5\ub2c8\ub2e4(\uc608: `predictions[\"probabilities\"]`). Sklearn\uc758 [log_loss](http://scikit-learn.org/stable/modules/generated/sklearn.metrics.log_loss.html) \ud568\uc218\ub97c \uc0ac\uc6a9\ud558\uba74 \uc774\ub7ec\ud55c \ud655\ub960\ub85c LogLoss\ub97c \ud3b8\ub9ac\ud558\uac8c \uacc4\uc0b0\ud560 \uc218 \uc788\uc2b5\ub2c8\ub2e4.\n"
      ]
    },
    {
      "metadata": {
        "id": "JElcb--E9wBm",
        "colab_type": "code",
        "colab": {
          "autoexec": {
            "startup": false,
            "wait_interval": 0
          }
        }
      },
      "source": [
        "def train_linear_classifier_model(\n",
        "    learning_rate,\n",
        "    steps,\n",
        "    batch_size,\n",
        "    training_examples,\n",
        "    training_targets,\n",
        "    validation_examples,\n",
        "    validation_targets):\n",
        "  \"\"\"Trains a linear classification model.\n",
        "  \n",
        "  In addition to training, this function also prints training progress information,\n",
        "  as well as a plot of the training and validation loss over time.\n",
        "  \n",
        "  Args:\n",
        "    learning_rate: A `float`, the learning rate.\n",
        "    steps: A non-zero `int`, the total number of training steps. A training step\n",
        "      consists of a forward and backward pass using a single batch.\n",
        "    batch_size: A non-zero `int`, the batch size.\n",
        "    training_examples: A `DataFrame` containing one or more columns from\n",
        "      `california_housing_dataframe` to use as input features for training.\n",
        "    training_targets: A `DataFrame` containing exactly one column from\n",
        "      `california_housing_dataframe` to use as target for training.\n",
        "    validation_examples: A `DataFrame` containing one or more columns from\n",
        "      `california_housing_dataframe` to use as input features for validation.\n",
        "    validation_targets: A `DataFrame` containing exactly one column from\n",
        "      `california_housing_dataframe` to use as target for validation.\n",
        "      \n",
        "  Returns:\n",
        "    A `LinearClassifier` object trained on the training data.\n",
        "  \"\"\"\n",
        "\n",
        "  periods = 10\n",
        "  steps_per_period = steps / periods\n",
        "  \n",
        "  # Create a linear classifier object.\n",
        "  my_optimizer = tf.train.GradientDescentOptimizer(learning_rate=learning_rate)\n",
        "  my_optimizer = tf.contrib.estimator.clip_gradients_by_norm(my_optimizer, 5.0)\n",
        "  linear_classifier = # YOUR CODE HERE: Construct the linear classifier.\n",
        "  \n",
        "  # Create input functions.\n",
        "  training_input_fn = lambda: my_input_fn(training_examples, \n",
        "                                          training_targets[\"median_house_value_is_high\"], \n",
        "                                          batch_size=batch_size)\n",
        "  predict_training_input_fn = lambda: my_input_fn(training_examples, \n",
        "                                                  training_targets[\"median_house_value_is_high\"], \n",
        "                                                  num_epochs=1, \n",
        "                                                  shuffle=False)\n",
        "  predict_validation_input_fn = lambda: my_input_fn(validation_examples, \n",
        "                                                    validation_targets[\"median_house_value_is_high\"], \n",
        "                                                    num_epochs=1, \n",
        "                                                    shuffle=False)\n",
        "  \n",
        "  # Train the model, but do so inside a loop so that we can periodically assess\n",
        "  # loss metrics.\n",
        "  print(\"Training model...\")\n",
        "  print(\"LogLoss (on training data):\")\n",
        "  training_log_losses = []\n",
        "  validation_log_losses = []\n",
        "  for period in range (0, periods):\n",
        "    # Train the model, starting from the prior state.\n",
        "    linear_classifier.train(\n",
        "        input_fn=training_input_fn,\n",
        "        steps=steps_per_period\n",
        "    )\n",
        "    # Take a break and compute predictions.    \n",
        "    training_probabilities = linear_classifier.predict(input_fn=predict_training_input_fn)\n",
        "    training_probabilities = np.array([item['probabilities'] for item in training_probabilities])\n",
        "    \n",
        "    validation_probabilities = linear_classifier.predict(input_fn=predict_validation_input_fn)\n",
        "    validation_probabilities = np.array([item['probabilities'] for item in validation_probabilities])\n",
        "    \n",
        "    training_log_loss = metrics.log_loss(training_targets, training_probabilities)\n",
        "    validation_log_loss = metrics.log_loss(validation_targets, validation_probabilities)\n",
        "    # Occasionally print the current loss.\n",
        "    print(\"  period %02d : %0.2f\" % (period, training_log_loss))\n",
        "    # Add the loss metrics from this period to our list.\n",
        "    training_log_losses.append(training_log_loss)\n",
        "    validation_log_losses.append(validation_log_loss)\n",
        "  print(\"Model training finished.\")\n",
        "  \n",
        "  # Output a graph of loss metrics over periods.\n",
        "  plt.ylabel(\"LogLoss\")\n",
        "  plt.xlabel(\"Periods\")\n",
        "  plt.title(\"LogLoss vs. Periods\")\n",
        "  plt.tight_layout()\n",
        "  plt.plot(training_log_losses, label=\"training\")\n",
        "  plt.plot(validation_log_losses, label=\"validation\")\n",
        "  plt.legend()\n",
        "\n",
        "  return linear_classifier"
      ],
      "cell_type": "code",
      "execution_count": 0,
      "outputs": []
    },
    {
      "metadata": {
        "id": "VM0wmnFUIYH9",
        "colab_type": "code",
        "colab": {
          "autoexec": {
            "startup": false,
            "wait_interval": 0
          }
        }
      },
      "source": [
        "linear_classifier = train_linear_classifier_model(\n",
        "    learning_rate=0.000005,\n",
        "    steps=500,\n",
        "    batch_size=20,\n",
        "    training_examples=training_examples,\n",
        "    training_targets=training_targets,\n",
        "    validation_examples=validation_examples,\n",
        "    validation_targets=validation_targets)"
      ],
      "cell_type": "code",
      "execution_count": 0,
      "outputs": []
    },
    {
      "metadata": {
        "id": "i2e3TlyL57Qs",
        "colab_type": "text"
      },
      "cell_type": "markdown",
      "source": [
        " ### \ud574\uacb0 \ubc29\ubc95\n",
        "\n",
        "\ud574\uacb0 \ubc29\ubc95\uc744 \ubcf4\ub824\uba74 \uc544\ub798\ub97c \ud074\ub9ad\ud558\uc138\uc694.\n",
        "\n",
        ""
      ]
    },
    {
      "metadata": {
        "id": "5YxXd2hn6MuF",
        "colab_type": "code",
        "colab": {
          "autoexec": {
            "startup": false,
            "wait_interval": 0
          }
        }
      },
      "source": [
        "def train_linear_classifier_model(\n",
        "    learning_rate,\n",
        "    steps,\n",
        "    batch_size,\n",
        "    training_examples,\n",
        "    training_targets,\n",
        "    validation_examples,\n",
        "    validation_targets):\n",
        "  \"\"\"Trains a linear classification model.\n",
        "  \n",
        "  In addition to training, this function also prints training progress information,\n",
        "  as well as a plot of the training and validation loss over time.\n",
        "  \n",
        "  Args:\n",
        "    learning_rate: A `float`, the learning rate.\n",
        "    steps: A non-zero `int`, the total number of training steps. A training step\n",
        "      consists of a forward and backward pass using a single batch.\n",
        "    batch_size: A non-zero `int`, the batch size.\n",
        "    training_examples: A `DataFrame` containing one or more columns from\n",
        "      `california_housing_dataframe` to use as input features for training.\n",
        "    training_targets: A `DataFrame` containing exactly one column from\n",
        "      `california_housing_dataframe` to use as target for training.\n",
        "    validation_examples: A `DataFrame` containing one or more columns from\n",
        "      `california_housing_dataframe` to use as input features for validation.\n",
        "    validation_targets: A `DataFrame` containing exactly one column from\n",
        "      `california_housing_dataframe` to use as target for validation.\n",
        "      \n",
        "  Returns:\n",
        "    A `LinearClassifier` object trained on the training data.\n",
        "  \"\"\"\n",
        "\n",
        "  periods = 10\n",
        "  steps_per_period = steps / periods\n",
        "  \n",
        "  # Create a linear classifier object.\n",
        "  my_optimizer = tf.train.GradientDescentOptimizer(learning_rate=learning_rate)\n",
        "  my_optimizer = tf.contrib.estimator.clip_gradients_by_norm(my_optimizer, 5.0)  \n",
        "  linear_classifier = tf.estimator.LinearClassifier(\n",
        "      feature_columns=construct_feature_columns(training_examples),\n",
        "      optimizer=my_optimizer\n",
        "  )\n",
        "  \n",
        "  # Create input functions.\n",
        "  training_input_fn = lambda: my_input_fn(training_examples, \n",
        "                                          training_targets[\"median_house_value_is_high\"], \n",
        "                                          batch_size=batch_size)\n",
        "  predict_training_input_fn = lambda: my_input_fn(training_examples, \n",
        "                                                  training_targets[\"median_house_value_is_high\"], \n",
        "                                                  num_epochs=1, \n",
        "                                                  shuffle=False)\n",
        "  predict_validation_input_fn = lambda: my_input_fn(validation_examples, \n",
        "                                                    validation_targets[\"median_house_value_is_high\"], \n",
        "                                                    num_epochs=1, \n",
        "                                                    shuffle=False)\n",
        "  \n",
        "  # Train the model, but do so inside a loop so that we can periodically assess\n",
        "  # loss metrics.\n",
        "  print(\"Training model...\")\n",
        "  print(\"LogLoss (on training data):\")\n",
        "  training_log_losses = []\n",
        "  validation_log_losses = []\n",
        "  for period in range (0, periods):\n",
        "    # Train the model, starting from the prior state.\n",
        "    linear_classifier.train(\n",
        "        input_fn=training_input_fn,\n",
        "        steps=steps_per_period\n",
        "    )\n",
        "    # Take a break and compute predictions.    \n",
        "    training_probabilities = linear_classifier.predict(input_fn=predict_training_input_fn)\n",
        "    training_probabilities = np.array([item['probabilities'] for item in training_probabilities])\n",
        "    \n",
        "    validation_probabilities = linear_classifier.predict(input_fn=predict_validation_input_fn)\n",
        "    validation_probabilities = np.array([item['probabilities'] for item in validation_probabilities])\n",
        "    \n",
        "    training_log_loss = metrics.log_loss(training_targets, training_probabilities)\n",
        "    validation_log_loss = metrics.log_loss(validation_targets, validation_probabilities)\n",
        "    # Occasionally print the current loss.\n",
        "    print(\"  period %02d : %0.2f\" % (period, training_log_loss))\n",
        "    # Add the loss metrics from this period to our list.\n",
        "    training_log_losses.append(training_log_loss)\n",
        "    validation_log_losses.append(validation_log_loss)\n",
        "  print(\"Model training finished.\")\n",
        "  \n",
        "  # Output a graph of loss metrics over periods.\n",
        "  plt.ylabel(\"LogLoss\")\n",
        "  plt.xlabel(\"Periods\")\n",
        "  plt.title(\"LogLoss vs. Periods\")\n",
        "  plt.tight_layout()\n",
        "  plt.plot(training_log_losses, label=\"training\")\n",
        "  plt.plot(validation_log_losses, label=\"validation\")\n",
        "  plt.legend()\n",
        "\n",
        "  return linear_classifier"
      ],
      "cell_type": "code",
      "execution_count": 0,
      "outputs": []
    },
    {
      "metadata": {
        "id": "UPM_T1FXsTaL",
        "colab_type": "code",
        "colab": {
          "autoexec": {
            "startup": false,
            "wait_interval": 0
          }
        }
      },
      "source": [
        "linear_classifier = train_linear_classifier_model(\n",
        "    learning_rate=0.000005,\n",
        "    steps=500,\n",
        "    batch_size=20,\n",
        "    training_examples=training_examples,\n",
        "    training_targets=training_targets,\n",
        "    validation_examples=validation_examples,\n",
        "    validation_targets=validation_targets)"
      ],
      "cell_type": "code",
      "execution_count": 0,
      "outputs": []
    },
    {
      "metadata": {
        "id": "i-Xo83_aR6s_",
        "colab_type": "text"
      },
      "cell_type": "markdown",
      "source": [
        " ## \uc791\uc5c5 3: \uac80\uc99d \uc138\ud2b8\ub85c \uc815\ud655\uc131 \uacc4\uc0b0 \ubc0f ROC \uace1\uc120 \ub3c4\uc2dd\ud654\n",
        "\n",
        "\ubd84\ub958\uc5d0 \uc720\uc6a9\ud55c \uba87 \uac00\uc9c0 \uce21\uc815\ud56d\ubaa9\uc740 \ubaa8\ub378 [\uc815\ud655\uc131](https://en.wikipedia.org/wiki/Accuracy_and_precision#In_binary_classification), [ROC \uace1\uc120](https://en.wikipedia.org/wiki/Receiver_operating_characteristic) \ubc0f AUC(ROC \uace1\uc120 \uc544\ub798 \uc601\uc5ed)\uc785\ub2c8\ub2e4. \uc774\ub7ec\ud55c \uce21\uc815\ud56d\ubaa9\uc744 \uc870\uc0ac\ud574 \ubcf4\uaca0\uc2b5\ub2c8\ub2e4.\n",
        "\n",
        "`LinearClassifier.evaluate`\ub294 \uc815\ud655\uc131 \ubc0f AUC \ub4f1\uc758 \uc720\uc6a9\ud55c \uce21\uc815\ud56d\ubaa9\uc744 \uacc4\uc0b0\ud569\ub2c8\ub2e4."
      ]
    },
    {
      "metadata": {
        "id": "DKSQ87VVIYIA",
        "colab_type": "code",
        "colab": {
          "autoexec": {
            "startup": false,
            "wait_interval": 0
          }
        }
      },
      "source": [
        "evaluation_metrics = linear_classifier.evaluate(input_fn=predict_validation_input_fn)\n",
        "\n",
        "print(\"AUC on the validation set: %0.2f\" % evaluation_metrics['auc'])\n",
        "print(\"Accuracy on the validation set: %0.2f\" % evaluation_metrics['accuracy'])"
      ],
      "cell_type": "code",
      "execution_count": 0,
      "outputs": []
    },
    {
      "metadata": {
        "id": "47xGS2uNIYIE",
        "colab_type": "text"
      },
      "cell_type": "markdown",
      "source": [
        " `LinearClassifier.predict` \ubc0f Sklearn\uc758 [roc_curve](http://scikit-learn.org/stable/modules/model_evaluation.html#roc-metrics) \ub4f1\uc73c\ub85c \uacc4\uc0b0\ub418\ub294 \ud074\ub798\uc2a4 \ud655\ub960\uc744 \uc0ac\uc6a9\ud558\uc5ec ROC \uace1\uc120\uc744 \ub3c4\uc2dd\ud654\ud558\ub294 \ub370 \ud544\uc694\ud55c \ucc38\uc591\uc131\ub960 \ubc0f \uac70\uc9d3\uc591\uc131\ub960\uc744 \uac00\uc838\uc62c \uc218 \uc788\uc2b5\ub2c8\ub2e4."
      ]
    },
    {
      "metadata": {
        "id": "xaU7ttj8IYIF",
        "colab_type": "code",
        "colab": {
          "autoexec": {
            "startup": false,
            "wait_interval": 0
          }
        }
      },
      "source": [
        "validation_probabilities = linear_classifier.predict(input_fn=predict_validation_input_fn)\n",
        "# Get just the probabilities for the positive class.\n",
        "validation_probabilities = np.array([item['probabilities'][1] for item in validation_probabilities])\n",
        "\n",
        "false_positive_rate, true_positive_rate, thresholds = metrics.roc_curve(\n",
        "    validation_targets, validation_probabilities)\n",
        "plt.plot(false_positive_rate, true_positive_rate, label=\"our model\")\n",
        "plt.plot([0, 1], [0, 1], label=\"random classifier\")\n",
        "_ = plt.legend(loc=2)"
      ],
      "cell_type": "code",
      "execution_count": 0,
      "outputs": []
    },
    {
      "metadata": {
        "id": "PIdhwfgzIYII",
        "colab_type": "text"
      },
      "cell_type": "markdown",
      "source": [
        " **\uc791\uc5c5 2\uc5d0\uc11c \ud559\uc2b5\uc2dc\ud0a8 \ubaa8\ub378\uc758 \ud559\uc2b5 \uc124\uc815\uc744 \uc870\uc815\ud558\uc5ec AUC\ub97c \uac1c\uc120\ud560 \uc218 \uc788\ub294\uc9c0 \ud655\uc778\ud574 \ubcf4\uc138\uc694.**\n",
        "\n",
        "\uc5b4\ub5a4 \uce21\uc815\ud56d\ubaa9\uc744 \uac1c\uc120\ud558\uba74 \ub2e4\ub978 \uce21\uc815\ud56d\ubaa9\uc774 \uc545\ud654\ub418\ub294 \uacbd\uc6b0\uac00 \uc885\uc885 \ub098\ud0c0\ub098\ubbc0\ub85c, \uc801\uc808\ud558\uac8c \uade0\ud615\uc774 \ub9de\ub294 \uc124\uc815\uc744 \ucc3e\uc544\uc57c \ud569\ub2c8\ub2e4.\n",
        "\n",
        "**\ubaa8\ub4e0 \uce21\uc815\ud56d\ubaa9\uc774 \ub3d9\uc2dc\uc5d0 \uac1c\uc120\ub418\ub294\uc9c0 \ud655\uc778\ud574 \ubcf4\uc138\uc694.**"
      ]
    },
    {
      "metadata": {
        "id": "XKIqjsqcCaxO",
        "colab_type": "code",
        "colab": {
          "autoexec": {
            "startup": false,
            "wait_interval": 0
          }
        }
      },
      "source": [
        "# TUNE THE SETTINGS BELOW TO IMPROVE AUC\n",
        "linear_classifier = train_linear_classifier_model(\n",
        "    learning_rate=0.000005,\n",
        "    steps=500,\n",
        "    batch_size=20,\n",
        "    training_examples=training_examples,\n",
        "    training_targets=training_targets,\n",
        "    validation_examples=validation_examples,\n",
        "    validation_targets=validation_targets)\n",
        "\n",
        "evaluation_metrics = linear_classifier.evaluate(input_fn=predict_validation_input_fn)\n",
        "\n",
        "print(\"AUC on the validation set: %0.2f\" % evaluation_metrics['auc'])\n",
        "print(\"Accuracy on the validation set: %0.2f\" % evaluation_metrics['accuracy'])"
      ],
      "cell_type": "code",
      "execution_count": 0,
      "outputs": []
    },
    {
      "metadata": {
        "id": "wCugvl0JdWYL",
        "colab_type": "text"
      },
      "cell_type": "markdown",
      "source": [
        " ### \ud574\uacb0 \ubc29\ubc95\n",
        "\n",
        "\uac00\ub2a5\ud55c \ud574\uacb0 \ubc29\ubc95\uc744 \ubcf4\ub824\uba74 \uc544\ub798\ub97c \ud074\ub9ad\ud558\uc138\uc694."
      ]
    },
    {
      "metadata": {
        "id": "VHosS1g2aetf",
        "colab_type": "text"
      },
      "cell_type": "markdown",
      "source": [
        " \ud6a8\uacfc\uc801\uc778 \ud574\uacb0 \ubc29\ubc95 \uc911 \ud558\ub098\ub294 \uacfc\uc801\ud569\uc774 \ub098\ud0c0\ub098\uc9c0 \uc54a\ub294 \ubc94\uc704 \ub0b4\uc5d0\uc11c \ub354 \uc624\ub7ab\ub3d9\uc548 \ud559\uc2b5\ud558\ub294 \uac83\uc785\ub2c8\ub2e4. \n",
        "\n",
        "\uc774\ub807\uac8c \ud558\ub824\uba74 \ub2e8\uacc4 \uc218, \ubc30\uce58 \ud06c\uae30 \ub610\ub294 \ub458 \ubaa8\ub450\ub97c \ub298\ub9ac\uba74 \ub429\ub2c8\ub2e4.\n",
        "\n",
        "\ubaa8\ub4e0 \uce21\uc815\ud56d\ubaa9\uc774 \ub3d9\uc2dc\uc5d0 \uac1c\uc120\ub418\ubbc0\ub85c \uc190\uc2e4 \uce21\uc815\ud56d\ubaa9\uc740 AUC\uc640 \uc815\ud655\uc131 \ubaa8\ub450\ub97c \uc801\uc808\ud788 \ub300\ubcc0\ud569\ub2c8\ub2e4.\n",
        "\n",
        "AUC\ub97c \uba87 \ub2e8\uc704\ub9cc \uac1c\uc120\ud558\ub824 \ud574\ub3c4 \uad49\uc7a5\ud788 \ub9ce\uc740 \ucd94\uac00 \ubc18\ubcf5\uc774 \ud544\uc694\ud569\ub2c8\ub2e4. \uc774\ub294 \ud754\ud788 \ub098\ud0c0\ub098\ub294 \uc0c1\ud669\uc774\uc9c0\ub9cc, \uc774\ub807\uac8c \uc791\uc740 \uac1c\uc120\uc774\ub77c\ub3c4 \ube44\uc6a9\uc744 \ud22c\uc790\ud560 \uac00\uce58\ub294 \ucda9\ubd84\ud569\ub2c8\ub2e4."
      ]
    },
    {
      "metadata": {
        "id": "dWgTEYMddaA-",
        "colab_type": "code",
        "colab": {
          "autoexec": {
            "startup": false,
            "wait_interval": 0
          }
        }
      },
      "source": [
        "linear_classifier = train_linear_classifier_model(\n",
        "    learning_rate=0.000003,\n",
        "    steps=20000,\n",
        "    batch_size=500,\n",
        "    training_examples=training_examples,\n",
        "    training_targets=training_targets,\n",
        "    validation_examples=validation_examples,\n",
        "    validation_targets=validation_targets)\n",
        "\n",
        "evaluation_metrics = linear_classifier.evaluate(input_fn=predict_validation_input_fn)\n",
        "\n",
        "print(\"AUC on the validation set: %0.2f\" % evaluation_metrics['auc'])\n",
        "print(\"Accuracy on the validation set: %0.2f\" % evaluation_metrics['accuracy'])"
      ],
      "cell_type": "code",
      "execution_count": 0,
      "outputs": []
    }
  ]
}
