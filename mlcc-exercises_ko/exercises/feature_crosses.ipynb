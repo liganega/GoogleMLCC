{
  "nbformat": 4,
  "nbformat_minor": 0,
  "metadata": {
    "colab": {
      "name": "feature_crosses.ipynb",
      "version": "0.3.2",
      "views": {},
      "default_view": {},
      "provenance": [],
      "collapsed_sections": [
        "ZTDHHM61NPTw",
        "0i7vGo9PTaZl",
        "copyright-notice"
      ]
    }
  },
  "cells": [
    {
      "source": [
        "#### Copyright 2017 Google LLC."
      ],
      "metadata": {
        "id": "copyright-notice",
        "colab_type": "text"
      },
      "cell_type": "markdown"
    },
    {
      "execution_count": 0,
      "source": [
        "# Licensed under the Apache License, Version 2.0 (the \"License\");\n",
        "# you may not use this file except in compliance with the License.\n",
        "# You may obtain a copy of the License at\n",
        "#\n",
        "# https://www.apache.org/licenses/LICENSE-2.0\n",
        "#\n",
        "# Unless required by applicable law or agreed to in writing, software\n",
        "# distributed under the License is distributed on an \"AS IS\" BASIS,\n",
        "# WITHOUT WARRANTIES OR CONDITIONS OF ANY KIND, either express or implied.\n",
        "# See the License for the specific language governing permissions and\n",
        "# limitations under the License."
      ],
      "metadata": {
        "cellView": "both",
        "colab": {
          "autoexec": {
            "startup": false,
            "wait_interval": 0
          }
        },
        "id": "copyright-notice2",
        "colab_type": "code"
      },
      "cell_type": "code",
      "outputs": []
    },
    {
      "metadata": {
        "id": "g4T-_IsVbweU",
        "colab_type": "text"
      },
      "cell_type": "markdown",
      "source": [
        " # \ud2b9\uc131 \uad50\ucc28"
      ]
    },
    {
      "metadata": {
        "id": "F7dke6skIK-k",
        "colab_type": "text"
      },
      "cell_type": "markdown",
      "source": [
        " **\ud559\uc2b5 \ubaa9\ud45c:**\n",
        "  * \ud569\uc131 \ud2b9\uc131\uc744 \ucd94\uac00\ud558\uc5ec \uc120\ud615 \ud68c\uadc0 \ubaa8\ub378\uc744 \uac1c\uc120\ud55c\ub2e4(\uc774\uc804 \uc2e4\uc2b5\uc5d0\uc11c \uacc4\uc18d \uc9c4\ud589)\n",
        "  * \uc785\ub825 \ud568\uc218\ub97c \uc0ac\uc6a9\ud558\uc5ec `DataFrame` \uac1c\uccb4\ub97c `Tensors`\ub85c \ubcc0\ud658\ud558\uace0 `fit()` \ubc0f `predict()` \uc791\uc5c5\uc5d0\uc11c \uc785\ub825 \ud568\uc218\ub97c \ud638\ucd9c\ud55c\ub2e4\n",
        "  * \ubaa8\ub378 \ud559\uc2b5\uc5d0 FTRL \ucd5c\uc801\ud654 \uc54c\uace0\ub9ac\uc998\uc744 \uc0ac\uc6a9\ud55c\ub2e4\n",
        "  * \uc6d0-\ud56b \uc778\ucf54\ub529, \ube44\ub2dd, \ud2b9\uc131 \uad50\ucc28\ub97c \ud1b5\ud574 \uc0c8 \ud569\uc131 \ud2b9\uc131\uc744 \ub9cc\ub4e0\ub2e4"
      ]
    },
    {
      "metadata": {
        "id": "NS_fcQRd8B97",
        "colab_type": "text"
      },
      "cell_type": "markdown",
      "source": [
        " ## \uc124\uc815"
      ]
    },
    {
      "metadata": {
        "id": "4IdzD8IdIK-l",
        "colab_type": "text"
      },
      "cell_type": "markdown",
      "source": [
        " \uc6b0\uc120 \uc774\uc804 \uc2e4\uc2b5\uacfc \ub9c8\ucc2c\uac00\uc9c0\ub85c \uc785\ub825\uc744 \uc815\uc758\ud558\uace0 \ub370\uc774\ud130 \ub85c\ub529 \ucf54\ub4dc\ub97c \ub9cc\ub4e4\uaca0\uc2b5\ub2c8\ub2e4."
      ]
    },
    {
      "metadata": {
        "id": "CsfdiLiDIK-n",
        "colab_type": "code",
        "colab": {
          "autoexec": {
            "startup": false,
            "wait_interval": 0
          }
        }
      },
      "source": [
        "from __future__ import print_function\n",
        "\n",
        "import math\n",
        "\n",
        "from IPython import display\n",
        "from matplotlib import cm\n",
        "from matplotlib import gridspec\n",
        "from matplotlib import pyplot as plt\n",
        "import numpy as np\n",
        "import pandas as pd\n",
        "from sklearn import metrics\n",
        "import tensorflow as tf\n",
        "from tensorflow.python.data import Dataset\n",
        "\n",
        "tf.logging.set_verbosity(tf.logging.ERROR)\n",
        "pd.options.display.max_rows = 10\n",
        "pd.options.display.float_format = '{:.1f}'.format\n",
        "\n",
        "california_housing_dataframe = pd.read_csv(\"https://download.mlcc.google.com/mledu-datasets/california_housing_train.csv\", sep=\",\")\n",
        "\n",
        "california_housing_dataframe = california_housing_dataframe.reindex(\n",
        "    np.random.permutation(california_housing_dataframe.index))"
      ],
      "cell_type": "code",
      "execution_count": 0,
      "outputs": []
    },
    {
      "metadata": {
        "id": "10rhoflKIK-s",
        "colab_type": "code",
        "colab": {
          "autoexec": {
            "startup": false,
            "wait_interval": 0
          }
        }
      },
      "source": [
        "def preprocess_features(california_housing_dataframe):\n",
        "  \"\"\"Prepares input features from California housing data set.\n",
        "\n",
        "  Args:\n",
        "    california_housing_dataframe: A Pandas DataFrame expected to contain data\n",
        "      from the California housing data set.\n",
        "  Returns:\n",
        "    A DataFrame that contains the features to be used for the model, including\n",
        "    synthetic features.\n",
        "  \"\"\"\n",
        "  selected_features = california_housing_dataframe[\n",
        "    [\"latitude\",\n",
        "     \"longitude\",\n",
        "     \"housing_median_age\",\n",
        "     \"total_rooms\",\n",
        "     \"total_bedrooms\",\n",
        "     \"population\",\n",
        "     \"households\",\n",
        "     \"median_income\"]]\n",
        "  processed_features = selected_features.copy()\n",
        "  # Create a synthetic feature.\n",
        "  processed_features[\"rooms_per_person\"] = (\n",
        "    california_housing_dataframe[\"total_rooms\"] /\n",
        "    california_housing_dataframe[\"population\"])\n",
        "  return processed_features\n",
        "\n",
        "def preprocess_targets(california_housing_dataframe):\n",
        "  \"\"\"Prepares target features (i.e., labels) from California housing data set.\n",
        "\n",
        "  Args:\n",
        "    california_housing_dataframe: A Pandas DataFrame expected to contain data\n",
        "      from the California housing data set.\n",
        "  Returns:\n",
        "    A DataFrame that contains the target feature.\n",
        "  \"\"\"\n",
        "  output_targets = pd.DataFrame()\n",
        "  # Scale the target to be in units of thousands of dollars.\n",
        "  output_targets[\"median_house_value\"] = (\n",
        "    california_housing_dataframe[\"median_house_value\"] / 1000.0)\n",
        "  return output_targets"
      ],
      "cell_type": "code",
      "execution_count": 0,
      "outputs": []
    },
    {
      "metadata": {
        "id": "ufplEkjN8KUp",
        "colab_type": "code",
        "colab": {
          "autoexec": {
            "startup": false,
            "wait_interval": 0
          }
        }
      },
      "source": [
        "# Choose the first 12000 (out of 17000) examples for training.\n",
        "training_examples = preprocess_features(california_housing_dataframe.head(12000))\n",
        "training_targets = preprocess_targets(california_housing_dataframe.head(12000))\n",
        "\n",
        "# Choose the last 5000 (out of 17000) examples for validation.\n",
        "validation_examples = preprocess_features(california_housing_dataframe.tail(5000))\n",
        "validation_targets = preprocess_targets(california_housing_dataframe.tail(5000))\n",
        "\n",
        "# Double-check that we've done the right thing.\n",
        "print(\"Training examples summary:\")\n",
        "display.display(training_examples.describe())\n",
        "print(\"Validation examples summary:\")\n",
        "display.display(validation_examples.describe())\n",
        "\n",
        "print(\"Training targets summary:\")\n",
        "display.display(training_targets.describe())\n",
        "print(\"Validation targets summary:\")\n",
        "display.display(validation_targets.describe())"
      ],
      "cell_type": "code",
      "execution_count": 0,
      "outputs": []
    },
    {
      "metadata": {
        "id": "oJlrB4rJ_2Ma",
        "colab_type": "code",
        "colab": {
          "autoexec": {
            "startup": false,
            "wait_interval": 0
          }
        }
      },
      "source": [
        "def construct_feature_columns(input_features):\n",
        "  \"\"\"Construct the TensorFlow Feature Columns.\n",
        "\n",
        "  Args:\n",
        "    input_features: The names of the numerical input features to use.\n",
        "  Returns:\n",
        "    A set of feature columns\n",
        "  \"\"\"\n",
        "  return set([tf.feature_column.numeric_column(my_feature)\n",
        "              for my_feature in input_features])"
      ],
      "cell_type": "code",
      "execution_count": 0,
      "outputs": []
    },
    {
      "metadata": {
        "id": "NBxoAfp2AcB6",
        "colab_type": "code",
        "colab": {
          "autoexec": {
            "startup": false,
            "wait_interval": 0
          }
        }
      },
      "source": [
        "def my_input_fn(features, targets, batch_size=1, shuffle=True, num_epochs=None):\n",
        "    \"\"\"Trains a linear regression model.\n",
        "  \n",
        "    Args:\n",
        "      features: pandas DataFrame of features\n",
        "      targets: pandas DataFrame of targets\n",
        "      batch_size: Size of batches to be passed to the model\n",
        "      shuffle: True or False. Whether to shuffle the data.\n",
        "      num_epochs: Number of epochs for which data should be repeated. None = repeat indefinitely\n",
        "    Returns:\n",
        "      Tuple of (features, labels) for next data batch\n",
        "    \"\"\"\n",
        "    \n",
        "    # Convert pandas data into a dict of np arrays.\n",
        "    features = {key:np.array(value) for key,value in dict(features).items()}                                           \n",
        " \n",
        "    # Construct a dataset, and configure batching/repeating.\n",
        "    ds = Dataset.from_tensor_slices((features,targets)) # warning: 2GB limit\n",
        "    ds = ds.batch(batch_size).repeat(num_epochs)\n",
        "    \n",
        "    # Shuffle the data, if specified.\n",
        "    if shuffle:\n",
        "      ds = ds.shuffle(10000)\n",
        "    \n",
        "    # Return the next batch of data.\n",
        "    features, labels = ds.make_one_shot_iterator().get_next()\n",
        "    return features, labels"
      ],
      "cell_type": "code",
      "execution_count": 0,
      "outputs": []
    },
    {
      "metadata": {
        "id": "hweDyy31LBsV",
        "colab_type": "text"
      },
      "cell_type": "markdown",
      "source": [
        " ## FTRL \ucd5c\uc801\ud654 \uc54c\uace0\ub9ac\uc998\n",
        "\n",
        "\uace0\ucc28\uc6d0 \uc120\ud615 \ubaa8\ub378\uc5d0\uc11c\ub294 \uacbd\uc0ac \uae30\ubc18 \ucd5c\uc801\ud654\uc758 \uc77c\uc885\uc778 FTRL\uc774 \uc720\uc6a9\ud569\ub2c8\ub2e4. \uc774 \uc54c\uace0\ub9ac\uc998\uc758 \uc7a5\uc810\uc740 \uc5ec\ub7ec \uac00\uc9c0 \uacc4\uc218\uc758 \ud559\uc2b5\ub960\uc744 \uc11c\ub85c \ub2e4\ub974\uac8c \uc870\uc815\ud55c\ub2e4\ub294 \uac83\uc774\uba70, \uc774 \ubc29\ubc95\uc740 \uc77c\ubd80 \ud2b9\uc131\uc774 0\uc774 \uc544\ub2cc \uac12\uc744 \uac70\uc758 \ucde8\ud558\uc9c0 \uc54a\ub294 \uacbd\uc6b0\uc5d0 \uc720\uc6a9\ud560 \uc218 \uc788\uc73c\uba70 L1 \uc815\uaddc\ud654\uc640\ub3c4 \uc798 \uc870\ud654\ub429\ub2c8\ub2e4. [FtrlOptimizer](https://www.tensorflow.org/api_docs/python/tf/train/FtrlOptimizer)\ub97c \uc0ac\uc6a9\ud558\uc5ec FTRL\uc744 \uc801\uc6a9\ud560 \uc218 \uc788\uc2b5\ub2c8\ub2e4."
      ]
    },
    {
      "metadata": {
        "id": "S0SBf1X1IK_O",
        "colab_type": "code",
        "colab": {
          "autoexec": {
            "startup": false,
            "wait_interval": 0
          }
        }
      },
      "source": [
        "def train_model(\n",
        "    learning_rate,\n",
        "    steps,\n",
        "    batch_size,\n",
        "    feature_columns,\n",
        "    training_examples,\n",
        "    training_targets,\n",
        "    validation_examples,\n",
        "    validation_targets):\n",
        "  \"\"\"Trains a linear regression model.\n",
        "  \n",
        "  In addition to training, this function also prints training progress information,\n",
        "  as well as a plot of the training and validation loss over time.\n",
        "  \n",
        "  Args:\n",
        "    learning_rate: A `float`, the learning rate.\n",
        "    steps: A non-zero `int`, the total number of training steps. A training step\n",
        "      consists of a forward and backward pass using a single batch.\n",
        "    feature_columns: A `set` specifying the input feature columns to use.\n",
        "    training_examples: A `DataFrame` containing one or more columns from\n",
        "      `california_housing_dataframe` to use as input features for training.\n",
        "    training_targets: A `DataFrame` containing exactly one column from\n",
        "      `california_housing_dataframe` to use as target for training.\n",
        "    validation_examples: A `DataFrame` containing one or more columns from\n",
        "      `california_housing_dataframe` to use as input features for validation.\n",
        "    validation_targets: A `DataFrame` containing exactly one column from\n",
        "      `california_housing_dataframe` to use as target for validation.\n",
        "      \n",
        "  Returns:\n",
        "    A `LinearRegressor` object trained on the training data.\n",
        "  \"\"\"\n",
        "\n",
        "  periods = 10\n",
        "  steps_per_period = steps / periods\n",
        "\n",
        "  # Create a linear regressor object.\n",
        "  my_optimizer = tf.train.FtrlOptimizer(learning_rate=learning_rate)\n",
        "  my_optimizer = tf.contrib.estimator.clip_gradients_by_norm(my_optimizer, 5.0)\n",
        "  linear_regressor = tf.estimator.LinearRegressor(\n",
        "      feature_columns=feature_columns,\n",
        "      optimizer=my_optimizer\n",
        "  )\n",
        "  \n",
        "  training_input_fn = lambda: my_input_fn(training_examples, \n",
        "                                          training_targets[\"median_house_value\"], \n",
        "                                          batch_size=batch_size)\n",
        "  predict_training_input_fn = lambda: my_input_fn(training_examples, \n",
        "                                                  training_targets[\"median_house_value\"], \n",
        "                                                  num_epochs=1, \n",
        "                                                  shuffle=False)\n",
        "  predict_validation_input_fn = lambda: my_input_fn(validation_examples, \n",
        "                                                    validation_targets[\"median_house_value\"], \n",
        "                                                    num_epochs=1, \n",
        "                                                    shuffle=False)\n",
        "\n",
        "  # Train the model, but do so inside a loop so that we can periodically assess\n",
        "  # loss metrics.\n",
        "  print(\"Training model...\")\n",
        "  print(\"RMSE (on training data):\")\n",
        "  training_rmse = []\n",
        "  validation_rmse = []\n",
        "  for period in range (0, periods):\n",
        "    # Train the model, starting from the prior state.\n",
        "    linear_regressor.train(\n",
        "        input_fn=training_input_fn,\n",
        "        steps=steps_per_period\n",
        "    )\n",
        "    # Take a break and compute predictions.\n",
        "    training_predictions = linear_regressor.predict(input_fn=predict_training_input_fn)\n",
        "    training_predictions = np.array([item['predictions'][0] for item in training_predictions])\n",
        "    validation_predictions = linear_regressor.predict(input_fn=predict_validation_input_fn)\n",
        "    validation_predictions = np.array([item['predictions'][0] for item in validation_predictions])\n",
        "    \n",
        "    # Compute training and validation loss.\n",
        "    training_root_mean_squared_error = math.sqrt(\n",
        "        metrics.mean_squared_error(training_predictions, training_targets))\n",
        "    validation_root_mean_squared_error = math.sqrt(\n",
        "        metrics.mean_squared_error(validation_predictions, validation_targets))\n",
        "    # Occasionally print the current loss.\n",
        "    print(\"  period %02d : %0.2f\" % (period, training_root_mean_squared_error))\n",
        "    # Add the loss metrics from this period to our list.\n",
        "    training_rmse.append(training_root_mean_squared_error)\n",
        "    validation_rmse.append(validation_root_mean_squared_error)\n",
        "  print(\"Model training finished.\")\n",
        "\n",
        "  \n",
        "  # Output a graph of loss metrics over periods.\n",
        "  plt.ylabel(\"RMSE\")\n",
        "  plt.xlabel(\"Periods\")\n",
        "  plt.title(\"Root Mean Squared Error vs. Periods\")\n",
        "  plt.tight_layout()\n",
        "  plt.plot(training_rmse, label=\"training\")\n",
        "  plt.plot(validation_rmse, label=\"validation\")\n",
        "  plt.legend()\n",
        "\n",
        "  return linear_regressor"
      ],
      "cell_type": "code",
      "execution_count": 0,
      "outputs": []
    },
    {
      "metadata": {
        "id": "1Cdr02tLIK_Q",
        "colab_type": "code",
        "colab": {
          "autoexec": {
            "startup": false,
            "wait_interval": 0
          }
        }
      },
      "source": [
        "_ = train_model(\n",
        "    learning_rate=1.0,\n",
        "    steps=500,\n",
        "    batch_size=100,\n",
        "    feature_columns=construct_feature_columns(training_examples),\n",
        "    training_examples=training_examples,\n",
        "    training_targets=training_targets,\n",
        "    validation_examples=validation_examples,\n",
        "    validation_targets=validation_targets)"
      ],
      "cell_type": "code",
      "execution_count": 0,
      "outputs": []
    },
    {
      "metadata": {
        "id": "i4lGvqajDWlw",
        "colab_type": "text"
      },
      "cell_type": "markdown",
      "source": [
        " ## \ubd88\uc5f0\uc18d \ud2b9\uc131\uc5d0 \ub300\ud55c \uc6d0-\ud56b \uc778\ucf54\ub529\n",
        "\n",
        "\ubb38\uc790\uc5f4, \uc5f4\uac70\ud615, \uc815\uc218 \ub4f1\uc758 \ubd88\uc5f0\uc18d \ud2b9\uc131\uc740 \uc77c\ubc18\uc801\uc73c\ub85c \ub85c\uc9c0\uc2a4\ud2f1 \ud68c\uadc0 \ubaa8\ub378\uc744 \ud559\uc2b5\ud558\uae30 \uc804\uc5d0 \uc774\uc9c4 \ud2b9\uc131 \ud328\ubc00\ub9ac\ub85c \ubcc0\ud658\ub429\ub2c8\ub2e4.\n",
        "\n",
        "\uc608\ub97c \ub4e4\uc5b4 \uac12\uc73c\ub85c `0`, `1`, `2`\ub9cc \ucde8\ud560 \uc218 \uc788\ub294 \ud569\uc131 \ud2b9\uc131\uc744 \ub9cc\ub4e4\uc5c8\uc73c\uba70 \uba87 \uac1c\uc758 \ud559\uc2b5 \ud3ec\uc778\ud2b8\uac00 \uc788\ub2e4\uace0 \uac00\uc815\ud574 \ubcf4\uaca0\uc2b5\ub2c8\ub2e4.\n",
        "\n",
        "| # | feature_value |\n",
        "|---|---------------|\n",
        "| 0 |             2 |\n",
        "| 1 |             0 |\n",
        "| 2 |             1 |\n",
        "\n",
        "\uac00\ub2a5\ud55c \uac01 \ubc94\uc8fc \uac12\uc5d0 \ub300\ud574 **\uc2e4\uc218\uac12**\uc73c\ub85c \uc0c8 **\uc774\uc9c4** \ud2b9\uc131\uc744 \ub9cc\ub4ed\ub2c8\ub2e4. \uc774 \ud2b9\uc131\uc740 2\uac00\uc9c0 \uac12\ub9cc \ucde8\ud560 \uc218 \uc788\ub294\ub370, \uc608\uc5d0 \ud574\ub2f9 \uac12\uc774 \ud3ec\ud568\ub418\uc5c8\uc73c\uba74 1.0\uc774\uace0 \uadf8\ub807\uc9c0 \uc54a\uc73c\uba74 0.0\uc785\ub2c8\ub2e4. \uc704 \uc608\uc81c\uc5d0\uc11c\ub294 \ubc94\uc8fc\ud615 \ud2b9\uc131\uc744 3\uac1c\uc758 \ud2b9\uc131\uc73c\ub85c \ubcc0\ud658\ud558\ubbc0\ub85c \uc774\uc81c \ud559\uc2b5 \ud3ec\uc778\ud2b8\ub294 \ub2e4\uc74c\uacfc \uac19\uc2b5\ub2c8\ub2e4.\n",
        "\n",
        "| # | feature_value_0 | feature_value_1 | feature_value_2 |\n",
        "|---|-----------------|-----------------|-----------------|\n",
        "| 0 |             0.0 |             0.0 |             1.0 |\n",
        "| 1 |             1.0 |             0.0 |             0.0 |\n",
        "| 2 |             0.0 |             1.0 |             0.0 |"
      ]
    },
    {
      "metadata": {
        "id": "KnssXowblKm7",
        "colab_type": "text"
      },
      "cell_type": "markdown",
      "source": [
        " ## \ubc84\ud0b7\ud654(\ube44\ub2dd) \ud2b9\uc131\n",
        "\n",
        "\ubc84\ud0b7\ud654\ub97c \ube44\ub2dd\uc774\ub77c\uace0\ub3c4 \ud569\ub2c8\ub2e4.\n",
        "\n",
        "\uc608\ub97c \ub4e4\uc5b4 `population`\uc744 \ub2e4\uc74c\uacfc \uac19\uc774 3\uac00\uc9c0\ub85c \ubc84\ud0b7\ud654\ud560 \uc218 \uc788\uc2b5\ub2c8\ub2e4.\n",
        "- `bucket_0` (`< 5000`): \uc778\uad6c\uac00 \uc801\uc740 \uc9c0\uc5ed\uc5d0 \ud574\ub2f9\n",
        "- `bucket_1` (`5000 - 25000`): \uc778\uad6c\uac00 \uc911\uac04 \uc815\ub3c4\uc778 \uc9c0\uc5ed\uc5d0 \ud574\ub2f9\n",
        "- `bucket_2` (`> 25000`): \uc778\uad6c\uac00 \ub9ce\uc740 \uc9c0\uc5ed\uc5d0 \ud574\ub2f9\n",
        "\n",
        "\uc774\ub7ec\ud55c \ubc84\ud0b7 \uc815\uc758\ub85c \ub2e4\uc74c\uacfc \uac19\uc740 `population` \ubca1\ud130\ub97c \ubcc0\ud658\ud560 \uc218 \uc788\uc2b5\ub2c8\ub2e4.\n",
        "\n",
        "    [[10001], [42004], [2500], [18000]]\n",
        "\n",
        "\ubc84\ud0b7\ud654 \ud2b9\uc131 \ubca1\ud130\ub294 \ub2e4\uc74c\uacfc \uac19\uc2b5\ub2c8\ub2e4.\n",
        "\n",
        "    [[1], [2], [0], [1]]\n",
        "\n",
        "\ud2b9\uc131 \uac12\uc740 \uc774\uc81c \ubc84\ud0b7 \uc0c9\uc778\uc785\ub2c8\ub2e4. \uc774\ub7ec\ud55c \uc0c9\uc778\uc740 \ubd88\uc5f0\uc18d \ud2b9\uc131\uc73c\ub85c \uac04\uc8fc\ub429\ub2c8\ub2e4. \uc774\ub7ec\ud55c \ud2b9\uc131\uc740 \uc704\uc640 \uac19\uc774 \uc6d0-\ud56b \ud45c\ud604\uc73c\ub85c \ubcc0\ud658\ub418\ub294 \uac83\uc774 \uc77c\ubc18\uc801\uc774\uc9c0\ub9cc \uc774 \uacfc\uc815\uc740 \ud22c\uba85\ud558\uac8c \uc774\ub8e8\uc5b4\uc9d1\ub2c8\ub2e4.\n",
        "\n",
        "\ubc84\ud0b7\ud654 \ud2b9\uc131\uc5d0 \ub300\ud55c \ud2b9\uc131 \uc5f4\uc744 \uc815\uc758\ud558\ub824\uba74 `numeric_column`\uc744 \uc0ac\uc6a9\ud558\ub294 \ub300\uc2e0 [`bucketized_column`](https://www.tensorflow.org/api_docs/python/tf/feature_column/bucketized_column)\uc744 \uc0ac\uc6a9\ud569\ub2c8\ub2e4. \uc774 \ud2b9\uc131 \uc5f4\uc740 \uc785\ub825\uc73c\ub85c \ucde8\ud55c \uc22b\uc790 \uc5f4\uc744 `boundardies` \uc778\uc218\uc5d0 \uc9c0\uc815\ub41c \ubc84\ud0b7 \uacbd\uacc4\ub97c \uc0ac\uc6a9\ud558\uc5ec \ubc84\ud0b7\ud654 \ud2b9\uc131\uc73c\ub85c \ubcc0\ud658\ud569\ub2c8\ub2e4. \ub2e4\uc74c \ucf54\ub4dc\uc5d0\uc11c\ub294 `households` \ubc0f `longitude`\uc5d0 \ub300\ud55c \ubc84\ud0b7\ud654 \ud2b9\uc131 \uc5f4\uc744 \uc815\uc758\ud569\ub2c8\ub2e4. `get_quantile_based_boundaries` \ud568\uc218\ub294 \ubd84\uc704\ub97c \uae30\uc900\uc73c\ub85c \uacbd\uacc4\ub97c \uacc4\uc0b0\ud558\ubbc0\ub85c \uac01 \ubc84\ud0b7\uc740 \ub3d9\uc77c\ud55c \uc218\uc758 \uc694\uc18c\ub97c \ud3ec\ud568\ud569\ub2c8\ub2e4."
      ]
    },
    {
      "metadata": {
        "id": "cc9qZrtRy-ED",
        "colab_type": "code",
        "colab": {
          "autoexec": {
            "startup": false,
            "wait_interval": 0
          }
        }
      },
      "source": [
        "def get_quantile_based_boundaries(feature_values, num_buckets):\n",
        "  boundaries = np.arange(1.0, num_buckets) / num_buckets\n",
        "  quantiles = feature_values.quantile(boundaries)\n",
        "  return [quantiles[q] for q in quantiles.keys()]\n",
        "\n",
        "# Divide households into 7 buckets.\n",
        "households = tf.feature_column.numeric_column(\"households\")\n",
        "bucketized_households = tf.feature_column.bucketized_column(\n",
        "  households, boundaries=get_quantile_based_boundaries(\n",
        "    california_housing_dataframe[\"households\"], 7))\n",
        "\n",
        "# Divide longitude into 10 buckets.\n",
        "longitude = tf.feature_column.numeric_column(\"longitude\")\n",
        "bucketized_longitude = tf.feature_column.bucketized_column(\n",
        "  longitude, boundaries=get_quantile_based_boundaries(\n",
        "    california_housing_dataframe[\"longitude\"], 10))"
      ],
      "cell_type": "code",
      "execution_count": 0,
      "outputs": []
    },
    {
      "metadata": {
        "id": "U-pQDAa0MeN3",
        "colab_type": "text"
      },
      "cell_type": "markdown",
      "source": [
        " ## \uc791\uc5c5 1: \ubc84\ud0b7\ud654 \ud2b9\uc131 \uc5f4\ub85c \ubaa8\ub378 \ud559\uc2b5\n",
        "**\uc608\uc758 \ubaa8\ub4e0 \uc2e4\uc218\uac12 \ud655\ub960\uc744 \ubc84\ud0b7\ud654\ud558\uace0 \ubaa8\ub378\uc744 \ud559\uc2b5\uc2dc\ud0a8 \ud6c4 \uacb0\uacfc\uac00 \uac1c\uc120\ub418\ub294\uc9c0 \ud655\uc778\ud569\ub2c8\ub2e4.**\n",
        "\n",
        "\uc774\uc804 \ucf54\ub4dc \ube14\ub85d\uc5d0\uc11c\ub294 \ub450 \uac1c\uc758 \uc2e4\uc218\uac12 \uc5f4(`households` \ubc0f `longitude`)\uc744 \ubc84\ud0b7\ud654 \ud2b9\uc131 \uc5f4\ub85c \ubcc0\ud658\ud588\uc2b5\ub2c8\ub2e4. \uc774\ubc88\uc5d0 \uc218\ud589\ud560 \uc791\uc5c5\uc740 \ub098\uba38\uc9c0 \uc5f4\uc744 \ubc84\ud0b7\ud654\ud55c \ud6c4 \ucf54\ub4dc\ub97c \uc2e4\ud589\ud558\uc5ec \ubaa8\ub378\uc744 \ud559\uc2b5\uc2dc\ud0a4\ub294 \uac83\uc785\ub2c8\ub2e4. \ub2e4\uc591\ud55c \ud734\ub9ac\uc2a4\ud2f1\uc73c\ub85c \ubc84\ud0b7\uc758 \ubc94\uc704\ub97c \uc815\ud560 \uc218 \uc788\uc2b5\ub2c8\ub2e4. \uc774 \uc2e4\uc2b5\uc5d0\uc11c\ub294 \ubd84\uc704 \uae30\ubc18 \ubc29\uc2dd\uc744 \uc0ac\uc6a9\ud558\uc5ec \uac01 \ubc84\ud0b7\uc5d0 \ub3d9\uc77c\ud55c \uc218\uc758 \uc608\uac00 \ud3ec\ud568\ub418\ub3c4\ub85d \ubc84\ud0b7 \uacbd\uacc4\ub97c \uc120\ud0dd\ud569\ub2c8\ub2e4."
      ]
    },
    {
      "metadata": {
        "id": "YFXV9lyMLedy",
        "colab_type": "code",
        "colab": {
          "autoexec": {
            "startup": false,
            "wait_interval": 0
          }
        }
      },
      "source": [
        "def construct_feature_columns():\n",
        "  \"\"\"Construct the TensorFlow Feature Columns.\n",
        "\n",
        "  Returns:\n",
        "    A set of feature columns\n",
        "  \"\"\" \n",
        "  households = tf.feature_column.numeric_column(\"households\")\n",
        "  longitude = tf.feature_column.numeric_column(\"longitude\")\n",
        "  latitude = tf.feature_column.numeric_column(\"latitude\")\n",
        "  housing_median_age = tf.feature_column.numeric_column(\"housing_median_age\")\n",
        "  median_income = tf.feature_column.numeric_column(\"median_income\")\n",
        "  rooms_per_person = tf.feature_column.numeric_column(\"rooms_per_person\")\n",
        "  \n",
        "  # Divide households into 7 buckets.\n",
        "  bucketized_households = tf.feature_column.bucketized_column(\n",
        "    households, boundaries=get_quantile_based_boundaries(\n",
        "      training_examples[\"households\"], 7))\n",
        "\n",
        "  # Divide longitude into 10 buckets.\n",
        "  bucketized_longitude = tf.feature_column.bucketized_column(\n",
        "    longitude, boundaries=get_quantile_based_boundaries(\n",
        "      training_examples[\"longitude\"], 10))\n",
        "\n",
        "  #\n",
        "  # YOUR CODE HERE: bucketize the following columns, following the example above:\n",
        "  #\n",
        "  bucketized_latitude = \n",
        "  bucketized_housing_median_age = \n",
        "  bucketized_median_income =\n",
        "  bucketized_rooms_per_person =\n",
        "  \n",
        "  feature_columns = set([\n",
        "    bucketized_longitude,\n",
        "    bucketized_latitude,\n",
        "    bucketized_housing_median_age,\n",
        "    bucketized_households,\n",
        "    bucketized_median_income,\n",
        "    bucketized_rooms_per_person])\n",
        "  \n",
        "  return feature_columns\n"
      ],
      "cell_type": "code",
      "execution_count": 0,
      "outputs": []
    },
    {
      "metadata": {
        "id": "0FfUytOTNJhL",
        "colab_type": "code",
        "colab": {
          "autoexec": {
            "startup": false,
            "wait_interval": 0
          }
        }
      },
      "source": [
        "_ = train_model(\n",
        "    learning_rate=1.0,\n",
        "    steps=500,\n",
        "    batch_size=100,\n",
        "    feature_columns=construct_feature_columns(),\n",
        "    training_examples=training_examples,\n",
        "    training_targets=training_targets,\n",
        "    validation_examples=validation_examples,\n",
        "    validation_targets=validation_targets)"
      ],
      "cell_type": "code",
      "execution_count": 0,
      "outputs": []
    },
    {
      "metadata": {
        "id": "ZTDHHM61NPTw",
        "colab_type": "text"
      },
      "cell_type": "markdown",
      "source": [
        " ### \ud574\uacb0 \ubc29\ubc95\n",
        "\n",
        "\ud574\uacb0 \ubc29\ubc95\uc744 \ubcf4\ub824\uba74 \uc544\ub798\ub97c \ud074\ub9ad\ud558\uc138\uc694."
      ]
    },
    {
      "metadata": {
        "id": "JQHnUhL_NRwA",
        "colab_type": "text"
      },
      "cell_type": "markdown",
      "source": [
        " \uc0ac\uc6a9\ud560 \ubc84\ud0b7 \uc218\ub97c \uc5b4\ub5a0\ud55c \uae30\uc900\uc73c\ub85c \uacb0\uc815\ud558\ub294\uc9c0 \uad81\uae08\ud560 \uc218 \uc788\uc2b5\ub2c8\ub2e4. \ubb3c\ub860 \ub370\uc774\ud130 \uc790\uccb4\uc640\ub294 \ubb34\uad00\ud569\ub2c8\ub2e4. \uc5ec\uae30\uc5d0\uc11c\ub294 \ubaa8\ub378\uc774 \ub108\ubb34 \ucee4\uc9c0\uc9c0 \uc54a\ub294 \uc120\uc5d0\uc11c \uc784\uc758\ub85c \uac12\uc744 \uc120\ud0dd\ud588\uc2b5\ub2c8\ub2e4."
      ]
    },
    {
      "metadata": {
        "id": "Ro5civQ3Ngh_",
        "colab_type": "code",
        "colab": {
          "autoexec": {
            "startup": false,
            "wait_interval": 0
          }
        }
      },
      "source": [
        "def construct_feature_columns():\n",
        "  \"\"\"Construct the TensorFlow Feature Columns.\n",
        "\n",
        "  Returns:\n",
        "    A set of feature columns\n",
        "  \"\"\" \n",
        "  households = tf.feature_column.numeric_column(\"households\")\n",
        "  longitude = tf.feature_column.numeric_column(\"longitude\")\n",
        "  latitude = tf.feature_column.numeric_column(\"latitude\")\n",
        "  housing_median_age = tf.feature_column.numeric_column(\"housing_median_age\")\n",
        "  median_income = tf.feature_column.numeric_column(\"median_income\")\n",
        "  rooms_per_person = tf.feature_column.numeric_column(\"rooms_per_person\")\n",
        "  \n",
        "  # Divide households into 7 buckets.\n",
        "  bucketized_households = tf.feature_column.bucketized_column(\n",
        "    households, boundaries=get_quantile_based_boundaries(\n",
        "      training_examples[\"households\"], 7))\n",
        "\n",
        "  # Divide longitude into 10 buckets.\n",
        "  bucketized_longitude = tf.feature_column.bucketized_column(\n",
        "    longitude, boundaries=get_quantile_based_boundaries(\n",
        "      training_examples[\"longitude\"], 10))\n",
        "  \n",
        "  # Divide latitude into 10 buckets.\n",
        "  bucketized_latitude = tf.feature_column.bucketized_column(\n",
        "    latitude, boundaries=get_quantile_based_boundaries(\n",
        "      training_examples[\"latitude\"], 10))\n",
        "\n",
        "  # Divide housing_median_age into 7 buckets.\n",
        "  bucketized_housing_median_age = tf.feature_column.bucketized_column(\n",
        "    housing_median_age, boundaries=get_quantile_based_boundaries(\n",
        "      training_examples[\"housing_median_age\"], 7))\n",
        "  \n",
        "  # Divide median_income into 7 buckets.\n",
        "  bucketized_median_income = tf.feature_column.bucketized_column(\n",
        "    median_income, boundaries=get_quantile_based_boundaries(\n",
        "      training_examples[\"median_income\"], 7))\n",
        "  \n",
        "  # Divide rooms_per_person into 7 buckets.\n",
        "  bucketized_rooms_per_person = tf.feature_column.bucketized_column(\n",
        "    rooms_per_person, boundaries=get_quantile_based_boundaries(\n",
        "      training_examples[\"rooms_per_person\"], 7))\n",
        "  \n",
        "  feature_columns = set([\n",
        "    bucketized_longitude,\n",
        "    bucketized_latitude,\n",
        "    bucketized_housing_median_age,\n",
        "    bucketized_households,\n",
        "    bucketized_median_income,\n",
        "    bucketized_rooms_per_person])\n",
        "  \n",
        "  return feature_columns"
      ],
      "cell_type": "code",
      "execution_count": 0,
      "outputs": []
    },
    {
      "metadata": {
        "id": "RNgfYk6OO8Sy",
        "colab_type": "code",
        "colab": {
          "autoexec": {
            "startup": false,
            "wait_interval": 0
          }
        }
      },
      "source": [
        "_ = train_model(\n",
        "    learning_rate=1.0,\n",
        "    steps=500,\n",
        "    batch_size=100,\n",
        "    feature_columns=construct_feature_columns(),\n",
        "    training_examples=training_examples,\n",
        "    training_targets=training_targets,\n",
        "    validation_examples=validation_examples,\n",
        "    validation_targets=validation_targets)"
      ],
      "cell_type": "code",
      "execution_count": 0,
      "outputs": []
    },
    {
      "metadata": {
        "id": "AFJ1qoZPlQcs",
        "colab_type": "text"
      },
      "cell_type": "markdown",
      "source": [
        " ## \ud2b9\uc131 \uad50\ucc28\n",
        "\n",
        "\ub458 \uc774\uc0c1\uc758 \ud2b9\uc131\uc744 \uad50\ucc28\ud558\ub294 \uac83\uc740 \uc120\ud615 \ubaa8\ub378\uc744 \uc0ac\uc6a9\ud558\uc5ec \ube44\uc120\ud615 \uad00\uacc4\ub97c \ud559\uc2b5\ud558\ub294 \ud6a8\uacfc\uc801\uc778 \ubc29\ubc95\uc785\ub2c8\ub2e4. \uc774 \ubb38\uc81c\uc5d0\uc11c `latitude` \ud2b9\uc131\ub9cc \ud559\uc2b5\uc5d0 \uc0ac\uc6a9\ud558\uba74 \ubaa8\ub378\uc740 \ud2b9\uc815 \uc704\ub3c4\uc5d0 \uc788\ub294 \uc9c0\uc5ed, \ubc84\ud0b7\ud654\ub97c \uac70\ucce4\uc73c\ubbc0\ub85c \uc815\ud655\ud788\ub294 \ud2b9\uc131 \uc704\ub3c4 \ubc94\uc704\uc5d0 \ud3ec\ud568\ub41c \uc9c0\uc5ed\uc774 \ub2e4\ub978 \uc9c0\uc5ed\ubcf4\ub2e4 \uc9d1\uac12\uc774 \ube44\uc300 \uac00\ub2a5\uc131\uc774 \ub192\ub2e4\ub294 \uc0ac\uc2e4\uc744 \ud559\uc2b5\ud560 \uc218 \uc788\uc2b5\ub2c8\ub2e4. \uadf8\ub7ec\ub098 `longitude`\uc640 `latitude`\ub97c \uad50\ucc28\ud558\uba74 \uc774 \uad50\ucc28 \ud2b9\uc131\uc740 \uc798 \uc815\uc758\ub41c \uc9c0\uc5ed\uc744 \ub098\ud0c0\ub0c5\ub2c8\ub2e4. \ubaa8\ub378\uc5d0\uc11c \uc704\ub3c4 \ubc0f \uacbd\ub3c4 \ubc94\uc704\uc5d0 \ud3ec\ud568\ub41c \ud2b9\uc815 \uc9c0\uc5ed\uc774 \ub2e4\ub978 \uc9c0\uc5ed\ubcf4\ub2e4 \uc9d1\uac12\uc774 \ube44\uc300 \uac00\ub2a5\uc131\uc774 \ub192\ub2e4\ub294 \uc0ac\uc2e4\uc744 \ud559\uc2b5\ud558\uba74 \ub450 \ud2b9\uc131\uc744 \uac1c\ubcc4\uc801\uc73c\ub85c \uace0\ub824\ud560 \ub54c\ubcf4\ub2e4 \uac15\ud55c \uc2e0\ud638\uac00 \ub429\ub2c8\ub2e4.\n",
        "\n",
        "\ud604\uc7ac \ud2b9\uc131 \uc5f4 API\ub294 \ubd88\uc5f0\uc18d \ud2b9\uc131\uc5d0 \ub300\ud574\uc11c\ub9cc \uad50\ucc28\ub97c \uc9c0\uc6d0\ud569\ub2c8\ub2e4. `latitude` \ub610\ub294 `longitude` \ub4f1\uc758 \ub450 \uc5f0\uc18d \ud2b9\uc131\uc744 \uad50\ucc28\ud558\ub824\uba74 \ubc84\ud0b7\ud654\ub97c \uac70\uccd0\uc57c \ud569\ub2c8\ub2e4.\n",
        "\n",
        "`latitude` \ud2b9\uc131\uacfc `longitude` \ud2b9\uc131\uc744 \uad50\ucc28\ud560 \ub54c longitude`\ub97c `2`\uac1c \ubc84\ud0b7\uc73c\ub85c, `latitude`\ub97c `3`\uac1c \ubc84\ud0b7\uc73c\ub85c \ub9cc\ub4e4\uc5c8\ub2e4\uba74 \uc2e4\uc81c\ub85c 6\uac1c\uc758 \uad50\ucc28 \uc774\uc9c4 \ud2b9\uc131\uc744 \uc5bb\uac8c \ub429\ub2c8\ub2e4. \ubaa8\ub378\uc744 \ud559\uc2b5\uc2dc\ud0ac \ub54c \uc774\ub7ec\ud55c \uac01 \ud2b9\uc131\uc5d0 \ubcc4\ub3c4\uc758 \uac00\uc911\uce58\uac00 \ubd80\uc5ec\ub429\ub2c8\ub2e4."
      ]
    },
    {
      "metadata": {
        "id": "-Rk0c1oTYaVH",
        "colab_type": "text"
      },
      "cell_type": "markdown",
      "source": [
        " ## \uc791\uc5c5 2: \ud2b9\uc131 \uad50\ucc28\ub97c \uc0ac\uc6a9\ud558\uc5ec \ubaa8\ub378 \ud559\uc2b5\n",
        "\n",
        "**\ubaa8\ub378\uc5d0 `longitude`\uc640 `latitude`\uc758 \ud2b9\uc131 \uad50\ucc28\ub97c \ucd94\uac00\ud558\uace0 \ud559\uc2b5\uc2dc\ucf1c \uacb0\uacfc\uac00 \uac1c\uc120\ub418\ub294\uc9c0 \uc5ec\ubd80\ub97c \ud310\ub2e8\ud569\ub2c8\ub2e4.**\n",
        "\n",
        "TensorFlow API \ubb38\uc11c\uc5d0\uc11c [`crossed_column()`](https://www.tensorflow.org/api_docs/python/tf/feature_column/crossed_column)\uc744 \ucc38\uc870\ud558\uc5ec \uad50\ucc28 \ud2b9\uc131 \uc5f4\uc744 \uc791\uc131\ud558\uc138\uc694. `hash_bucket_size`\ub294 `1000`\uc73c\ub85c \uc9c0\uc815\ud569\ub2c8\ub2e4."
      ]
    },
    {
      "metadata": {
        "id": "-eYiVEGeYhUi",
        "colab_type": "code",
        "colab": {
          "autoexec": {
            "startup": false,
            "wait_interval": 0
          }
        },
        "cellView": "both"
      },
      "source": [
        "def construct_feature_columns():\n",
        "  \"\"\"Construct the TensorFlow Feature Columns.\n",
        "\n",
        "  Returns:\n",
        "    A set of feature columns\n",
        "  \"\"\" \n",
        "  households = tf.feature_column.numeric_column(\"households\")\n",
        "  longitude = tf.feature_column.numeric_column(\"longitude\")\n",
        "  latitude = tf.feature_column.numeric_column(\"latitude\")\n",
        "  housing_median_age = tf.feature_column.numeric_column(\"housing_median_age\")\n",
        "  median_income = tf.feature_column.numeric_column(\"median_income\")\n",
        "  rooms_per_person = tf.feature_column.numeric_column(\"rooms_per_person\")\n",
        "  \n",
        "  # Divide households into 7 buckets.\n",
        "  bucketized_households = tf.feature_column.bucketized_column(\n",
        "    households, boundaries=get_quantile_based_boundaries(\n",
        "      training_examples[\"households\"], 7))\n",
        "\n",
        "  # Divide longitude into 10 buckets.\n",
        "  bucketized_longitude = tf.feature_column.bucketized_column(\n",
        "    longitude, boundaries=get_quantile_based_boundaries(\n",
        "      training_examples[\"longitude\"], 10))\n",
        "  \n",
        "  # Divide latitude into 10 buckets.\n",
        "  bucketized_latitude = tf.feature_column.bucketized_column(\n",
        "    latitude, boundaries=get_quantile_based_boundaries(\n",
        "      training_examples[\"latitude\"], 10))\n",
        "\n",
        "  # Divide housing_median_age into 7 buckets.\n",
        "  bucketized_housing_median_age = tf.feature_column.bucketized_column(\n",
        "    housing_median_age, boundaries=get_quantile_based_boundaries(\n",
        "      training_examples[\"housing_median_age\"], 7))\n",
        "  \n",
        "  # Divide median_income into 7 buckets.\n",
        "  bucketized_median_income = tf.feature_column.bucketized_column(\n",
        "    median_income, boundaries=get_quantile_based_boundaries(\n",
        "      training_examples[\"median_income\"], 7))\n",
        "  \n",
        "  # Divide rooms_per_person into 7 buckets.\n",
        "  bucketized_rooms_per_person = tf.feature_column.bucketized_column(\n",
        "    rooms_per_person, boundaries=get_quantile_based_boundaries(\n",
        "      training_examples[\"rooms_per_person\"], 7))\n",
        "  \n",
        "  # YOUR CODE HERE: Make a feature column for the long_x_lat feature cross\n",
        "  long_x_lat = \n",
        "  \n",
        "  feature_columns = set([\n",
        "    bucketized_longitude,\n",
        "    bucketized_latitude,\n",
        "    bucketized_housing_median_age,\n",
        "    bucketized_households,\n",
        "    bucketized_median_income,\n",
        "    bucketized_rooms_per_person,\n",
        "    long_x_lat])\n",
        "  \n",
        "  return feature_columns"
      ],
      "cell_type": "code",
      "execution_count": 0,
      "outputs": []
    },
    {
      "metadata": {
        "id": "xZuZMp3EShkM",
        "colab_type": "code",
        "colab": {
          "autoexec": {
            "startup": false,
            "wait_interval": 0
          }
        }
      },
      "source": [
        "_ = train_model(\n",
        "    learning_rate=1.0,\n",
        "    steps=500,\n",
        "    batch_size=100,\n",
        "    feature_columns=construct_feature_columns(),\n",
        "    training_examples=training_examples,\n",
        "    training_targets=training_targets,\n",
        "    validation_examples=validation_examples,\n",
        "    validation_targets=validation_targets)"
      ],
      "cell_type": "code",
      "execution_count": 0,
      "outputs": []
    },
    {
      "metadata": {
        "id": "0i7vGo9PTaZl",
        "colab_type": "text"
      },
      "cell_type": "markdown",
      "source": [
        " ### \ud574\uacb0 \ubc29\ubc95\n",
        "\n",
        "\ud574\uacb0 \ubc29\ubc95\uc744 \ubcf4\ub824\uba74 \uc544\ub798\ub97c \ud074\ub9ad\ud558\uc138\uc694."
      ]
    },
    {
      "metadata": {
        "id": "3tAWu8qSTe2v",
        "colab_type": "code",
        "colab": {
          "autoexec": {
            "startup": false,
            "wait_interval": 0
          }
        }
      },
      "source": [
        "def construct_feature_columns():\n",
        "  \"\"\"Construct the TensorFlow Feature Columns.\n",
        "\n",
        "  Returns:\n",
        "    A set of feature columns\n",
        "  \"\"\" \n",
        "  households = tf.feature_column.numeric_column(\"households\")\n",
        "  longitude = tf.feature_column.numeric_column(\"longitude\")\n",
        "  latitude = tf.feature_column.numeric_column(\"latitude\")\n",
        "  housing_median_age = tf.feature_column.numeric_column(\"housing_median_age\")\n",
        "  median_income = tf.feature_column.numeric_column(\"median_income\")\n",
        "  rooms_per_person = tf.feature_column.numeric_column(\"rooms_per_person\")\n",
        "  \n",
        "  # Divide households into 7 buckets.\n",
        "  bucketized_households = tf.feature_column.bucketized_column(\n",
        "    households, boundaries=get_quantile_based_boundaries(\n",
        "      training_examples[\"households\"], 7))\n",
        "\n",
        "  # Divide longitude into 10 buckets.\n",
        "  bucketized_longitude = tf.feature_column.bucketized_column(\n",
        "    longitude, boundaries=get_quantile_based_boundaries(\n",
        "      training_examples[\"longitude\"], 10))\n",
        "  \n",
        "  # Divide latitude into 10 buckets.\n",
        "  bucketized_latitude = tf.feature_column.bucketized_column(\n",
        "    latitude, boundaries=get_quantile_based_boundaries(\n",
        "      training_examples[\"latitude\"], 10))\n",
        "\n",
        "  # Divide housing_median_age into 7 buckets.\n",
        "  bucketized_housing_median_age = tf.feature_column.bucketized_column(\n",
        "    housing_median_age, boundaries=get_quantile_based_boundaries(\n",
        "      training_examples[\"housing_median_age\"], 7))\n",
        "  \n",
        "  # Divide median_income into 7 buckets.\n",
        "  bucketized_median_income = tf.feature_column.bucketized_column(\n",
        "    median_income, boundaries=get_quantile_based_boundaries(\n",
        "      training_examples[\"median_income\"], 7))\n",
        "  \n",
        "  # Divide rooms_per_person into 7 buckets.\n",
        "  bucketized_rooms_per_person = tf.feature_column.bucketized_column(\n",
        "    rooms_per_person, boundaries=get_quantile_based_boundaries(\n",
        "      training_examples[\"rooms_per_person\"], 7))\n",
        "  \n",
        "  # YOUR CODE HERE: Make a feature column for the long_x_lat feature cross\n",
        "  long_x_lat = tf.feature_column.crossed_column(\n",
        "  set([bucketized_longitude, bucketized_latitude]), hash_bucket_size=1000) \n",
        "  \n",
        "  feature_columns = set([\n",
        "    bucketized_longitude,\n",
        "    bucketized_latitude,\n",
        "    bucketized_housing_median_age,\n",
        "    bucketized_households,\n",
        "    bucketized_median_income,\n",
        "    bucketized_rooms_per_person,\n",
        "    long_x_lat])\n",
        "  \n",
        "  return feature_columns"
      ],
      "cell_type": "code",
      "execution_count": 0,
      "outputs": []
    },
    {
      "metadata": {
        "id": "-_vvNYIyTtPC",
        "colab_type": "code",
        "colab": {
          "autoexec": {
            "startup": false,
            "wait_interval": 0
          }
        }
      },
      "source": [
        "_ = train_model(\n",
        "    learning_rate=1.0,\n",
        "    steps=500,\n",
        "    batch_size=100,\n",
        "    feature_columns=construct_feature_columns(),\n",
        "    training_examples=training_examples,\n",
        "    training_targets=training_targets,\n",
        "    validation_examples=validation_examples,\n",
        "    validation_targets=validation_targets)"
      ],
      "cell_type": "code",
      "execution_count": 0,
      "outputs": []
    },
    {
      "metadata": {
        "id": "ymlHJ-vrhLZw",
        "colab_type": "text"
      },
      "cell_type": "markdown",
      "source": [
        " ## \uc120\ud0dd \uacfc\uc81c: \ub354 \ub9ce\uc740 \ud569\uc131 \ud2b9\uc131 \uc2e4\ud5d8\n",
        "\n",
        "\uc9c0\uae08\uae4c\uc9c0\ub294 \ub2e8\uc21c\ud55c \ubc84\ud0b7\ud654 \uc5f4 \ubc0f \ud2b9\uc131 \uad50\ucc28\ub97c \uc2dc\ud5d8\ud588\uc9c0\ub9cc, \uc774\uc678\uc5d0\ub3c4 \uc218\ub9ce\uc740 \uc870\ud569\uc744 \ud1b5\ud574 \uacb0\uacfc\ub97c \uac1c\uc120\ud560 \uc218 \uc788\uc2b5\ub2c8\ub2e4. \uc608\ub97c \ub4e4\uc5b4 \uc5ec\ub7ec \uc5f4\uc744 \uad50\ucc28\ud560 \uc218 \uc788\uc2b5\ub2c8\ub2e4. \ubc84\ud0b7 \uc218\uc5d0 \ubcc0\ud654\ub97c \uc8fc\uba74 \uc5b4\ub5bb\uac8c \ub420\uae4c\uc694? \ub2e4\ub978 \ud569\uc131 \ud2b9\uc131\uc744 \uc0dd\uac01\ud574 \ubcfc \uc218 \uc788\uc744\uae4c\uc694? \ubaa8\ub378\uc744 \uac1c\uc120\ud558\ub294 \ud6a8\uacfc\uac00 \uc788\ub098\uc694?"
      ]
    }
  ]
}
