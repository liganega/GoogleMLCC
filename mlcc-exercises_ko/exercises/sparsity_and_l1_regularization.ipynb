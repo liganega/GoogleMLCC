{
  "nbformat": 4,
  "nbformat_minor": 0,
  "metadata": {
    "colab": {
      "name": "sparsity_and_l1_regularization.ipynb",
      "version": "0.3.2",
      "views": {},
      "default_view": {},
      "provenance": [],
      "collapsed_sections": [
        "yjUCX5LAkxAX",
        "copyright-notice"
      ]
    }
  },
  "cells": [
    {
      "cell_type": "markdown",
      "metadata": {
        "colab_type": "text",
        "id": "copyright-notice"
      },
      "source": [
        "#### Copyright 2017 Google LLC."
      ]
    },
    {
      "cell_type": "code",
      "metadata": {
        "colab": {
          "autoexec": {
            "wait_interval": 0,
            "startup": false
          }
        },
        "colab_type": "code",
        "id": "copyright-notice2",
        "cellView": "both"
      },
      "execution_count": 0,
      "outputs": [],
      "source": [
        "# Licensed under the Apache License, Version 2.0 (the \"License\");\n",
        "# you may not use this file except in compliance with the License.\n",
        "# You may obtain a copy of the License at\n",
        "#\n",
        "# https://www.apache.org/licenses/LICENSE-2.0\n",
        "#\n",
        "# Unless required by applicable law or agreed to in writing, software\n",
        "# distributed under the License is distributed on an \"AS IS\" BASIS,\n",
        "# WITHOUT WARRANTIES OR CONDITIONS OF ANY KIND, either express or implied.\n",
        "# See the License for the specific language governing permissions and\n",
        "# limitations under the License."
      ]
    },
    {
      "metadata": {
        "id": "g4T-_IsVbweU",
        "colab_type": "text"
      },
      "cell_type": "markdown",
      "source": [
        " # \ud76c\uc18c\uc131\uacfc L1 \uc815\uaddc\ud654"
      ]
    },
    {
      "metadata": {
        "id": "g8ue2FyFIjnQ",
        "colab_type": "text"
      },
      "cell_type": "markdown",
      "source": [
        " **\ud559\uc2b5 \ubaa9\ud45c:**\n",
        "  * \ubaa8\ub378\uc758 \ud06c\uae30\ub97c \uacc4\uc0b0\ud55c\ub2e4\n",
        "  * L1 \uc815\uaddc\ud654\ub97c \uc801\uc6a9\ud558\uc5ec \ud76c\uc18c\uc131\uc744 \ub192\uc784\uc73c\ub85c\uc368 \ubaa8\ub378\uc758 \ud06c\uae30\ub97c \ucd95\uc18c\ud55c\ub2e4"
      ]
    },
    {
      "metadata": {
        "id": "ME_WXE7cIjnS",
        "colab_type": "text"
      },
      "cell_type": "markdown",
      "source": [
        " \ubcf5\uc7a1\ub3c4\ub97c \ub0ae\ucd94\ub294 \ubc29\ubc95 \uc911 \ud558\ub098\ub294 \uac00\uc911\uce58\ub97c \uc815\ud655\ud788 0\uc73c\ub85c \uc720\ub3c4\ud558\ub294 \uc815\uaddc\ud654 \ud568\uc218\ub97c \uc0ac\uc6a9\ud558\ub294 \uac83\uc785\ub2c8\ub2e4. \ud68c\uadc0\uc640 \uac19\uc740 \uc120\ud615 \ubaa8\ub378\uc5d0\uc11c \uac00\uc911\uce58 0\uc740 \ud574\ub2f9 \ud2b9\uc131\uc744 \uc804\ud600 \uc0ac\uc6a9\ud558\uc9c0 \uc54a\ub294 \uac83\uacfc \ub3d9\uc77c\ud569\ub2c8\ub2e4. \uc774\ub807\uac8c \ud558\uba74 \uacfc\uc801\ud569\uc774 \ubc29\uc9c0\ub420 \ubfd0 \uc544\ub2c8\ub77c \uacb0\uacfc \ubaa8\ub378\uc758 \ud6a8\uc728\uc131\uc774 \uc62c\ub77c\uac11\ub2c8\ub2e4.\n",
        "\n",
        "L1 \uc815\uaddc\ud654\ub294 \ud76c\uc18c\uc131\uc744 \ub192\uc774\ub294 \uc88b\uc740 \ubc29\ubc95\uc785\ub2c8\ub2e4.\n",
        "\n"
      ]
    },
    {
      "metadata": {
        "id": "fHRzeWkRLrHF",
        "colab_type": "text"
      },
      "cell_type": "markdown",
      "source": [
        " ## \uc124\uc815\n",
        "\n",
        "\uc544\ub798 \uc140\uc744 \uc2e4\ud589\ud558\uc5ec \ub370\uc774\ud130\ub97c \ub85c\ub4dc\ud558\uace0 \ud2b9\uc131 \uc815\uc758\ub97c \ub9cc\ub4dc\uc138\uc694."
      ]
    },
    {
      "metadata": {
        "id": "pb7rSrLKIjnS",
        "colab_type": "code",
        "colab": {
          "autoexec": {
            "startup": false,
            "wait_interval": 0
          }
        }
      },
      "source": [
        "from __future__ import print_function\n",
        "\n",
        "import math\n",
        "\n",
        "from IPython import display\n",
        "from matplotlib import cm\n",
        "from matplotlib import gridspec\n",
        "from matplotlib import pyplot as plt\n",
        "import numpy as np\n",
        "import pandas as pd\n",
        "from sklearn import metrics\n",
        "import tensorflow as tf\n",
        "from tensorflow.python.data import Dataset\n",
        "\n",
        "tf.logging.set_verbosity(tf.logging.ERROR)\n",
        "pd.options.display.max_rows = 10\n",
        "pd.options.display.float_format = '{:.1f}'.format\n",
        "\n",
        "california_housing_dataframe = pd.read_csv(\"https://download.mlcc.google.com/mledu-datasets/california_housing_train.csv\", sep=\",\")\n",
        "\n",
        "california_housing_dataframe = california_housing_dataframe.reindex(\n",
        "    np.random.permutation(california_housing_dataframe.index))"
      ],
      "cell_type": "code",
      "execution_count": 0,
      "outputs": []
    },
    {
      "metadata": {
        "id": "3V7q8jk0IjnW",
        "colab_type": "code",
        "colab": {
          "autoexec": {
            "startup": false,
            "wait_interval": 0
          }
        }
      },
      "source": [
        "def preprocess_features(california_housing_dataframe):\n",
        "  \"\"\"Prepares input features from California housing data set.\n",
        "\n",
        "  Args:\n",
        "    california_housing_dataframe: A Pandas DataFrame expected to contain data\n",
        "      from the California housing data set.\n",
        "  Returns:\n",
        "    A DataFrame that contains the features to be used for the model, including\n",
        "    synthetic features.\n",
        "  \"\"\"\n",
        "  selected_features = california_housing_dataframe[\n",
        "    [\"latitude\",\n",
        "     \"longitude\",\n",
        "     \"housing_median_age\",\n",
        "     \"total_rooms\",\n",
        "     \"total_bedrooms\",\n",
        "     \"population\",\n",
        "     \"households\",\n",
        "     \"median_income\"]]\n",
        "  processed_features = selected_features.copy()\n",
        "  # Create a synthetic feature.\n",
        "  processed_features[\"rooms_per_person\"] = (\n",
        "    california_housing_dataframe[\"total_rooms\"] /\n",
        "    california_housing_dataframe[\"population\"])\n",
        "  return processed_features\n",
        "\n",
        "def preprocess_targets(california_housing_dataframe):\n",
        "  \"\"\"Prepares target features (i.e., labels) from California housing data set.\n",
        "\n",
        "  Args:\n",
        "    california_housing_dataframe: A Pandas DataFrame expected to contain data\n",
        "      from the California housing data set.\n",
        "  Returns:\n",
        "    A DataFrame that contains the target feature.\n",
        "  \"\"\"\n",
        "  output_targets = pd.DataFrame()\n",
        "  # Create a boolean categorical feature representing whether the\n",
        "  # median_house_value is above a set threshold.\n",
        "  output_targets[\"median_house_value_is_high\"] = (\n",
        "    california_housing_dataframe[\"median_house_value\"] > 265000).astype(float)\n",
        "  return output_targets"
      ],
      "cell_type": "code",
      "execution_count": 0,
      "outputs": []
    },
    {
      "metadata": {
        "id": "pAG3tmgwIjnY",
        "colab_type": "code",
        "colab": {
          "autoexec": {
            "startup": false,
            "wait_interval": 0
          }
        }
      },
      "source": [
        "# Choose the first 12000 (out of 17000) examples for training.\n",
        "training_examples = preprocess_features(california_housing_dataframe.head(12000))\n",
        "training_targets = preprocess_targets(california_housing_dataframe.head(12000))\n",
        "\n",
        "# Choose the last 5000 (out of 17000) examples for validation.\n",
        "validation_examples = preprocess_features(california_housing_dataframe.tail(5000))\n",
        "validation_targets = preprocess_targets(california_housing_dataframe.tail(5000))\n",
        "\n",
        "# Double-check that we've done the right thing.\n",
        "print(\"Training examples summary:\")\n",
        "display.display(training_examples.describe())\n",
        "print(\"Validation examples summary:\")\n",
        "display.display(validation_examples.describe())\n",
        "\n",
        "print(\"Training targets summary:\")\n",
        "display.display(training_targets.describe())\n",
        "print(\"Validation targets summary:\")\n",
        "display.display(validation_targets.describe())"
      ],
      "cell_type": "code",
      "execution_count": 0,
      "outputs": []
    },
    {
      "metadata": {
        "id": "gHkniRI1Ijna",
        "colab_type": "code",
        "colab": {
          "autoexec": {
            "startup": false,
            "wait_interval": 0
          }
        }
      },
      "source": [
        "def my_input_fn(features, targets, batch_size=1, shuffle=True, num_epochs=None):\n",
        "    \"\"\"Trains a linear regression model.\n",
        "  \n",
        "    Args:\n",
        "      features: pandas DataFrame of features\n",
        "      targets: pandas DataFrame of targets\n",
        "      batch_size: Size of batches to be passed to the model\n",
        "      shuffle: True or False. Whether to shuffle the data.\n",
        "      num_epochs: Number of epochs for which data should be repeated. None = repeat indefinitely\n",
        "    Returns:\n",
        "      Tuple of (features, labels) for next data batch\n",
        "    \"\"\"\n",
        "  \n",
        "    # Convert pandas data into a dict of np arrays.\n",
        "    features = {key:np.array(value) for key,value in dict(features).items()}                                            \n",
        " \n",
        "    # Construct a dataset, and configure batching/repeating.\n",
        "    ds = Dataset.from_tensor_slices((features,targets)) # warning: 2GB limit\n",
        "    ds = ds.batch(batch_size).repeat(num_epochs)\n",
        "    \n",
        "    # Shuffle the data, if specified.\n",
        "    if shuffle:\n",
        "      ds = ds.shuffle(10000)\n",
        "    \n",
        "    # Return the next batch of data.\n",
        "    features, labels = ds.make_one_shot_iterator().get_next()\n",
        "    return features, labels"
      ],
      "cell_type": "code",
      "execution_count": 0,
      "outputs": []
    },
    {
      "metadata": {
        "id": "bLzK72jkNJPf",
        "colab_type": "code",
        "colab": {
          "autoexec": {
            "startup": false,
            "wait_interval": 0
          }
        }
      },
      "source": [
        "def get_quantile_based_buckets(feature_values, num_buckets):\n",
        "  quantiles = feature_values.quantile(\n",
        "    [(i+1.)/(num_buckets + 1.) for i in range(num_buckets)])\n",
        "  return [quantiles[q] for q in quantiles.keys()]"
      ],
      "cell_type": "code",
      "execution_count": 0,
      "outputs": []
    },
    {
      "metadata": {
        "id": "al2YQpKyIjnd",
        "colab_type": "code",
        "colab": {
          "autoexec": {
            "startup": false,
            "wait_interval": 0
          }
        }
      },
      "source": [
        "def construct_feature_columns():\n",
        "  \"\"\"Construct the TensorFlow Feature Columns.\n",
        "\n",
        "  Returns:\n",
        "    A set of feature columns\n",
        "  \"\"\"\n",
        "\n",
        "  bucketized_households = tf.feature_column.bucketized_column(\n",
        "    tf.feature_column.numeric_column(\"households\"),\n",
        "    boundaries=get_quantile_based_buckets(training_examples[\"households\"], 10))\n",
        "  bucketized_longitude = tf.feature_column.bucketized_column(\n",
        "    tf.feature_column.numeric_column(\"longitude\"),\n",
        "    boundaries=get_quantile_based_buckets(training_examples[\"longitude\"], 50))\n",
        "  bucketized_latitude = tf.feature_column.bucketized_column(\n",
        "    tf.feature_column.numeric_column(\"latitude\"),\n",
        "    boundaries=get_quantile_based_buckets(training_examples[\"latitude\"], 50))\n",
        "  bucketized_housing_median_age = tf.feature_column.bucketized_column(\n",
        "    tf.feature_column.numeric_column(\"housing_median_age\"),\n",
        "    boundaries=get_quantile_based_buckets(\n",
        "      training_examples[\"housing_median_age\"], 10))\n",
        "  bucketized_total_rooms = tf.feature_column.bucketized_column(\n",
        "    tf.feature_column.numeric_column(\"total_rooms\"),\n",
        "    boundaries=get_quantile_based_buckets(training_examples[\"total_rooms\"], 10))\n",
        "  bucketized_total_bedrooms = tf.feature_column.bucketized_column(\n",
        "    tf.feature_column.numeric_column(\"total_bedrooms\"),\n",
        "    boundaries=get_quantile_based_buckets(training_examples[\"total_bedrooms\"], 10))\n",
        "  bucketized_population = tf.feature_column.bucketized_column(\n",
        "    tf.feature_column.numeric_column(\"population\"),\n",
        "    boundaries=get_quantile_based_buckets(training_examples[\"population\"], 10))\n",
        "  bucketized_median_income = tf.feature_column.bucketized_column(\n",
        "    tf.feature_column.numeric_column(\"median_income\"),\n",
        "    boundaries=get_quantile_based_buckets(training_examples[\"median_income\"], 10))\n",
        "  bucketized_rooms_per_person = tf.feature_column.bucketized_column(\n",
        "    tf.feature_column.numeric_column(\"rooms_per_person\"),\n",
        "    boundaries=get_quantile_based_buckets(\n",
        "      training_examples[\"rooms_per_person\"], 10))\n",
        "\n",
        "  long_x_lat = tf.feature_column.crossed_column(\n",
        "    set([bucketized_longitude, bucketized_latitude]), hash_bucket_size=1000)\n",
        "\n",
        "  feature_columns = set([\n",
        "    long_x_lat,\n",
        "    bucketized_longitude,\n",
        "    bucketized_latitude,\n",
        "    bucketized_housing_median_age,\n",
        "    bucketized_total_rooms,\n",
        "    bucketized_total_bedrooms,\n",
        "    bucketized_population,\n",
        "    bucketized_households,\n",
        "    bucketized_median_income,\n",
        "    bucketized_rooms_per_person])\n",
        "  \n",
        "  return feature_columns"
      ],
      "cell_type": "code",
      "execution_count": 0,
      "outputs": []
    },
    {
      "metadata": {
        "id": "hSBwMrsrE21n",
        "colab_type": "text"
      },
      "cell_type": "markdown",
      "source": [
        " ## \ubaa8\ub378 \ud06c\uae30 \uacc4\uc0b0\n",
        "\n",
        "\ubaa8\ub378 \ud06c\uae30\ub97c \uacc4\uc0b0\ud558\ub824\uba74 \ub2e8\uc21c\ud788 0\uc774 \uc544\ub2cc \ub9e4\uac1c\ubcc0\uc218\uc758 \uac1c\uc218\ub97c \uc138\uba74 \ub429\ub2c8\ub2e4. \uc544\ub798\ub294 \uc774 \uc791\uc5c5\uc744 \uc704\ud55c \ub3c4\uc6b0\ubbf8 \ud568\uc218\uc785\ub2c8\ub2e4. \uc774 \ud568\uc218\uc5d0\uc11c\ub294 Estimators API\ub97c \uae34\ubc00\ud558\uac8c \ud65c\uc6a9\ud558\uc9c0\ub9cc \uadf8 \uc6d0\ub9ac\ub97c \uc774\ud574\ud560 \ud544\uc694\ub294 \uc5c6\uc2b5\ub2c8\ub2e4."
      ]
    },
    {
      "metadata": {
        "id": "e6GfTI0CFhB8",
        "colab_type": "code",
        "colab": {
          "autoexec": {
            "startup": false,
            "wait_interval": 0
          }
        }
      },
      "source": [
        "def model_size(estimator):\n",
        "  variables = estimator.get_variable_names()\n",
        "  size = 0\n",
        "  for variable in variables:\n",
        "    if not any(x in variable \n",
        "               for x in ['global_step',\n",
        "                         'centered_bias_weight',\n",
        "                         'bias_weight',\n",
        "                         'Ftrl']\n",
        "              ):\n",
        "      size += np.count_nonzero(estimator.get_variable_value(variable))\n",
        "  return size"
      ],
      "cell_type": "code",
      "execution_count": 0,
      "outputs": []
    },
    {
      "metadata": {
        "id": "XabdAaj67GfF",
        "colab_type": "text"
      },
      "cell_type": "markdown",
      "source": [
        " ## \ubaa8\ub378 \ud06c\uae30 \ucd95\uc18c\n",
        "\n",
        "\ud300\uc5d0\uc11c *SmartRing*\uc5d0 \uace0\ub3c4\ub85c \uc815\ud655\ud55c \ub85c\uc9c0\uc2a4\ud2f1 \ud68c\uadc0 \ubaa8\ub378\uc744 \uad6c\ucd95\ud558\ub824\uace0 \ud569\ub2c8\ub2e4. \uc774 \uc81c\ud488\uc740 \uc778\uadfc \uc9c0\uc5ed\uc758 \uc778\uad6c\ud1b5\uacc4(`median_income`, `avg_rooms`, `households` \ub4f1)\ub97c \uac10\uc9c0\ud558\uc5ec \uac70\uc8fc \ube44\uc6a9\uc774 \ub192\uc740\uc9c0 \uc5ec\ubd80\ub97c \uc54c\ub824\uc8fc\ub294 \uc2a4\ub9c8\ud2b8 \ubc18\uc9c0\uc785\ub2c8\ub2e4.\n",
        "\n",
        "SmartRing\uc740 \ud06c\uae30\uac00 \uc791\uc73c\ubbc0\ub85c \uc5d4\uc9c0\ub2c8\uc5b4\ub9c1\ud300\uc740 **\ub9e4\uac1c\ubcc0\uc218\uac00 600\uac1c \uc774\ud558**\uc778 \ubaa8\ub378\uae4c\uc9c0\ub9cc \ucc98\ub9ac\uac00 \uac00\ub2a5\ud558\ub2e4\uace0 \ud310\ub2e8\ud588\uc2b5\ub2c8\ub2e4. \ud55c\ud3b8, \uc81c\ud488\uad00\ub9ac\ud300\uc740 \ud640\ub4dc\uc544\uc6c3 \ud14c\uc2a4\ud2b8 \uc138\ud2b8\uc5d0 \ub300\ud55c **LogLoss\uac00 0.35 \ubbf8\ub9cc**\uc774\uc5b4\uc57c \ubaa8\ub378\uc744 \ucd9c\uc2dc\ud560 \uc218 \uc788\ub2e4\uace0 \ud310\ub2e8\ud588\uc2b5\ub2c8\ub2e4.\n",
        "\n",
        "\uc5ec\uae30\uc5d0\uc11c L1 \uc815\uaddc\ud654\ub77c\ub294 \ube44\ubc00 \ubb34\uae30\ub97c \uad6c\uc0ac\ud558\uc5ec \ud06c\uae30\uc640 \uc815\ud655\uc131 \uc870\uac74\uc744 \ubaa8\ub450 \ub9cc\uc871\ud558\ub3c4\ub85d \ubaa8\ub378\uc744 \uc870\uc815\ud560 \uc218 \uc788\uc744\uae4c\uc694?"
      ]
    },
    {
      "metadata": {
        "id": "G79hGRe7qqej",
        "colab_type": "text"
      },
      "cell_type": "markdown",
      "source": [
        " ### \uc791\uc5c5 1: \ud6a8\uacfc\uc801\uc778 \uc815\uaddc\ud654 \uacc4\uc218 \uad6c\ud558\uae30\n",
        "\n",
        "**\ubaa8\ub378 \ud06c\uae30 600 \ubbf8\ub9cc, \uac80\uc99d\uc138\ud2b8\uc5d0 \ub300\ud55c \ub85c\uadf8 \uc190\uc2e4 0.36 \ubbf8\ub9cc\uc774\ub77c\ub294 \ub450 \uc870\uac74\uc744 \ubaa8\ub450 \ub9cc\uc871\ud558\ub294 L1 \uc815\uaddc\ud654 \uac15\ub3c4 \ub9e4\uac1c\ubcc0\uc218\ub97c \uad6c\ud558\uc138\uc694.**\n",
        "\n",
        "\ub2e4\uc74c \ucf54\ub4dc\ub97c \ucd9c\ubc1c\uc810\uc73c\ub85c \uc0bc\uc744 \uc218 \uc788\uc2b5\ub2c8\ub2e4. \ubaa8\ub378\uc5d0 \uc815\uaddc\ud654\ub97c \uc801\uc6a9\ud558\ub294 \ubc29\ubc95\uc740 \ub2e4\uc591\ud569\ub2c8\ub2e4. \uc5ec\uae30\uc5d0\uc11c\ub294 L1 \uc815\uaddc\ud654\ub97c \uc0ac\uc6a9\ud560 \ub54c \ud45c\uc900 \uacbd\uc0ac\ud558\uac15\ubc95\ubcf4\ub2e4 \ub6f0\uc5b4\ub09c \uacb0\uacfc\ub97c \uc0b0\ucd9c\ud558\ub294 `FtrlOptimizer`\ub97c \uc0ac\uc6a9\ud569\ub2c8\ub2e4.\n",
        "\n",
        "\ub610\ud55c \ubaa8\ub378\uc740 \uc804\uccb4 \ub370\uc774\ud130 \uc138\ud2b8\ub97c \ud559\uc2b5\ud558\ubbc0\ub85c \ud3c9\uc18c\ubcf4\ub2e4 \ub290\ub9ac\uac8c \uc2e4\ud589\ub429\ub2c8\ub2e4."
      ]
    },
    {
      "metadata": {
        "id": "1Fcdm0hpIjnl",
        "colab_type": "code",
        "colab": {
          "autoexec": {
            "startup": false,
            "wait_interval": 0
          }
        }
      },
      "source": [
        "def train_linear_classifier_model(\n",
        "    learning_rate,\n",
        "    regularization_strength,\n",
        "    steps,\n",
        "    batch_size,\n",
        "    feature_columns,\n",
        "    training_examples,\n",
        "    training_targets,\n",
        "    validation_examples,\n",
        "    validation_targets):\n",
        "  \"\"\"Trains a linear regression model.\n",
        "  \n",
        "  In addition to training, this function also prints training progress information,\n",
        "  as well as a plot of the training and validation loss over time.\n",
        "  \n",
        "  Args:\n",
        "    learning_rate: A `float`, the learning rate.\n",
        "    regularization_strength: A `float` that indicates the strength of the L1\n",
        "       regularization. A value of `0.0` means no regularization.\n",
        "    steps: A non-zero `int`, the total number of training steps. A training step\n",
        "      consists of a forward and backward pass using a single batch.\n",
        "    feature_columns: A `set` specifying the input feature columns to use.\n",
        "    training_examples: A `DataFrame` containing one or more columns from\n",
        "      `california_housing_dataframe` to use as input features for training.\n",
        "    training_targets: A `DataFrame` containing exactly one column from\n",
        "      `california_housing_dataframe` to use as target for training.\n",
        "    validation_examples: A `DataFrame` containing one or more columns from\n",
        "      `california_housing_dataframe` to use as input features for validation.\n",
        "    validation_targets: A `DataFrame` containing exactly one column from\n",
        "      `california_housing_dataframe` to use as target for validation.\n",
        "      \n",
        "  Returns:\n",
        "    A `LinearClassifier` object trained on the training data.\n",
        "  \"\"\"\n",
        "\n",
        "  periods = 7\n",
        "  steps_per_period = steps / periods\n",
        "\n",
        "  # Create a linear classifier object.\n",
        "  my_optimizer = tf.train.FtrlOptimizer(learning_rate=learning_rate, l1_regularization_strength=regularization_strength)\n",
        "  my_optimizer = tf.contrib.estimator.clip_gradients_by_norm(my_optimizer, 5.0)\n",
        "  linear_classifier = tf.estimator.LinearClassifier(\n",
        "      feature_columns=feature_columns,\n",
        "      optimizer=my_optimizer\n",
        "  )\n",
        "  \n",
        "  # Create input functions.\n",
        "  training_input_fn = lambda: my_input_fn(training_examples, \n",
        "                                          training_targets[\"median_house_value_is_high\"], \n",
        "                                          batch_size=batch_size)\n",
        "  predict_training_input_fn = lambda: my_input_fn(training_examples, \n",
        "                                                  training_targets[\"median_house_value_is_high\"], \n",
        "                                                  num_epochs=1, \n",
        "                                                  shuffle=False)\n",
        "  predict_validation_input_fn = lambda: my_input_fn(validation_examples, \n",
        "                                                    validation_targets[\"median_house_value_is_high\"], \n",
        "                                                    num_epochs=1, \n",
        "                                                    shuffle=False)\n",
        "  \n",
        "  # Train the model, but do so inside a loop so that we can periodically assess\n",
        "  # loss metrics.\n",
        "  print(\"Training model...\")\n",
        "  print(\"LogLoss (on validation data):\")\n",
        "  training_log_losses = []\n",
        "  validation_log_losses = []\n",
        "  for period in range (0, periods):\n",
        "    # Train the model, starting from the prior state.\n",
        "    linear_classifier.train(\n",
        "        input_fn=training_input_fn,\n",
        "        steps=steps_per_period\n",
        "    )\n",
        "    # Take a break and compute predictions.\n",
        "    training_probabilities = linear_classifier.predict(input_fn=predict_training_input_fn)\n",
        "    training_probabilities = np.array([item['probabilities'] for item in training_probabilities])\n",
        "    \n",
        "    validation_probabilities = linear_classifier.predict(input_fn=predict_validation_input_fn)\n",
        "    validation_probabilities = np.array([item['probabilities'] for item in validation_probabilities])\n",
        "    \n",
        "    # Compute training and validation loss.\n",
        "    training_log_loss = metrics.log_loss(training_targets, training_probabilities)\n",
        "    validation_log_loss = metrics.log_loss(validation_targets, validation_probabilities)\n",
        "    # Occasionally print the current loss.\n",
        "    print(\"  period %02d : %0.2f\" % (period, validation_log_loss))\n",
        "    # Add the loss metrics from this period to our list.\n",
        "    training_log_losses.append(training_log_loss)\n",
        "    validation_log_losses.append(validation_log_loss)\n",
        "  print(\"Model training finished.\")\n",
        "\n",
        "  # Output a graph of loss metrics over periods.\n",
        "  plt.ylabel(\"LogLoss\")\n",
        "  plt.xlabel(\"Periods\")\n",
        "  plt.title(\"LogLoss vs. Periods\")\n",
        "  plt.tight_layout()\n",
        "  plt.plot(training_log_losses, label=\"training\")\n",
        "  plt.plot(validation_log_losses, label=\"validation\")\n",
        "  plt.legend()\n",
        "\n",
        "  return linear_classifier"
      ],
      "cell_type": "code",
      "execution_count": 0,
      "outputs": []
    },
    {
      "metadata": {
        "id": "9H1CKHSzIjno",
        "colab_type": "code",
        "colab": {
          "autoexec": {
            "startup": false,
            "wait_interval": 0
          }
        }
      },
      "source": [
        "linear_classifier = train_linear_classifier_model(\n",
        "    learning_rate=0.1,\n",
        "    # TWEAK THE REGULARIZATION VALUE BELOW\n",
        "    regularization_strength=0.0,\n",
        "    steps=300,\n",
        "    batch_size=100,\n",
        "    feature_columns=construct_feature_columns(),\n",
        "    training_examples=training_examples,\n",
        "    training_targets=training_targets,\n",
        "    validation_examples=validation_examples,\n",
        "    validation_targets=validation_targets)\n",
        "print(\"Model size:\", model_size(linear_classifier))"
      ],
      "cell_type": "code",
      "execution_count": 0,
      "outputs": []
    },
    {
      "metadata": {
        "id": "yjUCX5LAkxAX",
        "colab_type": "text"
      },
      "cell_type": "markdown",
      "source": [
        " ### \ud574\uacb0 \ubc29\ubc95\n",
        "\n",
        "\uac00\ub2a5\ud55c \ud574\uacb0 \ubc29\ubc95\uc744 \ubcf4\ub824\uba74 \uc544\ub798\ub97c \ud074\ub9ad\ud558\uc138\uc694."
      ]
    },
    {
      "metadata": {
        "id": "hgGhy-okmkWL",
        "colab_type": "text"
      },
      "cell_type": "markdown",
      "source": [
        " \uc815\uaddc\ud654 \uac15\ub3c4 0.1\uc774\uba74 \ucda9\ubd84\ud569\ub2c8\ub2e4. \uc5ec\uae30\uc5d0\uc11c \uc808\ucda9\uc774 \ud544\uc694\ud558\ub2e4\ub294 \uc810\uc5d0 \uc720\uc758\ud558\uc138\uc694. \uc815\uaddc\ud654 \uac15\ub3c4\ub97c \ub192\uc774\uba74 \ubaa8\ub378\uc774 \uc791\uc544\uc9c0\uc9c0\ub9cc \ubd84\ub958 \uc190\uc2e4\uc5d0 \uc601\ud5a5\uc744 \uc904 \uc218 \uc788\uc2b5\ub2c8\ub2e4."
      ]
    },
    {
      "metadata": {
        "id": "_rV8YQWZIjns",
        "colab_type": "code",
        "colab": {
          "autoexec": {
            "startup": false,
            "wait_interval": 0
          }
        }
      },
      "source": [
        "linear_classifier = train_linear_classifier_model(\n",
        "    learning_rate=0.1,\n",
        "    regularization_strength=0.1,\n",
        "    steps=300,\n",
        "    batch_size=100,\n",
        "    feature_columns=construct_feature_columns(),\n",
        "    training_examples=training_examples,\n",
        "    training_targets=training_targets,\n",
        "    validation_examples=validation_examples,\n",
        "    validation_targets=validation_targets)\n",
        "print(\"Model size:\", model_size(linear_classifier))"
      ],
      "cell_type": "code",
      "execution_count": 0,
      "outputs": []
    }
  ]
}
