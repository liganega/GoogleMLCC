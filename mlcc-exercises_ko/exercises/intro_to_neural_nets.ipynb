{
  "nbformat": 4,
  "nbformat_minor": 0,
  "metadata": {
    "colab": {
      "name": "intro_to_neural_nets.ipynb",
      "version": "0.3.2",
      "views": {},
      "default_view": {},
      "provenance": [],
      "collapsed_sections": [
        "O2q5RRCKqYaU",
        "vvT2jDWjrKew",
        "copyright-notice"
      ]
    }
  },
  "cells": [
    {
      "source": [
        "#### Copyright 2017 Google LLC."
      ],
      "metadata": {
        "colab_type": "text",
        "id": "copyright-notice"
      },
      "cell_type": "markdown"
    },
    {
      "outputs": [],
      "source": [
        "# Licensed under the Apache License, Version 2.0 (the \"License\");\n",
        "# you may not use this file except in compliance with the License.\n",
        "# You may obtain a copy of the License at\n",
        "#\n",
        "# https://www.apache.org/licenses/LICENSE-2.0\n",
        "#\n",
        "# Unless required by applicable law or agreed to in writing, software\n",
        "# distributed under the License is distributed on an \"AS IS\" BASIS,\n",
        "# WITHOUT WARRANTIES OR CONDITIONS OF ANY KIND, either express or implied.\n",
        "# See the License for the specific language governing permissions and\n",
        "# limitations under the License."
      ],
      "metadata": {
        "colab": {
          "autoexec": {
            "wait_interval": 0,
            "startup": false
          }
        },
        "cellView": "both",
        "colab_type": "code",
        "id": "copyright-notice2"
      },
      "cell_type": "code",
      "execution_count": 0
    },
    {
      "metadata": {
        "id": "eV16J6oUY-HN",
        "colab_type": "text",
        "slideshow": {
          "slide_type": "slide"
        }
      },
      "cell_type": "markdown",
      "source": [
        " # \uc2e0\uacbd\ub9dd \uc18c\uac1c"
      ]
    },
    {
      "metadata": {
        "id": "_wIcUFLSKNdx",
        "colab_type": "text"
      },
      "cell_type": "markdown",
      "source": [
        " **\ud559\uc2b5 \ubaa9\ud45c:**\n",
        "  * \ud150\uc11c\ud50c\ub85c\uc6b0\uc758 `DNNRegressor` \ud074\ub798\uc2a4\ub97c \uc0ac\uc6a9\ud558\uc5ec \uc2e0\uacbd\ub9dd(NN) \ubc0f \ud788\ub4e0 \ub808\uc774\uc5b4\ub97c \uc815\uc758\ud55c\ub2e4\n",
        "  * \ube44\uc120\ud615\uc131\uc744 \uac16\ub294 \ub370\uc774\ud130 \uc138\ud2b8\ub97c \uc2e0\uacbd\ub9dd\uc5d0 \ud559\uc2b5\uc2dc\ucf1c \uc120\ud615 \ud68c\uadc0 \ubaa8\ub378\ubcf4\ub2e4 \uc6b0\uc218\ud55c \uc131\ub2a5\uc744 \ub2ec\uc131\ud55c\ub2e4"
      ]
    },
    {
      "metadata": {
        "id": "_ZZ7f7prKNdy",
        "colab_type": "text"
      },
      "cell_type": "markdown",
      "source": [
        " \uc774\uc804 \uc2e4\uc2b5\uc5d0\uc11c\ub294 \ubaa8\ub378\uc5d0 \ube44\uc120\ud615\uc131\uc744 \ud1b5\ud569\ud558\ub294 \ub370 \ub3c4\uc6c0\uc774 \ub418\ub294 \ud569\uc131 \ud2b9\uc131\uc744 \uc0ac\uc6a9\ud588\uc2b5\ub2c8\ub2e4.\n",
        "\n",
        "\ube44\uc120\ud615\uc131\uc744 \uac16\ub294 \ub300\ud45c\uc801\uc778 \uc138\ud2b8\ub294 \uc704\ub3c4\uc640 \uacbd\ub3c4\uc600\uc9c0\ub9cc \ub2e4\ub978 \ud2b9\uc131\ub3c4 \uc788\uc744 \uc218 \uc788\uc2b5\ub2c8\ub2e4.\n",
        "\n",
        "\uc77c\ub2e8 \uc774\uc804 \uc2e4\uc2b5\uc758 \ub85c\uc9c0\uc2a4\ud2f1 \ud68c\uadc0 \uc791\uc5c5\uc774 \uc544\ub2cc \ud45c\uc900 \ud68c\uadc0 \uc791\uc5c5\uc73c\ub85c \ub3cc\uc544\uac00\uaca0\uc2b5\ub2c8\ub2e4. \uc989, `median_house_value`\ub97c \uc9c1\uc811 \uc608\uce21\ud560 \uac83\uc785\ub2c8\ub2e4."
      ]
    },
    {
      "metadata": {
        "id": "J2kqX6VZTHUy",
        "colab_type": "text"
      },
      "cell_type": "markdown",
      "source": [
        " ## \uc124\uc815\n",
        "\n",
        "\uc6b0\uc120 \ub370\uc774\ud130\ub97c \ub85c\ub4dc\ud558\uace0 \uc900\ube44\ud558\uaca0\uc2b5\ub2c8\ub2e4."
      ]
    },
    {
      "metadata": {
        "id": "AGOM1TUiKNdz",
        "colab_type": "code",
        "colab": {
          "autoexec": {
            "startup": false,
            "wait_interval": 0
          }
        }
      },
      "source": [
        "from __future__ import print_function\n",
        "\n",
        "import math\n",
        "\n",
        "from IPython import display\n",
        "from matplotlib import cm\n",
        "from matplotlib import gridspec\n",
        "from matplotlib import pyplot as plt\n",
        "import numpy as np\n",
        "import pandas as pd\n",
        "from sklearn import metrics\n",
        "import tensorflow as tf\n",
        "from tensorflow.python.data import Dataset\n",
        "\n",
        "tf.logging.set_verbosity(tf.logging.ERROR)\n",
        "pd.options.display.max_rows = 10\n",
        "pd.options.display.float_format = '{:.1f}'.format\n",
        "\n",
        "california_housing_dataframe = pd.read_csv(\"https://download.mlcc.google.com/mledu-datasets/california_housing_train.csv\", sep=\",\")\n",
        "\n",
        "california_housing_dataframe = california_housing_dataframe.reindex(\n",
        "    np.random.permutation(california_housing_dataframe.index))"
      ],
      "cell_type": "code",
      "execution_count": 0,
      "outputs": []
    },
    {
      "metadata": {
        "id": "2I8E2qhyKNd4",
        "colab_type": "code",
        "colab": {
          "autoexec": {
            "startup": false,
            "wait_interval": 0
          }
        }
      },
      "source": [
        "def preprocess_features(california_housing_dataframe):\n",
        "  \"\"\"Prepares input features from California housing data set.\n",
        "\n",
        "  Args:\n",
        "    california_housing_dataframe: A Pandas DataFrame expected to contain data\n",
        "      from the California housing data set.\n",
        "  Returns:\n",
        "    A DataFrame that contains the features to be used for the model, including\n",
        "    synthetic features.\n",
        "  \"\"\"\n",
        "  selected_features = california_housing_dataframe[\n",
        "    [\"latitude\",\n",
        "     \"longitude\",\n",
        "     \"housing_median_age\",\n",
        "     \"total_rooms\",\n",
        "     \"total_bedrooms\",\n",
        "     \"population\",\n",
        "     \"households\",\n",
        "     \"median_income\"]]\n",
        "  processed_features = selected_features.copy()\n",
        "  # Create a synthetic feature.\n",
        "  processed_features[\"rooms_per_person\"] = (\n",
        "    california_housing_dataframe[\"total_rooms\"] /\n",
        "    california_housing_dataframe[\"population\"])\n",
        "  return processed_features\n",
        "\n",
        "def preprocess_targets(california_housing_dataframe):\n",
        "  \"\"\"Prepares target features (i.e., labels) from California housing data set.\n",
        "\n",
        "  Args:\n",
        "    california_housing_dataframe: A Pandas DataFrame expected to contain data\n",
        "      from the California housing data set.\n",
        "  Returns:\n",
        "    A DataFrame that contains the target feature.\n",
        "  \"\"\"\n",
        "  output_targets = pd.DataFrame()\n",
        "  # Scale the target to be in units of thousands of dollars.\n",
        "  output_targets[\"median_house_value\"] = (\n",
        "    california_housing_dataframe[\"median_house_value\"] / 1000.0)\n",
        "  return output_targets"
      ],
      "cell_type": "code",
      "execution_count": 0,
      "outputs": []
    },
    {
      "metadata": {
        "id": "pQzcj2B1T5dA",
        "colab_type": "code",
        "colab": {
          "autoexec": {
            "startup": false,
            "wait_interval": 0
          }
        }
      },
      "source": [
        "# Choose the first 12000 (out of 17000) examples for training.\n",
        "training_examples = preprocess_features(california_housing_dataframe.head(12000))\n",
        "training_targets = preprocess_targets(california_housing_dataframe.head(12000))\n",
        "\n",
        "# Choose the last 5000 (out of 17000) examples for validation.\n",
        "validation_examples = preprocess_features(california_housing_dataframe.tail(5000))\n",
        "validation_targets = preprocess_targets(california_housing_dataframe.tail(5000))\n",
        "\n",
        "# Double-check that we've done the right thing.\n",
        "print(\"Training examples summary:\")\n",
        "display.display(training_examples.describe())\n",
        "print(\"Validation examples summary:\")\n",
        "display.display(validation_examples.describe())\n",
        "\n",
        "print(\"Training targets summary:\")\n",
        "display.display(training_targets.describe())\n",
        "print(\"Validation targets summary:\")\n",
        "display.display(validation_targets.describe())"
      ],
      "cell_type": "code",
      "execution_count": 0,
      "outputs": []
    },
    {
      "metadata": {
        "id": "RWq0xecNKNeG",
        "colab_type": "text"
      },
      "cell_type": "markdown",
      "source": [
        " ## \uc2e0\uacbd\ub9dd \uad6c\ucd95\n",
        "\n",
        "NN\uc740 [DNNRegressor](https://www.tensorflow.org/api_docs/python/tf/estimator/DNNRegressor) \ud074\ub798\uc2a4\uc5d0 \uc758\ud574 \uc815\uc758\ub429\ub2c8\ub2e4.\n",
        "\n",
        "**`hidden_units`**\ub97c \uc0ac\uc6a9\ud558\uc5ec NN\uc758 \uad6c\uc870\ub97c \uc815\uc758\ud569\ub2c8\ub2e4.  `hidden_units` \uc778\uc218\ub294 \uc815\uc218\uc758 \ubaa9\ub85d\uc744 \uc81c\uacf5\ud558\uba70, \uac01 \uc815\uc218\ub294 \ud788\ub4e0 \ub808\uc774\uc5b4\uc5d0 \ud574\ub2f9\ud558\uace0 \ud3ec\ud568\ub41c \ub178\ub4dc\uc758 \uc218\ub97c \ub098\ud0c0\ub0c5\ub2c8\ub2e4. \uc608\ub97c \ub4e4\uc5b4 \uc544\ub798 \ub300\uc785\uc2dd\uc744 \uc0b4\ud3b4\ubcf4\uc138\uc694.\n",
        "\n",
        "`hidden_units=[3,10]`\n",
        "\n",
        "\uc704 \ub300\uc785\uc2dd\uc740 \ud788\ub4e0 \ub808\uc774\uc5b4 2\uac1c\ub97c \uac16\ub294 \uc2e0\uacbd\ub9dd\uc744 \uc9c0\uc815\ud569\ub2c8\ub2e4.\n",
        "\n",
        "* 1\ubc88 \ud788\ub4e0 \ub808\uc774\uc5b4\ub294 \ub178\ub4dc 3\uac1c\ub97c \ud3ec\ud568\ud569\ub2c8\ub2e4.\n",
        "* 2\ubc88 \ud788\ub4e0 \ub808\uc774\uc5b4\ub294 \ub178\ub4dc 10\uac1c\ub97c \ud3ec\ud568\ud569\ub2c8\ub2e4.\n",
        "\n",
        "\ub808\uc774\uc5b4\ub97c \ub298\ub9ac\ub824\uba74 \ubaa9\ub85d\uc5d0 \uc815\uc218\ub97c \ub354 \ucd94\uac00\ud558\uba74 \ub429\ub2c8\ub2e4. \uc608\ub97c \ub4e4\uc5b4 `hidden_units=[10,20,30,40]`\uc740 \uac01\uac01 10\uac1c, 20\uac1c, 30\uac1c, 40\uac1c\uc758 \uc720\ub2db\uc744 \uac16\ub294 4\uac1c\uc758 \ub808\uc774\uc5b4\ub97c \ub9cc\ub4ed\ub2c8\ub2e4.\n",
        "\n",
        "\uae30\ubcf8\uc801\uc73c\ub85c \ubaa8\ub4e0 \ud788\ub4e0 \ub808\uc774\uc5b4\ub294 ReLu \ud65c\uc131\ud654\ub97c \uc0ac\uc6a9\ud558\uba70 \uc644\uc804 \uc5f0\uacb0\uc131\uc744 \uac16\uc2b5\ub2c8\ub2e4."
      ]
    },
    {
      "metadata": {
        "id": "ni0S6zHcTb04",
        "colab_type": "code",
        "colab": {
          "autoexec": {
            "startup": false,
            "wait_interval": 0
          }
        }
      },
      "source": [
        "def construct_feature_columns(input_features):\n",
        "  \"\"\"Construct the TensorFlow Feature Columns.\n",
        "\n",
        "  Args:\n",
        "    input_features: The names of the numerical input features to use.\n",
        "  Returns:\n",
        "    A set of feature columns\n",
        "  \"\"\" \n",
        "  return set([tf.feature_column.numeric_column(my_feature)\n",
        "              for my_feature in input_features])"
      ],
      "cell_type": "code",
      "execution_count": 0,
      "outputs": []
    },
    {
      "metadata": {
        "id": "zvCqgNdzpaFg",
        "colab_type": "code",
        "colab": {
          "autoexec": {
            "startup": false,
            "wait_interval": 0
          }
        }
      },
      "source": [
        "def my_input_fn(features, targets, batch_size=1, shuffle=True, num_epochs=None):\n",
        "    \"\"\"Trains a neural net regression model.\n",
        "  \n",
        "    Args:\n",
        "      features: pandas DataFrame of features\n",
        "      targets: pandas DataFrame of targets\n",
        "      batch_size: Size of batches to be passed to the model\n",
        "      shuffle: True or False. Whether to shuffle the data.\n",
        "      num_epochs: Number of epochs for which data should be repeated. None = repeat indefinitely\n",
        "    Returns:\n",
        "      Tuple of (features, labels) for next data batch\n",
        "    \"\"\"\n",
        "    \n",
        "    # Convert pandas data into a dict of np arrays.\n",
        "    features = {key:np.array(value) for key,value in dict(features).items()}                                             \n",
        " \n",
        "    # Construct a dataset, and configure batching/repeating.\n",
        "    ds = Dataset.from_tensor_slices((features,targets)) # warning: 2GB limit\n",
        "    ds = ds.batch(batch_size).repeat(num_epochs)\n",
        "    \n",
        "    # Shuffle the data, if specified.\n",
        "    if shuffle:\n",
        "      ds = ds.shuffle(10000)\n",
        "    \n",
        "    # Return the next batch of data.\n",
        "    features, labels = ds.make_one_shot_iterator().get_next()\n",
        "    return features, labels"
      ],
      "cell_type": "code",
      "execution_count": 0,
      "outputs": []
    },
    {
      "metadata": {
        "id": "U52Ychv9KNeH",
        "colab_type": "code",
        "colab": {
          "autoexec": {
            "startup": false,
            "wait_interval": 0
          }
        }
      },
      "source": [
        "def train_nn_regression_model(\n",
        "    learning_rate,\n",
        "    steps,\n",
        "    batch_size,\n",
        "    hidden_units,\n",
        "    training_examples,\n",
        "    training_targets,\n",
        "    validation_examples,\n",
        "    validation_targets):\n",
        "  \"\"\"Trains a neural network regression model.\n",
        "  \n",
        "  In addition to training, this function also prints training progress information,\n",
        "  as well as a plot of the training and validation loss over time.\n",
        "  \n",
        "  Args:\n",
        "    learning_rate: A `float`, the learning rate.\n",
        "    steps: A non-zero `int`, the total number of training steps. A training step\n",
        "      consists of a forward and backward pass using a single batch.\n",
        "    batch_size: A non-zero `int`, the batch size.\n",
        "    hidden_units: A `list` of int values, specifying the number of neurons in each layer.\n",
        "    training_examples: A `DataFrame` containing one or more columns from\n",
        "      `california_housing_dataframe` to use as input features for training.\n",
        "    training_targets: A `DataFrame` containing exactly one column from\n",
        "      `california_housing_dataframe` to use as target for training.\n",
        "    validation_examples: A `DataFrame` containing one or more columns from\n",
        "      `california_housing_dataframe` to use as input features for validation.\n",
        "    validation_targets: A `DataFrame` containing exactly one column from\n",
        "      `california_housing_dataframe` to use as target for validation.\n",
        "      \n",
        "  Returns:\n",
        "    A `DNNRegressor` object trained on the training data.\n",
        "  \"\"\"\n",
        "\n",
        "  periods = 10\n",
        "  steps_per_period = steps / periods\n",
        "  \n",
        "  # Create a DNNRegressor object.\n",
        "  my_optimizer = tf.train.GradientDescentOptimizer(learning_rate=learning_rate)\n",
        "  my_optimizer = tf.contrib.estimator.clip_gradients_by_norm(my_optimizer, 5.0)\n",
        "  dnn_regressor = tf.estimator.DNNRegressor(\n",
        "      feature_columns=construct_feature_columns(training_examples),\n",
        "      hidden_units=hidden_units,\n",
	"      optimizer=my_optimizer\n",
        "  )\n",
        "  \n",
        "  # Create input functions.\n",
        "  training_input_fn = lambda: my_input_fn(training_examples, \n",
        "                                          training_targets[\"median_house_value\"], \n",
        "                                          batch_size=batch_size)\n",
        "  predict_training_input_fn = lambda: my_input_fn(training_examples, \n",
        "                                                  training_targets[\"median_house_value\"], \n",
        "                                                  num_epochs=1, \n",
        "                                                  shuffle=False)\n",
        "  predict_validation_input_fn = lambda: my_input_fn(validation_examples, \n",
        "                                                    validation_targets[\"median_house_value\"], \n",
        "                                                    num_epochs=1, \n",
        "                                                    shuffle=False)\n",
        "\n",
        "  # Train the model, but do so inside a loop so that we can periodically assess\n",
        "  # loss metrics.\n",
        "  print(\"Training model...\")\n",
        "  print(\"RMSE (on training data):\")\n",
        "  training_rmse = []\n",
        "  validation_rmse = []\n",
        "  for period in range (0, periods):\n",
        "    # Train the model, starting from the prior state.\n",
        "    dnn_regressor.train(\n",
        "        input_fn=training_input_fn,\n",
        "        steps=steps_per_period\n",
        "    )\n",
        "    # Take a break and compute predictions.\n",
        "    training_predictions = dnn_regressor.predict(input_fn=predict_training_input_fn)\n",
        "    training_predictions = np.array([item['predictions'][0] for item in training_predictions])\n",
        "    \n",
        "    validation_predictions = dnn_regressor.predict(input_fn=predict_validation_input_fn)\n",
        "    validation_predictions = np.array([item['predictions'][0] for item in validation_predictions])\n",
        "    \n",
        "    # Compute training and validation loss.\n",
        "    training_root_mean_squared_error = math.sqrt(\n",
        "        metrics.mean_squared_error(training_predictions, training_targets))\n",
        "    validation_root_mean_squared_error = math.sqrt(\n",
        "        metrics.mean_squared_error(validation_predictions, validation_targets))\n",
        "    # Occasionally print the current loss.\n",
        "    print(\"  period %02d : %0.2f\" % (period, training_root_mean_squared_error))\n",
        "    # Add the loss metrics from this period to our list.\n",
        "    training_rmse.append(training_root_mean_squared_error)\n",
        "    validation_rmse.append(validation_root_mean_squared_error)\n",
        "  print(\"Model training finished.\")\n",
        "\n",
        "  # Output a graph of loss metrics over periods.\n",
        "  plt.ylabel(\"RMSE\")\n",
        "  plt.xlabel(\"Periods\")\n",
        "  plt.title(\"Root Mean Squared Error vs. Periods\")\n",
        "  plt.tight_layout()\n",
        "  plt.plot(training_rmse, label=\"training\")\n",
        "  plt.plot(validation_rmse, label=\"validation\")\n",
        "  plt.legend()\n",
        "\n",
        "  print(\"Final RMSE (on training data):   %0.2f\" % training_root_mean_squared_error)\n",
        "  print(\"Final RMSE (on validation data): %0.2f\" % validation_root_mean_squared_error)\n",
        "\n",
        "  return dnn_regressor"
      ],
      "cell_type": "code",
      "execution_count": 0,
      "outputs": []
    },
    {
      "metadata": {
        "id": "2QhdcCy-Y8QR",
        "colab_type": "text",
        "slideshow": {
          "slide_type": "slide"
        }
      },
      "cell_type": "markdown",
      "source": [
        " ## \uc791\uc5c5 1: NN \ubaa8\ub378 \ud559\uc2b5\n",
        "\n",
        "**RMSE\ub97c 110 \ubbf8\ub9cc\uc73c\ub85c \ub0ae\ucd94\ub294 \uac83\uc744 \ubaa9\ud45c\ub85c \ucd08\ub9e4\uac1c\ubcc0\uc218\ub97c \uc870\uc815\ud569\ub2c8\ub2e4.**\n",
        "\n",
        "\ub2e4\uc74c \ube14\ub85d\uc744 \uc2e4\ud589\ud558\uc5ec NN \ubaa8\ub378\uc744 \ud559\uc2b5\uc2dc\ud0b5\ub2c8\ub2e4.  \n",
        "\n",
        "\ub9ce\uc740 \ud2b9\uc131\uc744 \uc0ac\uc6a9\ud55c \uc120\ud615 \ud68c\uadc0 \uc2e4\uc2b5\uc5d0\uc11c RMSE\uc774 110 \uc815\ub3c4\uba74 \uc0c1\ub2f9\ud788 \uc591\ud638\ud558\ub2e4\uace0 \uc124\uba85\ud55c \ubc14 \uc788\uc2b5\ub2c8\ub2e4.  \ub354 \uc6b0\uc218\ud55c \ubaa8\ub378\uc744 \ubaa9\ud45c\ub85c \ud574 \ubcf4\uaca0\uc2b5\ub2c8\ub2e4.\n",
        "\n",
        "\uc774\ubc88\uc5d0 \uc218\ud589\ud560 \uc791\uc5c5\uc740 \ub2e4\uc591\ud55c \ud559\uc2b5 \uc124\uc815\uc744 \uc218\uc815\ud558\uc5ec \uac80\uc99d \ub370\uc774\ud130\uc5d0 \ub300\ud55c \uc815\ud655\uc131\uc744 \ub192\uc774\ub294 \uac83\uc785\ub2c8\ub2e4.\n",
        "\n",
        "NN\uc5d0\ub294 \uacfc\uc801\ud569\uc774\ub77c\ub294 \uc704\ud5d8\uc774 \ub3c4\uc0ac\ub9ac\uace0 \uc788\uc2b5\ub2c8\ub2e4.  \ud559\uc2b5 \ub370\uc774\ud130\uc5d0 \ub300\ud55c \uc190\uc2e4\uacfc \uac80\uc99d \ub370\uc774\ud130\uc5d0 \ub300\ud55c \uc190\uc2e4\uc758 \uaca9\ucc28\ub97c \uc870\uc0ac\ud558\uba74 \ubaa8\ub378\uc5d0\uc11c \uacfc\uc801\ud569\uc774 \uc2dc\uc791\ub418\uace0 \uc788\ub294\uc9c0\ub97c \ud310\ub2e8\ud558\ub294 \ub370 \ub3c4\uc6c0\uc774 \ub429\ub2c8\ub2e4. \uc77c\ubc18\uc801\uc73c\ub85c \uaca9\ucc28\uac00 \uc99d\uac00\ud558\uae30 \uc2dc\uc791\ud558\uba74 \uacfc\uc801\ud569\uc758 \ud655\uc2e4\ud55c \uc99d\uac70\uac00 \ub429\ub2c8\ub2e4.\n",
        "\n",
        "\ub9e4\uc6b0 \ub2e4\uc591\ud55c \uc124\uc815\uc774 \uac00\ub2a5\ud558\ubbc0\ub85c, \uac01 \uc2dc\ub3c4\uc5d0\uc11c \uc124\uc815\uc744 \uc798 \uae30\ub85d\ud558\uc5ec \uac1c\ubc1c \ubc29\ud5a5\uc744 \uc7a1\ub294 \ub370 \ucc38\uace0\ud558\ub294 \uac83\uc774 \uc88b\uc2b5\ub2c8\ub2e4.\n",
        "\n",
        "\ub610\ud55c \uad1c\ucc2e\uc740 \uc124\uc815\uc744 \ubc1c\uacac\ud588\ub2e4\uba74 \uc5ec\ub7ec \ubc88 \uc2e4\ud589\ud558\uc5ec \uacb0\uacfc\uc758 \uc7ac\ud604\uc131\uc744 \ud655\uc778\ud558\uc2dc\uae30 \ubc14\ub78d\ub2c8\ub2e4. NN \uac00\uc911\uce58\ub294 \uc77c\ubc18\uc801\uc73c\ub85c \uc791\uc740 \ubb34\uc791\uc704 \uac12\uc73c\ub85c \ucd08\uae30\ud654\ub418\ubbc0\ub85c \uc2e4\ud589 \uc2dc\ub9c8\ub2e4 \uc57d\uac04\uc758 \ucc28\uc774\ub97c \ubcf4\uc785\ub2c8\ub2e4.\n",
        ""
      ]
    },
    {
      "metadata": {
        "id": "rXmtSW1yKNeK",
        "colab_type": "code",
        "colab": {
          "autoexec": {
            "startup": false,
            "wait_interval": 0
          }
        }
      },
      "source": [
        "dnn_regressor = train_nn_regression_model(\n",
        "    learning_rate=0.01,\n",
        "    steps=500,\n",
        "    batch_size=10,\n",
        "    hidden_units=[10, 2],\n",
        "    training_examples=training_examples,\n",
        "    training_targets=training_targets,\n",
        "    validation_examples=validation_examples,\n",
        "    validation_targets=validation_targets)"
      ],
      "cell_type": "code",
      "execution_count": 0,
      "outputs": []
    },
    {
      "metadata": {
        "id": "O2q5RRCKqYaU",
        "colab_type": "text"
      },
      "cell_type": "markdown",
      "source": [
        " ### \ud574\uacb0 \ubc29\ubc95\n",
        "\n",
        "\uac00\ub2a5\ud55c \ud574\uacb0 \ubc29\ubc95\uc744 \ubcf4\ub824\uba74 \uc544\ub798\ub97c \ud074\ub9ad\ud558\uc138\uc694."
      ]
    },
    {
      "metadata": {
        "id": "j2Yd5VfrqcC3",
        "colab_type": "text"
      },
      "cell_type": "markdown",
      "source": [
        " **\ucc38\uace0:** \uc774 \ub9e4\uac1c\ubcc0\uc218 \uc120\ud0dd\uc740 \uc5b4\ub290 \uc815\ub3c4 \uc784\uc758\uc801\uc778 \uac83\uc785\ub2c8\ub2e4. \uc5ec\uae30\uc5d0\uc11c\ub294 \uc624\ucc28\uac00 \ubaa9\ud45c\uce58 \uc544\ub798\ub85c \ub5a8\uc5b4\uc9c8 \ub54c\uae4c\uc9c0 \uc810\uc810 \ubcf5\uc7a1\ud55c \uc870\ud569\uc744 \uc2dc\ub3c4\ud558\uba74\uc11c \ud559\uc2b5 \uc2dc\uac04\uc744 \ub298\ub838\uc2b5\ub2c8\ub2e4. \uc774 \uc870\ud569\uc740 \uacb0\ucf54 \ucd5c\uc120\uc758 \uc870\ud569\uc774 \uc544\ub2c8\uba70, \ub2e4\ub978 \uc870\ud569\uc774 \ub354 \ub0ae\uc740 RMSE\ub97c \ub2ec\uc131\ud560 \uc218\ub3c4 \uc788\uc2b5\ub2c8\ub2e4. \uc624\ucc28\ub97c \ucd5c\uc18c\ud654\ud558\ub294 \ubaa8\ub378\uc744 \ucc3e\ub294 \uac83\uc774 \ubaa9\ud45c\ub77c\uba74 \ub9e4\uac1c\ubcc0\uc218 \uac80\uc0c9\uacfc \uac19\uc740 \ubcf4\ub2e4 \uc5c4\ubc00\ud55c \uc808\ucc28\ub97c \uc0ac\uc6a9\ud574\uc57c \ud569\ub2c8\ub2e4."
      ]
    },
    {
      "metadata": {
        "id": "IjkpSqmxqnSM",
        "colab_type": "code",
        "colab": {
          "autoexec": {
            "startup": false,
            "wait_interval": 0
          }
        }
      },
      "source": [
        "dnn_regressor = train_nn_regression_model(\n",
        "    learning_rate=0.001,\n",
        "    steps=2000,\n",
        "    batch_size=100,\n",
        "    hidden_units=[10, 10],\n",
        "    training_examples=training_examples,\n",
        "    training_targets=training_targets,\n",
        "    validation_examples=validation_examples,\n",
        "    validation_targets=validation_targets)"
      ],
      "cell_type": "code",
      "execution_count": 0,
      "outputs": []
    },
    {
      "metadata": {
        "id": "c6diezCSeH4Y",
        "colab_type": "text",
        "slideshow": {
          "slide_type": "slide"
        }
      },
      "cell_type": "markdown",
      "source": [
        " ## \uc791\uc5c5 2: \ud14c\uc2a4\ud2b8 \ub370\uc774\ud130\ub85c \ud3c9\uac00\n",
        "\n",
        "**\uac80\uc99d \uc131\ub2a5 \uacb0\uacfc\uac00 \ud14c\uc2a4\ud2b8 \ub370\uc774\ud130\uc5d0 \ub300\ud574\uc11c\ub3c4 \uc720\uc9c0\ub418\ub294\uc9c0 \ud655\uc778\ud569\ub2c8\ub2e4.**\n",
        "\n",
        "\ub9cc\uc871\ud560 \ub9cc\ud55c \ubaa8\ub378\uc774 \ub9cc\ub4e4\uc5b4\uc84c\uc73c\uba74 \ud14c\uc2a4\ud2b8 \ub370\uc774\ud130\ub85c \ud3c9\uac00\ud558\uace0 \uac80\uc99d \uc131\ub2a5\uacfc \ube44\uad50\ud574 \ubd05\ub2c8\ub2e4.\n",
        "\n",
        "\ud14c\uc2a4\ud2b8 \ub370\uc774\ud130 \uc138\ud2b8\ub294 [\uc5ec\uae30](https://download.mlcc.google.com/mledu-datasets/california_housing_test.csv)\uc5d0 \uc788\uc2b5\ub2c8\ub2e4."
      ]
    },
    {
      "metadata": {
        "id": "icEJIl5Vp51r",
        "colab_type": "code",
        "colab": {
          "autoexec": {
            "startup": false,
            "wait_interval": 0
          },
          "test": {
            "output": "ignore",
            "timeout": 600
          }
        },
        "cellView": "both"
      },
      "source": [
        "california_housing_test_data = pd.read_csv(\"https://download.mlcc.google.com/mledu-datasets/california_housing_test.csv\", sep=\",\")\n",
        "\n",
        "# YOUR CODE HERE"
      ],
      "cell_type": "code",
      "execution_count": 0,
      "outputs": []
    },
    {
      "metadata": {
        "id": "vvT2jDWjrKew",
        "colab_type": "text"
      },
      "cell_type": "markdown",
      "source": [
        " ### \ud574\uacb0 \ubc29\ubc95\n",
        "\n",
        "\uac00\ub2a5\ud55c \ud574\uacb0 \ubc29\ubc95\uc744 \ubcf4\ub824\uba74 \uc544\ub798\ub97c \ud074\ub9ad\ud558\uc138\uc694."
      ]
    },
    {
      "metadata": {
        "id": "FyDh7Qy6rQb0",
        "colab_type": "text"
      },
      "cell_type": "markdown",
      "source": [
        " \uc704 \ucf54\ub4dc\uc5d0\uc11c \uc218\ud589\ud558\ub294 \uc791\uc5c5\uacfc \ub9c8\ucc2c\uac00\uc9c0\ub85c \uc801\uc808\ud55c \ub370\uc774\ud130 \ud30c\uc77c\uc744 \ub85c\ub4dc\ud558\uace0 \uc804\ucc98\ub9ac\ud55c \ud6c4 predict \ubc0f mean_squared_error\ub97c \ud638\ucd9c\ud574\uc57c \ud569\ub2c8\ub2e4.\n",
        "\n",
        "\ubaa8\ub4e0 \ub808\ucf54\ub4dc\ub97c \uc0ac\uc6a9\ud560 \uac83\uc774\ubbc0\ub85c \ud14c\uc2a4\ud2b8 \ub370\uc774\ud130\ub97c \ubb34\uc791\uc704\ub85c \ucd94\ucd9c\ud560 \ud544\uc694\ub294 \uc5c6\uc2b5\ub2c8\ub2e4."
      ]
    },
    {
      "metadata": {
        "id": "vhb0CtdvrWZx",
        "colab_type": "code",
        "colab": {
          "autoexec": {
            "startup": false,
            "wait_interval": 0
          }
        }
      },
      "source": [
        "california_housing_test_data = pd.read_csv(\"https://download.mlcc.google.com/mledu-datasets/california_housing_test.csv\", sep=\",\")\n",
        "\n",
        "test_examples = preprocess_features(california_housing_test_data)\n",
        "test_targets = preprocess_targets(california_housing_test_data)\n",
        "\n",
        "predict_testing_input_fn = lambda: my_input_fn(test_examples, \n",
        "                                               test_targets[\"median_house_value\"], \n",
        "                                               num_epochs=1, \n",
        "                                               shuffle=False)\n",
        "\n",
        "test_predictions = dnn_regressor.predict(input_fn=predict_testing_input_fn)\n",
        "test_predictions = np.array([item['predictions'][0] for item in test_predictions])\n",
        "\n",
        "root_mean_squared_error = math.sqrt(\n",
        "    metrics.mean_squared_error(test_predictions, test_targets))\n",
        "\n",
        "print(\"Final RMSE (on test data): %0.2f\" % root_mean_squared_error)"
      ],
      "cell_type": "code",
      "execution_count": 0,
      "outputs": []
    }
  ]
}
