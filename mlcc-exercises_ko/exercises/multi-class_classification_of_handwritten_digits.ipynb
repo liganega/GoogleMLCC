{
  "nbformat": 4,
  "nbformat_minor": 0,
  "metadata": {
    "colab": {
      "name": "multi-class_classification_of_handwritten_digits.ipynb",
      "version": "0.3.2",
      "views": {},
      "default_view": {},
      "provenance": [],
      "collapsed_sections": [
        "266KQvZoMxMv",
        "6sfw3LH0Oycm",
        "copyright-notice"
      ]
    }
  },
  "cells": [
    {
      "metadata": {
        "id": "copyright-notice",
        "colab_type": "text"
      },
      "cell_type": "markdown",
      "source": [
        "#### Copyright 2017 Google LLC."
      ]
    },
    {
      "metadata": {
        "cellView": "both",
        "id": "copyright-notice2",
        "colab_type": "code",
        "colab": {
          "autoexec": {
            "startup": false,
            "wait_interval": 0
          }
        }
      },
      "execution_count": 0,
      "cell_type": "code",
      "outputs": [],
      "source": [
        "# Licensed under the Apache License, Version 2.0 (the \"License\");\n",
        "# you may not use this file except in compliance with the License.\n",
        "# You may obtain a copy of the License at\n",
        "#\n",
        "# https://www.apache.org/licenses/LICENSE-2.0\n",
        "#\n",
        "# Unless required by applicable law or agreed to in writing, software\n",
        "# distributed under the License is distributed on an \"AS IS\" BASIS,\n",
        "# WITHOUT WARRANTIES OR CONDITIONS OF ANY KIND, either express or implied.\n",
        "# See the License for the specific language governing permissions and\n",
        "# limitations under the License."
      ]
    },
    {
      "metadata": {
        "id": "mPa95uXvcpcn",
        "colab_type": "text"
      },
      "cell_type": "markdown",
      "source": [
        " # \uc2e0\uacbd\ub9dd\uc73c\ub85c \ud544\uae30 \uc785\ub825\ub41c \uc22b\uc790 \ubd84\ub958\ud558\uae30"
      ]
    },
    {
      "metadata": {
        "id": "Fdpn8b90u8Tp",
        "colab_type": "text"
      },
      "cell_type": "markdown",
      "source": [
        " ![img](https://www.tensorflow.org/versions/r0.11/images/MNIST.png)"
      ]
    },
    {
      "metadata": {
        "id": "c7HLCm66Cs2p",
        "colab_type": "text"
      },
      "cell_type": "markdown",
      "source": [
        " **\ud559\uc2b5 \ubaa9\ud45c:**\n",
        "  * \uc120\ud615 \ubaa8\ub378\uacfc \uc2e0\uacbd\ub9dd\uc744 \ubaa8\ub450 \ud559\uc2b5\uc2dc\ucf1c \uae30\uc874 [MNIST](http://yann.lecun.com/exdb/mnist/) \ub370\uc774\ud130 \uc138\ud2b8\uc758 \ud544\uae30 \uc785\ub825\ub41c \uc22b\uc790\ub97c \ubd84\ub958\ud55c\ub2e4\n",
        "  * \uc120\ud615 \ubaa8\ub378\uacfc \uc2e0\uacbd\ub9dd \ubd84\ub958 \ubaa8\ub378\uc758 \uc131\ub2a5\uc744 \ube44\uad50\ud55c\ub2e4\n",
        "  * \uc2e0\uacbd\ub9dd \ud788\ub4e0 \ub808\uc774\uc5b4\uc758 \uac00\uc911\uce58\ub97c \uc2dc\uac01\ud654\ud55c\ub2e4"
      ]
    },
    {
      "metadata": {
        "id": "HSEh-gNdu8T0",
        "colab_type": "text"
      },
      "cell_type": "markdown",
      "source": [
        " \uc774\ubc88 \ubaa9\ud45c\ub294 \uac01\uac01\uc758 \uc785\ub825 \uc774\ubbf8\uc9c0\ub97c \uc62c\ubc14\ub978 \uc22b\uc790\uc5d0 \ub9e4\ud551\ud558\ub294 \uac83\uc785\ub2c8\ub2e4. \uba87 \uac1c\uc758 \ud788\ub4e0 \ub808\uc774\uc5b4\ub97c \ud3ec\ud568\ud558\uba70 \uc18c\ud504\ud2b8\ub9e5\uc2a4 \ub808\uc774\uc5b4\uac00 \ub9e8 \uc704\uc5d0\uc11c \ucd5c\uc6b0\uc218 \ud074\ub798\uc2a4\ub97c \uc120\ud0dd\ud558\ub294 NN\uc744 \ub9cc\ub4e4\uc5b4 \ubcf4\uaca0\uc2b5\ub2c8\ub2e4."
      ]
    },
    {
      "metadata": {
        "id": "2NMdE1b-7UIH",
        "colab_type": "text"
      },
      "cell_type": "markdown",
      "source": [
        " ## \uc124\uc815\n",
        "\n",
        "\uc6b0\uc120 \ub370\uc774\ud130 \uc138\ud2b8\ub97c \ub2e4\uc6b4\ub85c\ub4dc\ud558\uace0, \ud150\uc11c\ud50c\ub85c\uc6b0 \ubc0f \uae30\ud0c0 \uc720\ud2f8\ub9ac\ud2f0 \ubaa8\ub4c8\uc744 import\ub85c \ubd88\ub7ec\uc624\uace0, \ub370\uc774\ud130\ub97c *pandas* `DataFrame`\uc5d0 \ub85c\ub4dc\ud569\ub2c8\ub2e4. \uc774 \ub370\uc774\ud130\ub294 \uc6d0\ubcf8 MNIST \ud559\uc2b5 \ub370\uc774\ud130\uc5d0\uc11c 20,000\uac1c \ud589\uc744 \ubb34\uc791\uc704\ub85c \ucd94\ucd9c\ud55c \uc0d8\ud50c\uc785\ub2c8\ub2e4."
      ]
    },
    {
      "metadata": {
        "id": "4LJ4SD8BWHeh",
        "colab_type": "code",
        "colab": {
          "autoexec": {
            "startup": false,
            "wait_interval": 0
          },
          "test": {
            "output": "ignore",
            "timeout": 600
          }
        },
        "cellView": "both"
      },
      "source": [
        "from __future__ import print_function\n",
        "\n",
        "import glob\n",
        "import math\n",
        "import os\n",
        "\n",
        "from IPython import display\n",
        "from matplotlib import cm\n",
        "from matplotlib import gridspec\n",
        "from matplotlib import pyplot as plt\n",
        "import numpy as np\n",
        "import pandas as pd\n",
        "import seaborn as sns\n",
        "from sklearn import metrics\n",
        "import tensorflow as tf\n",
        "from tensorflow.python.data import Dataset\n",
        "\n",
        "tf.logging.set_verbosity(tf.logging.ERROR)\n",
        "pd.options.display.max_rows = 10\n",
        "pd.options.display.float_format = '{:.1f}'.format\n",
        "\n",
        "mnist_dataframe = pd.read_csv(\n",
        "  \"https://download.mlcc.google.com/mledu-datasets/mnist_train_small.csv\",\n",
        "  sep=\",\",\n",
        "  header=None)\n",
        "\n",
        "# Use just the first 10,000 records for training/validation.\n",
        "mnist_dataframe = mnist_dataframe.head(10000)\n",
        "\n",
        "mnist_dataframe = mnist_dataframe.reindex(np.random.permutation(mnist_dataframe.index))\n",
        "mnist_dataframe.head()"
      ],
      "cell_type": "code",
      "execution_count": 0,
      "outputs": []
    },
    {
      "metadata": {
        "id": "kg0-25p2mOi0",
        "colab_type": "text"
      },
      "cell_type": "markdown",
      "source": [
        " \uccab \ubc88\uc9f8 \uc5f4\uc740 \ud074\ub798\uc2a4 \ub77c\ubca8\uc744 \ud3ec\ud568\ud569\ub2c8\ub2e4. \ub098\uba38\uc9c0 \uc5f4\uc740 \ud2b9\uc131 \uac12\uc744 \ud3ec\ud568\ud558\uba70, `28\u00d728=784`\uac1c \ud53d\uc140 \uac12\ub9c8\ub2e4 \uac01\uac01 \ud558\ub098\uc758 \ud2b9\uc131 \uac12\uc774 \ub429\ub2c8\ub2e4.  \uc774 784\uac1c\uc758 \ud53d\uc140 \uac12\uc740 \ub300\ubd80\ubd84 0\uc774\uc9c0\ub9cc, 1\ubd84 \uc815\ub3c4 \uc2dc\uac04\uc744 \ub4e4\uc5ec \ubaa8\ub450 0\uc740 \uc544\ub2c8\ub77c\ub294 \uac83\uc744 \ud655\uc778\ud558\uc2dc\uae30 \ubc14\ub78d\ub2c8\ub2e4."
      ]
    },
    {
      "metadata": {
        "id": "PQ7vuOwRCsZ1",
        "colab_type": "text"
      },
      "cell_type": "markdown",
      "source": [
        " ![img](https://www.tensorflow.org/versions/r0.11/images/MNIST-Matrix.png)"
      ]
    },
    {
      "metadata": {
        "id": "dghlqJPIu8UM",
        "colab_type": "text"
      },
      "cell_type": "markdown",
      "source": [
        " \uc774\ub7ec\ud55c \uc608\ub294 \ube44\uad50\uc801 \ud574\uc0c1\ub3c4\uac00 \ub0ae\uace0 \ub300\ube44\uac00 \ub192\uc740 \ud544\uae30 \uc785\ub825 \uc22b\uc790\uc785\ub2c8\ub2e4. `0-9` \ubc94\uc704\uc758 \uc22b\uc790 10\uac1c\uac00 \uac01\uac01 \ud45c\ud604\ub418\uc5c8\uc73c\uba70 \uac00\ub2a5\ud55c \uac01 \uc22b\uc790\uc5d0 \uace0\uc720\ud55c \ud074\ub77c\uc2a4 \ub77c\ubca8\uc774 \uc9c0\uc815\ub429\ub2c8\ub2e4. \ub530\ub77c\uc11c \uc774 \ubb38\uc81c\ub294 10\uac1c \ud074\ub798\uc2a4\ub97c \ub300\uc0c1\uc73c\ub85c \ud558\ub294 \ub2e4\uc911 \ud074\ub798\uc2a4 \ubd84\ub958 \ubb38\uc81c\uc785\ub2c8\ub2e4.\n",
        "\n",
        "\uc774\uc81c \ub77c\ubca8\uacfc \ud2b9\uc131\uc744 \ud574\uc11d\ud558\uace0 \uba87 \uac00\uc9c0 \uc608\ub97c \uc0b4\ud3b4\ubcf4\uaca0\uc2b5\ub2c8\ub2e4. \uc774 \ub370\uc774\ud130 \uc138\ud2b8\uc5d0\ub294 \ud5e4\ub354 \ud589\uc774 \uc5c6\uc9c0\ub9cc `loc`\ub97c \uc0ac\uc6a9\ud558\uc5ec \uc6d0\ub798 \uc704\uce58\ub97c \uae30\uc900\uc73c\ub85c \uc5f4\uc744 \ucd94\ucd9c\ud560 \uc218 \uc788\uc2b5\ub2c8\ub2e4."
      ]
    },
    {
      "metadata": {
        "id": "JfFWWvMWDFrR",
        "colab_type": "code",
        "colab": {
          "autoexec": {
            "startup": false,
            "wait_interval": 0
          },
          "test": {
            "output": "ignore",
            "timeout": 600
          }
        }
      },
      "source": [
        "def parse_labels_and_features(dataset):\n",
        "  \"\"\"Extracts labels and features.\n",
        "  \n",
        "  This is a good place to scale or transform the features if needed.\n",
        "  \n",
        "  Args:\n",
        "    dataset: A Pandas `Dataframe`, containing the label on the first column and\n",
        "      monochrome pixel values on the remaining columns, in row major order.\n",
        "  Returns:\n",
        "    A `tuple` `(labels, features)`:\n",
        "      labels: A Pandas `Series`.\n",
        "      features: A Pandas `DataFrame`.\n",
        "  \"\"\"\n",
        "  labels = dataset[0]\n",
        "\n",
        "  # DataFrame.loc index ranges are inclusive at both ends.\n",
        "  features = dataset.loc[:,1:784]\n",
        "  # Scale the data to [0, 1] by dividing out the max value, 255.\n",
        "  features = features / 255\n",
        "\n",
        "  return labels, features"
      ],
      "cell_type": "code",
      "execution_count": 0,
      "outputs": []
    },
    {
      "metadata": {
        "id": "mFY_-7vZu8UU",
        "colab_type": "code",
        "colab": {
          "autoexec": {
            "startup": false,
            "wait_interval": 0
          }
        }
      },
      "source": [
        "training_targets, training_examples = parse_labels_and_features(mnist_dataframe[:7500])\n",
        "training_examples.describe()"
      ],
      "cell_type": "code",
      "execution_count": 0,
      "outputs": []
    },
    {
      "metadata": {
        "id": "4-Vgg-1zu8Ud",
        "colab_type": "code",
        "colab": {
          "autoexec": {
            "startup": false,
            "wait_interval": 0
          }
        }
      },
      "source": [
        "validation_targets, validation_examples = parse_labels_and_features(mnist_dataframe[7500:10000])\n",
        "validation_examples.describe()"
      ],
      "cell_type": "code",
      "execution_count": 0,
      "outputs": []
    },
    {
      "metadata": {
        "id": "wrnAI1v6u8Uh",
        "colab_type": "text"
      },
      "cell_type": "markdown",
      "source": [
        " \ubb34\uc791\uc704\ub85c \uc120\ud0dd\ud55c \uc608 \ubc0f \ud574\ub2f9 \ub77c\ubca8\uc744 \ud45c\uc2dc\ud569\ub2c8\ub2e4."
      ]
    },
    {
      "metadata": {
        "id": "s-euVJVtu8Ui",
        "colab_type": "code",
        "colab": {
          "autoexec": {
            "startup": false,
            "wait_interval": 0
          }
        }
      },
      "source": [
        "rand_example = np.random.choice(training_examples.index)\n",
        "_, ax = plt.subplots()\n",
        "ax.matshow(training_examples.loc[rand_example].values.reshape(28, 28))\n",
        "ax.set_title(\"Label: %i\" % training_targets.loc[rand_example])\n",
        "ax.grid(False)"
      ],
      "cell_type": "code",
      "execution_count": 0,
      "outputs": []
    },
    {
      "metadata": {
        "id": "ScmYX7xdZMXE",
        "colab_type": "text"
      },
      "cell_type": "markdown",
      "source": [
        " ## \uc791\uc5c5 1: MNIST\uc6a9 \uc120\ud615 \ubaa8\ub378 \uad6c\ucd95\n",
        "\n",
        "\uc6b0\uc120 \ube44\uad50 \uae30\uc900\uc774 \ub420 \ubaa8\ub378\uc744 \ub9cc\ub4ed\ub2c8\ub2e4. `LinearClassifier`\ub294 *k*\uac1c \ud074\ub798\uc2a4\ub9c8\ub2e4 \ud558\ub098\uc529 *k*\uac1c\uc758 \uc77c\ub300\ub2e4 \ubd84\ub958\uc790 \uc9d1\ud569\uc744 \uc81c\uacf5\ud569\ub2c8\ub2e4.\n",
        "\n",
        "\uc774 \uc791\uc5c5\uc5d0\uc11c\ub294 \uc815\ud655\uc131\uc744 \ubcf4\uace0\ud558\uace0 \uc2dc\uac04\ubcc4 \ub85c\uadf8 \uc190\uc2e4\uc744 \ub3c4\uc2dd\ud654\ud560 \ubfd0 \uc544\ub2c8\ub77c [**\ud63c\ub3d9\ud589\ub82c**](https://en.wikipedia.org/wiki/Confusion_matrix)\ub3c4 \ud45c\uc2dc\ud569\ub2c8\ub2e4. \ud63c\ub3d9\ud589\ub82c\uc740 \ub2e4\ub978 \ud074\ub798\uc2a4\ub85c \uc798\ubabb \ubd84\ub958\ub41c \ud074\ub798\uc2a4\ub97c \ubcf4\uc5ec\uc90d\ub2c8\ub2e4. \uc11c\ub85c \ud63c\ub3d9\ud558\uae30 \uc26c\uc6b4 \uc22b\uc790\ub294 \ubb34\uc5c7\uc77c\uae4c\uc694?\n",
        "\n",
        "\ub610\ud55c `log_loss` \ud568\uc218\ub97c \uc0ac\uc6a9\ud558\uc5ec \ubaa8\ub378\uc758 \uc624\ucc28\ub97c \ucd94\uc801\ud569\ub2c8\ub2e4. \uc774 \ud568\uc218\ub294 \ud559\uc2b5\uc5d0 \uc0ac\uc6a9\ub418\ub294 `LinearClassifier` \ub0b4\uc7a5 \uc190\uc2e4 \ud568\uc218\uc640 \ub2e4\ub974\ubbc0\ub85c \uc8fc\uc758\ud558\uc2dc\uae30 \ubc14\ub78d\ub2c8\ub2e4."
      ]
    },
    {
      "metadata": {
        "id": "cpoVC4TSdw5Z",
        "colab_type": "code",
        "colab": {
          "autoexec": {
            "startup": false,
            "wait_interval": 0
          }
        }
      },
      "source": [
        "def construct_feature_columns():\n",
        "  \"\"\"Construct the TensorFlow Feature Columns.\n",
        "\n",
        "  Returns:\n",
        "    A set of feature columns\n",
        "  \"\"\" \n",
        "  \n",
        "  # There are 784 pixels in each image. \n",
        "  return set([tf.feature_column.numeric_column('pixels', shape=784)])"
      ],
      "cell_type": "code",
      "execution_count": 0,
      "outputs": []
    },
    {
      "metadata": {
        "id": "kMmL89yGeTfz",
        "colab_type": "text"
      },
      "cell_type": "markdown",
      "source": [
        " \uc5ec\uae30\uc5d0\uc11c\ub294 \ud559\uc2b5\uacfc \uc608\uce21\uc758 \uc785\ub825 \ud568\uc218\ub97c \uc11c\ub85c \ub2e4\ub974\uac8c \ub9cc\ub4e4\uaca0\uc2b5\ub2c8\ub2e4. \uac01\uac01 `create_training_input_fn()` \ubc0f `create_predict_input_fn()`\uc5d0 \uc911\ucca9\uc2dc\ud0a4\uace0 \uc774\ub7ec\ud55c \ud568\uc218\ub97c \ud638\ucd9c\ud560 \ub54c \ubc18\ud658\ub418\ub294 \ud574\ub2f9 `_input_fn`\uc744 `.train()` \ubc0f `.predict()` \ud638\ucd9c\uc5d0 \uc804\ub2ec\ud558\uba74 \ub429\ub2c8\ub2e4."
      ]
    },
    {
      "metadata": {
        "id": "OeS47Bmn5Ms2",
        "colab_type": "code",
        "colab": {
          "autoexec": {
            "startup": false,
            "wait_interval": 0
          }
        }
      },
      "source": [
        "def create_training_input_fn(features, labels, batch_size, num_epochs=None, shuffle=True):\n",
        "  \"\"\"A custom input_fn for sending MNIST data to the estimator for training.\n",
        "\n",
        "  Args:\n",
        "    features: The training features.\n",
        "    labels: The training labels.\n",
        "    batch_size: Batch size to use during training.\n",
        "\n",
        "  Returns:\n",
        "    A function that returns batches of training features and labels during\n",
        "    training.\n",
        "  \"\"\"\n",
        "  def _input_fn(num_epochs=None, shuffle=True):\n",
        "    # Input pipelines are reset with each call to .train(). To ensure model\n",
        "    # gets a good sampling of data, even when number of steps is small, we \n",
        "    # shuffle all the data before creating the Dataset object\n",
        "    idx = np.random.permutation(features.index)\n",
        "    raw_features = {\"pixels\":features.reindex(idx)}\n",
        "    raw_targets = np.array(labels[idx])\n",
        "   \n",
        "    ds = Dataset.from_tensor_slices((raw_features,raw_targets)) # warning: 2GB limit\n",
        "    ds = ds.batch(batch_size).repeat(num_epochs)\n",
        "    \n",
        "    if shuffle:\n",
        "      ds = ds.shuffle(10000)\n",
        "    \n",
        "    # Return the next batch of data.\n",
        "    feature_batch, label_batch = ds.make_one_shot_iterator().get_next()\n",
        "    return feature_batch, label_batch\n",
        "\n",
        "  return _input_fn"
      ],
      "cell_type": "code",
      "execution_count": 0,
      "outputs": []
    },
    {
      "metadata": {
        "id": "8zoGWAoohrwS",
        "colab_type": "code",
        "colab": {
          "autoexec": {
            "startup": false,
            "wait_interval": 0
          }
        }
      },
      "source": [
        "def create_predict_input_fn(features, labels, batch_size):\n",
        "  \"\"\"A custom input_fn for sending mnist data to the estimator for predictions.\n",
        "\n",
        "  Args:\n",
        "    features: The features to base predictions on.\n",
        "    labels: The labels of the prediction examples.\n",
        "\n",
        "  Returns:\n",
        "    A function that returns features and labels for predictions.\n",
        "  \"\"\"\n",
        "  def _input_fn():\n",
        "    raw_features = {\"pixels\": features.values}\n",
        "    raw_targets = np.array(labels)\n",
        "    \n",
        "    ds = Dataset.from_tensor_slices((raw_features, raw_targets)) # warning: 2GB limit\n",
        "    ds = ds.batch(batch_size)\n",
        "    \n",
        "        \n",
        "    # Return the next batch of data.\n",
        "    feature_batch, label_batch = ds.make_one_shot_iterator().get_next()\n",
        "    return feature_batch, label_batch\n",
        "\n",
        "  return _input_fn"
      ],
      "cell_type": "code",
      "execution_count": 0,
      "outputs": []
    },
    {
      "metadata": {
        "id": "G6DjSLZMu8Um",
        "colab_type": "code",
        "colab": {
          "autoexec": {
            "startup": false,
            "wait_interval": 0
          }
        }
      },
      "source": [
        "def train_linear_classification_model(\n",
        "    learning_rate,\n",
        "    steps,\n",
        "    batch_size,\n",
        "    training_examples,\n",
        "    training_targets,\n",
        "    validation_examples,\n",
        "    validation_targets):\n",
        "  \"\"\"Trains a linear classification model for the MNIST digits dataset.\n",
        "  \n",
        "  In addition to training, this function also prints training progress information,\n",
        "  a plot of the training and validation loss over time, and a confusion\n",
        "  matrix.\n",
        "  \n",
        "  Args:\n",
        "    learning_rate: An `int`, the learning rate to use.\n",
        "    steps: A non-zero `int`, the total number of training steps. A training step\n",
        "      consists of a forward and backward pass using a single batch.\n",
        "    batch_size: A non-zero `int`, the batch size.\n",
        "    training_examples: A `DataFrame` containing the training features.\n",
        "    training_targets: A `DataFrame` containing the training labels.\n",
        "    validation_examples: A `DataFrame` containing the validation features.\n",
        "    validation_targets: A `DataFrame` containing the validation labels.\n",
        "      \n",
        "  Returns:\n",
        "    The trained `LinearClassifier` object.\n",
        "  \"\"\"\n",
        "\n",
        "  periods = 10\n",
        "\n",
        "  steps_per_period = steps / periods  \n",
        "  # Create the input functions.\n",
        "  predict_training_input_fn = create_predict_input_fn(\n",
        "    training_examples, training_targets, batch_size)\n",
        "  predict_validation_input_fn = create_predict_input_fn(\n",
        "    validation_examples, validation_targets, batch_size)\n",
        "  training_input_fn = create_training_input_fn(\n",
        "    training_examples, training_targets, batch_size)\n",
        "  \n",
        "  # Create a LinearClassifier object.\n",
        "  my_optimizer = tf.train.AdagradOptimizer(learning_rate=learning_rate)\n",
        "  my_optimizer = tf.contrib.estimator.clip_gradients_by_norm(my_optimizer, 5.0)\n",
        "  classifier = tf.estimator.LinearClassifier(\n",
        "      feature_columns=construct_feature_columns(),\n",
        "      n_classes=10,\n",
        "      optimizer=my_optimizer,\n",
        "      config=tf.estimator.RunConfig(keep_checkpoint_max=1)\n",
        "  )\n",
        "\n",
        "  # Train the model, but do so inside a loop so that we can periodically assess\n",
        "  # loss metrics.\n",
        "  print(\"Training model...\")\n",
        "  print(\"LogLoss error (on validation data):\")\n",
        "  training_errors = []\n",
        "  validation_errors = []\n",
        "  for period in range (0, periods):\n",
        "    # Train the model, starting from the prior state.\n",
        "    classifier.train(\n",
        "        input_fn=training_input_fn,\n",
        "        steps=steps_per_period\n",
        "    )\n",
        "  \n",
        "    # Take a break and compute probabilities.\n",
        "    training_predictions = list(classifier.predict(input_fn=predict_training_input_fn))\n",
        "    training_probabilities = np.array([item['probabilities'] for item in training_predictions])\n",
        "    training_pred_class_id = np.array([item['class_ids'][0] for item in training_predictions])\n",
        "    training_pred_one_hot = tf.keras.utils.to_categorical(training_pred_class_id,10)\n",
        "        \n",
        "    validation_predictions = list(classifier.predict(input_fn=predict_validation_input_fn))\n",
        "    validation_probabilities = np.array([item['probabilities'] for item in validation_predictions])    \n",
        "    validation_pred_class_id = np.array([item['class_ids'][0] for item in validation_predictions])\n",
        "    validation_pred_one_hot = tf.keras.utils.to_categorical(validation_pred_class_id,10)    \n",
        "    \n",
        "    # Compute training and validation errors.\n",
        "    training_log_loss = metrics.log_loss(training_targets, training_pred_one_hot)\n",
        "    validation_log_loss = metrics.log_loss(validation_targets, validation_pred_one_hot)\n",
        "    # Occasionally print the current loss.\n",
        "    print(\"  period %02d : %0.2f\" % (period, validation_log_loss))\n",
        "    # Add the loss metrics from this period to our list.\n",
        "    training_errors.append(training_log_loss)\n",
        "    validation_errors.append(validation_log_loss)\n",
        "  print(\"Model training finished.\")\n",
        "  # Remove event files to save disk space.\n",
        "  _ = map(os.remove, glob.glob(os.path.join(classifier.model_dir, 'events.out.tfevents*')))\n",
        "  \n",
        "  # Calculate final predictions (not probabilities, as above).\n",
        "  final_predictions = classifier.predict(input_fn=predict_validation_input_fn)\n",
        "  final_predictions = np.array([item['class_ids'][0] for item in final_predictions])\n",
        "  \n",
        "  \n",
        "  accuracy = metrics.accuracy_score(validation_targets, final_predictions)\n",
        "  print(\"Final accuracy (on validation data): %0.2f\" % accuracy)\n",
        "\n",
        "  # Output a graph of loss metrics over periods.\n",
        "  plt.ylabel(\"LogLoss\")\n",
        "  plt.xlabel(\"Periods\")\n",
        "  plt.title(\"LogLoss vs. Periods\")\n",
        "  plt.plot(training_errors, label=\"training\")\n",
        "  plt.plot(validation_errors, label=\"validation\")\n",
        "  plt.legend()\n",
        "  plt.show()\n",
        "  \n",
        "  # Output a plot of the confusion matrix.\n",
        "  cm = metrics.confusion_matrix(validation_targets, final_predictions)\n",
        "  # Normalize the confusion matrix by row (i.e by the number of samples\n",
        "  # in each class).\n",
        "  cm_normalized = cm.astype(\"float\") / cm.sum(axis=1)[:, np.newaxis]\n",
        "  ax = sns.heatmap(cm_normalized, cmap=\"bone_r\")\n",
        "  ax.set_aspect(1)\n",
        "  plt.title(\"Confusion matrix\")\n",
        "  plt.ylabel(\"True label\")\n",
        "  plt.xlabel(\"Predicted label\")\n",
        "  plt.show()\n",
        "\n",
        "  return classifier"
      ],
      "cell_type": "code",
      "execution_count": 0,
      "outputs": []
    },
    {
      "metadata": {
        "id": "ItHIUyv2u8Ur",
        "colab_type": "text"
      },
      "cell_type": "markdown",
      "source": [
        " **\uc774 \ud615\ud0dc\uc758 \uc120\ud615 \ubaa8\ub378\ub85c \uc815\ud655\uc131\uc744 \uc5bc\ub9c8\ub098 \ub192\uc77c \uc218 \uc788\ub294\uc9c0 5\ubd84 \ub3d9\uc548 \ud655\uc778\ud574 \ubcf4\uc138\uc694. \uc774 \uc2e4\uc2b5\uc5d0\uc11c\ub294 \ucd08\ub9e4\uac1c\ubcc0\uc218 \uc2e4\ud5d8 \ubc94\uc704\ub97c \ubc30\uce58 \ud06c\uae30, \ud559\uc2b5\ub960, \ub2e8\uacc4 \uc218\ub85c\ub9cc \uc81c\ud55c\ud569\ub2c8\ub2e4.**\n",
        "\n",
        "\uc815\ud655\uc131\uc774 0.9\ub97c \ucd08\uacfc\ud558\uba74 \uc2e4\ud589\uc744 \uc911\ub2e8\ud558\uc138\uc694."
      ]
    },
    {
      "metadata": {
        "id": "yaiIhIQqu8Uv",
        "colab_type": "code",
        "colab": {
          "autoexec": {
            "startup": false,
            "wait_interval": 0
          }
        }
      },
      "source": [
        "classifier = train_linear_classification_model(\n",
        "             learning_rate=0.02,\n",
        "             steps=100,\n",
        "             batch_size=10,\n",
        "             training_examples=training_examples,\n",
        "             training_targets=training_targets,\n",
        "             validation_examples=validation_examples,\n",
        "             validation_targets=validation_targets)"
      ],
      "cell_type": "code",
      "execution_count": 0,
      "outputs": []
    },
    {
      "metadata": {
        "id": "266KQvZoMxMv",
        "colab_type": "text"
      },
      "cell_type": "markdown",
      "source": [
        " ### \ud574\uacb0 \ubc29\ubc95\n",
        "\n",
        "\uac00\ub2a5\ud55c \ud574\uacb0 \ubc29\ubc95 \uc911 \ud558\ub098\ub97c \ubcf4\ub824\uba74 \uc544\ub798\ub97c \ud074\ub9ad\ud558\uc138\uc694."
      ]
    },
    {
      "metadata": {
        "id": "lRWcn24DM3qa",
        "colab_type": "text"
      },
      "cell_type": "markdown",
      "source": [
        " \ub2e4\uc74c\uc740 \uc57d 0.9\uc758 \uc815\ud655\uc131\uc744 \ub2ec\uc131\ud558\ub294 \ub9e4\uac1c\ubcc0\uc218 \uc138\ud2b8\uc785\ub2c8\ub2e4."
      ]
    },
    {
      "metadata": {
        "id": "TGlBMrUoM1K_",
        "colab_type": "code",
        "colab": {
          "autoexec": {
            "startup": false,
            "wait_interval": 0
          }
        }
      },
      "source": [
        "_ = train_linear_classification_model(\n",
        "    learning_rate=0.03,\n",
        "    steps=1000,\n",
        "    batch_size=30,\n",
        "    training_examples=training_examples,\n",
        "    training_targets=training_targets,\n",
        "    validation_examples=validation_examples,\n",
        "    validation_targets=validation_targets)"
      ],
      "cell_type": "code",
      "execution_count": 0,
      "outputs": []
    },
    {
      "metadata": {
        "id": "mk095OfpPdOx",
        "colab_type": "text"
      },
      "cell_type": "markdown",
      "source": [
        " ## \uc791\uc5c5 2: \uc120\ud615 \ubd84\ub958\uc790\ub97c \uc2e0\uacbd\ub9dd\uc73c\ub85c \ub300\uccb4\n",
        "\n",
        "**\uc704\uc758 LinearClassifier\ub97c [`DNNClassifier`](https://www.tensorflow.org/api_docs/python/tf/estimator/DNNClassifier)\ub85c \ub300\uccb4\ud558\uace0 0.95 \uc774\uc0c1\uc758 \uc815\ud655\uc131\uc744 \ubcf4\uc774\ub294 \ub9e4\uac1c\ubcc0\uc218 \uc870\ud569\uc744 \ucc3e\uc2b5\ub2c8\ub2e4.**\n",
        "\n",
        "\ub4dc\ub86d\uc544\uc6c3 \uac19\uc740 \uc815\uaddc\ud654 \ubc29\uc2dd\uc744 \ucd94\uac00\ub85c \uc2e4\ud5d8\ud574 \ubcfc \uc218\ub3c4 \uc788\uc2b5\ub2c8\ub2e4. \uc774\ub7ec\ud55c \ucd94\uac00 \uc815\uaddc\ud654 \ubc29\uc2dd\uc740 `DNNClassifier` \ud074\ub798\uc2a4\uc758 \uc124\uba85\uc5d0 \uae30\uc220\ub418\uc5b4 \uc788\uc2b5\ub2c8\ub2e4."
      ]
    },
    {
      "metadata": {
        "id": "rm8P_Ttwu8U4",
        "colab_type": "code",
        "colab": {
          "autoexec": {
            "startup": false,
            "wait_interval": 0
          }
        }
      },
      "source": [
        "#\n",
        "# YOUR CODE HERE: Replace the linear classifier with a neural network.\n",
        "#"
      ],
      "cell_type": "code",
      "execution_count": 0,
      "outputs": []
    },
    {
      "metadata": {
        "id": "TOfmiSvqu8U9",
        "colab_type": "text"
      },
      "cell_type": "markdown",
      "source": [
        " \uc801\uc808\ud55c \ubaa8\ub378\uc774 \ud655\ubcf4\ub418\uc5c8\uc73c\uba74 \uc544\ub798\uc5d0\uc11c \ub85c\ub4dc\ud560 \ud14c\uc2a4\ud2b8 \ub370\uc774\ud130\ub85c \ud3c9\uac00\ud558\uc5ec \uac80\uc99d\uc138\ud2b8\uc5d0 \ub300\ud574 \uacfc\uc801\ud569\ub418\uc9c0 \uc54a\uc558\ub294\uc9c0 \uc7ac\ud655\uc778\ud569\ub2c8\ub2e4.\n",
        ""
      ]
    },
    {
      "metadata": {
        "id": "evlB5ubzu8VJ",
        "colab_type": "code",
        "colab": {
          "autoexec": {
            "startup": false,
            "wait_interval": 0
          }
        }
      },
      "source": [
        "mnist_test_dataframe = pd.read_csv(\n",
        "  \"https://download.mlcc.google.com/mledu-datasets/mnist_test.csv\",\n",
        "  sep=\",\",\n",
        "  header=None)\n",
        "\n",
        "test_targets, test_examples = parse_labels_and_features(mnist_test_dataframe)\n",
        "test_examples.describe()"
      ],
      "cell_type": "code",
      "execution_count": 0,
      "outputs": []
    },
    {
      "metadata": {
        "id": "PDuLd2Hcu8VL",
        "colab_type": "code",
        "colab": {
          "autoexec": {
            "startup": false,
            "wait_interval": 0
          }
        }
      },
      "source": [
        "#\n",
        "# YOUR CODE HERE: Calculate accuracy on the test set.\n",
        "#"
      ],
      "cell_type": "code",
      "execution_count": 0,
      "outputs": []
    },
    {
      "metadata": {
        "id": "6sfw3LH0Oycm",
        "colab_type": "text"
      },
      "cell_type": "markdown",
      "source": [
        " ### \ud574\uacb0 \ubc29\ubc95\n",
        "\n",
        "\uac00\ub2a5\ud55c \ud574\uacb0 \ubc29\ubc95\uc744 \ubcf4\ub824\uba74 \uc544\ub798\ub97c \ud074\ub9ad\ud558\uc138\uc694."
      ]
    },
    {
      "metadata": {
        "id": "XatDGFKEO374",
        "colab_type": "text"
      },
      "cell_type": "markdown",
      "source": [
        " \uc544\ub798 \ucf54\ub4dc\ub294 \uc6d0\ub798\uc758 `LinearClassifer` \ud559\uc2b5 \ucf54\ub4dc\uc640 \uac70\uc758 \ub3d9\uc77c\ud558\uc9c0\ub9cc, \ucc28\uc774\uc810\uc740 \ud788\ub4e0 \uc720\ub2db\uc5d0 \ub300\ud55c \ucd08\ub9e4\uac1c\ubcc0\uc218\uc640 \uac19\uc740 NN \uc804\uc6a9 \uad6c\uc131\uc774 \ud3ec\ud568\ub418\uc5b4 \uc788\ub2e4\ub294 \uc810\uc785\ub2c8\ub2e4."
      ]
    },
    {
      "metadata": {
        "id": "kdNTx8jkPQUx",
        "colab_type": "code",
        "colab": {
          "autoexec": {
            "startup": false,
            "wait_interval": 0
          }
        }
      },
      "source": [
        "def train_nn_classification_model(\n",
        "    learning_rate,\n",
        "    steps,\n",
        "    batch_size,\n",
        "    hidden_units,\n",
        "    training_examples,\n",
        "    training_targets,\n",
        "    validation_examples,\n",
        "    validation_targets):\n",
        "  \"\"\"Trains a neural network classification model for the MNIST digits dataset.\n",
        "  \n",
        "  In addition to training, this function also prints training progress information,\n",
        "  a plot of the training and validation loss over time, as well as a confusion\n",
        "  matrix.\n",
        "  \n",
        "  Args:\n",
        "    learning_rate: An `int`, the learning rate to use.\n",
        "    steps: A non-zero `int`, the total number of training steps. A training step\n",
        "      consists of a forward and backward pass using a single batch.\n",
        "    batch_size: A non-zero `int`, the batch size.\n",
        "    hidden_units: A `list` of int values, specifying the number of neurons in each layer.\n",
        "    training_examples: A `DataFrame` containing the training features.\n",
        "    training_targets: A `DataFrame` containing the training labels.\n",
        "    validation_examples: A `DataFrame` containing the validation features.\n",
        "    validation_targets: A `DataFrame` containing the validation labels.\n",
        "      \n",
        "  Returns:\n",
        "    The trained `DNNClassifier` object.\n",
        "  \"\"\"\n",
        "\n",
        "  periods = 10\n",
        "  # Caution: input pipelines are reset with each call to train. \n",
        "  # If the number of steps is small, your model may never see most of the data.  \n",
        "  # So with multiple `.train` calls like this you may want to control the length \n",
        "  # of training with num_epochs passed to the input_fn. Or, you can do a really-big shuffle, \n",
        "  # or since it's in-memory data, shuffle all the data in the `input_fn`.\n",
        "  steps_per_period = steps / periods  \n",
        "  # Create the input functions.\n",
        "  predict_training_input_fn = create_predict_input_fn(\n",
        "    training_examples, training_targets, batch_size)\n",
        "  predict_validation_input_fn = create_predict_input_fn(\n",
        "    validation_examples, validation_targets, batch_size)\n",
        "  training_input_fn = create_training_input_fn(\n",
        "    training_examples, training_targets, batch_size)\n",
        "  \n",
        "  # Create the input functions.\n",
        "  predict_training_input_fn = create_predict_input_fn(\n",
        "    training_examples, training_targets, batch_size)\n",
        "  predict_validation_input_fn = create_predict_input_fn(\n",
        "    validation_examples, validation_targets, batch_size)\n",
        "  training_input_fn = create_training_input_fn(\n",
        "    training_examples, training_targets, batch_size)\n",
        "  \n",
        "  # Create feature columns.\n",
        "  feature_columns = [tf.feature_column.numeric_column('pixels', shape=784)]\n",
        "\n",
        "  # Create a DNNClassifier object.\n",
        "  my_optimizer = tf.train.AdagradOptimizer(learning_rate=learning_rate)\n",
        "  my_optimizer = tf.contrib.estimator.clip_gradients_by_norm(my_optimizer, 5.0)\n",
        "  classifier = tf.estimator.DNNClassifier(\n",
        "      feature_columns=feature_columns,\n",
        "      n_classes=10,\n",
        "      hidden_units=hidden_units,\n",
        "      optimizer=my_optimizer,\n",
        "      config=tf.contrib.learn.RunConfig(keep_checkpoint_max=1)\n",
        "  )\n",
        "\n",
        "  # Train the model, but do so inside a loop so that we can periodically assess\n",
        "  # loss metrics.\n",
        "  print(\"Training model...\")\n",
        "  print(\"LogLoss error (on validation data):\")\n",
        "  training_errors = []\n",
        "  validation_errors = []\n",
        "  for period in range (0, periods):\n",
        "    # Train the model, starting from the prior state.\n",
        "    classifier.train(\n",
        "        input_fn=training_input_fn,\n",
        "        steps=steps_per_period\n",
        "    )\n",
        "  \n",
        "    # Take a break and compute probabilities.\n",
        "    training_predictions = list(classifier.predict(input_fn=predict_training_input_fn))\n",
        "    training_probabilities = np.array([item['probabilities'] for item in training_predictions])\n",
        "    training_pred_class_id = np.array([item['class_ids'][0] for item in training_predictions])\n",
        "    training_pred_one_hot = tf.keras.utils.to_categorical(training_pred_class_id,10)\n",
        "        \n",
        "    validation_predictions = list(classifier.predict(input_fn=predict_validation_input_fn))\n",
        "    validation_probabilities = np.array([item['probabilities'] for item in validation_predictions])    \n",
        "    validation_pred_class_id = np.array([item['class_ids'][0] for item in validation_predictions])\n",
        "    validation_pred_one_hot = tf.keras.utils.to_categorical(validation_pred_class_id,10)    \n",
        "    \n",
        "    # Compute training and validation errors.\n",
        "    training_log_loss = metrics.log_loss(training_targets, training_pred_one_hot)\n",
        "    validation_log_loss = metrics.log_loss(validation_targets, validation_pred_one_hot)\n",
        "    # Occasionally print the current loss.\n",
        "    print(\"  period %02d : %0.2f\" % (period, validation_log_loss))\n",
        "    # Add the loss metrics from this period to our list.\n",
        "    training_errors.append(training_log_loss)\n",
        "    validation_errors.append(validation_log_loss)\n",
        "  print(\"Model training finished.\")\n",
        "  # Remove event files to save disk space.\n",
        "  _ = map(os.remove, glob.glob(os.path.join(classifier.model_dir, 'events.out.tfevents*')))\n",
        "  \n",
        "  # Calculate final predictions (not probabilities, as above).\n",
        "  final_predictions = classifier.predict(input_fn=predict_validation_input_fn)\n",
        "  final_predictions = np.array([item['class_ids'][0] for item in final_predictions])\n",
        "  \n",
        "  \n",
        "  accuracy = metrics.accuracy_score(validation_targets, final_predictions)\n",
        "  print(\"Final accuracy (on validation data): %0.2f\" % accuracy)\n",
        "\n",
        "  # Output a graph of loss metrics over periods.\n",
        "  plt.ylabel(\"LogLoss\")\n",
        "  plt.xlabel(\"Periods\")\n",
        "  plt.title(\"LogLoss vs. Periods\")\n",
        "  plt.plot(training_errors, label=\"training\")\n",
        "  plt.plot(validation_errors, label=\"validation\")\n",
        "  plt.legend()\n",
        "  plt.show()\n",
        "  \n",
        "  # Output a plot of the confusion matrix.\n",
        "  cm = metrics.confusion_matrix(validation_targets, final_predictions)\n",
        "  # Normalize the confusion matrix by row (i.e by the number of samples\n",
        "  # in each class).\n",
        "  cm_normalized = cm.astype(\"float\") / cm.sum(axis=1)[:, np.newaxis]\n",
        "  ax = sns.heatmap(cm_normalized, cmap=\"bone_r\")\n",
        "  ax.set_aspect(1)\n",
        "  plt.title(\"Confusion matrix\")\n",
        "  plt.ylabel(\"True label\")\n",
        "  plt.xlabel(\"Predicted label\")\n",
        "  plt.show()\n",
        "\n",
        "  return classifier"
      ],
      "cell_type": "code",
      "execution_count": 0,
      "outputs": []
    },
    {
      "metadata": {
        "id": "ZfzsTYGPPU8I",
        "colab_type": "code",
        "colab": {
          "autoexec": {
            "startup": false,
            "wait_interval": 0
          }
        }
      },
      "source": [
        "classifier = train_nn_classification_model(\n",
        "    learning_rate=0.05,\n",
        "    steps=1000,\n",
        "    batch_size=30,\n",
        "    hidden_units=[100, 100],\n",
        "    training_examples=training_examples,\n",
        "    training_targets=training_targets,\n",
        "    validation_examples=validation_examples,\n",
        "    validation_targets=validation_targets)"
      ],
      "cell_type": "code",
      "execution_count": 0,
      "outputs": []
    },
    {
      "metadata": {
        "id": "qXvrOgtUR-zD",
        "colab_type": "text"
      },
      "cell_type": "markdown",
      "source": [
        " \ub2e4\uc74c\uc73c\ub85c\ub294 \ud14c\uc2a4\ud2b8 \uc138\ud2b8\ub85c \uc815\ud655\uc131\uc744 \uac80\uc99d\ud569\ub2c8\ub2e4."
      ]
    },
    {
      "metadata": {
        "id": "scQNpDePSFjt",
        "colab_type": "code",
        "colab": {
          "autoexec": {
            "startup": false,
            "wait_interval": 0
          }
        }
      },
      "source": [
        "mnist_test_dataframe = pd.read_csv(\n",
        "  \"https://download.mlcc.google.com/mledu-datasets/mnist_test.csv\",\n",
        "  sep=\",\",\n",
        "  header=None)\n",
        "\n",
        "test_targets, test_examples = parse_labels_and_features(mnist_test_dataframe)\n",
        "test_examples.describe()"
      ],
      "cell_type": "code",
      "execution_count": 0,
      "outputs": []
    },
    {
      "metadata": {
        "id": "EVaWpWKvSHmu",
        "colab_type": "code",
        "colab": {
          "autoexec": {
            "startup": false,
            "wait_interval": 0
          }
        }
      },
      "source": [
        "predict_test_input_fn = create_predict_input_fn(\n",
        "    test_examples, test_targets, batch_size=100)\n",
        "\n",
        "test_predictions = classifier.predict(input_fn=predict_test_input_fn)\n",
        "test_predictions = np.array([item['class_ids'][0] for item in test_predictions])\n",
        "  \n",
        "accuracy = metrics.accuracy_score(test_targets, test_predictions)\n",
        "print(\"Accuracy on test data: %0.2f\" % accuracy)"
      ],
      "cell_type": "code",
      "execution_count": 0,
      "outputs": []
    },
    {
      "metadata": {
        "id": "WX2mQBAEcisO",
        "colab_type": "text"
      },
      "cell_type": "markdown",
      "source": [
        " ## \uc791\uc5c5 3: \uccab \ubc88\uc9f8 \ud788\ub4e0 \ub808\uc774\uc5b4\uc758 \uac00\uc911\uce58 \uc2dc\uac01\ud654\n",
        "\n",
        "\uba87 \ubd84 \uc815\ub3c4 \uc2dc\uac04\uc744 \ub4e4\uc5ec \uc2e0\uacbd\ub9dd\uc744 \uc0b4\ud3b4\ubcf4\uba74\uc11c `weights_` \ud2b9\uc131\uc5d0 \uc561\uc138\uc2a4\ud558\uc5ec \ubb34\uc5c7\uc744 \ud559\uc2b5\ud588\ub294\uc9c0 \ud655\uc778\ud574 \ubcf4\uaca0\uc2b5\ub2c8\ub2e4.\n",
        "\n",
        "\ubaa8\ub378\uc758 \uc785\ub825 \ub808\uc774\uc5b4\ub294 `28\u00d728` \ud53d\uc140 \uc785\ub825 \uc774\ubbf8\uc9c0\uc5d0 \ud574\ub2f9\ud558\ub294 `784`\uac1c\uc758 \uac00\uc911\uce58\ub97c \uac16\uc2b5\ub2c8\ub2e4. \uccab \ubc88\uc9f8 \ud788\ub4e0 \ub808\uc774\uc5b4\ub294 `784\u00d7N`\uac1c\uc758 \uac00\uc911\uce58\ub97c \uac16\ub294\ub370, \uc5ec\uae30\uc5d0\uc11c `N`\uc740 \ud574\ub2f9 \ub808\uc774\uc5b4\uc758 \ub178\ub4dc \uc218\uc785\ub2c8\ub2e4. `N`\uac1c\uc758 `1\u00d7784` \uac00\uc911\uce58 \ubc30\uc5f4 \uac01\uac01\uc744 `28\u00d728` \ud06c\uae30\uc758 \ubc30\uc5f4 `N` \uac1c\ub85c *\uc7ac\uad6c\uc131(reshape)*\ud558\uba74 \uc774\ub7ec\ud55c \uac00\uc911\uce58\ub97c `28\u00d728` \uc774\ubbf8\uc9c0\ub85c \ub418\ub3cc\ub9b4 \uc218 \uc788\uc2b5\ub2c8\ub2e4.\n",
        "\n",
        "\ub2e4\uc74c \uc140\uc744 \uc2e4\ud589\ud558\uc5ec \uac00\uc911\uce58\ub97c \ub3c4\uc2dd\ud654\ud558\uc138\uc694. \uc774 \uc140\uc744 \uc2e4\ud589\ud558\ub824\uba74 \"classifier\"\ub77c\ub294 `DNNClassifier`\uac00 \uc774\ubbf8 \ud559\uc2b5\ub41c \uc0c1\ud0dc\uc5ec\uc57c \ud569\ub2c8\ub2e4."
      ]
    },
    {
      "metadata": {
        "id": "eUC0Z8nbafgG",
        "colab_type": "code",
        "colab": {
          "autoexec": {
            "startup": false,
            "wait_interval": 0
          },
          "test": {
            "output": "ignore",
            "timeout": 600
          }
        },
        "cellView": "both"
      },
      "source": [
        "print(classifier.get_variable_names())\n",
        "\n",
        "weights0 = classifier.get_variable_value(\"dnn/hiddenlayer_0/kernel\")\n",
        "\n",
        "print(\"weights0 shape:\", weights0.shape)\n",
        "\n",
        "num_nodes = weights0.shape[1]\n",
        "num_rows = int(math.ceil(num_nodes / 10.0))\n",
        "fig, axes = plt.subplots(num_rows, 10, figsize=(20, 2 * num_rows))\n",
        "for coef, ax in zip(weights0.T, axes.ravel()):\n",
        "    # Weights in coef is reshaped from 1x784 to 28x28.\n",
        "    ax.matshow(coef.reshape(28, 28), cmap=plt.cm.pink)\n",
        "    ax.set_xticks(())\n",
        "    ax.set_yticks(())\n",
        "\n",
        "plt.show()"
      ],
      "cell_type": "code",
      "execution_count": 0,
      "outputs": []
    },
    {
      "metadata": {
        "id": "kL8MEhNgrx9N",
        "colab_type": "text"
      },
      "cell_type": "markdown",
      "source": [
        " \uc2e0\uacbd\ub9dd\uc758 \uccab \ubc88\uc9f8 \ud788\ub4e0 \ub808\uc774\uc5b4\ub294 \ube44\uad50\uc801 \uc800\uc218\uc900\uc778 \ud2b9\uc131\uc744 \ubaa8\ub378\ub9c1\ud574\uc57c \ud558\ubbc0\ub85c \uac00\uc911\uce58\ub97c \uc2dc\uac01\ud654\ud574\ub3c4 \uc54c\uc544\ubcf4\uae30 \uc5b4\ub824\uc6b4 \ud615\uc0c1\uc774\ub098 \uc22b\uc790\uc758 \uc77c\ubd80\ub9cc \ud45c\uc2dc\ub420 \uac00\ub2a5\uc131\uc774 \ub192\uc2b5\ub2c8\ub2e4. \ub610\ud55c \uc218\ub834\ub418\uc9c0 \uc54a\uc558\uac70\ub098 \uc0c1\uc704 \ub808\uc774\uc5b4\uc5d0\uc11c \ubb34\uc2dc\ud558\ub294, \uadfc\ubcf8\uc801\uc73c\ub85c \ub178\uc774\uc988\uc778 \ub274\ub7f0\uc774 \ubcf4\uc77c \uc218\ub3c4 \uc788\uc2b5\ub2c8\ub2e4.\n",
        "\n",
        "\uc11c\ub85c \ub2e4\ub978 \ubc18\ubcf5 \ub2e8\uacc4\uc5d0\uc11c \ud559\uc2b5\uc744 \uc911\uc9c0\ud558\uba74\uc11c \ud6a8\uacfc\ub97c \ube44\uad50\ud558\uba74 \ud765\ubbf8\ub85c\uc6b8 \uc218 \uc788\uc2b5\ub2c8\ub2e4.\n",
        "\n",
        "**\ubd84\ub958\uc790\ub97c \uac01\uac01 10\ub2e8\uacc4, 100\ub2e8\uacc4, 1000\ub2e8\uacc4 \ub3d9\uc548 \ud559\uc2b5\uc2dc\ud0a4\uace0 \uc774 \uc2dc\uac01\ud654\ub97c \ub2e4\uc2dc \uc2e4\ud589\ud574 \ubcf4\uc138\uc694.**\n",
        "\n",
        "\uc5ec\ub7ec \uac00\uc9c0 \uc218\ub834 \ub808\ubca8\uc5d0\uc11c \uc2dc\uac01\uc801\uc73c\ub85c \uc5b4\ub5a0\ud55c \ucc28\uc774\uc810\uc774 \ubcf4\uc774\ub098\uc694?"
      ]
    }
  ]
}
