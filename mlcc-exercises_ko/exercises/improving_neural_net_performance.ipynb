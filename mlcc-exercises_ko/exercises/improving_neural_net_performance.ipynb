{
  "nbformat": 4,
  "nbformat_minor": 0,
  "metadata": {
    "colab": {
      "name": "improving_neural_net_performance.ipynb",
      "version": "0.3.2",
      "views": {},
      "default_view": {},
      "provenance": [],
      "collapsed_sections": [
        "jFfc3saSxg6t",
        "FSPZIiYgyh93",
        "GhFtWjQRzD2l",
        "P8BLQ7T71JWd",
        "copyright-notice"
      ]
    }
  },
  "cells": [
    {
      "source": [
        "#### Copyright 2017 Google LLC."
      ],
      "cell_type": "markdown",
      "metadata": {
        "id": "copyright-notice",
        "colab_type": "text"
      }
    },
    {
      "source": [
        "# Licensed under the Apache License, Version 2.0 (the \"License\");\n",
        "# you may not use this file except in compliance with the License.\n",
        "# You may obtain a copy of the License at\n",
        "#\n",
        "# https://www.apache.org/licenses/LICENSE-2.0\n",
        "#\n",
        "# Unless required by applicable law or agreed to in writing, software\n",
        "# distributed under the License is distributed on an \"AS IS\" BASIS,\n",
        "# WITHOUT WARRANTIES OR CONDITIONS OF ANY KIND, either express or implied.\n",
        "# See the License for the specific language governing permissions and\n",
        "# limitations under the License."
      ],
      "execution_count": 0,
      "cell_type": "code",
      "outputs": [],
      "metadata": {
        "id": "copyright-notice2",
        "colab_type": "code",
        "cellView": "both",
        "colab": {
          "autoexec": {
            "wait_interval": 0,
            "startup": false
          }
        }
      }
    },
    {
      "metadata": {
        "id": "eV16J6oUY-HN",
        "colab_type": "text",
        "slideshow": {
          "slide_type": "slide"
        }
      },
      "cell_type": "markdown",
      "source": [
        " # \uc2e0\uacbd\ub9dd \uc131\ub2a5 \uac1c\uc120\ud558\uae30"
      ]
    },
    {
      "metadata": {
        "id": "0Rwl1iXIKxkm",
        "colab_type": "text"
      },
      "cell_type": "markdown",
      "source": [
        " **\ud559\uc2b5 \ubaa9\ud45c:** \ud2b9\uc131\uc744 \uc815\uaddc\ud654\ud558\uace0 \ub2e4\uc591\ud55c \ucd5c\uc801\ud654 \uc54c\uace0\ub9ac\uc998\uc744 \uc801\uc6a9\ud558\uc5ec \uc2e0\uacbd\ub9dd\uc758 \uc131\ub2a5\uc744 \ub192\uc785\ub2c8\ub2e4.\n",
        "\n",
        "**\ucc38\uace0:** \uc774 \uc2e4\uc2b5\uc5d0\uc11c \uc124\uba85\ud558\ub294 \ucd5c\uc801\ud654 \ubc29\uc2dd\uc740 \uc2e0\uacbd\ub9dd\uc5d0 \uad6d\ud55c\ub41c \uac83\uc774 \uc544\ub2c8\uba70 \ub300\ubd80\ubd84\uc758 \ubaa8\ub378 \uc720\ud615\uc744 \uac1c\uc120\ud558\ub294 \ub370 \ud6a8\uacfc\uc801\uc785\ub2c8\ub2e4."
      ]
    },
    {
      "metadata": {
        "id": "lBPTONWzKxkn",
        "colab_type": "text"
      },
      "cell_type": "markdown",
      "source": [
        " ## \uc124\uc815\n",
        "\n",
        "\uc6b0\uc120 \ub370\uc774\ud130\ub97c \ub85c\ub4dc\ud569\ub2c8\ub2e4."
      ]
    },
    {
      "metadata": {
        "id": "VtYVuONUKxko",
        "colab_type": "code",
        "colab": {
          "autoexec": {
            "startup": false,
            "wait_interval": 0
          }
        }
      },
      "source": [
        "from __future__ import print_function\n",
        "\n",
        "import math\n",
        "\n",
        "from IPython import display\n",
        "from matplotlib import cm\n",
        "from matplotlib import gridspec\n",
        "from matplotlib import pyplot as plt\n",
        "import numpy as np\n",
        "import pandas as pd\n",
        "from sklearn import metrics\n",
        "import tensorflow as tf\n",
        "from tensorflow.python.data import Dataset\n",
        "\n",
        "tf.logging.set_verbosity(tf.logging.ERROR)\n",
        "pd.options.display.max_rows = 10\n",
        "pd.options.display.float_format = '{:.1f}'.format\n",
        "\n",
        "california_housing_dataframe = pd.read_csv(\"https://download.mlcc.google.com/mledu-datasets/california_housing_train.csv\", sep=\",\")\n",
        "\n",
        "california_housing_dataframe = california_housing_dataframe.reindex(\n",
        "    np.random.permutation(california_housing_dataframe.index))"
      ],
      "cell_type": "code",
      "execution_count": 0,
      "outputs": []
    },
    {
      "metadata": {
        "id": "B8qC-jTIKxkr",
        "colab_type": "code",
        "colab": {
          "autoexec": {
            "startup": false,
            "wait_interval": 0
          }
        }
      },
      "source": [
        "def preprocess_features(california_housing_dataframe):\n",
        "  \"\"\"Prepares input features from California housing data set.\n",
        "\n",
        "  Args:\n",
        "    california_housing_dataframe: A Pandas DataFrame expected to contain data\n",
        "      from the California housing data set.\n",
        "  Returns:\n",
        "    A DataFrame that contains the features to be used for the model, including\n",
        "    synthetic features.\n",
        "  \"\"\"\n",
        "  selected_features = california_housing_dataframe[\n",
        "    [\"latitude\",\n",
        "     \"longitude\",\n",
        "     \"housing_median_age\",\n",
        "     \"total_rooms\",\n",
        "     \"total_bedrooms\",\n",
        "     \"population\",\n",
        "     \"households\",\n",
        "     \"median_income\"]]\n",
        "  processed_features = selected_features.copy()\n",
        "  # Create a synthetic feature.\n",
        "  processed_features[\"rooms_per_person\"] = (\n",
        "    california_housing_dataframe[\"total_rooms\"] /\n",
        "    california_housing_dataframe[\"population\"])\n",
        "  return processed_features\n",
        "\n",
        "def preprocess_targets(california_housing_dataframe):\n",
        "  \"\"\"Prepares target features (i.e., labels) from California housing data set.\n",
        "\n",
        "  Args:\n",
        "    california_housing_dataframe: A Pandas DataFrame expected to contain data\n",
        "      from the California housing data set.\n",
        "  Returns:\n",
        "    A DataFrame that contains the target feature.\n",
        "  \"\"\"\n",
        "  output_targets = pd.DataFrame()\n",
        "  # Scale the target to be in units of thousands of dollars.\n",
        "  output_targets[\"median_house_value\"] = (\n",
        "    california_housing_dataframe[\"median_house_value\"] / 1000.0)\n",
        "  return output_targets"
      ],
      "cell_type": "code",
      "execution_count": 0,
      "outputs": []
    },
    {
      "metadata": {
        "id": "Ah6LjMIJ2spZ",
        "colab_type": "code",
        "colab": {
          "autoexec": {
            "startup": false,
            "wait_interval": 0
          }
        }
      },
      "source": [
        "# Choose the first 12000 (out of 17000) examples for training.\n",
        "training_examples = preprocess_features(california_housing_dataframe.head(12000))\n",
        "training_targets = preprocess_targets(california_housing_dataframe.head(12000))\n",
        "\n",
        "# Choose the last 5000 (out of 17000) examples for validation.\n",
        "validation_examples = preprocess_features(california_housing_dataframe.tail(5000))\n",
        "validation_targets = preprocess_targets(california_housing_dataframe.tail(5000))\n",
        "\n",
        "# Double-check that we've done the right thing.\n",
        "print(\"Training examples summary:\")\n",
        "display.display(training_examples.describe())\n",
        "print(\"Validation examples summary:\")\n",
        "display.display(validation_examples.describe())\n",
        "\n",
        "print(\"Training targets summary:\")\n",
        "display.display(training_targets.describe())\n",
        "print(\"Validation targets summary:\")\n",
        "display.display(validation_targets.describe())"
      ],
      "cell_type": "code",
      "execution_count": 0,
      "outputs": []
    },
    {
      "metadata": {
        "id": "NqIbXxx222ea",
        "colab_type": "text"
      },
      "cell_type": "markdown",
      "source": [
        " ## \uc2e0\uacbd\ub9dd \ud559\uc2b5\n",
        "\n",
        "\uc774\uc81c \uc2e0\uacbd\ub9dd\uc744 \ud559\uc2b5\uc2dc\ud0b5\ub2c8\ub2e4."
      ]
    },
    {
      "metadata": {
        "id": "6k3xYlSg27VB",
        "colab_type": "code",
        "colab": {
          "autoexec": {
            "startup": false,
            "wait_interval": 0
          }
        }
      },
      "source": [
        "def construct_feature_columns(input_features):\n",
        "  \"\"\"Construct the TensorFlow Feature Columns.\n",
        "\n",
        "  Args:\n",
        "    input_features: The names of the numerical input features to use.\n",
        "  Returns:\n",
        "    A set of feature columns\n",
        "  \"\"\" \n",
        "  return set([tf.feature_column.numeric_column(my_feature)\n",
        "              for my_feature in input_features])"
      ],
      "cell_type": "code",
      "execution_count": 0,
      "outputs": []
    },
    {
      "metadata": {
        "id": "De9jwyy4wTUT",
        "colab_type": "code",
        "colab": {
          "autoexec": {
            "startup": false,
            "wait_interval": 0
          }
        }
      },
      "source": [
        "def my_input_fn(features, targets, batch_size=1, shuffle=True, num_epochs=None):\n",
        "    \"\"\"Trains a neural network model.\n",
        "  \n",
        "    Args:\n",
        "      features: pandas DataFrame of features\n",
        "      targets: pandas DataFrame of targets\n",
        "      batch_size: Size of batches to be passed to the model\n",
        "      shuffle: True or False. Whether to shuffle the data.\n",
        "      num_epochs: Number of epochs for which data should be repeated. None = repeat indefinitely\n",
        "    Returns:\n",
        "      Tuple of (features, labels) for next data batch\n",
        "    \"\"\"\n",
        "    \n",
        "    # Convert pandas data into a dict of np arrays.\n",
        "    features = {key:np.array(value) for key,value in dict(features).items()}                                           \n",
        " \n",
        "    # Construct a dataset, and configure batching/repeating.\n",
        "    ds = Dataset.from_tensor_slices((features,targets)) # warning: 2GB limit\n",
        "    ds = ds.batch(batch_size).repeat(num_epochs)\n",
        "    \n",
        "    # Shuffle the data, if specified.\n",
        "    if shuffle:\n",
        "      ds = ds.shuffle(10000)\n",
        "    \n",
        "    # Return the next batch of data.\n",
        "    features, labels = ds.make_one_shot_iterator().get_next()\n",
        "    return features, labels"
      ],
      "cell_type": "code",
      "execution_count": 0,
      "outputs": []
    },
    {
      "metadata": {
        "id": "W-51R3yIKxk4",
        "colab_type": "code",
        "colab": {
          "autoexec": {
            "startup": false,
            "wait_interval": 0
          }
        }
      },
      "source": [
        "def train_nn_regression_model(\n",
        "    my_optimizer,\n",
        "    steps,\n",
        "    batch_size,\n",
        "    hidden_units,\n",
        "    training_examples,\n",
        "    training_targets,\n",
        "    validation_examples,\n",
        "    validation_targets):\n",
        "  \"\"\"Trains a neural network regression model.\n",
        "  \n",
        "  In addition to training, this function also prints training progress information,\n",
        "  as well as a plot of the training and validation loss over time.\n",
        "  \n",
        "  Args:\n",
        "    my_optimizer: An instance of `tf.train.Optimizer`, the optimizer to use.\n",
        "    steps: A non-zero `int`, the total number of training steps. A training step\n",
        "      consists of a forward and backward pass using a single batch.\n",
        "    batch_size: A non-zero `int`, the batch size.\n",
        "    hidden_units: A `list` of int values, specifying the number of neurons in each layer.\n",
        "    training_examples: A `DataFrame` containing one or more columns from\n",
        "      `california_housing_dataframe` to use as input features for training.\n",
        "    training_targets: A `DataFrame` containing exactly one column from\n",
        "      `california_housing_dataframe` to use as target for training.\n",
        "    validation_examples: A `DataFrame` containing one or more columns from\n",
        "      `california_housing_dataframe` to use as input features for validation.\n",
        "    validation_targets: A `DataFrame` containing exactly one column from\n",
        "      `california_housing_dataframe` to use as target for validation.\n",
        "      \n",
        "  Returns:\n",
        "    A tuple `(estimator, training_losses, validation_losses)`:\n",
        "      estimator: the trained `DNNRegressor` object.\n",
        "      training_losses: a `list` containing the training loss values taken during training.\n",
        "      validation_losses: a `list` containing the validation loss values taken during training.\n",
        "  \"\"\"\n",
        "\n",
        "  periods = 10\n",
        "  steps_per_period = steps / periods\n",
        "  \n",
        "  # Create a DNNRegresor object.\n",
        "  my_optimizer = tf.contrib.estimator.clip_gradients_by_norm(my_optimizer, 5.0)\n",
        "  dnn_regressor = tf.estimator.DNNRegressor(\n",
        "      feature_columns=construct_feature_columns(training_examples),\n",
        "      hidden_units=hidden_units,\n",
        "      optimizer=my_optimizer\n",
        "  )\n",
        "  \n",
        "  # Create input functions.\n",
        "  training_input_fn = lambda: my_input_fn(training_examples, \n",
        "                                          training_targets[\"median_house_value\"], \n",
        "                                          batch_size=batch_size)\n",
        "  predict_training_input_fn = lambda: my_input_fn(training_examples, \n",
        "                                                  training_targets[\"median_house_value\"], \n",
        "                                                  num_epochs=1, \n",
        "                                                  shuffle=False)\n",
        "  predict_validation_input_fn = lambda: my_input_fn(validation_examples, \n",
        "                                                    validation_targets[\"median_house_value\"], \n",
        "                                                    num_epochs=1, \n",
        "                                                    shuffle=False)\n",
        "\n",
        "  # Train the model, but do so inside a loop so that we can periodically assess\n",
        "  # loss metrics.\n",
        "  print(\"Training model...\")\n",
        "  print(\"RMSE (on training data):\")\n",
        "  training_rmse = []\n",
        "  validation_rmse = []\n",
        "  for period in range (0, periods):\n",
        "    # Train the model, starting from the prior state.\n",
        "    dnn_regressor.train(\n",
        "        input_fn=training_input_fn,\n",
        "        steps=steps_per_period\n",
        "    )\n",
        "    # Take a break and compute predictions.\n",
        "    training_predictions = dnn_regressor.predict(input_fn=predict_training_input_fn)\n",
        "    training_predictions = np.array([item['predictions'][0] for item in training_predictions])\n",
        "    \n",
        "    validation_predictions = dnn_regressor.predict(input_fn=predict_validation_input_fn)\n",
        "    validation_predictions = np.array([item['predictions'][0] for item in validation_predictions])\n",
        "    \n",
        "    # Compute training and validation loss.\n",
        "    training_root_mean_squared_error = math.sqrt(\n",
        "        metrics.mean_squared_error(training_predictions, training_targets))\n",
        "    validation_root_mean_squared_error = math.sqrt(\n",
        "        metrics.mean_squared_error(validation_predictions, validation_targets))\n",
        "    # Occasionally print the current loss.\n",
        "    print(\"  period %02d : %0.2f\" % (period, training_root_mean_squared_error))\n",
        "    # Add the loss metrics from this period to our list.\n",
        "    training_rmse.append(training_root_mean_squared_error)\n",
        "    validation_rmse.append(validation_root_mean_squared_error)\n",
        "  print(\"Model training finished.\")\n",
        "\n",
        "  # Output a graph of loss metrics over periods.\n",
        "  plt.ylabel(\"RMSE\")\n",
        "  plt.xlabel(\"Periods\")\n",
        "  plt.title(\"Root Mean Squared Error vs. Periods\")\n",
        "  plt.tight_layout()\n",
        "  plt.plot(training_rmse, label=\"training\")\n",
        "  plt.plot(validation_rmse, label=\"validation\")\n",
        "  plt.legend()\n",
        "\n",
        "  print(\"Final RMSE (on training data):   %0.2f\" % training_root_mean_squared_error)\n",
        "  print(\"Final RMSE (on validation data): %0.2f\" % validation_root_mean_squared_error)\n",
        "\n",
        "  return dnn_regressor, training_rmse, validation_rmse"
      ],
      "cell_type": "code",
      "execution_count": 0,
      "outputs": []
    },
    {
      "metadata": {
        "id": "KueReMZ9Kxk7",
        "colab_type": "code",
        "colab": {
          "autoexec": {
            "startup": false,
            "wait_interval": 0
          }
        }
      },
      "source": [
        "_ = train_nn_regression_model(\n",
        "    my_optimizer=tf.train.GradientDescentOptimizer(learning_rate=0.0007),\n",
        "    steps=5000,\n",
        "    batch_size=70,\n",
        "    hidden_units=[10, 10],\n",
        "    training_examples=training_examples,\n",
        "    training_targets=training_targets,\n",
        "    validation_examples=validation_examples,\n",
        "    validation_targets=validation_targets)"
      ],
      "cell_type": "code",
      "execution_count": 0,
      "outputs": []
    },
    {
      "metadata": {
        "id": "flxmFt0KKxk9",
        "colab_type": "text"
      },
      "cell_type": "markdown",
      "source": [
        " ## \uc120\ud615 \uc870\uc815\n",
        "\uc785\ub825\uac12\uc744 -1, 1 \ubc94\uc704\uc5d0 \ub4e4\uc5b4\uc624\ub3c4\ub85d \uc815\uaddc\ud654\ud558\ub294 \uac83\uc774 \uad8c\uc7a5\ub418\ub294 \ud45c\uc900 \ubc29\uc2dd\uc785\ub2c8\ub2e4. \uc774\ub807\uac8c \ud558\uba74 SGD\uc5d0\uc11c \ud55c \ucc28\uc6d0\uc73c\ub85c \ub108\ubb34 \ud06c\uac70\ub098 \ub2e4\ub978 \ucc28\uc6d0\uc73c\ub85c \ub108\ubb34 \uc791\uc740 \ub2e8\uacc4\ub97c \ubc1f\uc744 \ub54c \uace0\ucc29\uc744 \ubc29\uc9c0\ud558\ub294 \ub370 \ub3c4\uc6c0\uc774 \ub429\ub2c8\ub2e4. \uc218\uce58 \ucd5c\uc801\ud654 \ubd84\uc57c\uc5d0 \uc775\uc219\ud558\ub2e4\uba74 \ud504\ub9ac\ucee8\ub514\uc154\ub108\ub97c \uc0ac\uc6a9\ud55c\ub2e4\ub294 \uac1c\ub150\uacfc \uad00\ub828\uc774 \uc788\uc74c\uc744 \uc54c \uc218 \uc788\uc2b5\ub2c8\ub2e4."
      ]
    },
    {
      "metadata": {
        "id": "Dws5rIQjKxk-",
        "colab_type": "code",
        "colab": {
          "autoexec": {
            "startup": false,
            "wait_interval": 0
          }
        }
      },
      "source": [
        "def linear_scale(series):\n",
        "  min_val = series.min()\n",
        "  max_val = series.max()\n",
        "  scale = (max_val - min_val) / 2.0\n",
        "  return series.apply(lambda x:((x - min_val) / scale) - 1.0)"
      ],
      "cell_type": "code",
      "execution_count": 0,
      "outputs": []
    },
    {
      "metadata": {
        "id": "MVmuHI76N2Sz",
        "colab_type": "text",
        "slideshow": {
          "slide_type": "slide"
        }
      },
      "cell_type": "markdown",
      "source": [
        " ## \uc791\uc5c5 1: \uc120\ud615 \uc870\uc815\uc744 \uc0ac\uc6a9\ud558\uc5ec \ud2b9\uc131 \uc815\uaddc\ud654\n",
        "\n",
        "**\uc785\ub825\uac12\uc744 -1, 1 \ucc99\ub3c4\ub85c \uc815\uaddc\ud654\ud569\ub2c8\ub2e4.**\n",
        "\n",
        "**5\ubd84 \uc815\ub3c4 \uc2dc\uac04\uc744 \ub0b4\uc5b4 \uc0c8\ub85c \uc815\uaddc\ud654\ud55c \ub370\uc774\ud130\ub97c \ud559\uc2b5\ud558\uace0 \ud3c9\uac00\ud574 \ubcf4\uc138\uc694.  \uc5b4\ub290 \uc815\ub3c4\uae4c\uc9c0 \uc131\ub2a5\uc744 \ub192\uc77c \uc218 \uc788\ub098\uc694?**\n",
        "\n",
        "\uacbd\ud5d8\uc801\uc73c\ub85c \ubcf4\uba74, \uc785\ub825 \ud2b9\uc131\uc774 \ub300\ub7b5 \uac19\uc740 \ucc99\ub3c4\uc77c \ub54c NN\uc758 \ud559\uc2b5 \ud6a8\uc728\uc774 \uac00\uc7a5 \ub192\uc2b5\ub2c8\ub2e4.\n",
        "\n",
        "\uc815\uaddc\ud654\ub41c \ub370\uc774\ud130\uc758 \uc0c1\ud0dc\ub97c \ud655\uc778\ud558\uc138\uc694.  \uc2e4\uc218\ub85c \ud2b9\uc131 \ud558\ub098\ub97c \uc815\uaddc\ud654\ud558\uc9c0 \uc54a\uc73c\uba74 \uc5b4\ub5a0\ud55c \uacb0\uacfc\uac00 \ub098\ud0c0\ub0a0\uae4c\uc694?\n",
        ""
      ]
    },
    {
      "metadata": {
        "id": "yD948ZgAM6Cx",
        "colab_type": "code",
        "colab": {
          "autoexec": {
            "startup": false,
            "wait_interval": 0
          }
        }
      },
      "source": [
        "def normalize_linear_scale(examples_dataframe):\n",
        "  \"\"\"Returns a version of the input `DataFrame` that has all its features normalized linearly.\"\"\"\n",
        "  #\n",
        "  # Your code here: normalize the inputs.\n",
        "  #\n",
        "  pass\n",
        "\n",
        "normalized_dataframe = normalize_linear_scale(preprocess_features(california_housing_dataframe))\n",
        "normalized_training_examples = normalized_dataframe.head(12000)\n",
        "normalized_validation_examples = normalized_dataframe.tail(5000)\n",
        "\n",
        "_ = train_nn_regression_model(\n",
        "    my_optimizer=tf.train.GradientDescentOptimizer(learning_rate=0.0007),\n",
        "    steps=5000,\n",
        "    batch_size=70,\n",
        "    hidden_units=[10, 10],\n",
        "    training_examples=normalized_training_examples,\n",
        "    training_targets=training_targets,\n",
        "    validation_examples=normalized_validation_examples,\n",
        "    validation_targets=validation_targets)"
      ],
      "cell_type": "code",
      "execution_count": 0,
      "outputs": []
    },
    {
      "metadata": {
        "id": "jFfc3saSxg6t",
        "colab_type": "text"
      },
      "cell_type": "markdown",
      "source": [
        " ### \ud574\uacb0 \ubc29\ubc95\n",
        "\n",
        "\uac00\ub2a5\ud55c \ud574\uacb0 \ubc29\ubc95 \uc911 \ud558\ub098\ub97c \ubcf4\ub824\uba74 \uc544\ub798\ub97c \ud074\ub9ad\ud558\uc138\uc694."
      ]
    },
    {
      "metadata": {
        "id": "Ax_IIQVRx4gr",
        "colab_type": "text"
      },
      "cell_type": "markdown",
      "source": [
        " \uc815\uaddc\ud654\uc5d0 \ucd5c\uc18c\uac12\uacfc \ucd5c\ub300\uac12\uc774 \uc0ac\uc6a9\ub418\ubbc0\ub85c \ub370\uc774\ud130 \uc138\ud2b8 \uc804\uccb4\uc5d0 \ud55c \ubc88\uc5d0 \uc801\uc6a9\ub418\ub3c4\ub85d \uc870\uce58\ud574\uc57c \ud569\ub2c8\ub2e4.\n",
        "\n",
        "\uc5ec\uae30\uc5d0\uc11c\ub294 \ubaa8\ub4e0 \ub370\uc774\ud130\uac00 \ub2e8\uc77c DataFrame\uc5d0 \uc788\uc73c\ubbc0\ub85c \ubb38\uc81c\uac00 \uc5c6\uc2b5\ub2c8\ub2e4. \ub370\uc774\ud130 \uc138\ud2b8\uac00 \uc5ec\ub7ec \uac1c\uc778 \uacbd\uc6b0\uc5d0\ub294 \ud559\uc2b5 \uc138\ud2b8\uc5d0\uc11c \ucd94\ucd9c\ud55c \uc815\uaddc\ud654 \ub9e4\uac1c\ubcc0\uc218\ub97c \ud14c\uc2a4\ud2b8 \uc138\ud2b8\uc5d0 \ub3d9\uc77c\ud558\uac8c \uc801\uc6a9\ud558\ub294 \uac83\uc774 \uc88b\uc2b5\ub2c8\ub2e4."
      ]
    },
    {
      "metadata": {
        "id": "D-bJBXrJx-U_",
        "colab_type": "code",
        "colab": {
          "autoexec": {
            "startup": false,
            "wait_interval": 0
          }
        }
      },
      "source": [
        "def normalize_linear_scale(examples_dataframe):\n",
        "  \"\"\"Returns a version of the input `DataFrame` that has all its features normalized linearly.\"\"\"\n",
        "  processed_features = pd.DataFrame()\n",
        "  processed_features[\"latitude\"] = linear_scale(examples_dataframe[\"latitude\"])\n",
        "  processed_features[\"longitude\"] = linear_scale(examples_dataframe[\"longitude\"])\n",
        "  processed_features[\"housing_median_age\"] = linear_scale(examples_dataframe[\"housing_median_age\"])\n",
        "  processed_features[\"total_rooms\"] = linear_scale(examples_dataframe[\"total_rooms\"])\n",
        "  processed_features[\"total_bedrooms\"] = linear_scale(examples_dataframe[\"total_bedrooms\"])\n",
        "  processed_features[\"population\"] = linear_scale(examples_dataframe[\"population\"])\n",
        "  processed_features[\"households\"] = linear_scale(examples_dataframe[\"households\"])\n",
        "  processed_features[\"median_income\"] = linear_scale(examples_dataframe[\"median_income\"])\n",
        "  processed_features[\"rooms_per_person\"] = linear_scale(examples_dataframe[\"rooms_per_person\"])\n",
        "  return processed_features\n",
        "\n",
        "normalized_dataframe = normalize_linear_scale(preprocess_features(california_housing_dataframe))\n",
        "normalized_training_examples = normalized_dataframe.head(12000)\n",
        "normalized_validation_examples = normalized_dataframe.tail(5000)\n",
        "\n",
        "_ = train_nn_regression_model(\n",
        "    my_optimizer=tf.train.GradientDescentOptimizer(learning_rate=0.005),\n",
        "    steps=2000,\n",
        "    batch_size=50,\n",
        "    hidden_units=[10, 10],\n",
        "    training_examples=normalized_training_examples,\n",
        "    training_targets=training_targets,\n",
        "    validation_examples=normalized_validation_examples,\n",
        "    validation_targets=validation_targets)"
      ],
      "cell_type": "code",
      "execution_count": 0,
      "outputs": []
    },
    {
      "metadata": {
        "id": "MrwtdStNJ6ZQ",
        "colab_type": "text",
        "slideshow": {
          "slide_type": "slide"
        }
      },
      "cell_type": "markdown",
      "source": [
        " ## \uc791\uc5c5 2: \ub2e4\ub978 \uc635\ud2f0\ub9c8\uc774\uc800 \uc0ac\uc6a9\ud574 \ubcf4\uae30\n",
        "\n",
        "** Adagrad \ubc0f Adam \uc635\ud2f0\ub9c8\uc774\uc800\ub97c \uc0ac\uc6a9\ud558\uace0 \uc131\ub2a5\uc744 \ube44\uad50\ud569\ub2c8\ub2e4.**\n",
        "\n",
        "\ub300\uc548 \uc911 \ud558\ub098\ub294 Adagrad \uc635\ud2f0\ub9c8\uc774\uc800\uc785\ub2c8\ub2e4. Adagrad\uc758 \ud575\uc2ec \uac1c\ub150\uc740 \ubaa8\ub378\uc758 \uac01 \uacc4\uc218\uc5d0 \ub300\ud574 \ud559\uc2b5\ub960\uc744 \uc801\uc751\uc801\uc73c\ub85c \uc870\uc815\ud558\uc5ec \uc720\ud6a8 \ud559\uc2b5\ub960\uc744 \ub2e8\uc870\uc801\uc73c\ub85c \ub0ae\ucd98\ub2e4\ub294 \uac83\uc785\ub2c8\ub2e4.  \uc774 \ubc29\uc2dd\uc740 \ubcfc\ub85d \ubb38\uc81c\uc5d0\ub294 \uc801\ud569\ud558\uc9c0\ub9cc \ube44\ubcfc\ub85d \ubb38\uc81c \uc2e0\uacbd\ub9dd \ud559\uc2b5\uc5d0\ub294 \uc774\uc0c1\uc801\uc774\uc9c0 \uc54a\uc744 \uc218 \uc788\uc2b5\ub2c8\ub2e4.  Adagrad\ub97c \uc0ac\uc6a9\ud558\ub824\uba74 `GradientDescentOptimizer` \ub300\uc2e0 `AdagradOptimizer`\ub97c \uc9c0\uc815\ud569\ub2c8\ub2e4.  Adagrad\ub97c \uc0ac\uc6a9\ud558\ub294 \uacbd\uc6b0 \ud559\uc2b5\ub960\uc744 \ub354 \ub192\uc5ec\uc57c \ud560 \uc218 \uc788\uc2b5\ub2c8\ub2e4.\n",
        "\n",
        "\ube44\ubcfc\ub85d \ucd5c\uc801\ud654 \ubb38\uc81c\uc5d0 \ub300\ud574\uc11c\ub294 Adagrad\ubcf4\ub2e4 Adam\uc774 \ud6a8\uc728\uc801\uc77c \uc218 \uc788\uc2b5\ub2c8\ub2e4.  Adam\uc744 \uc0ac\uc6a9\ud558\ub824\uba74 `tf.train.AdamOptimizer` \uba54\uc18c\ub4dc\ub97c \ud638\ucd9c\ud569\ub2c8\ub2e4. \uc774 \uba54\uc18c\ub4dc\ub294 \uc120\ud0dd\uc801\uc73c\ub85c \uba87 \uac00\uc9c0 \ucd08\ub9e4\uac1c\ubcc0\uc218\ub97c \uc778\uc218\ub85c \ucde8\ud558\uc9c0\ub9cc \uc774 \uc194\ub8e8\uc158\uc5d0\uc11c\ub294 \uc778\uc218 \uc911 \ud558\ub098(`learning_rate`)\ub9cc \uc9c0\uc815\ud569\ub2c8\ub2e4. \ud504\ub85c\ub355\uc158 \uc124\uc815\uc5d0\uc11c\ub294 \uc120\ud0dd\uc801 \ucd08\ub9e4\uac1c\ubcc0\uc218\ub97c \uc2e0\uc911\ud558\uac8c \uc9c0\uc815\ud558\uace0 \uc870\uc815\ud574\uc57c \ud569\ub2c8\ub2e4."
      ]
    },
    {
      "metadata": {
        "id": "61GSlDvF7-7q",
        "colab_type": "code",
        "colab": {
          "autoexec": {
            "startup": false,
            "wait_interval": 0
          }
        }
      },
      "source": [
        "#\n",
        "# YOUR CODE HERE: Retrain the network using Adagrad and then Adam.\n",
        "#"
      ],
      "cell_type": "code",
      "execution_count": 0,
      "outputs": []
    },
    {
      "metadata": {
        "id": "FSPZIiYgyh93",
        "colab_type": "text"
      },
      "cell_type": "markdown",
      "source": [
        " ### \ud574\uacb0 \ubc29\ubc95\n",
        "\n",
        "\ud574\uacb0 \ubc29\ubc95\uc744 \ubcf4\ub824\uba74 \uc544\ub798\ub97c \ud074\ub9ad\ud558\uc138\uc694."
      ]
    },
    {
      "metadata": {
        "id": "X1QcIeiKyni4",
        "colab_type": "text"
      },
      "cell_type": "markdown",
      "source": [
        " \uc6b0\uc120 Adagrad\ub97c \uc2dc\ud5d8\ud574 \ubcf4\uaca0\uc2b5\ub2c8\ub2e4."
      ]
    },
    {
      "metadata": {
        "id": "Ntn4jJxnypGZ",
        "colab_type": "code",
        "colab": {
          "autoexec": {
            "startup": false,
            "wait_interval": 0
          }
        }
      },
      "source": [
        "_, adagrad_training_losses, adagrad_validation_losses = train_nn_regression_model(\n",
        "    my_optimizer=tf.train.AdagradOptimizer(learning_rate=0.5),\n",
        "    steps=500,\n",
        "    batch_size=100,\n",
        "    hidden_units=[10, 10],\n",
        "    training_examples=normalized_training_examples,\n",
        "    training_targets=training_targets,\n",
        "    validation_examples=normalized_validation_examples,\n",
        "    validation_targets=validation_targets)"
      ],
      "cell_type": "code",
      "execution_count": 0,
      "outputs": []
    },
    {
      "metadata": {
        "id": "5JUsCdRRyso3",
        "colab_type": "text"
      },
      "cell_type": "markdown",
      "source": [
        " \uc774\uc81c Adam\uc744 \uc2dc\ud5d8\ud574 \ubcf4\uaca0\uc2b5\ub2c8\ub2e4."
      ]
    },
    {
      "metadata": {
        "id": "lZB8k0upyuY8",
        "colab_type": "code",
        "colab": {
          "autoexec": {
            "startup": false,
            "wait_interval": 0
          }
        }
      },
      "source": [
        "_, adam_training_losses, adam_validation_losses = train_nn_regression_model(\n",
        "    my_optimizer=tf.train.AdamOptimizer(learning_rate=0.009),\n",
        "    steps=500,\n",
        "    batch_size=100,\n",
        "    hidden_units=[10, 10],\n",
        "    training_examples=normalized_training_examples,\n",
        "    training_targets=training_targets,\n",
        "    validation_examples=normalized_validation_examples,\n",
        "    validation_targets=validation_targets)"
      ],
      "cell_type": "code",
      "execution_count": 0,
      "outputs": []
    },
    {
      "metadata": {
        "id": "twYgC8FGyxm6",
        "colab_type": "text"
      },
      "cell_type": "markdown",
      "source": [
        " \uc190\uc2e4 \uce21\uc815\ud56d\ubaa9 \uadf8\ub798\ud504\ub97c \ub098\ub780\ud788 \ucd9c\ub825\ud574 \ubcf4\uaca0\uc2b5\ub2c8\ub2e4."
      ]
    },
    {
      "metadata": {
        "id": "8RHIUEfqyzW0",
        "colab_type": "code",
        "colab": {
          "autoexec": {
            "startup": false,
            "wait_interval": 0
          }
        }
      },
      "source": [
        "plt.ylabel(\"RMSE\")\n",
        "plt.xlabel(\"Periods\")\n",
        "plt.title(\"Root Mean Squared Error vs. Periods\")\n",
        "plt.plot(adagrad_training_losses, label='Adagrad training')\n",
        "plt.plot(adagrad_validation_losses, label='Adagrad validation')\n",
        "plt.plot(adam_training_losses, label='Adam training')\n",
        "plt.plot(adam_validation_losses, label='Adam validation')\n",
        "_ = plt.legend()"
      ],
      "cell_type": "code",
      "execution_count": 0,
      "outputs": []
    },
    {
      "metadata": {
        "id": "UySPl7CAQ28C",
        "colab_type": "text",
        "slideshow": {
          "slide_type": "slide"
        }
      },
      "cell_type": "markdown",
      "source": [
        " ## \uc791\uc5c5 3: \ub300\uc548\uc801 \uc815\uaddc\ud654 \ubc29\uc2dd \ud0d0\uc0c9\n",
        "\n",
        "**\ub2e4\uc591\ud55c \ud2b9\uc131\uc5d0 \ub300\uc548\uc801\uc778 \uc815\uaddc\ud654\ub97c \uc2dc\ub3c4\ud558\uc5ec \uc131\ub2a5\uc744 \ub354\uc6b1 \ub192\uc785\ub2c8\ub2e4.**\n",
        "\n",
        "\ubcc0\ud658\ub41c \ub370\uc774\ud130\uc758 \uc694\uc57d \ud1b5\uacc4\ub97c \uc790\uc138\ud788 \uc870\uc0ac\ud574 \ubcf4\uba74 \uc120\ud615 \uc870\uc815\uc73c\ub85c \uc778\ud574 \uc77c\ubd80 \ud2b9\uc131\uc774 `-1`\uc5d0 \uac00\uae5d\uac8c \ubaa8\uc774\ub294 \uac83\uc744 \uc54c \uc218 \uc788\uc2b5\ub2c8\ub2e4.\n",
        "\n",
        "\uc608\ub97c \ub4e4\uc5b4 \uc5ec\ub7ec \ud2b9\uc131\uc758 \uc911\uc559\uac12\uc774 `0.0`\uc774 \uc544\ub2cc `-0.8` \uadfc\ucc98\uc785\ub2c8\ub2e4."
      ]
    },
    {
      "metadata": {
        "id": "QWmm_6CGKxlH",
        "colab_type": "code",
        "colab": {
          "autoexec": {
            "startup": false,
            "wait_interval": 0
          }
        }
      },
      "source": [
        "_ = training_examples.hist(bins=20, figsize=(18, 12), xlabelsize=2)"
      ],
      "cell_type": "code",
      "execution_count": 0,
      "outputs": []
    },
    {
      "metadata": {
        "id": "Xx9jgEMHKxlJ",
        "colab_type": "text"
      },
      "cell_type": "markdown",
      "source": [
        " \uc774\ub7ec\ud55c \ud2b9\uc131\uc744 \ucd94\uac00\uc801\uc778 \ubc29\ubc95\uc73c\ub85c \ubcc0\ud658\ud558\uba74 \uc131\ub2a5\uc774 \ub354\uc6b1 \ud5a5\uc0c1\ub420 \uc218 \uc788\uc2b5\ub2c8\ub2e4.\n",
        "\n",
        "\uc608\ub97c \ub4e4\uc5b4 \ub85c\uadf8 \uc870\uc815\uc774 \uc77c\ubd80 \ud2b9\uc131\uc5d0 \ub3c4\uc6c0\uc774 \ub420 \uc218 \uc788\uc2b5\ub2c8\ub2e4.  \ub610\ub294 \uadf9\ub2e8\uac12\uc744 \uc798\ub77c\ub0b4\uba74 \ucc99\ub3c4\uc758 \ub098\uba38\uc9c0 \ubd80\ubd84\uc774 \ub354 \uc720\uc6a9\ud574\uc9c8 \uc218 \uc788\uc2b5\ub2c8\ub2e4."
      ]
    },
    {
      "metadata": {
        "id": "baKZa6MEKxlK",
        "colab_type": "code",
        "colab": {
          "autoexec": {
            "startup": false,
            "wait_interval": 0
          }
        }
      },
      "source": [
        "def log_normalize(series):\n",
        "  return series.apply(lambda x:math.log(x+1.0))\n",
        "\n",
        "def clip(series, clip_to_min, clip_to_max):\n",
        "  return series.apply(lambda x:(\n",
        "    min(max(x, clip_to_min), clip_to_max)))\n",
        "\n",
        "def z_score_normalize(series):\n",
        "  mean = series.mean()\n",
        "  std_dv = series.std()\n",
        "  return series.apply(lambda x:(x - mean) / std_dv)\n",
        "\n",
        "def binary_threshold(series, threshold):\n",
        "  return series.apply(lambda x:(1 if x > threshold else 0))"
      ],
      "cell_type": "code",
      "execution_count": 0,
      "outputs": []
    },
    {
      "metadata": {
        "id": "-wCCq_ClKxlO",
        "colab_type": "text"
      },
      "cell_type": "markdown",
      "source": [
        " \uc704 \ube14\ub85d\uc5d0\ub294 \uba87 \uac00\uc9c0 \uac00\ub2a5\ud55c \uc815\uaddc\ud654 \ud568\uc218\uac00 \ucd94\uac00\ub85c \ud3ec\ud568\ub418\uc5b4 \uc788\uc2b5\ub2c8\ub2e4. \uc774\ub7ec\ud55c \ud568\uc218\ub97c \uc0ac\uc6a9\ud558\uac70\ub098 \uc9c1\uc811 \ucd94\uac00\ud574 \ubcf4\uc138\uc694.\n",
        "\n",
        "\ub2e8, \ud0c0\uac9f\uc744 \uc815\uaddc\ud654\ud558\ub294 \uacbd\uc6b0 \uc608\uce21\uc744 \ube44\uc815\uaddc\ud654\ud574\uc57c \uc190\uc2e4 \uce21\uc815\ud56d\ubaa9\uc744 \uc11c\ub85c \ube44\uad50\ud560 \uc218 \uc788\uc2b5\ub2c8\ub2e4."
      ]
    },
    {
      "metadata": {
        "id": "8ToG-mLfMO9P",
        "colab_type": "code",
        "colab": {
          "autoexec": {
            "startup": false,
            "wait_interval": 0
          }
        }
      },
      "source": [
        "def normalize(examples_dataframe):\n",
        "  \"\"\"Returns a version of the input `DataFrame` that has all its features normalized.\"\"\"\n",
        "  #\n",
        "  # YOUR CODE HERE: Normalize the inputs.\n",
        "  #\n",
        "  pass\n",
        "\n",
        "normalized_dataframe = normalize(preprocess_features(california_housing_dataframe))\n",
        "normalized_training_examples = normalized_dataframe.head(12000)\n",
        "normalized_validation_examples = normalized_dataframe.tail(5000)\n",
        "\n",
        "_ = train_nn_regression_model(\n",
        "    my_optimizer=tf.train.GradientDescentOptimizer(learning_rate=0.0007),\n",
        "    steps=5000,\n",
        "    batch_size=70,\n",
        "    hidden_units=[10, 10],\n",
        "    training_examples=normalized_training_examples,\n",
        "    training_targets=training_targets,\n",
        "    validation_examples=normalized_validation_examples,\n",
        "    validation_targets=validation_targets)"
      ],
      "cell_type": "code",
      "execution_count": 0,
      "outputs": []
    },
    {
      "metadata": {
        "id": "GhFtWjQRzD2l",
        "colab_type": "text"
      },
      "cell_type": "markdown",
      "source": [
        " ### \ud574\uacb0 \ubc29\ubc95\n",
        "\n",
        "\uac00\ub2a5\ud55c \ud574\uacb0 \ubc29\ubc95 \uc911 \ud558\ub098\ub97c \ubcf4\ub824\uba74 \uc544\ub798\ub97c \ud074\ub9ad\ud558\uc138\uc694."
      ]
    },
    {
      "metadata": {
        "id": "OMoIsUMmzK9b",
        "colab_type": "text"
      },
      "cell_type": "markdown",
      "source": [
        " \uc9c0\uae08\uae4c\uc9c0 \uc0b4\ud3b4\ubcf8 \ub0b4\uc6a9\uc740 \ub370\uc774\ud130\ub97c \ub2e4\ub8e8\ub294 \ubc29\ubc95 \uc911 \uc77c\ubd80\uc5d0 \ubd88\uacfc\ud569\ub2c8\ub2e4. \ub2e4\ub978 \ubcc0\ud658\uc774 \ub354 \uc88b\uc740 \ud6a8\uacfc\ub97c \ubcf4\uc77c \uc218\ub3c4 \uc788\uc2b5\ub2c8\ub2e4.\n",
        "\n",
        "`households`, `median_income`, `total_bedrooms`\ub294 \ubaa8\ub450 \ub85c\uadf8 \uacf5\uac04\uc5d0\uc11c \uc815\uaddc \ubd84\ud3ec\ub97c \ub098\ud0c0\ub0c5\ub2c8\ub2e4.\n",
        "\n",
        "`latitude`, `longitude`, `housing_median_age`\ub294 \uc774\uc804\uacfc \uac19\uc774 \uc120\ud615 \uc870\uc815\uc744 \uc0ac\uc6a9\ud558\ub294 \ubc29\ubc95\uc774 \ub354 \uc88b\uc744 \uc218 \uc788\uc2b5\ub2c8\ub2e4.\n",
        "\n",
        "`population`, `totalRooms`, `rooms_per_person`\uc5d0\ub294 \uadf9\ub2e8\uc801\uc778 \uc774\uc0c1\uc810\uc774 \uba87 \uac1c \uc788\uc2b5\ub2c8\ub2e4. \uc774\ub7ec\ud55c \uc810\uc740 \uc9c0\ub098\uce58\uac8c \uadf9\ub2e8\uc801\uc774\ubbc0\ub85c \ub85c\uadf8 \uc815\uaddc\ud654\ub3c4 \ub3c4\uc6c0\uc774 \ub418\uc9c0 \uc54a\uc2b5\ub2c8\ub2e4. \ub530\ub77c\uc11c \uc0ad\uc81c\ud558\uae30\ub85c \ud558\uaca0\uc2b5\ub2c8\ub2e4."
      ]
    },
    {
      "metadata": {
        "id": "XDEYkPquzYCH",
        "colab_type": "code",
        "colab": {
          "autoexec": {
            "startup": false,
            "wait_interval": 0
          }
        }
      },
      "source": [
        "def normalize(examples_dataframe):\n",
        "  \"\"\"Returns a version of the input `DataFrame` that has all its features normalized.\"\"\"\n",
        "  processed_features = pd.DataFrame()\n",
        "\n",
        "  processed_features[\"households\"] = log_normalize(examples_dataframe[\"households\"])\n",
        "  processed_features[\"median_income\"] = log_normalize(examples_dataframe[\"median_income\"])\n",
        "  processed_features[\"total_bedrooms\"] = log_normalize(examples_dataframe[\"total_bedrooms\"])\n",
        "  \n",
        "  processed_features[\"latitude\"] = linear_scale(examples_dataframe[\"latitude\"])\n",
        "  processed_features[\"longitude\"] = linear_scale(examples_dataframe[\"longitude\"])\n",
        "  processed_features[\"housing_median_age\"] = linear_scale(examples_dataframe[\"housing_median_age\"])\n",
        "\n",
        "  processed_features[\"population\"] = linear_scale(clip(examples_dataframe[\"population\"], 0, 5000))\n",
        "  processed_features[\"rooms_per_person\"] = linear_scale(clip(examples_dataframe[\"rooms_per_person\"], 0, 5))\n",
        "  processed_features[\"total_rooms\"] = linear_scale(clip(examples_dataframe[\"total_rooms\"], 0, 10000))\n",
        "\n",
        "  return processed_features\n",
        "\n",
        "normalized_dataframe = normalize(preprocess_features(california_housing_dataframe))\n",
        "normalized_training_examples = normalized_dataframe.head(12000)\n",
        "normalized_validation_examples = normalized_dataframe.tail(5000)\n",
        "\n",
        "_ = train_nn_regression_model(\n",
        "    my_optimizer=tf.train.AdagradOptimizer(learning_rate=0.15),\n",
        "    steps=1000,\n",
        "    batch_size=50,\n",
        "    hidden_units=[10, 10],\n",
        "    training_examples=normalized_training_examples,\n",
        "    training_targets=training_targets,\n",
        "    validation_examples=normalized_validation_examples,\n",
        "    validation_targets=validation_targets)"
      ],
      "cell_type": "code",
      "execution_count": 0,
      "outputs": []
    },
    {
      "metadata": {
        "id": "b7atJTbzU9Ca",
        "colab_type": "text",
        "slideshow": {
          "slide_type": "slide"
        }
      },
      "cell_type": "markdown",
      "source": [
        " ## \uc120\ud0dd \uacfc\uc81c: \uc704\ub3c4 \ubc0f \uacbd\ub3c4 \ud2b9\uc131\ub9cc \uc0ac\uc6a9\n",
        "\n",
        "**\ud2b9\uc131\uc73c\ub85c \uc704\ub3c4\uc640 \uacbd\ub3c4\ub9cc \uc0ac\uc6a9\ud558\ub294 NN \ubaa8\ub378\uc744 \ud559\uc2b5\uc2dc\ud0b5\ub2c8\ub2e4.**\n",
        "\n",
        "\ubd80\ub3d9\uc0b0 \uc5c5\uacc4\uc5d0\uc11c\ub294 \uc624\ub85c\uc9c0 \uc785\uc9c0\ub9cc\uc774 \uc8fc\ud0dd \uac00\uaca9\uc744 \uacb0\uc815\ud558\ub294 \uc911\uc694\ud55c \uc694\uc18c\ub77c\uace0 \ub9d0\ud569\ub2c8\ub2e4.\n",
        "\ud2b9\uc131\uc73c\ub85c \uc704\ub3c4\uc640 \uacbd\ub3c4\ub9cc \uc0ac\uc6a9\ud558\ub294 \ubaa8\ub378\uc744 \ud559\uc2b5\uc2dc\ucf1c \uc774 \uc8fc\uc7a5\uc744 \uac80\uc99d\ud574 \ubcf4\uaca0\uc2b5\ub2c8\ub2e4.\n",
        "\n",
        "\uc774 \ubc29\ubc95\uc774 \uc131\uacf5\ud558\ub824\uba74 NN\uc774 \uc704\ub3c4 \ubc0f \uacbd\ub3c4\ub85c\ubd80\ud130 \ubcf5\uc7a1\ud55c \ube44\uc120\ud615\uc131\uc744 \ud559\uc2b5\ud560 \uc218 \uc788\uc5b4\uc57c \ud569\ub2c8\ub2e4.\n",
        "\n",
        "**NOTE:** \uc2e4\uc2b5 \uc55e\ubd80\ubd84\uc5d0\uc11c \ucda9\ubd84\ud588\ub358 \uac83\ubcf4\ub2e4 \ub354 \ub9ce\uc740 \ub808\uc774\uc5b4\ub97c \ud3ec\ud568\ud558\ub294 \ub124\ud2b8\uc6cc\ud06c \uad6c\uc870\uac00 \ud544\uc694\ud560 \uc218 \uc788\uc2b5\ub2c8\ub2e4."
      ]
    },
    {
      "metadata": {
        "id": "T5McjahpamOc",
        "colab_type": "code",
        "colab": {
          "autoexec": {
            "startup": false,
            "wait_interval": 0
          }
        }
      },
      "source": [
        "#\n",
        "# YOUR CODE HERE: Train the network using only latitude and longitude\n",
        "#"
      ],
      "cell_type": "code",
      "execution_count": 0,
      "outputs": []
    },
    {
      "metadata": {
        "id": "P8BLQ7T71JWd",
        "colab_type": "text"
      },
      "cell_type": "markdown",
      "source": [
        " ### \ud574\uacb0 \ubc29\ubc95\n",
        "\n",
        "\uac00\ub2a5\ud55c \ud574\uacb0 \ubc29\ubc95\uc744 \ubcf4\ub824\uba74 \uc544\ub798\ub97c \ud074\ub9ad\ud558\uc138\uc694."
      ]
    },
    {
      "metadata": {
        "id": "1hwaFCE71OPZ",
        "colab_type": "text"
      },
      "cell_type": "markdown",
      "source": [
        " \uc704\ub3c4\uc640 \uacbd\ub3c4\ub97c \uc815\uaddc\ud654\ub41c \uc0c1\ud0dc\ub85c \uc720\uc9c0\ud558\ub294 \uac83\uc774 \uc88b\uc2b5\ub2c8\ub2e4."
      ]
    },
    {
      "metadata": {
        "id": "djKtt4mz1ZEc",
        "colab_type": "code",
        "colab": {
          "autoexec": {
            "startup": false,
            "wait_interval": 0
          }
        }
      },
      "source": [
        "def location_location_location(examples_dataframe):\n",
        "  \"\"\"Returns a version of the input `DataFrame` that keeps only the latitude and longitude.\"\"\"\n",
        "  processed_features = pd.DataFrame()\n",
        "  processed_features[\"latitude\"] = linear_scale(examples_dataframe[\"latitude\"])\n",
        "  processed_features[\"longitude\"] = linear_scale(examples_dataframe[\"longitude\"])\n",
        "  return processed_features\n",
        "\n",
        "lll_dataframe = location_location_location(preprocess_features(california_housing_dataframe))\n",
        "lll_training_examples = lll_dataframe.head(12000)\n",
        "lll_validation_examples = lll_dataframe.tail(5000)\n",
        "\n",
        "_ = train_nn_regression_model(\n",
        "    my_optimizer=tf.train.AdagradOptimizer(learning_rate=0.05),\n",
        "    steps=500,\n",
        "    batch_size=50,\n",
        "    hidden_units=[10, 10, 5, 5, 5],\n",
        "    training_examples=lll_training_examples,\n",
        "    training_targets=training_targets,\n",
        "    validation_examples=lll_validation_examples,\n",
        "    validation_targets=validation_targets)"
      ],
      "cell_type": "code",
      "execution_count": 0,
      "outputs": []
    },
    {
      "metadata": {
        "id": "Dw2Mr9JZ1cRi",
        "colab_type": "text"
      },
      "cell_type": "markdown",
      "source": [
        " \ud2b9\uc131 2\uac1c\ub9cc\uc73c\ub85c\ub3c4 \ub098\uc058\uc9c0 \uc54a\uc740 \uacb0\uacfc\ub97c \uc5bb\uc5c8\uc2b5\ub2c8\ub2e4. \ubb3c\ub860 \uc9e7\uc740 \uac70\ub9ac \ub0b4\uc5d0\uc11c \uc18d\uc131 \uac12\uc774 \ud06c\uac8c \uc694\ub3d9\ud558\ub294 \uacbd\uc6b0\ub294 \uc788\uc2b5\ub2c8\ub2e4."
      ]
    }
  ]
}
