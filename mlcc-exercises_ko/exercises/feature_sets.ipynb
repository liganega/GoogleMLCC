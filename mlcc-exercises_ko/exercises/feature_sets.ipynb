{
  "nbformat": 4,
  "nbformat_minor": 0,
  "metadata": {
    "colab": {
      "name": "feature_sets.ipynb",
      "version": "0.3.2",
      "views": {},
      "default_view": {},
      "provenance": [],
      "collapsed_sections": [
        "IGINhMIJ5Wyt",
        "pZa8miwu6_tQ",
        "copyright-notice"
      ]
    }
  },
  "cells": [
    {
      "metadata": {
        "id": "copyright-notice",
        "colab_type": "text"
      },
      "cell_type": "markdown",
      "source": [
        "#### Copyright 2017 Google LLC."
      ]
    },
    {
      "metadata": {
        "cellView": "both",
        "colab": {
          "autoexec": {
            "startup": false,
            "wait_interval": 0
          }
        },
        "id": "copyright-notice2",
        "colab_type": "code"
      },
      "outputs": [],
      "execution_count": 0,
      "cell_type": "code",
      "source": [
        "# Licensed under the Apache License, Version 2.0 (the \"License\");\n",
        "# you may not use this file except in compliance with the License.\n",
        "# You may obtain a copy of the License at\n",
        "#\n",
        "# https://www.apache.org/licenses/LICENSE-2.0\n",
        "#\n",
        "# Unless required by applicable law or agreed to in writing, software\n",
        "# distributed under the License is distributed on an \"AS IS\" BASIS,\n",
        "# WITHOUT WARRANTIES OR CONDITIONS OF ANY KIND, either express or implied.\n",
        "# See the License for the specific language governing permissions and\n",
        "# limitations under the License."
      ]
    },
    {
      "cell_type": "markdown",
      "metadata": {
        "id": "zbIgBK-oXHO7",
        "colab_type": "text"
      },
      "source": [
        " # \ud2b9\uc131 \uc138\ud2b8"
      ]
    },
    {
      "cell_type": "markdown",
      "metadata": {
        "id": "bL04rAQwH3pH",
        "colab_type": "text"
      },
      "source": [
        " **\ud559\uc2b5 \ubaa9\ud45c:** \ubcf5\uc7a1\ud55c \ud2b9\uc131 \uc138\ud2b8\ub9cc\ud07c \uc88b\uc740 \uc131\ub2a5\uc744 \ubc1c\ud718\ud558\ub294 \ucd5c\uc18c\ud55c\uc758 \ud2b9\uc131 \uc138\ud2b8\ub97c \ub9cc\ub4ed\ub2c8\ub2e4."
      ]
    },
    {
      "cell_type": "markdown",
      "metadata": {
        "id": "F8Hci6tAH3pH",
        "colab_type": "text"
      },
      "source": [
        " \uc9c0\uae08\uae4c\uc9c0\ub294 \ubaa8\ub378\uc5d0 \ubaa8\ub4e0 \ud2b9\uc131\uc744 \uc9d1\uc5b4\ub123\uc5c8\uc2b5\ub2c8\ub2e4. \uadf8\ub7ec\ub098 \ubaa8\ub378\uc5d0 \ud3ec\ud568\ub41c \ud2b9\uc131\uc774 \uc801\uc744\uc218\ub85d \ub9ac\uc18c\uc2a4 \uc0ac\uc6a9\uc774 \uac10\uc18c\ud558\uba70 \uc720\uc9c0\ubcf4\uc218\ub3c4 \uc26c\uc6cc\uc9d1\ub2c8\ub2e4. \uc774\uc81c\ubd80\ud130\ub294 \uc8fc\ud0dd \uad00\ub828 \ud2b9\uc131\uc744 \ucd5c\uc18c\ud55c\uc73c\ub85c \uc0ac\uc6a9\ud558\uba74\uc11c \ub370\uc774\ud130 \uc138\ud2b8\uc758 \ubaa8\ub4e0 \ud2b9\uc131\uc744 \uc0ac\uc6a9\ud558\ub294 \ubaa8\ub378\uacfc \ub3d9\ub4f1\ud55c \uc131\ub2a5\uc744 \ubc1c\ud718\ud558\ub294 \ubaa8\ub378\uc744 \ub9cc\ub4e4 \uc218 \uc788\ub294\uc9c0\ub97c \uc0b4\ud3b4\ubcf4\uaca0\uc2b5\ub2c8\ub2e4."
      ]
    },
    {
      "cell_type": "markdown",
      "metadata": {
        "id": "F5ZjVwK_qOyR",
        "colab_type": "text"
      },
      "source": [
        " ## \uc124\uc815\n",
        "\n",
        "\uc774\uc804\uacfc \ub9c8\ucc2c\uac00\uc9c0\ub85c \uce98\ub9ac\ud3ec\ub2c8\uc544 \uc8fc\ud0dd \ub370\uc774\ud130\ub97c \ub85c\ub4dc\ud558\uace0 \uc900\ube44\ud558\uaca0\uc2b5\ub2c8\ub2e4."
      ]
    },
    {
      "metadata": {
        "id": "SrOYRILAH3pJ",
        "colab_type": "code",
        "colab": {
          "autoexec": {
            "startup": false,
            "wait_interval": 0
          }
        }
      },
      "source": [
        "from __future__ import print_function\n",
        "\n",
        "import math\n",
        "\n",
        "from IPython import display\n",
        "from matplotlib import cm\n",
        "from matplotlib import gridspec\n",
        "from matplotlib import pyplot as plt\n",
        "import numpy as np\n",
        "import pandas as pd\n",
        "from sklearn import metrics\n",
        "import tensorflow as tf\n",
        "from tensorflow.python.data import Dataset\n",
        "\n",
        "tf.logging.set_verbosity(tf.logging.ERROR)\n",
        "pd.options.display.max_rows = 10\n",
        "pd.options.display.float_format = '{:.1f}'.format\n",
        "\n",
        "california_housing_dataframe = pd.read_csv(\"https://download.mlcc.google.com/mledu-datasets/california_housing_train.csv\", sep=\",\")\n",
        "\n",
        "california_housing_dataframe = california_housing_dataframe.reindex(\n",
        "    np.random.permutation(california_housing_dataframe.index))"
      ],
      "cell_type": "code",
      "execution_count": 0,
      "outputs": []
    },
    {
      "metadata": {
        "id": "dGnXo7flH3pM",
        "colab_type": "code",
        "colab": {
          "autoexec": {
            "startup": false,
            "wait_interval": 0
          }
        }
      },
      "source": [
        "def preprocess_features(california_housing_dataframe):\n",
        "  \"\"\"Prepares input features from California housing data set.\n",
        "\n",
        "  Args:\n",
        "    california_housing_dataframe: A Pandas DataFrame expected to contain data\n",
        "      from the California housing data set.\n",
        "  Returns:\n",
        "    A DataFrame that contains the features to be used for the model, including\n",
        "    synthetic features.\n",
        "  \"\"\"\n",
        "  selected_features = california_housing_dataframe[\n",
        "    [\"latitude\",\n",
        "     \"longitude\",\n",
        "     \"housing_median_age\",\n",
        "     \"total_rooms\",\n",
        "     \"total_bedrooms\",\n",
        "     \"population\",\n",
        "     \"households\",\n",
        "     \"median_income\"]]\n",
        "  processed_features = selected_features.copy()\n",
        "  # Create a synthetic feature.\n",
        "  processed_features[\"rooms_per_person\"] = (\n",
        "    california_housing_dataframe[\"total_rooms\"] /\n",
        "    california_housing_dataframe[\"population\"])\n",
        "  return processed_features\n",
        "\n",
        "def preprocess_targets(california_housing_dataframe):\n",
        "  \"\"\"Prepares target features (i.e., labels) from California housing data set.\n",
        "\n",
        "  Args:\n",
        "    california_housing_dataframe: A Pandas DataFrame expected to contain data\n",
        "      from the California housing data set.\n",
        "  Returns:\n",
        "    A DataFrame that contains the target feature.\n",
        "  \"\"\"\n",
        "  output_targets = pd.DataFrame()\n",
        "  # Scale the target to be in units of thousands of dollars.\n",
        "  output_targets[\"median_house_value\"] = (\n",
        "    california_housing_dataframe[\"median_house_value\"] / 1000.0)\n",
        "  return output_targets"
      ],
      "cell_type": "code",
      "execution_count": 0,
      "outputs": []
    },
    {
      "metadata": {
        "id": "jLXC8y4AqsIy",
        "colab_type": "code",
        "colab": {
          "autoexec": {
            "startup": false,
            "wait_interval": 0
          }
        }
      },
      "source": [
        "# Choose the first 12000 (out of 17000) examples for training.\n",
        "training_examples = preprocess_features(california_housing_dataframe.head(12000))\n",
        "training_targets = preprocess_targets(california_housing_dataframe.head(12000))\n",
        "\n",
        "# Choose the last 5000 (out of 17000) examples for validation.\n",
        "validation_examples = preprocess_features(california_housing_dataframe.tail(5000))\n",
        "validation_targets = preprocess_targets(california_housing_dataframe.tail(5000))\n",
        "\n",
        "# Double-check that we've done the right thing.\n",
        "print(\"Training examples summary:\")\n",
        "display.display(training_examples.describe())\n",
        "print(\"Validation examples summary:\")\n",
        "display.display(validation_examples.describe())\n",
        "\n",
        "print(\"Training targets summary:\")\n",
        "display.display(training_targets.describe())\n",
        "print(\"Validation targets summary:\")\n",
        "display.display(validation_targets.describe())"
      ],
      "cell_type": "code",
      "execution_count": 0,
      "outputs": []
    },
    {
      "cell_type": "markdown",
      "metadata": {
        "id": "hLvmkugKLany",
        "colab_type": "text"
      },
      "source": [
        " ## \uc791\uc5c5 1: \ud6a8\uc728\uc801\uc778 \ud2b9\uc131 \uc138\ud2b8 \uac1c\ubc1c\n",
        "\n",
        "**\ud2b9\uc131\uc744 2~3\uac1c\ub9cc \uc0ac\uc6a9\ud558\uba74\uc11c \uc131\ub2a5\uc744 \uc5b4\ub514\uae4c\uc9c0 \uc62c\ub9b4 \uc218 \uc788\uc744\uae4c\uc694?**\n",
        "\n",
        "**\uc0c1\uad00\ud589\ub82c**\uc740 \uac01 \ud2b9\uc131\uc744 \ud0c0\uac9f\uacfc \ube44\uad50\ud55c \uacb0\uacfc \ubc0f \uac01 \ud2b9\uc131\uc744 \uc11c\ub85c \ube44\uad50\ud55c \uacb0\uacfc\uc5d0 \ub530\ub77c \uc30d\uc758 \uc0c1\uad00\uc131\uc744 \ubcf4\uc5ec\uc90d\ub2c8\ub2e4.\n",
        "\n",
        "\uc5ec\uae30\uc5d0\uc11c\ub294 \uc0c1\uad00\uc131\uc744 [\ud53c\uc5b4\uc2a8 \uc0c1\uad00\uacc4\uc218](https://en.wikipedia.org/wiki/Pearson_product-moment_correlation_coefficient)\ub85c \uc815\uc758\ud569\ub2c8\ub2e4.  \uc774 \uc2e4\uc2b5\uc744 \uc704\ud574 \uc790\uc138\ud55c \uc218\ud559\uc801 \uc6d0\ub9ac\ub97c \uc774\ud574\ud560 \ud544\uc694\ub294 \uc5c6\uc2b5\ub2c8\ub2e4.\n",
        "\n",
        "\uc0c1\uad00\uc131 \uac12\uc758 \uc758\ubbf8\ub294 \ub2e4\uc74c\uacfc \uac19\uc2b5\ub2c8\ub2e4.\n",
        "\n",
        "  * `-1.0`: \uc644\ubcbd\ud55c \uc74c\uc758 \uc0c1\uad00\uc131\n",
        "  * `0.0`: \uc0c1\uad00\uc131 \uc5c6\uc74c\n",
        "  * `1.0`: \uc644\ubcbd\ud55c \uc591\uc758 \uc0c1\uad00\uc131"
      ]
    },
    {
      "metadata": {
        "id": "UzoZUSdLIolF",
        "colab_type": "code",
        "colab": {
          "autoexec": {
            "startup": false,
            "wait_interval": 0
          },
          "test": {
            "output": "ignore",
            "timeout": 600
          }
        },
        "cellView": "both"
      },
      "source": [
        "correlation_dataframe = training_examples.copy()\n",
        "correlation_dataframe[\"target\"] = training_targets[\"median_house_value\"]\n",
        "\n",
        "correlation_dataframe.corr()"
      ],
      "cell_type": "code",
      "execution_count": 0,
      "outputs": []
    },
    {
      "cell_type": "markdown",
      "metadata": {
        "id": "RQpktkNpia2P",
        "colab_type": "text"
      },
      "source": [
        " \ud0c0\uac9f\uacfc \uc0c1\uad00\uc131\uc774 \ub192\uc740 \ud2b9\uc131\uc744 \ucc3e\uc544\uc57c \ud569\ub2c8\ub2e4.\n",
        "\n",
        "\ub610\ud55c \uac01 \ud2b9\uc131\uc774 \uc11c\ub85c \ub3c5\ub9bd\uc801\uc778 \uc815\ubcf4\ub97c \ucd94\uac00\ud558\ub3c4\ub85d \uc11c\ub85c\uac04\uc758 \uc0c1\uad00\uc131\uc774 \ub192\uc9c0 \uc54a\uc740 \ud2b9\uc131\uc744 \ucc3e\ub294 \uac83\uc774 \uc88b\uc2b5\ub2c8\ub2e4.\n",
        "\n",
        "\uc774 \uc815\ubcf4\ub97c \ucc38\uace0\ud558\uc5ec \ud2b9\uc131\uc744 \uc0ad\uc81c\ud574 \ubcf4\uc138\uc694. \ub450 \uac00\uc9c0 \uc6d0\uc2dc \ud2b9\uc131\uc758 \ube44\uc728\uacfc \uac19\uc740 \ud569\uc131 \ud2b9\uc131\uc744 \ucd94\uac00\ub85c \ub9cc\ub4e4\uc5b4 \ubcfc \uc218\ub3c4 \uc788\uc2b5\ub2c8\ub2e4.\n",
        "\n",
        "\ud3b8\uc758\ub97c \uc704\ud574 \uc774\uc804 \uc2e4\uc2b5\uc758 \ud559\uc2b5 \ucf54\ub4dc\ub97c \ud3ec\ud568\ud574 \ub450\uc5c8\uc2b5\ub2c8\ub2e4."
      ]
    },
    {
      "metadata": {
        "id": "bjR5jWpFr2xs",
        "colab_type": "code",
        "colab": {
          "autoexec": {
            "startup": false,
            "wait_interval": 0
          }
        }
      },
      "source": [
        "def construct_feature_columns(input_features):\n",
        "  \"\"\"Construct the TensorFlow Feature Columns.\n",
        "\n",
        "  Args:\n",
        "    input_features: The names of the numerical input features to use.\n",
        "  Returns:\n",
        "    A set of feature columns\n",
        "  \"\"\" \n",
        "  return set([tf.feature_column.numeric_column(my_feature)\n",
        "              for my_feature in input_features])"
      ],
      "cell_type": "code",
      "execution_count": 0,
      "outputs": []
    },
    {
      "metadata": {
        "id": "jsvKHzRciH9T",
        "colab_type": "code",
        "colab": {
          "autoexec": {
            "startup": false,
            "wait_interval": 0
          }
        }
      },
      "source": [
        "def my_input_fn(features, targets, batch_size=1, shuffle=True, num_epochs=None):\n",
        "    \"\"\"Trains a linear regression model.\n",
        "  \n",
        "    Args:\n",
        "      features: pandas DataFrame of features\n",
        "      targets: pandas DataFrame of targets\n",
        "      batch_size: Size of batches to be passed to the model\n",
        "      shuffle: True or False. Whether to shuffle the data.\n",
        "      num_epochs: Number of epochs for which data should be repeated. None = repeat indefinitely\n",
        "    Returns:\n",
        "      Tuple of (features, labels) for next data batch\n",
        "    \"\"\"\n",
        "    \n",
        "    # Convert pandas data into a dict of np arrays.\n",
        "    features = {key:np.array(value) for key,value in dict(features).items()}                                           \n",
        "    \n",
        "    # Construct a dataset, and configure batching/repeating.\n",
        "    ds = Dataset.from_tensor_slices((features,targets)) # warning: 2GB limit\n",
        "    ds = ds.batch(batch_size).repeat(num_epochs)\n",
        "\n",
        "    # Shuffle the data, if specified.\n",
        "    if shuffle:\n",
        "      ds = ds.shuffle(10000)\n",
        "    \n",
        "    # Return the next batch of data.\n",
        "    features, labels = ds.make_one_shot_iterator().get_next()\n",
        "    return features, labels"
      ],
      "cell_type": "code",
      "execution_count": 0,
      "outputs": []
    },
    {
      "metadata": {
        "id": "g3kjQV9WH3pb",
        "colab_type": "code",
        "colab": {
          "autoexec": {
            "startup": false,
            "wait_interval": 0
          }
        }
      },
      "source": [
        "def train_model(\n",
        "    learning_rate,\n",
        "    steps,\n",
        "    batch_size,\n",
        "    training_examples,\n",
        "    training_targets,\n",
        "    validation_examples,\n",
        "    validation_targets):\n",
        "  \"\"\"Trains a linear regression model.\n",
        "  \n",
        "  In addition to training, this function also prints training progress information,\n",
        "  as well as a plot of the training and validation loss over time.\n",
        "  \n",
        "  Args:\n",
        "    learning_rate: A `float`, the learning rate.\n",
        "    steps: A non-zero `int`, the total number of training steps. A training step\n",
        "      consists of a forward and backward pass using a single batch.\n",
        "    batch_size: A non-zero `int`, the batch size.\n",
        "    training_examples: A `DataFrame` containing one or more columns from\n",
        "      `california_housing_dataframe` to use as input features for training.\n",
        "    training_targets: A `DataFrame` containing exactly one column from\n",
        "      `california_housing_dataframe` to use as target for training.\n",
        "    validation_examples: A `DataFrame` containing one or more columns from\n",
        "      `california_housing_dataframe` to use as input features for validation.\n",
        "    validation_targets: A `DataFrame` containing exactly one column from\n",
        "      `california_housing_dataframe` to use as target for validation.\n",
        "      \n",
        "  Returns:\n",
        "    A `LinearRegressor` object trained on the training data.\n",
        "  \"\"\"\n",
        "\n",
        "  periods = 10\n",
        "  steps_per_period = steps / periods\n",
        "\n",
        "  # Create a linear regressor object.\n",
        "  my_optimizer = tf.train.GradientDescentOptimizer(learning_rate=learning_rate)\n",
        "  my_optimizer = tf.contrib.estimator.clip_gradients_by_norm(my_optimizer, 5.0)\n",
        "  linear_regressor = tf.estimator.LinearRegressor(\n",
        "      feature_columns=construct_feature_columns(training_examples),\n",
        "      optimizer=my_optimizer\n",
        "  )\n",
        "    \n",
        "  # Create input functions.\n",
        "  training_input_fn = lambda: my_input_fn(training_examples, \n",
        "                                          training_targets[\"median_house_value\"], \n",
        "                                          batch_size=batch_size)\n",
        "  predict_training_input_fn = lambda: my_input_fn(training_examples, \n",
        "                                                  training_targets[\"median_house_value\"], \n",
        "                                                  num_epochs=1, \n",
        "                                                  shuffle=False)\n",
        "  predict_validation_input_fn = lambda: my_input_fn(validation_examples, \n",
        "                                                    validation_targets[\"median_house_value\"], \n",
        "                                                    num_epochs=1, \n",
        "                                                    shuffle=False)\n",
        "\n",
        "  # Train the model, but do so inside a loop so that we can periodically assess\n",
        "  # loss metrics.\n",
        "  print(\"Training model...\")\n",
        "  print(\"RMSE (on training data):\")\n",
        "  training_rmse = []\n",
        "  validation_rmse = []\n",
        "  for period in range (0, periods):\n",
        "    # Train the model, starting from the prior state.\n",
        "    linear_regressor.train(\n",
        "        input_fn=training_input_fn,\n",
        "        steps=steps_per_period,\n",
        "    )\n",
        "    # Take a break and compute predictions.\n",
        "    training_predictions = linear_regressor.predict(input_fn=predict_training_input_fn)\n",
        "    training_predictions = np.array([item['predictions'][0] for item in training_predictions])\n",
        "    \n",
        "    validation_predictions = linear_regressor.predict(input_fn=predict_validation_input_fn)\n",
        "    validation_predictions = np.array([item['predictions'][0] for item in validation_predictions])\n",
        "    \n",
        "    # Compute training and validation loss.\n",
        "    training_root_mean_squared_error = math.sqrt(\n",
        "        metrics.mean_squared_error(training_predictions, training_targets))\n",
        "    validation_root_mean_squared_error = math.sqrt(\n",
        "        metrics.mean_squared_error(validation_predictions, validation_targets))\n",
        "    # Occasionally print the current loss.\n",
        "    print(\"  period %02d : %0.2f\" % (period, training_root_mean_squared_error))\n",
        "    # Add the loss metrics from this period to our list.\n",
        "    training_rmse.append(training_root_mean_squared_error)\n",
        "    validation_rmse.append(validation_root_mean_squared_error)\n",
        "  print(\"Model training finished.\")\n",
        "\n",
        "  \n",
        "  # Output a graph of loss metrics over periods.\n",
        "  plt.ylabel(\"RMSE\")\n",
        "  plt.xlabel(\"Periods\")\n",
        "  plt.title(\"Root Mean Squared Error vs. Periods\")\n",
        "  plt.tight_layout()\n",
        "  plt.plot(training_rmse, label=\"training\")\n",
        "  plt.plot(validation_rmse, label=\"validation\")\n",
        "  plt.legend()\n",
        "\n",
        "  return linear_regressor"
      ],
      "cell_type": "code",
      "execution_count": 0,
      "outputs": []
    },
    {
      "cell_type": "markdown",
      "metadata": {
        "id": "varLu7RNH3pf",
        "colab_type": "text"
      },
      "source": [
        " 5\ubd84 \ub3d9\uc548 \ud6a8\uc728\uc801\uc778 \ud2b9\uc131 \uc138\ud2b8 \ubc0f \ud559\uc2b5 \ub9e4\uac1c\ubcc0\uc218\ub97c \ucc3e\uc544\ubcf4\uc138\uc694. \uadf8\ub7f0 \ub2e4\uc74c \ud574\uacb0 \ubc29\ubc95\uc744 \ud655\uc778\ud558\uc5ec \ubaa8\ubc94 \ub2f5\uc548\uc744 \uc54c\uc544\ubcf4\uc138\uc694. \ud2b9\uc131\ub9c8\ub2e4 \ud544\uc694\ud55c \ud559\uc2b5 \ub9e4\uac1c\ubcc0\uc218\uac00 \ub2e4\ub97c \uc218 \uc788\ub2e4\ub294 \uc810\uc5d0 \uc720\uc758\ud558\uc2dc\uae30 \ubc14\ub78d\ub2c8\ub2e4."
      ]
    },
    {
      "metadata": {
        "id": "DSgUxRIlH3pg",
        "colab_type": "code",
        "colab": {
          "autoexec": {
            "startup": false,
            "wait_interval": 0
          }
        }
      },
      "source": [
        "#\n",
        "# Your code here: add your features of choice as a list of quoted strings.\n",
        "#\n",
        "minimal_features = [\n",
        "]\n",
        "\n",
        "assert minimal_features, \"You must select at least one feature!\"\n",
        "\n",
        "minimal_training_examples = training_examples[minimal_features]\n",
        "minimal_validation_examples = validation_examples[minimal_features]\n",
        "\n",
        "#\n",
        "# Don't forget to adjust these parameters.\n",
        "#\n",
        "train_model(\n",
        "    learning_rate=0.001,\n",
        "    steps=500,\n",
        "    batch_size=5,\n",
        "    training_examples=minimal_training_examples,\n",
        "    training_targets=training_targets,\n",
        "    validation_examples=minimal_validation_examples,\n",
        "    validation_targets=validation_targets)"
      ],
      "cell_type": "code",
      "execution_count": 0,
      "outputs": []
    },
    {
      "cell_type": "markdown",
      "metadata": {
        "id": "IGINhMIJ5Wyt",
        "colab_type": "text"
      },
      "source": [
        " ### \ud574\uacb0 \ubc29\ubc95\n",
        "\n",
        "\ud574\uacb0 \ubc29\ubc95\uc744 \ubcf4\ub824\uba74 \uc544\ub798\ub97c \ud074\ub9ad\ud558\uc138\uc694."
      ]
    },
    {
      "metadata": {
        "id": "BAGoXFPZ5ZE3",
        "colab_type": "code",
        "colab": {
          "autoexec": {
            "startup": false,
            "wait_interval": 0
          }
        }
      },
      "source": [
        "minimal_features = [\n",
        "  \"median_income\",\n",
        "  \"latitude\",\n",
        "]\n",
        "\n",
        "minimal_training_examples = training_examples[minimal_features]\n",
        "minimal_validation_examples = validation_examples[minimal_features]\n",
        "\n",
        "_ = train_model(\n",
        "    learning_rate=0.01,\n",
        "    steps=500,\n",
        "    batch_size=5,\n",
        "    training_examples=minimal_training_examples,\n",
        "    training_targets=training_targets,\n",
        "    validation_examples=minimal_validation_examples,\n",
        "    validation_targets=validation_targets)"
      ],
      "cell_type": "code",
      "execution_count": 0,
      "outputs": []
    },
    {
      "cell_type": "markdown",
      "metadata": {
        "id": "RidI9YhKOiY2",
        "colab_type": "text"
      },
      "source": [
        " ## \uc791\uc5c5 2: \uc704\ub3c4 \ud65c\uc6a9 \uace0\ub3c4\ud654\n",
        "\n",
        "`latitude`\uc640 `median_house_value`\ub85c \uadf8\ub798\ud504\ub97c \uadf8\ub9ac\uba74 \uc120\ud615 \uad00\uacc4\uac00 \uc5c6\ub2e4\ub294 \uc810\uc774 \ub4dc\ub7ec\ub0a9\ub2c8\ub2e4.\n",
        "\n",
        "\ub300\uc2e0, \ub85c\uc2a4\uc564\uc824\ub808\uc2a4 \ubc0f \uc0cc\ud504\ub780\uc2dc\uc2a4\ucf54\uc5d0 \ud574\ub2f9\ud558\ub294 \uc704\uce58 \ubd80\uadfc\uc5d0 \ub9c8\ub8e8\uac00 \ub098\ud0c0\ub0a9\ub2c8\ub2e4."
      ]
    },
    {
      "metadata": {
        "id": "hfGUKj2IR_F1",
        "colab_type": "code",
        "colab": {
          "autoexec": {
            "startup": false,
            "wait_interval": 0
          },
          "test": {
            "output": "ignore",
            "timeout": 600
          }
        },
        "cellView": "both"
      },
      "source": [
        "plt.scatter(training_examples[\"latitude\"], training_targets[\"median_house_value\"])"
      ],
      "cell_type": "code",
      "execution_count": 0,
      "outputs": []
    },
    {
      "cell_type": "markdown",
      "metadata": {
        "id": "6N0p91k2iFCP",
        "colab_type": "text"
      },
      "source": [
        " **\uc704\ub3c4\ub97c \ub354 \uc798 \ud65c\uc6a9\ud560 \uc218 \uc788\ub294 \ud569\uc131 \ud2b9\uc131\uc744 \ub9cc\ub4e4\uc5b4 \ubcf4\uc138\uc694.**\n",
        "\n",
        "\uc608\ub97c \ub4e4\uc5b4 `latitude`\ub97c `|latitude - 38|`\uc758 \uac12\uc5d0 \ub9e4\ud551\ud558\ub294 \ud2b9\uc131\uc744 \ub9cc\ub4e4\uace0 \uc774\ub984\uc744 `distance_from_san_francisco`\ub85c \uc9c0\uc815\ud560 \uc218 \uc788\uc2b5\ub2c8\ub2e4.\n",
        "\n",
        "\ub610\ub294 \uacf5\uac04\uc744 10\uac1c\uc758 \ubc84\ud0b7\uc73c\ub85c \ub098\ub20c \uc218 \uc788\uc2b5\ub2c8\ub2e4. `latitude_32_to_33`, `latitude_33_to_34` \ub4f1\uc758 \ud2b9\uc131\uc744 \ub9cc\ub4e4\uace0 `latitude`\uac00 \ud574\ub2f9 \ubc84\ud0b7\uc758 \ubc94\uc704\uc5d0 \ud3ec\ud568\ub418\uba74 `1.0` \uac12\uc744, \uadf8\ub807\uc9c0 \uc54a\uc73c\uba74 `0.0` \uac12\uc744 \ud45c\uc2dc\ud558\uba74 \ub429\ub2c8\ub2e4.\n",
        "\n",
        "\uc0c1\uad00\ud589\ub82c\uc744 \uac1c\ubc1c\uc5d0 \ucc38\uace0\ud558\uba74\uc11c \uc801\uc808\ud55c \ud2b9\uc131\uc774 \ubc1c\uacac\ub418\uba74 \ubaa8\ub378\uc5d0 \ucd94\uac00\ud558\uc138\uc694.\n",
        "\n",
        "\uac80\uc99d \uc131\ub2a5\uc744 \ucd5c\ub300 \uc5b4\ub290 \uc815\ub3c4\uae4c\uc9c0 \ub192\uc77c \uc218 \uc788\ub098\uc694?"
      ]
    },
    {
      "metadata": {
        "id": "wduJ2B28yMFl",
        "colab_type": "code",
        "colab": {
          "autoexec": {
            "startup": false,
            "wait_interval": 0
          }
        },
        "cellView": "form"
      },
      "source": [
        "#\n",
        "# YOUR CODE HERE: Train on a new data set that includes synthetic features based on latitude.\n",
        "#"
      ],
      "cell_type": "code",
      "execution_count": 0,
      "outputs": []
    },
    {
      "cell_type": "markdown",
      "metadata": {
        "id": "pZa8miwu6_tQ",
        "colab_type": "text"
      },
      "source": [
        " ### \ud574\uacb0 \ubc29\ubc95\n",
        "\n",
        "\ud574\uacb0 \ubc29\ubc95\uc744 \ubcf4\ub824\uba74 \uc544\ub798\ub97c \ud074\ub9ad\ud558\uc138\uc694."
      ]
    },
    {
      "cell_type": "markdown",
      "metadata": {
        "id": "PzABdyjq7IZU",
        "colab_type": "text"
      },
      "source": [
        " `latitude` \uc774\uc678\uc5d0 `median_income`\ub3c4 \uc720\uc9c0\ud558\uc5ec \uc774\uc804 \uacb0\uacfc\uc640 \ube44\uad50\ud558\uaca0\uc2b5\ub2c8\ub2e4.\n",
        "\n",
        "\uc704\ub3c4\ub97c \ubc84\ud0b7\ud654\ud558\uae30\ub85c \uacb0\uc815\ud588\uc2b5\ub2c8\ub2e4. Pandas\uc5d0\uc11c `Series.apply`\ub97c \uc0ac\uc6a9\ud558\uba74 \ub418\ubbc0\ub85c \ub9e4\uc6b0 \uac04\ub2e8\ud569\ub2c8\ub2e4."
      ]
    },
    {
      "metadata": {
        "id": "xdVF8siZ7Lup",
        "colab_type": "code",
        "colab": {
          "autoexec": {
            "startup": false,
            "wait_interval": 0
          }
        }
      },
      "source": [
        "LATITUDE_RANGES = zip(range(32, 44), range(33, 45))\n",
        "\n",
        "def select_and_transform_features(source_df):\n",
        "  selected_examples = pd.DataFrame()\n",
        "  selected_examples[\"median_income\"] = source_df[\"median_income\"]\n",
        "  for r in LATITUDE_RANGES:\n",
        "    selected_examples[\"latitude_%d_to_%d\" % r] = source_df[\"latitude\"].apply(\n",
        "      lambda l: 1.0 if l >= r[0] and l < r[1] else 0.0)\n",
        "  return selected_examples\n",
        "\n",
        "selected_training_examples = select_and_transform_features(training_examples)\n",
        "selected_validation_examples = select_and_transform_features(validation_examples)"
      ],
      "cell_type": "code",
      "execution_count": 0,
      "outputs": []
    },
    {
      "metadata": {
        "id": "U4iAdY6t7Pkh",
        "colab_type": "code",
        "colab": {
          "autoexec": {
            "startup": false,
            "wait_interval": 0
          }
        }
      },
      "source": [
        "_ = train_model(\n",
        "    learning_rate=0.01,\n",
        "    steps=500,\n",
        "    batch_size=5,\n",
        "    training_examples=selected_training_examples,\n",
        "    training_targets=training_targets,\n",
        "    validation_examples=selected_validation_examples,\n",
        "    validation_targets=validation_targets)"
      ],
      "cell_type": "code",
      "execution_count": 0,
      "outputs": []
    }
  ]
}
